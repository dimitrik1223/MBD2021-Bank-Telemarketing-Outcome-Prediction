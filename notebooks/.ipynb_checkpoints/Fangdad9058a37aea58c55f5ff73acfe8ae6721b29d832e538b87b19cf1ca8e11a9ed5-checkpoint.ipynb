{
 "cells": [
  {
   "cell_type": "code",
   "execution_count": 1,
   "id": "63d5f7aa",
   "metadata": {},
   "outputs": [
    {
     "name": "stdout",
     "output_type": "stream",
     "text": [
      "Requirement already satisfied: missingno in c:\\tools\\anaconda3\\lib\\site-packages (0.5.1)\n",
      "Requirement already satisfied: scipy in c:\\tools\\anaconda3\\lib\\site-packages (from missingno) (1.6.2)\n",
      "Requirement already satisfied: matplotlib in c:\\tools\\anaconda3\\lib\\site-packages (from missingno) (3.3.4)\n",
      "Requirement already satisfied: seaborn in c:\\tools\\anaconda3\\lib\\site-packages (from missingno) (0.11.1)\n",
      "Requirement already satisfied: numpy in c:\\tools\\anaconda3\\lib\\site-packages (from missingno) (1.19.5)\n",
      "Requirement already satisfied: pillow>=6.2.0 in c:\\tools\\anaconda3\\lib\\site-packages (from matplotlib->missingno) (8.2.0)\n",
      "Requirement already satisfied: python-dateutil>=2.1 in c:\\tools\\anaconda3\\lib\\site-packages (from matplotlib->missingno) (2.8.1)\n",
      "Requirement already satisfied: pyparsing!=2.0.4,!=2.1.2,!=2.1.6,>=2.0.3 in c:\\tools\\anaconda3\\lib\\site-packages (from matplotlib->missingno) (2.4.7)\n",
      "Requirement already satisfied: kiwisolver>=1.0.1 in c:\\tools\\anaconda3\\lib\\site-packages (from matplotlib->missingno) (1.3.1)\n",
      "Requirement already satisfied: cycler>=0.10 in c:\\tools\\anaconda3\\lib\\site-packages (from matplotlib->missingno) (0.10.0)\n",
      "Requirement already satisfied: six in c:\\tools\\anaconda3\\lib\\site-packages (from cycler>=0.10->matplotlib->missingno) (1.15.0)\n",
      "Requirement already satisfied: pandas>=0.23 in c:\\tools\\anaconda3\\lib\\site-packages (from seaborn->missingno) (1.2.4)\n",
      "Requirement already satisfied: pytz>=2017.3 in c:\\tools\\anaconda3\\lib\\site-packages (from pandas>=0.23->seaborn->missingno) (2021.1)\n",
      "Note: you may need to restart the kernel to use updated packages.\n"
     ]
    },
    {
     "name": "stderr",
     "output_type": "stream",
     "text": [
      "WARNING: You are using pip version 21.2.4; however, version 22.0.4 is available.\n",
      "You should consider upgrading via the 'C:\\tools\\Anaconda3\\python.exe -m pip install --upgrade pip' command.\n"
     ]
    }
   ],
   "source": [
    "pip install missingno"
   ]
  },
  {
   "cell_type": "code",
   "execution_count": 2,
   "id": "2a0970f7",
   "metadata": {},
   "outputs": [],
   "source": [
    "import pandas as pd\n",
    "import numpy as np\n",
    "import matplotlib.pyplot as plt\n",
    "import os\n",
    "import missingno as msno\n",
    "%matplotlib inline\n",
    "from sklearn.model_selection import train_test_split\n",
    "from sklearn.ensemble import RandomForestClassifier\n",
    "from sklearn.metrics import accuracy_score\n",
    "from sklearn.impute import SimpleImputer"
   ]
  },
  {
   "cell_type": "code",
   "execution_count": 71,
   "id": "3f09a461",
   "metadata": {},
   "outputs": [],
   "source": [
    "from sklearn.metrics      import roc_auc_score"
   ]
  },
  {
   "cell_type": "code",
   "execution_count": 3,
   "id": "bacf243b",
   "metadata": {},
   "outputs": [
    {
     "data": {
      "text/plain": [
       "'C:\\\\Users\\\\ffan1\\\\OneDrive - IESEG (1)\\\\Statistical and Machine Learning\\\\Group Project\\\\MBD2021-Bank-Telemarketing-Outcome-Prediction\\\\notebooks'"
      ]
     },
     "execution_count": 3,
     "metadata": {},
     "output_type": "execute_result"
    }
   ],
   "source": [
    "os. getcwd()"
   ]
  },
  {
   "cell_type": "code",
   "execution_count": 4,
   "id": "a06efea2",
   "metadata": {},
   "outputs": [],
   "source": [
    "df_train = pd.read_csv(\"../data/bank_mkt_train.csv\")"
   ]
  },
  {
   "cell_type": "code",
   "execution_count": 5,
   "id": "df627921",
   "metadata": {},
   "outputs": [
    {
     "data": {
      "text/html": [
       "<div>\n",
       "<style scoped>\n",
       "    .dataframe tbody tr th:only-of-type {\n",
       "        vertical-align: middle;\n",
       "    }\n",
       "\n",
       "    .dataframe tbody tr th {\n",
       "        vertical-align: top;\n",
       "    }\n",
       "\n",
       "    .dataframe thead th {\n",
       "        text-align: right;\n",
       "    }\n",
       "</style>\n",
       "<table border=\"1\" class=\"dataframe\">\n",
       "  <thead>\n",
       "    <tr style=\"text-align: right;\">\n",
       "      <th></th>\n",
       "      <th>client_id</th>\n",
       "      <th>age</th>\n",
       "      <th>job</th>\n",
       "      <th>marital</th>\n",
       "      <th>education</th>\n",
       "      <th>default</th>\n",
       "      <th>housing</th>\n",
       "      <th>loan</th>\n",
       "      <th>contact</th>\n",
       "      <th>month</th>\n",
       "      <th>...</th>\n",
       "      <th>campaign</th>\n",
       "      <th>pdays</th>\n",
       "      <th>previous</th>\n",
       "      <th>poutcome</th>\n",
       "      <th>emp.var.rate</th>\n",
       "      <th>cons.price.idx</th>\n",
       "      <th>cons.conf.idx</th>\n",
       "      <th>euribor3m</th>\n",
       "      <th>nr.employed</th>\n",
       "      <th>subscribe</th>\n",
       "    </tr>\n",
       "  </thead>\n",
       "  <tbody>\n",
       "    <tr>\n",
       "      <th>0</th>\n",
       "      <td>29925</td>\n",
       "      <td>42.0</td>\n",
       "      <td>management</td>\n",
       "      <td>married</td>\n",
       "      <td>basic.9y</td>\n",
       "      <td>no</td>\n",
       "      <td>no</td>\n",
       "      <td>no</td>\n",
       "      <td>cellular</td>\n",
       "      <td>jul</td>\n",
       "      <td>...</td>\n",
       "      <td>1.0</td>\n",
       "      <td>999.0</td>\n",
       "      <td>0.0</td>\n",
       "      <td>nonexistent</td>\n",
       "      <td>1.4</td>\n",
       "      <td>93.918</td>\n",
       "      <td>-42.7</td>\n",
       "      <td>4.968</td>\n",
       "      <td>5228.1</td>\n",
       "      <td>0</td>\n",
       "    </tr>\n",
       "    <tr>\n",
       "      <th>1</th>\n",
       "      <td>37529</td>\n",
       "      <td>35.0</td>\n",
       "      <td>unemployed</td>\n",
       "      <td>married</td>\n",
       "      <td>university.degree</td>\n",
       "      <td>no</td>\n",
       "      <td>yes</td>\n",
       "      <td>no</td>\n",
       "      <td>telephone</td>\n",
       "      <td>jun</td>\n",
       "      <td>...</td>\n",
       "      <td>4.0</td>\n",
       "      <td>999.0</td>\n",
       "      <td>0.0</td>\n",
       "      <td>nonexistent</td>\n",
       "      <td>1.4</td>\n",
       "      <td>94.465</td>\n",
       "      <td>-41.8</td>\n",
       "      <td>4.960</td>\n",
       "      <td>5228.1</td>\n",
       "      <td>0</td>\n",
       "    </tr>\n",
       "    <tr>\n",
       "      <th>2</th>\n",
       "      <td>2757</td>\n",
       "      <td>44.0</td>\n",
       "      <td>technician</td>\n",
       "      <td>married</td>\n",
       "      <td>basic.9y</td>\n",
       "      <td>no</td>\n",
       "      <td>yes</td>\n",
       "      <td>yes</td>\n",
       "      <td>cellular</td>\n",
       "      <td>may</td>\n",
       "      <td>...</td>\n",
       "      <td>1.0</td>\n",
       "      <td>999.0</td>\n",
       "      <td>0.0</td>\n",
       "      <td>nonexistent</td>\n",
       "      <td>-1.8</td>\n",
       "      <td>92.893</td>\n",
       "      <td>-46.2</td>\n",
       "      <td>1.264</td>\n",
       "      <td>5099.1</td>\n",
       "      <td>0</td>\n",
       "    </tr>\n",
       "    <tr>\n",
       "      <th>3</th>\n",
       "      <td>9642</td>\n",
       "      <td>45.0</td>\n",
       "      <td>services</td>\n",
       "      <td>married</td>\n",
       "      <td>high.school</td>\n",
       "      <td>no</td>\n",
       "      <td>yes</td>\n",
       "      <td>no</td>\n",
       "      <td>cellular</td>\n",
       "      <td>apr</td>\n",
       "      <td>...</td>\n",
       "      <td>1.0</td>\n",
       "      <td>999.0</td>\n",
       "      <td>0.0</td>\n",
       "      <td>nonexistent</td>\n",
       "      <td>-1.8</td>\n",
       "      <td>93.075</td>\n",
       "      <td>-47.1</td>\n",
       "      <td>1.453</td>\n",
       "      <td>5099.1</td>\n",
       "      <td>0</td>\n",
       "    </tr>\n",
       "    <tr>\n",
       "      <th>4</th>\n",
       "      <td>14183</td>\n",
       "      <td>45.0</td>\n",
       "      <td>unknown</td>\n",
       "      <td>married</td>\n",
       "      <td>unknown</td>\n",
       "      <td>unknown</td>\n",
       "      <td>unknown</td>\n",
       "      <td>unknown</td>\n",
       "      <td>telephone</td>\n",
       "      <td>may</td>\n",
       "      <td>...</td>\n",
       "      <td>1.0</td>\n",
       "      <td>999.0</td>\n",
       "      <td>0.0</td>\n",
       "      <td>nonexistent</td>\n",
       "      <td>1.1</td>\n",
       "      <td>93.994</td>\n",
       "      <td>-36.4</td>\n",
       "      <td>4.859</td>\n",
       "      <td>5191.0</td>\n",
       "      <td>0</td>\n",
       "    </tr>\n",
       "  </tbody>\n",
       "</table>\n",
       "<p>5 rows × 21 columns</p>\n",
       "</div>"
      ],
      "text/plain": [
       "   client_id   age         job  marital          education  default  housing  \\\n",
       "0      29925  42.0  management  married           basic.9y       no       no   \n",
       "1      37529  35.0  unemployed  married  university.degree       no      yes   \n",
       "2       2757  44.0  technician  married           basic.9y       no      yes   \n",
       "3       9642  45.0    services  married        high.school       no      yes   \n",
       "4      14183  45.0     unknown  married            unknown  unknown  unknown   \n",
       "\n",
       "      loan    contact month  ... campaign  pdays  previous     poutcome  \\\n",
       "0       no   cellular   jul  ...      1.0  999.0       0.0  nonexistent   \n",
       "1       no  telephone   jun  ...      4.0  999.0       0.0  nonexistent   \n",
       "2      yes   cellular   may  ...      1.0  999.0       0.0  nonexistent   \n",
       "3       no   cellular   apr  ...      1.0  999.0       0.0  nonexistent   \n",
       "4  unknown  telephone   may  ...      1.0  999.0       0.0  nonexistent   \n",
       "\n",
       "  emp.var.rate  cons.price.idx  cons.conf.idx  euribor3m  nr.employed  \\\n",
       "0          1.4          93.918          -42.7      4.968       5228.1   \n",
       "1          1.4          94.465          -41.8      4.960       5228.1   \n",
       "2         -1.8          92.893          -46.2      1.264       5099.1   \n",
       "3         -1.8          93.075          -47.1      1.453       5099.1   \n",
       "4          1.1          93.994          -36.4      4.859       5191.0   \n",
       "\n",
       "   subscribe  \n",
       "0          0  \n",
       "1          0  \n",
       "2          0  \n",
       "3          0  \n",
       "4          0  \n",
       "\n",
       "[5 rows x 21 columns]"
      ]
     },
     "execution_count": 5,
     "metadata": {},
     "output_type": "execute_result"
    }
   ],
   "source": [
    "df_train.head()"
   ]
  },
  {
   "cell_type": "code",
   "execution_count": 6,
   "id": "e552d122",
   "metadata": {},
   "outputs": [],
   "source": [
    "df_test = pd.read_csv(\"../data/bank_mkt_test.csv\")"
   ]
  },
  {
   "cell_type": "code",
   "execution_count": 7,
   "id": "8f11fbb7",
   "metadata": {},
   "outputs": [
    {
     "data": {
      "text/html": [
       "<div>\n",
       "<style scoped>\n",
       "    .dataframe tbody tr th:only-of-type {\n",
       "        vertical-align: middle;\n",
       "    }\n",
       "\n",
       "    .dataframe tbody tr th {\n",
       "        vertical-align: top;\n",
       "    }\n",
       "\n",
       "    .dataframe thead th {\n",
       "        text-align: right;\n",
       "    }\n",
       "</style>\n",
       "<table border=\"1\" class=\"dataframe\">\n",
       "  <thead>\n",
       "    <tr style=\"text-align: right;\">\n",
       "      <th></th>\n",
       "      <th>client_id</th>\n",
       "      <th>age</th>\n",
       "      <th>job</th>\n",
       "      <th>marital</th>\n",
       "      <th>education</th>\n",
       "      <th>default</th>\n",
       "      <th>housing</th>\n",
       "      <th>loan</th>\n",
       "      <th>contact</th>\n",
       "      <th>month</th>\n",
       "      <th>day_of_week</th>\n",
       "      <th>campaign</th>\n",
       "      <th>pdays</th>\n",
       "      <th>previous</th>\n",
       "      <th>poutcome</th>\n",
       "      <th>emp.var.rate</th>\n",
       "      <th>cons.price.idx</th>\n",
       "      <th>cons.conf.idx</th>\n",
       "      <th>euribor3m</th>\n",
       "      <th>nr.employed</th>\n",
       "    </tr>\n",
       "  </thead>\n",
       "  <tbody>\n",
       "    <tr>\n",
       "      <th>0</th>\n",
       "      <td>2986</td>\n",
       "      <td>53.0</td>\n",
       "      <td>technician</td>\n",
       "      <td>single</td>\n",
       "      <td>professional.course</td>\n",
       "      <td>no</td>\n",
       "      <td>no</td>\n",
       "      <td>no</td>\n",
       "      <td>cellular</td>\n",
       "      <td>jul</td>\n",
       "      <td>tue</td>\n",
       "      <td>1.0</td>\n",
       "      <td>999.0</td>\n",
       "      <td>0.0</td>\n",
       "      <td>nonexistent</td>\n",
       "      <td>1.4</td>\n",
       "      <td>93.918</td>\n",
       "      <td>-42.7</td>\n",
       "      <td>4.961</td>\n",
       "      <td>5228.1</td>\n",
       "    </tr>\n",
       "    <tr>\n",
       "      <th>1</th>\n",
       "      <td>29710</td>\n",
       "      <td>32.0</td>\n",
       "      <td>blue-collar</td>\n",
       "      <td>married</td>\n",
       "      <td>basic.6y</td>\n",
       "      <td>no</td>\n",
       "      <td>yes</td>\n",
       "      <td>no</td>\n",
       "      <td>telephone</td>\n",
       "      <td>jul</td>\n",
       "      <td>wed</td>\n",
       "      <td>2.0</td>\n",
       "      <td>999.0</td>\n",
       "      <td>0.0</td>\n",
       "      <td>nonexistent</td>\n",
       "      <td>1.4</td>\n",
       "      <td>93.918</td>\n",
       "      <td>-42.7</td>\n",
       "      <td>4.963</td>\n",
       "      <td>5228.1</td>\n",
       "    </tr>\n",
       "    <tr>\n",
       "      <th>2</th>\n",
       "      <td>38938</td>\n",
       "      <td>70.0</td>\n",
       "      <td>retired</td>\n",
       "      <td>married</td>\n",
       "      <td>high.school</td>\n",
       "      <td>no</td>\n",
       "      <td>yes</td>\n",
       "      <td>no</td>\n",
       "      <td>cellular</td>\n",
       "      <td>aug</td>\n",
       "      <td>tue</td>\n",
       "      <td>1.0</td>\n",
       "      <td>999.0</td>\n",
       "      <td>0.0</td>\n",
       "      <td>nonexistent</td>\n",
       "      <td>-2.9</td>\n",
       "      <td>92.201</td>\n",
       "      <td>-31.4</td>\n",
       "      <td>0.883</td>\n",
       "      <td>5076.2</td>\n",
       "    </tr>\n",
       "    <tr>\n",
       "      <th>3</th>\n",
       "      <td>31313</td>\n",
       "      <td>46.0</td>\n",
       "      <td>services</td>\n",
       "      <td>married</td>\n",
       "      <td>high.school</td>\n",
       "      <td>no</td>\n",
       "      <td>no</td>\n",
       "      <td>no</td>\n",
       "      <td>cellular</td>\n",
       "      <td>apr</td>\n",
       "      <td>mon</td>\n",
       "      <td>1.0</td>\n",
       "      <td>999.0</td>\n",
       "      <td>1.0</td>\n",
       "      <td>failure</td>\n",
       "      <td>-1.8</td>\n",
       "      <td>93.075</td>\n",
       "      <td>-47.1</td>\n",
       "      <td>1.405</td>\n",
       "      <td>5099.1</td>\n",
       "    </tr>\n",
       "    <tr>\n",
       "      <th>4</th>\n",
       "      <td>24173</td>\n",
       "      <td>35.0</td>\n",
       "      <td>technician</td>\n",
       "      <td>single</td>\n",
       "      <td>unknown</td>\n",
       "      <td>no</td>\n",
       "      <td>no</td>\n",
       "      <td>no</td>\n",
       "      <td>cellular</td>\n",
       "      <td>may</td>\n",
       "      <td>thu</td>\n",
       "      <td>1.0</td>\n",
       "      <td>999.0</td>\n",
       "      <td>1.0</td>\n",
       "      <td>failure</td>\n",
       "      <td>-1.8</td>\n",
       "      <td>92.893</td>\n",
       "      <td>-46.2</td>\n",
       "      <td>1.266</td>\n",
       "      <td>5099.1</td>\n",
       "    </tr>\n",
       "  </tbody>\n",
       "</table>\n",
       "</div>"
      ],
      "text/plain": [
       "   client_id   age          job  marital            education default housing  \\\n",
       "0       2986  53.0   technician   single  professional.course      no      no   \n",
       "1      29710  32.0  blue-collar  married             basic.6y      no     yes   \n",
       "2      38938  70.0      retired  married          high.school      no     yes   \n",
       "3      31313  46.0     services  married          high.school      no      no   \n",
       "4      24173  35.0   technician   single              unknown      no      no   \n",
       "\n",
       "  loan    contact month day_of_week  campaign  pdays  previous     poutcome  \\\n",
       "0   no   cellular   jul         tue       1.0  999.0       0.0  nonexistent   \n",
       "1   no  telephone   jul         wed       2.0  999.0       0.0  nonexistent   \n",
       "2   no   cellular   aug         tue       1.0  999.0       0.0  nonexistent   \n",
       "3   no   cellular   apr         mon       1.0  999.0       1.0      failure   \n",
       "4   no   cellular   may         thu       1.0  999.0       1.0      failure   \n",
       "\n",
       "   emp.var.rate  cons.price.idx  cons.conf.idx  euribor3m  nr.employed  \n",
       "0           1.4          93.918          -42.7      4.961       5228.1  \n",
       "1           1.4          93.918          -42.7      4.963       5228.1  \n",
       "2          -2.9          92.201          -31.4      0.883       5076.2  \n",
       "3          -1.8          93.075          -47.1      1.405       5099.1  \n",
       "4          -1.8          92.893          -46.2      1.266       5099.1  "
      ]
     },
     "execution_count": 7,
     "metadata": {},
     "output_type": "execute_result"
    }
   ],
   "source": [
    "df_test.head()"
   ]
  },
  {
   "cell_type": "code",
   "execution_count": 8,
   "id": "d7ff9c36",
   "metadata": {},
   "outputs": [
    {
     "name": "stdout",
     "output_type": "stream",
     "text": [
      "<class 'pandas.core.frame.DataFrame'>\n",
      "RangeIndex: 20000 entries, 0 to 19999\n",
      "Data columns (total 21 columns):\n",
      " #   Column          Non-Null Count  Dtype  \n",
      "---  ------          --------------  -----  \n",
      " 0   client_id       20000 non-null  int64  \n",
      " 1   age             19798 non-null  float64\n",
      " 2   job             19839 non-null  object \n",
      " 3   marital         19801 non-null  object \n",
      " 4   education       19830 non-null  object \n",
      " 5   default         19786 non-null  object \n",
      " 6   housing         19805 non-null  object \n",
      " 7   loan            19781 non-null  object \n",
      " 8   contact         19783 non-null  object \n",
      " 9   month           19801 non-null  object \n",
      " 10  day_of_week     19815 non-null  object \n",
      " 11  campaign        19797 non-null  float64\n",
      " 12  pdays           19815 non-null  float64\n",
      " 13  previous        19791 non-null  float64\n",
      " 14  poutcome        19825 non-null  object \n",
      " 15  emp.var.rate    19835 non-null  float64\n",
      " 16  cons.price.idx  19819 non-null  float64\n",
      " 17  cons.conf.idx   19803 non-null  float64\n",
      " 18  euribor3m       19796 non-null  float64\n",
      " 19  nr.employed     19816 non-null  float64\n",
      " 20  subscribe       20000 non-null  int64  \n",
      "dtypes: float64(9), int64(2), object(10)\n",
      "memory usage: 3.2+ MB\n"
     ]
    }
   ],
   "source": [
    "df_train.info()"
   ]
  },
  {
   "cell_type": "code",
   "execution_count": 9,
   "id": "28e50a57",
   "metadata": {},
   "outputs": [
    {
     "name": "stdout",
     "output_type": "stream",
     "text": [
      "<class 'pandas.core.frame.DataFrame'>\n",
      "RangeIndex: 10000 entries, 0 to 9999\n",
      "Data columns (total 20 columns):\n",
      " #   Column          Non-Null Count  Dtype  \n",
      "---  ------          --------------  -----  \n",
      " 0   client_id       10000 non-null  int64  \n",
      " 1   age             9895 non-null   float64\n",
      " 2   job             9889 non-null   object \n",
      " 3   marital         9905 non-null   object \n",
      " 4   education       9903 non-null   object \n",
      " 5   default         9876 non-null   object \n",
      " 6   housing         9897 non-null   object \n",
      " 7   loan            9891 non-null   object \n",
      " 8   contact         9913 non-null   object \n",
      " 9   month           9880 non-null   object \n",
      " 10  day_of_week     9894 non-null   object \n",
      " 11  campaign        9912 non-null   float64\n",
      " 12  pdays           9900 non-null   float64\n",
      " 13  previous        9895 non-null   float64\n",
      " 14  poutcome        9895 non-null   object \n",
      " 15  emp.var.rate    9895 non-null   float64\n",
      " 16  cons.price.idx  9899 non-null   float64\n",
      " 17  cons.conf.idx   9896 non-null   float64\n",
      " 18  euribor3m       9912 non-null   float64\n",
      " 19  nr.employed     9878 non-null   float64\n",
      "dtypes: float64(9), int64(1), object(10)\n",
      "memory usage: 1.5+ MB\n"
     ]
    }
   ],
   "source": [
    "df_test.info()"
   ]
  },
  {
   "cell_type": "code",
   "execution_count": 10,
   "id": "8e48cfab",
   "metadata": {
    "scrolled": true
   },
   "outputs": [
    {
     "data": {
      "text/plain": [
       "<AxesSubplot:>"
      ]
     },
     "execution_count": 10,
     "metadata": {},
     "output_type": "execute_result"
    },
    {
     "data": {
      "image/png": "[encoded data removed]",
      "text/plain": [
       "<Figure size 1800x720 with 3 Axes>"
      ]
     },
     "metadata": {
      "needs_background": "light"
     },
     "output_type": "display_data"
    }
   ],
   "source": [
    "msno.bar(df_train)"
   ]
  },
  {
   "cell_type": "code",
   "execution_count": 11,
   "id": "a3b3a561",
   "metadata": {
    "scrolled": false
   },
   "outputs": [
    {
     "data": {
      "text/plain": [
       "<AxesSubplot:>"
      ]
     },
     "execution_count": 11,
     "metadata": {},
     "output_type": "execute_result"
    },
    {
     "data": {
      "image/png": "[encoded data removed]",
      "text/plain": [
       "<Figure size 1800x720 with 3 Axes>"
      ]
     },
     "metadata": {
      "needs_background": "light"
     },
     "output_type": "display_data"
    }
   ],
   "source": [
    "msno.bar(df_test)"
   ]
  },
  {
   "cell_type": "markdown",
   "id": "70029f89",
   "metadata": {},
   "source": [
    "## Examine Feature Importance"
   ]
  },
  {
   "cell_type": "code",
   "execution_count": 12,
   "id": "3aa3ab0c",
   "metadata": {
    "scrolled": true
   },
   "outputs": [
    {
     "data": {
      "text/plain": [
       "Index(['client_id', 'age', 'job', 'marital', 'education', 'default', 'housing',\n",
       "       'loan', 'contact', 'month', 'day_of_week', 'campaign', 'pdays',\n",
       "       'previous', 'poutcome', 'emp.var.rate', 'cons.price.idx',\n",
       "       'cons.conf.idx', 'euribor3m', 'nr.employed', 'subscribe'],\n",
       "      dtype='object')"
      ]
     },
     "execution_count": 12,
     "metadata": {},
     "output_type": "execute_result"
    }
   ],
   "source": [
    "df_train.columns"
   ]
  },
  {
   "cell_type": "code",
   "execution_count": 13,
   "id": "236cdcac",
   "metadata": {},
   "outputs": [
    {
     "data": {
      "text/plain": [
       "client_id           int64\n",
       "age               float64\n",
       "job                object\n",
       "marital            object\n",
       "education          object\n",
       "default            object\n",
       "housing            object\n",
       "loan               object\n",
       "contact            object\n",
       "month              object\n",
       "day_of_week        object\n",
       "campaign          float64\n",
       "pdays             float64\n",
       "previous          float64\n",
       "poutcome           object\n",
       "emp.var.rate      float64\n",
       "cons.price.idx    float64\n",
       "cons.conf.idx     float64\n",
       "euribor3m         float64\n",
       "nr.employed       float64\n",
       "subscribe           int64\n",
       "dtype: object"
      ]
     },
     "execution_count": 13,
     "metadata": {},
     "output_type": "execute_result"
    }
   ],
   "source": [
    "df_train.dtypes"
   ]
  },
  {
   "cell_type": "code",
   "execution_count": 14,
   "id": "4b09c88e",
   "metadata": {},
   "outputs": [],
   "source": [
    "cat_cols = []\n",
    "numeric_cols = []\n",
    "\n",
    "for col in df_train.columns:\n",
    "    if df_train[col].dtype == 'object':\n",
    "        cat_cols.append(col)\n",
    "    else:\n",
    "        numeric_cols.append(col)"
   ]
  },
  {
   "cell_type": "code",
   "execution_count": 15,
   "id": "60d951f2",
   "metadata": {
    "scrolled": false
   },
   "outputs": [
    {
     "data": {
      "text/plain": [
       "['job',\n",
       " 'marital',\n",
       " 'education',\n",
       " 'default',\n",
       " 'housing',\n",
       " 'loan',\n",
       " 'contact',\n",
       " 'month',\n",
       " 'day_of_week',\n",
       " 'poutcome']"
      ]
     },
     "execution_count": 15,
     "metadata": {},
     "output_type": "execute_result"
    }
   ],
   "source": [
    "cat_cols"
   ]
  },
  {
   "cell_type": "code",
   "execution_count": 16,
   "id": "6a75a2c5",
   "metadata": {
    "scrolled": true
   },
   "outputs": [
    {
     "data": {
      "text/plain": [
       "['client_id',\n",
       " 'age',\n",
       " 'campaign',\n",
       " 'pdays',\n",
       " 'previous',\n",
       " 'emp.var.rate',\n",
       " 'cons.price.idx',\n",
       " 'cons.conf.idx',\n",
       " 'euribor3m',\n",
       " 'nr.employed',\n",
       " 'subscribe']"
      ]
     },
     "execution_count": 16,
     "metadata": {},
     "output_type": "execute_result"
    }
   ],
   "source": [
    "numeric_cols"
   ]
  },
  {
   "cell_type": "code",
   "execution_count": 17,
   "id": "39e609b9",
   "metadata": {},
   "outputs": [],
   "source": [
    "#check correlations for numeric cols\n",
    "\n",
    "df_numeric = df_train[numeric_cols]"
   ]
  },
  {
   "cell_type": "code",
   "execution_count": 18,
   "id": "b0dee596",
   "metadata": {
    "scrolled": true
   },
   "outputs": [
    {
     "data": {
      "text/plain": [
       "client_id        -0.003702\n",
       "age               0.035057\n",
       "campaign         -0.064095\n",
       "pdays            -0.333984\n",
       "previous          0.236791\n",
       "emp.var.rate     -0.299722\n",
       "cons.price.idx   -0.138401\n",
       "cons.conf.idx     0.055850\n",
       "euribor3m        -0.309708\n",
       "nr.employed      -0.355696\n",
       "dtype: float64"
      ]
     },
     "execution_count": 18,
     "metadata": {},
     "output_type": "execute_result"
    }
   ],
   "source": [
    "df_numeric.drop(\"subscribe\", axis=1).apply(lambda x: x.corr(df_numeric.subscribe))"
   ]
  },
  {
   "cell_type": "code",
   "execution_count": 19,
   "id": "df5c446b",
   "metadata": {},
   "outputs": [],
   "source": [
    "df_cat_nums = pd.DataFrame({'job':df_train['job'], 'marital':df_train['marital'],  'education':df_train['education'],'default':df_train['default'],'housing':df_train['housing'],'loan':df_train['loan'],'contact':df_train['contact'],'month':df_train['month'],'day_of_week':df_train['day_of_week'],'poutcome':df_train['poutcome']})"
   ]
  },
  {
   "cell_type": "code",
   "execution_count": 20,
   "id": "f0381755",
   "metadata": {
    "scrolled": false
   },
   "outputs": [],
   "source": [
    "def cat_to_num(df,cols):\n",
    "    \"\"\"iterates over list of cols\n",
    "       transforming each col within \n",
    "       a dataframe of only categorical columns\n",
    "       to a numerical value\n",
    "       args: a dataframe with only categorical features \n",
    "       and a list of col names\n",
    "       output: the df given as input is returned\n",
    "       with the numerical transformations of each categorical\n",
    "    \"\"\"\n",
    "    for col in cols:\n",
    "        df[col] = df[col].astype('category').cat.codes\n",
    "    return(df)"
   ]
  },
  {
   "cell_type": "code",
   "execution_count": 21,
   "id": "97375944",
   "metadata": {},
   "outputs": [],
   "source": [
    "df_cat_nums = cat_to_num(df_cat_nums,cat_cols)"
   ]
  },
  {
   "cell_type": "code",
   "execution_count": 22,
   "id": "692fe6f7",
   "metadata": {
    "scrolled": false
   },
   "outputs": [
    {
     "data": {
      "text/html": [
       "<div>\n",
       "<style scoped>\n",
       "    .dataframe tbody tr th:only-of-type {\n",
       "        vertical-align: middle;\n",
       "    }\n",
       "\n",
       "    .dataframe tbody tr th {\n",
       "        vertical-align: top;\n",
       "    }\n",
       "\n",
       "    .dataframe thead th {\n",
       "        text-align: right;\n",
       "    }\n",
       "</style>\n",
       "<table border=\"1\" class=\"dataframe\">\n",
       "  <thead>\n",
       "    <tr style=\"text-align: right;\">\n",
       "      <th></th>\n",
       "      <th>job</th>\n",
       "      <th>marital</th>\n",
       "      <th>education</th>\n",
       "      <th>default</th>\n",
       "      <th>housing</th>\n",
       "      <th>loan</th>\n",
       "      <th>contact</th>\n",
       "      <th>month</th>\n",
       "      <th>day_of_week</th>\n",
       "      <th>poutcome</th>\n",
       "    </tr>\n",
       "  </thead>\n",
       "  <tbody>\n",
       "    <tr>\n",
       "      <th>0</th>\n",
       "      <td>4</td>\n",
       "      <td>1</td>\n",
       "      <td>2</td>\n",
       "      <td>0</td>\n",
       "      <td>0</td>\n",
       "      <td>0</td>\n",
       "      <td>0</td>\n",
       "      <td>3</td>\n",
       "      <td>2</td>\n",
       "      <td>1</td>\n",
       "    </tr>\n",
       "    <tr>\n",
       "      <th>1</th>\n",
       "      <td>10</td>\n",
       "      <td>1</td>\n",
       "      <td>6</td>\n",
       "      <td>0</td>\n",
       "      <td>2</td>\n",
       "      <td>0</td>\n",
       "      <td>1</td>\n",
       "      <td>4</td>\n",
       "      <td>1</td>\n",
       "      <td>1</td>\n",
       "    </tr>\n",
       "    <tr>\n",
       "      <th>2</th>\n",
       "      <td>9</td>\n",
       "      <td>1</td>\n",
       "      <td>2</td>\n",
       "      <td>0</td>\n",
       "      <td>2</td>\n",
       "      <td>2</td>\n",
       "      <td>0</td>\n",
       "      <td>6</td>\n",
       "      <td>1</td>\n",
       "      <td>1</td>\n",
       "    </tr>\n",
       "    <tr>\n",
       "      <th>3</th>\n",
       "      <td>7</td>\n",
       "      <td>1</td>\n",
       "      <td>3</td>\n",
       "      <td>0</td>\n",
       "      <td>2</td>\n",
       "      <td>0</td>\n",
       "      <td>0</td>\n",
       "      <td>0</td>\n",
       "      <td>3</td>\n",
       "      <td>1</td>\n",
       "    </tr>\n",
       "    <tr>\n",
       "      <th>4</th>\n",
       "      <td>11</td>\n",
       "      <td>1</td>\n",
       "      <td>7</td>\n",
       "      <td>1</td>\n",
       "      <td>1</td>\n",
       "      <td>1</td>\n",
       "      <td>1</td>\n",
       "      <td>6</td>\n",
       "      <td>4</td>\n",
       "      <td>1</td>\n",
       "    </tr>\n",
       "  </tbody>\n",
       "</table>\n",
       "</div>"
      ],
      "text/plain": [
       "   job  marital  education  default  housing  loan  contact  month  \\\n",
       "0    4        1          2        0        0     0        0      3   \n",
       "1   10        1          6        0        2     0        1      4   \n",
       "2    9        1          2        0        2     2        0      6   \n",
       "3    7        1          3        0        2     0        0      0   \n",
       "4   11        1          7        1        1     1        1      6   \n",
       "\n",
       "   day_of_week  poutcome  \n",
       "0            2         1  \n",
       "1            1         1  \n",
       "2            1         1  \n",
       "3            3         1  \n",
       "4            4         1  "
      ]
     },
     "execution_count": 22,
     "metadata": {},
     "output_type": "execute_result"
    }
   ],
   "source": [
    "df_cat_nums.head()"
   ]
  },
  {
   "cell_type": "code",
   "execution_count": 23,
   "id": "4d56c32d",
   "metadata": {},
   "outputs": [],
   "source": [
    "df_train_nums_only = df_train.drop(columns=cat_cols,axis=1)"
   ]
  },
  {
   "cell_type": "code",
   "execution_count": 24,
   "id": "da57248c",
   "metadata": {},
   "outputs": [
    {
     "data": {
      "text/html": [
       "<div>\n",
       "<style scoped>\n",
       "    .dataframe tbody tr th:only-of-type {\n",
       "        vertical-align: middle;\n",
       "    }\n",
       "\n",
       "    .dataframe tbody tr th {\n",
       "        vertical-align: top;\n",
       "    }\n",
       "\n",
       "    .dataframe thead th {\n",
       "        text-align: right;\n",
       "    }\n",
       "</style>\n",
       "<table border=\"1\" class=\"dataframe\">\n",
       "  <thead>\n",
       "    <tr style=\"text-align: right;\">\n",
       "      <th></th>\n",
       "      <th>client_id</th>\n",
       "      <th>age</th>\n",
       "      <th>campaign</th>\n",
       "      <th>pdays</th>\n",
       "      <th>previous</th>\n",
       "      <th>emp.var.rate</th>\n",
       "      <th>cons.price.idx</th>\n",
       "      <th>cons.conf.idx</th>\n",
       "      <th>euribor3m</th>\n",
       "      <th>nr.employed</th>\n",
       "      <th>subscribe</th>\n",
       "    </tr>\n",
       "  </thead>\n",
       "  <tbody>\n",
       "    <tr>\n",
       "      <th>0</th>\n",
       "      <td>29925</td>\n",
       "      <td>42.0</td>\n",
       "      <td>1.0</td>\n",
       "      <td>999.0</td>\n",
       "      <td>0.0</td>\n",
       "      <td>1.4</td>\n",
       "      <td>93.918</td>\n",
       "      <td>-42.7</td>\n",
       "      <td>4.968</td>\n",
       "      <td>5228.1</td>\n",
       "      <td>0</td>\n",
       "    </tr>\n",
       "    <tr>\n",
       "      <th>1</th>\n",
       "      <td>37529</td>\n",
       "      <td>35.0</td>\n",
       "      <td>4.0</td>\n",
       "      <td>999.0</td>\n",
       "      <td>0.0</td>\n",
       "      <td>1.4</td>\n",
       "      <td>94.465</td>\n",
       "      <td>-41.8</td>\n",
       "      <td>4.960</td>\n",
       "      <td>5228.1</td>\n",
       "      <td>0</td>\n",
       "    </tr>\n",
       "    <tr>\n",
       "      <th>2</th>\n",
       "      <td>2757</td>\n",
       "      <td>44.0</td>\n",
       "      <td>1.0</td>\n",
       "      <td>999.0</td>\n",
       "      <td>0.0</td>\n",
       "      <td>-1.8</td>\n",
       "      <td>92.893</td>\n",
       "      <td>-46.2</td>\n",
       "      <td>1.264</td>\n",
       "      <td>5099.1</td>\n",
       "      <td>0</td>\n",
       "    </tr>\n",
       "    <tr>\n",
       "      <th>3</th>\n",
       "      <td>9642</td>\n",
       "      <td>45.0</td>\n",
       "      <td>1.0</td>\n",
       "      <td>999.0</td>\n",
       "      <td>0.0</td>\n",
       "      <td>-1.8</td>\n",
       "      <td>93.075</td>\n",
       "      <td>-47.1</td>\n",
       "      <td>1.453</td>\n",
       "      <td>5099.1</td>\n",
       "      <td>0</td>\n",
       "    </tr>\n",
       "    <tr>\n",
       "      <th>4</th>\n",
       "      <td>14183</td>\n",
       "      <td>45.0</td>\n",
       "      <td>1.0</td>\n",
       "      <td>999.0</td>\n",
       "      <td>0.0</td>\n",
       "      <td>1.1</td>\n",
       "      <td>93.994</td>\n",
       "      <td>-36.4</td>\n",
       "      <td>4.859</td>\n",
       "      <td>5191.0</td>\n",
       "      <td>0</td>\n",
       "    </tr>\n",
       "  </tbody>\n",
       "</table>\n",
       "</div>"
      ],
      "text/plain": [
       "   client_id   age  campaign  pdays  previous  emp.var.rate  cons.price.idx  \\\n",
       "0      29925  42.0       1.0  999.0       0.0           1.4          93.918   \n",
       "1      37529  35.0       4.0  999.0       0.0           1.4          94.465   \n",
       "2       2757  44.0       1.0  999.0       0.0          -1.8          92.893   \n",
       "3       9642  45.0       1.0  999.0       0.0          -1.8          93.075   \n",
       "4      14183  45.0       1.0  999.0       0.0           1.1          93.994   \n",
       "\n",
       "   cons.conf.idx  euribor3m  nr.employed  subscribe  \n",
       "0          -42.7      4.968       5228.1          0  \n",
       "1          -41.8      4.960       5228.1          0  \n",
       "2          -46.2      1.264       5099.1          0  \n",
       "3          -47.1      1.453       5099.1          0  \n",
       "4          -36.4      4.859       5191.0          0  "
      ]
     },
     "execution_count": 24,
     "metadata": {},
     "output_type": "execute_result"
    }
   ],
   "source": [
    "df_train_nums_only.head()"
   ]
  },
  {
   "cell_type": "code",
   "execution_count": 25,
   "id": "a767b380",
   "metadata": {},
   "outputs": [],
   "source": [
    "df_train_nums_only = pd.concat([df_train_nums_only,df_cat_nums],axis=1)"
   ]
  },
  {
   "cell_type": "code",
   "execution_count": 26,
   "id": "9df25c44",
   "metadata": {
    "scrolled": false
   },
   "outputs": [
    {
     "data": {
      "text/plain": [
       "20000"
      ]
     },
     "execution_count": 26,
     "metadata": {},
     "output_type": "execute_result"
    }
   ],
   "source": [
    "len(df_train_nums_only)"
   ]
  },
  {
   "cell_type": "code",
   "execution_count": 27,
   "id": "d2df6959",
   "metadata": {},
   "outputs": [],
   "source": [
    "df_train_nums_only.dropna(inplace=True,axis=0)"
   ]
  },
  {
   "cell_type": "code",
   "execution_count": 28,
   "id": "39577935",
   "metadata": {},
   "outputs": [
    {
     "data": {
      "text/plain": [
       "18341"
      ]
     },
     "execution_count": 28,
     "metadata": {},
     "output_type": "execute_result"
    }
   ],
   "source": [
    "len(df_train_nums_only)"
   ]
  },
  {
   "cell_type": "code",
   "execution_count": 29,
   "id": "b9c8c4ac",
   "metadata": {
    "scrolled": false
   },
   "outputs": [
    {
     "data": {
      "text/plain": [
       "client_id        -0.003772\n",
       "age               0.038127\n",
       "campaign         -0.064363\n",
       "pdays            -0.330668\n",
       "previous          0.230227\n",
       "emp.var.rate     -0.300298\n",
       "cons.price.idx   -0.138461\n",
       "cons.conf.idx     0.050438\n",
       "euribor3m        -0.309566\n",
       "nr.employed      -0.354601\n",
       "job               0.029556\n",
       "marital           0.041034\n",
       "education         0.055779\n",
       "default          -0.098306\n",
       "housing           0.006242\n",
       "loan              0.001610\n",
       "contact          -0.134892\n",
       "month             0.004651\n",
       "day_of_week       0.009498\n",
       "poutcome          0.127354\n",
       "dtype: float64"
      ]
     },
     "execution_count": 29,
     "metadata": {},
     "output_type": "execute_result"
    }
   ],
   "source": [
    "# categorical feature correlations with target\n",
    "df_train_nums_only.drop(columns='subscribe', axis=1).apply(lambda x: x.corr(df_train_nums_only.subscribe))\n"
   ]
  },
  {
   "cell_type": "code",
   "execution_count": 30,
   "id": "0af68390",
   "metadata": {},
   "outputs": [
    {
     "data": {
      "text/plain": [
       "Index(['client_id', 'age', 'campaign', 'pdays', 'previous', 'emp.var.rate',\n",
       "       'cons.price.idx', 'cons.conf.idx', 'euribor3m', 'nr.employed',\n",
       "       'subscribe', 'job', 'marital', 'education', 'default', 'housing',\n",
       "       'loan', 'contact', 'month', 'day_of_week', 'poutcome'],\n",
       "      dtype='object')"
      ]
     },
     "execution_count": 30,
     "metadata": {},
     "output_type": "execute_result"
    }
   ],
   "source": [
    "df_train_nums_only.columns"
   ]
  },
  {
   "cell_type": "code",
   "execution_count": 31,
   "id": "02332506",
   "metadata": {},
   "outputs": [],
   "source": [
    "X = df_train_nums_only[['client_id', 'age', 'campaign', 'pdays', 'previous', 'emp.var.rate',\n",
    "       'cons.price.idx', 'cons.conf.idx', 'euribor3m', 'nr.employed','job', 'marital', 'education', 'default', 'housing',\n",
    "       'loan', 'contact', 'month', 'day_of_week', 'poutcome']]\n",
    "y = df_train_nums_only.subscribe"
   ]
  },
  {
   "cell_type": "code",
   "execution_count": 32,
   "id": "ee86b344",
   "metadata": {},
   "outputs": [],
   "source": [
    "#train test split\n",
    "X_train, X_test, y_train, y_test = train_test_split(X,y,test_size=0.2)"
   ]
  },
  {
   "cell_type": "code",
   "execution_count": 33,
   "id": "0b5b9d4d",
   "metadata": {
    "scrolled": true
   },
   "outputs": [
    {
     "data": {
      "text/plain": [
       "RandomForestClassifier(max_depth=5, random_state=0)"
      ]
     },
     "execution_count": 33,
     "metadata": {},
     "output_type": "execute_result"
    }
   ],
   "source": [
    "clf = RandomForestClassifier(max_depth=5, random_state=0)\n",
    "\n",
    "clf.fit(X_train, y_train)"
   ]
  },
  {
   "cell_type": "code",
   "execution_count": 34,
   "id": "7c9ab38d",
   "metadata": {
    "scrolled": true
   },
   "outputs": [],
   "source": [
    "preds = clf.predict(X_test)"
   ]
  },
  {
   "cell_type": "code",
   "execution_count": 35,
   "id": "96f5a55b",
   "metadata": {
    "scrolled": true
   },
   "outputs": [
    {
     "data": {
      "text/plain": [
       "0.9013355137639684"
      ]
     },
     "execution_count": 35,
     "metadata": {},
     "output_type": "execute_result"
    }
   ],
   "source": [
    "accuracy_score(y_test, preds)"
   ]
  },
  {
   "cell_type": "code",
   "execution_count": null,
   "id": "7e53abb5",
   "metadata": {},
   "outputs": [],
   "source": []
  },
  {
   "cell_type": "markdown",
   "id": "2bc4f16b",
   "metadata": {},
   "source": [
    "### preprocessing for entire train and test sets"
   ]
  },
  {
   "cell_type": "code",
   "execution_count": 36,
   "id": "c6a85121",
   "metadata": {},
   "outputs": [],
   "source": [
    "#transforming categoricals for the train set \n",
    "df_train = cat_to_num(df_train,cat_cols)"
   ]
  },
  {
   "cell_type": "code",
   "execution_count": 37,
   "id": "38e4b22b",
   "metadata": {
    "scrolled": true
   },
   "outputs": [
    {
     "data": {
      "text/html": [
       "<div>\n",
       "<style scoped>\n",
       "    .dataframe tbody tr th:only-of-type {\n",
       "        vertical-align: middle;\n",
       "    }\n",
       "\n",
       "    .dataframe tbody tr th {\n",
       "        vertical-align: top;\n",
       "    }\n",
       "\n",
       "    .dataframe thead th {\n",
       "        text-align: right;\n",
       "    }\n",
       "</style>\n",
       "<table border=\"1\" class=\"dataframe\">\n",
       "  <thead>\n",
       "    <tr style=\"text-align: right;\">\n",
       "      <th></th>\n",
       "      <th>client_id</th>\n",
       "      <th>age</th>\n",
       "      <th>job</th>\n",
       "      <th>marital</th>\n",
       "      <th>education</th>\n",
       "      <th>default</th>\n",
       "      <th>housing</th>\n",
       "      <th>loan</th>\n",
       "      <th>contact</th>\n",
       "      <th>month</th>\n",
       "      <th>...</th>\n",
       "      <th>campaign</th>\n",
       "      <th>pdays</th>\n",
       "      <th>previous</th>\n",
       "      <th>poutcome</th>\n",
       "      <th>emp.var.rate</th>\n",
       "      <th>cons.price.idx</th>\n",
       "      <th>cons.conf.idx</th>\n",
       "      <th>euribor3m</th>\n",
       "      <th>nr.employed</th>\n",
       "      <th>subscribe</th>\n",
       "    </tr>\n",
       "  </thead>\n",
       "  <tbody>\n",
       "    <tr>\n",
       "      <th>0</th>\n",
       "      <td>29925</td>\n",
       "      <td>42.0</td>\n",
       "      <td>4</td>\n",
       "      <td>1</td>\n",
       "      <td>2</td>\n",
       "      <td>0</td>\n",
       "      <td>0</td>\n",
       "      <td>0</td>\n",
       "      <td>0</td>\n",
       "      <td>3</td>\n",
       "      <td>...</td>\n",
       "      <td>1.0</td>\n",
       "      <td>999.0</td>\n",
       "      <td>0.0</td>\n",
       "      <td>1</td>\n",
       "      <td>1.4</td>\n",
       "      <td>93.918</td>\n",
       "      <td>-42.7</td>\n",
       "      <td>4.968</td>\n",
       "      <td>5228.1</td>\n",
       "      <td>0</td>\n",
       "    </tr>\n",
       "    <tr>\n",
       "      <th>1</th>\n",
       "      <td>37529</td>\n",
       "      <td>35.0</td>\n",
       "      <td>10</td>\n",
       "      <td>1</td>\n",
       "      <td>6</td>\n",
       "      <td>0</td>\n",
       "      <td>2</td>\n",
       "      <td>0</td>\n",
       "      <td>1</td>\n",
       "      <td>4</td>\n",
       "      <td>...</td>\n",
       "      <td>4.0</td>\n",
       "      <td>999.0</td>\n",
       "      <td>0.0</td>\n",
       "      <td>1</td>\n",
       "      <td>1.4</td>\n",
       "      <td>94.465</td>\n",
       "      <td>-41.8</td>\n",
       "      <td>4.960</td>\n",
       "      <td>5228.1</td>\n",
       "      <td>0</td>\n",
       "    </tr>\n",
       "    <tr>\n",
       "      <th>2</th>\n",
       "      <td>2757</td>\n",
       "      <td>44.0</td>\n",
       "      <td>9</td>\n",
       "      <td>1</td>\n",
       "      <td>2</td>\n",
       "      <td>0</td>\n",
       "      <td>2</td>\n",
       "      <td>2</td>\n",
       "      <td>0</td>\n",
       "      <td>6</td>\n",
       "      <td>...</td>\n",
       "      <td>1.0</td>\n",
       "      <td>999.0</td>\n",
       "      <td>0.0</td>\n",
       "      <td>1</td>\n",
       "      <td>-1.8</td>\n",
       "      <td>92.893</td>\n",
       "      <td>-46.2</td>\n",
       "      <td>1.264</td>\n",
       "      <td>5099.1</td>\n",
       "      <td>0</td>\n",
       "    </tr>\n",
       "    <tr>\n",
       "      <th>3</th>\n",
       "      <td>9642</td>\n",
       "      <td>45.0</td>\n",
       "      <td>7</td>\n",
       "      <td>1</td>\n",
       "      <td>3</td>\n",
       "      <td>0</td>\n",
       "      <td>2</td>\n",
       "      <td>0</td>\n",
       "      <td>0</td>\n",
       "      <td>0</td>\n",
       "      <td>...</td>\n",
       "      <td>1.0</td>\n",
       "      <td>999.0</td>\n",
       "      <td>0.0</td>\n",
       "      <td>1</td>\n",
       "      <td>-1.8</td>\n",
       "      <td>93.075</td>\n",
       "      <td>-47.1</td>\n",
       "      <td>1.453</td>\n",
       "      <td>5099.1</td>\n",
       "      <td>0</td>\n",
       "    </tr>\n",
       "    <tr>\n",
       "      <th>4</th>\n",
       "      <td>14183</td>\n",
       "      <td>45.0</td>\n",
       "      <td>11</td>\n",
       "      <td>1</td>\n",
       "      <td>7</td>\n",
       "      <td>1</td>\n",
       "      <td>1</td>\n",
       "      <td>1</td>\n",
       "      <td>1</td>\n",
       "      <td>6</td>\n",
       "      <td>...</td>\n",
       "      <td>1.0</td>\n",
       "      <td>999.0</td>\n",
       "      <td>0.0</td>\n",
       "      <td>1</td>\n",
       "      <td>1.1</td>\n",
       "      <td>93.994</td>\n",
       "      <td>-36.4</td>\n",
       "      <td>4.859</td>\n",
       "      <td>5191.0</td>\n",
       "      <td>0</td>\n",
       "    </tr>\n",
       "  </tbody>\n",
       "</table>\n",
       "<p>5 rows × 21 columns</p>\n",
       "</div>"
      ],
      "text/plain": [
       "   client_id   age  job  marital  education  default  housing  loan  contact  \\\n",
       "0      29925  42.0    4        1          2        0        0     0        0   \n",
       "1      37529  35.0   10        1          6        0        2     0        1   \n",
       "2       2757  44.0    9        1          2        0        2     2        0   \n",
       "3       9642  45.0    7        1          3        0        2     0        0   \n",
       "4      14183  45.0   11        1          7        1        1     1        1   \n",
       "\n",
       "   month  ...  campaign  pdays  previous  poutcome  emp.var.rate  \\\n",
       "0      3  ...       1.0  999.0       0.0         1           1.4   \n",
       "1      4  ...       4.0  999.0       0.0         1           1.4   \n",
       "2      6  ...       1.0  999.0       0.0         1          -1.8   \n",
       "3      0  ...       1.0  999.0       0.0         1          -1.8   \n",
       "4      6  ...       1.0  999.0       0.0         1           1.1   \n",
       "\n",
       "   cons.price.idx  cons.conf.idx  euribor3m  nr.employed  subscribe  \n",
       "0          93.918          -42.7      4.968       5228.1          0  \n",
       "1          94.465          -41.8      4.960       5228.1          0  \n",
       "2          92.893          -46.2      1.264       5099.1          0  \n",
       "3          93.075          -47.1      1.453       5099.1          0  \n",
       "4          93.994          -36.4      4.859       5191.0          0  \n",
       "\n",
       "[5 rows x 21 columns]"
      ]
     },
     "execution_count": 37,
     "metadata": {},
     "output_type": "execute_result"
    }
   ],
   "source": [
    "df_train.head()"
   ]
  },
  {
   "cell_type": "code",
   "execution_count": 38,
   "id": "8804584a",
   "metadata": {},
   "outputs": [],
   "source": [
    "#transforming categoricals for the test set \n",
    "df_test = cat_to_num(df_test,cat_cols)"
   ]
  },
  {
   "cell_type": "code",
   "execution_count": 39,
   "id": "8df1f509",
   "metadata": {
    "scrolled": true
   },
   "outputs": [
    {
     "data": {
      "text/html": [
       "<div>\n",
       "<style scoped>\n",
       "    .dataframe tbody tr th:only-of-type {\n",
       "        vertical-align: middle;\n",
       "    }\n",
       "\n",
       "    .dataframe tbody tr th {\n",
       "        vertical-align: top;\n",
       "    }\n",
       "\n",
       "    .dataframe thead th {\n",
       "        text-align: right;\n",
       "    }\n",
       "</style>\n",
       "<table border=\"1\" class=\"dataframe\">\n",
       "  <thead>\n",
       "    <tr style=\"text-align: right;\">\n",
       "      <th></th>\n",
       "      <th>client_id</th>\n",
       "      <th>age</th>\n",
       "      <th>job</th>\n",
       "      <th>marital</th>\n",
       "      <th>education</th>\n",
       "      <th>default</th>\n",
       "      <th>housing</th>\n",
       "      <th>loan</th>\n",
       "      <th>contact</th>\n",
       "      <th>month</th>\n",
       "      <th>day_of_week</th>\n",
       "      <th>campaign</th>\n",
       "      <th>pdays</th>\n",
       "      <th>previous</th>\n",
       "      <th>poutcome</th>\n",
       "      <th>emp.var.rate</th>\n",
       "      <th>cons.price.idx</th>\n",
       "      <th>cons.conf.idx</th>\n",
       "      <th>euribor3m</th>\n",
       "      <th>nr.employed</th>\n",
       "    </tr>\n",
       "  </thead>\n",
       "  <tbody>\n",
       "    <tr>\n",
       "      <th>0</th>\n",
       "      <td>2986</td>\n",
       "      <td>53.0</td>\n",
       "      <td>9</td>\n",
       "      <td>2</td>\n",
       "      <td>5</td>\n",
       "      <td>0</td>\n",
       "      <td>0</td>\n",
       "      <td>0</td>\n",
       "      <td>0</td>\n",
       "      <td>3</td>\n",
       "      <td>3</td>\n",
       "      <td>1.0</td>\n",
       "      <td>999.0</td>\n",
       "      <td>0.0</td>\n",
       "      <td>1</td>\n",
       "      <td>1.4</td>\n",
       "      <td>93.918</td>\n",
       "      <td>-42.7</td>\n",
       "      <td>4.961</td>\n",
       "      <td>5228.1</td>\n",
       "    </tr>\n",
       "    <tr>\n",
       "      <th>1</th>\n",
       "      <td>29710</td>\n",
       "      <td>32.0</td>\n",
       "      <td>1</td>\n",
       "      <td>1</td>\n",
       "      <td>1</td>\n",
       "      <td>0</td>\n",
       "      <td>2</td>\n",
       "      <td>0</td>\n",
       "      <td>1</td>\n",
       "      <td>3</td>\n",
       "      <td>4</td>\n",
       "      <td>2.0</td>\n",
       "      <td>999.0</td>\n",
       "      <td>0.0</td>\n",
       "      <td>1</td>\n",
       "      <td>1.4</td>\n",
       "      <td>93.918</td>\n",
       "      <td>-42.7</td>\n",
       "      <td>4.963</td>\n",
       "      <td>5228.1</td>\n",
       "    </tr>\n",
       "    <tr>\n",
       "      <th>2</th>\n",
       "      <td>38938</td>\n",
       "      <td>70.0</td>\n",
       "      <td>5</td>\n",
       "      <td>1</td>\n",
       "      <td>3</td>\n",
       "      <td>0</td>\n",
       "      <td>2</td>\n",
       "      <td>0</td>\n",
       "      <td>0</td>\n",
       "      <td>1</td>\n",
       "      <td>3</td>\n",
       "      <td>1.0</td>\n",
       "      <td>999.0</td>\n",
       "      <td>0.0</td>\n",
       "      <td>1</td>\n",
       "      <td>-2.9</td>\n",
       "      <td>92.201</td>\n",
       "      <td>-31.4</td>\n",
       "      <td>0.883</td>\n",
       "      <td>5076.2</td>\n",
       "    </tr>\n",
       "    <tr>\n",
       "      <th>3</th>\n",
       "      <td>31313</td>\n",
       "      <td>46.0</td>\n",
       "      <td>7</td>\n",
       "      <td>1</td>\n",
       "      <td>3</td>\n",
       "      <td>0</td>\n",
       "      <td>0</td>\n",
       "      <td>0</td>\n",
       "      <td>0</td>\n",
       "      <td>0</td>\n",
       "      <td>1</td>\n",
       "      <td>1.0</td>\n",
       "      <td>999.0</td>\n",
       "      <td>1.0</td>\n",
       "      <td>0</td>\n",
       "      <td>-1.8</td>\n",
       "      <td>93.075</td>\n",
       "      <td>-47.1</td>\n",
       "      <td>1.405</td>\n",
       "      <td>5099.1</td>\n",
       "    </tr>\n",
       "    <tr>\n",
       "      <th>4</th>\n",
       "      <td>24173</td>\n",
       "      <td>35.0</td>\n",
       "      <td>9</td>\n",
       "      <td>2</td>\n",
       "      <td>7</td>\n",
       "      <td>0</td>\n",
       "      <td>0</td>\n",
       "      <td>0</td>\n",
       "      <td>0</td>\n",
       "      <td>6</td>\n",
       "      <td>2</td>\n",
       "      <td>1.0</td>\n",
       "      <td>999.0</td>\n",
       "      <td>1.0</td>\n",
       "      <td>0</td>\n",
       "      <td>-1.8</td>\n",
       "      <td>92.893</td>\n",
       "      <td>-46.2</td>\n",
       "      <td>1.266</td>\n",
       "      <td>5099.1</td>\n",
       "    </tr>\n",
       "  </tbody>\n",
       "</table>\n",
       "</div>"
      ],
      "text/plain": [
       "   client_id   age  job  marital  education  default  housing  loan  contact  \\\n",
       "0       2986  53.0    9        2          5        0        0     0        0   \n",
       "1      29710  32.0    1        1          1        0        2     0        1   \n",
       "2      38938  70.0    5        1          3        0        2     0        0   \n",
       "3      31313  46.0    7        1          3        0        0     0        0   \n",
       "4      24173  35.0    9        2          7        0        0     0        0   \n",
       "\n",
       "   month  day_of_week  campaign  pdays  previous  poutcome  emp.var.rate  \\\n",
       "0      3            3       1.0  999.0       0.0         1           1.4   \n",
       "1      3            4       2.0  999.0       0.0         1           1.4   \n",
       "2      1            3       1.0  999.0       0.0         1          -2.9   \n",
       "3      0            1       1.0  999.0       1.0         0          -1.8   \n",
       "4      6            2       1.0  999.0       1.0         0          -1.8   \n",
       "\n",
       "   cons.price.idx  cons.conf.idx  euribor3m  nr.employed  \n",
       "0          93.918          -42.7      4.961       5228.1  \n",
       "1          93.918          -42.7      4.963       5228.1  \n",
       "2          92.201          -31.4      0.883       5076.2  \n",
       "3          93.075          -47.1      1.405       5099.1  \n",
       "4          92.893          -46.2      1.266       5099.1  "
      ]
     },
     "execution_count": 39,
     "metadata": {},
     "output_type": "execute_result"
    }
   ],
   "source": [
    "df_test.head()"
   ]
  },
  {
   "cell_type": "markdown",
   "id": "16fc5099",
   "metadata": {},
   "source": [
    "## Imputation"
   ]
  },
  {
   "cell_type": "code",
   "execution_count": 40,
   "id": "1e1d62b7",
   "metadata": {},
   "outputs": [
    {
     "name": "stderr",
     "output_type": "stream",
     "text": [
      "C:\\tools\\Anaconda3\\lib\\site-packages\\sklearn\\base.py:484: FutureWarning: The feature names should match those that were passed during fit. Starting version 1.2, an error will be raised.\n",
      "Feature names unseen at fit time:\n",
      "- job\n",
      "Feature names seen at fit time, yet now missing:\n",
      "- nr.employed\n",
      "\n",
      "  warnings.warn(message, FutureWarning)\n",
      "C:\\tools\\Anaconda3\\lib\\site-packages\\sklearn\\base.py:484: FutureWarning: The feature names should match those that were passed during fit. Starting version 1.2, an error will be raised.\n",
      "Feature names unseen at fit time:\n",
      "- marital\n",
      "Feature names seen at fit time, yet now missing:\n",
      "- nr.employed\n",
      "\n",
      "  warnings.warn(message, FutureWarning)\n",
      "C:\\tools\\Anaconda3\\lib\\site-packages\\sklearn\\base.py:484: FutureWarning: The feature names should match those that were passed during fit. Starting version 1.2, an error will be raised.\n",
      "Feature names unseen at fit time:\n",
      "- education\n",
      "Feature names seen at fit time, yet now missing:\n",
      "- nr.employed\n",
      "\n",
      "  warnings.warn(message, FutureWarning)\n",
      "C:\\tools\\Anaconda3\\lib\\site-packages\\sklearn\\base.py:484: FutureWarning: The feature names should match those that were passed during fit. Starting version 1.2, an error will be raised.\n",
      "Feature names unseen at fit time:\n",
      "- default\n",
      "Feature names seen at fit time, yet now missing:\n",
      "- nr.employed\n",
      "\n",
      "  warnings.warn(message, FutureWarning)\n",
      "C:\\tools\\Anaconda3\\lib\\site-packages\\sklearn\\base.py:484: FutureWarning: The feature names should match those that were passed during fit. Starting version 1.2, an error will be raised.\n",
      "Feature names unseen at fit time:\n",
      "- housing\n",
      "Feature names seen at fit time, yet now missing:\n",
      "- nr.employed\n",
      "\n",
      "  warnings.warn(message, FutureWarning)\n",
      "C:\\tools\\Anaconda3\\lib\\site-packages\\sklearn\\base.py:484: FutureWarning: The feature names should match those that were passed during fit. Starting version 1.2, an error will be raised.\n",
      "Feature names unseen at fit time:\n",
      "- loan\n",
      "Feature names seen at fit time, yet now missing:\n",
      "- nr.employed\n",
      "\n",
      "  warnings.warn(message, FutureWarning)\n",
      "C:\\tools\\Anaconda3\\lib\\site-packages\\sklearn\\base.py:484: FutureWarning: The feature names should match those that were passed during fit. Starting version 1.2, an error will be raised.\n",
      "Feature names unseen at fit time:\n",
      "- month\n",
      "Feature names seen at fit time, yet now missing:\n",
      "- nr.employed\n",
      "\n",
      "  warnings.warn(message, FutureWarning)\n",
      "C:\\tools\\Anaconda3\\lib\\site-packages\\sklearn\\base.py:484: FutureWarning: The feature names should match those that were passed during fit. Starting version 1.2, an error will be raised.\n",
      "Feature names unseen at fit time:\n",
      "- day_of_week\n",
      "Feature names seen at fit time, yet now missing:\n",
      "- nr.employed\n",
      "\n",
      "  warnings.warn(message, FutureWarning)\n",
      "C:\\tools\\Anaconda3\\lib\\site-packages\\sklearn\\base.py:484: FutureWarning: The feature names should match those that were passed during fit. Starting version 1.2, an error will be raised.\n",
      "Feature names unseen at fit time:\n",
      "- poutcome\n",
      "Feature names seen at fit time, yet now missing:\n",
      "- nr.employed\n",
      "\n",
      "  warnings.warn(message, FutureWarning)\n",
      "C:\\tools\\Anaconda3\\lib\\site-packages\\sklearn\\base.py:484: FutureWarning: The feature names should match those that were passed during fit. Starting version 1.2, an error will be raised.\n",
      "Feature names unseen at fit time:\n",
      "- job\n",
      "Feature names seen at fit time, yet now missing:\n",
      "- nr.employed\n",
      "\n",
      "  warnings.warn(message, FutureWarning)\n",
      "C:\\tools\\Anaconda3\\lib\\site-packages\\sklearn\\base.py:484: FutureWarning: The feature names should match those that were passed during fit. Starting version 1.2, an error will be raised.\n",
      "Feature names unseen at fit time:\n",
      "- marital\n",
      "Feature names seen at fit time, yet now missing:\n",
      "- nr.employed\n",
      "\n",
      "  warnings.warn(message, FutureWarning)\n",
      "C:\\tools\\Anaconda3\\lib\\site-packages\\sklearn\\base.py:484: FutureWarning: The feature names should match those that were passed during fit. Starting version 1.2, an error will be raised.\n",
      "Feature names unseen at fit time:\n",
      "- education\n",
      "Feature names seen at fit time, yet now missing:\n",
      "- nr.employed\n",
      "\n",
      "  warnings.warn(message, FutureWarning)\n",
      "C:\\tools\\Anaconda3\\lib\\site-packages\\sklearn\\base.py:484: FutureWarning: The feature names should match those that were passed during fit. Starting version 1.2, an error will be raised.\n",
      "Feature names unseen at fit time:\n",
      "- default\n",
      "Feature names seen at fit time, yet now missing:\n",
      "- nr.employed\n",
      "\n",
      "  warnings.warn(message, FutureWarning)\n",
      "C:\\tools\\Anaconda3\\lib\\site-packages\\sklearn\\base.py:484: FutureWarning: The feature names should match those that were passed during fit. Starting version 1.2, an error will be raised.\n",
      "Feature names unseen at fit time:\n",
      "- housing\n",
      "Feature names seen at fit time, yet now missing:\n",
      "- nr.employed\n",
      "\n",
      "  warnings.warn(message, FutureWarning)\n",
      "C:\\tools\\Anaconda3\\lib\\site-packages\\sklearn\\base.py:484: FutureWarning: The feature names should match those that were passed during fit. Starting version 1.2, an error will be raised.\n",
      "Feature names unseen at fit time:\n",
      "- loan\n",
      "Feature names seen at fit time, yet now missing:\n",
      "- nr.employed\n",
      "\n",
      "  warnings.warn(message, FutureWarning)\n",
      "C:\\tools\\Anaconda3\\lib\\site-packages\\sklearn\\base.py:484: FutureWarning: The feature names should match those that were passed during fit. Starting version 1.2, an error will be raised.\n",
      "Feature names unseen at fit time:\n",
      "- month\n",
      "Feature names seen at fit time, yet now missing:\n",
      "- nr.employed\n",
      "\n",
      "  warnings.warn(message, FutureWarning)\n",
      "C:\\tools\\Anaconda3\\lib\\site-packages\\sklearn\\base.py:484: FutureWarning: The feature names should match those that were passed during fit. Starting version 1.2, an error will be raised.\n",
      "Feature names unseen at fit time:\n",
      "- day_of_week\n",
      "Feature names seen at fit time, yet now missing:\n",
      "- nr.employed\n",
      "\n",
      "  warnings.warn(message, FutureWarning)\n",
      "C:\\tools\\Anaconda3\\lib\\site-packages\\sklearn\\base.py:484: FutureWarning: The feature names should match those that were passed during fit. Starting version 1.2, an error will be raised.\n",
      "Feature names unseen at fit time:\n",
      "- poutcome\n",
      "Feature names seen at fit time, yet now missing:\n",
      "- nr.employed\n",
      "\n",
      "  warnings.warn(message, FutureWarning)\n"
     ]
    }
   ],
   "source": [
    "#trainset\n",
    "# impute numerical columns using mean\n",
    "#imputing age column\n",
    "imp_numerical = SimpleImputer(missing_values=np.nan,strategy=\"mean\")\n",
    "imputer = imp_numerical.fit(df_train[['age']])\n",
    "df_train['age'] = imp_numerical.transform(df_train[['age']])\n",
    "#imputing pdays column\n",
    "imp_numerical = SimpleImputer(missing_values=np.nan,strategy=\"mean\")\n",
    "imputer = imp_numerical.fit(df_train[['pdays']])\n",
    "df_train['pdays'] = imp_numerical.transform(df_train[['pdays']])\n",
    "#imputing campaign column\n",
    "imp_numerical = SimpleImputer(missing_values=np.nan,strategy=\"mean\")\n",
    "imputer = imp_numerical.fit(df_train[['campaign']])\n",
    "df_train['campaign'] = imp_numerical.transform(df_train[['campaign']])\n",
    "#imputing campaign column\n",
    "imp_numerical = SimpleImputer(missing_values=np.nan,strategy=\"mean\")\n",
    "imputer = imp_numerical.fit(df_train[['campaign']])\n",
    "df_train['campaign'] = imp_numerical.transform(df_train[['campaign']])\n",
    "#imputing previous column\n",
    "imp_numerical = SimpleImputer(missing_values=np.nan,strategy=\"mean\")\n",
    "imputer = imp_numerical.fit(df_train[['previous']])\n",
    "df_train['previous'] = imp_numerical.transform(df_train[['previous']])\n",
    "#imputing poutcome column\n",
    "imp_numerical = SimpleImputer(missing_values=np.nan,strategy=\"mean\")\n",
    "imputer = imp_numerical.fit(df_train[['poutcome']])\n",
    "df_train['poutcome'] = imp_numerical.transform(df_train[['poutcome']])\n",
    "#imputing emp.var.rate column\n",
    "imp_numerical = SimpleImputer(missing_values=np.nan,strategy=\"mean\")\n",
    "imputer = imp_numerical.fit(df_train[['emp.var.rate']])\n",
    "df_train['emp.var.rate'] = imp_numerical.transform(df_train[['emp.var.rate']])\n",
    "#imputing cons.price.idx column\n",
    "imp_numerical = SimpleImputer(missing_values=np.nan,strategy=\"mean\")\n",
    "imputer = imp_numerical.fit(df_train[['cons.price.idx']])\n",
    "df_train['cons.price.idx'] = imp_numerical.transform(df_train[['cons.price.idx']])\n",
    "#imputing cons.conf.idx  column\n",
    "imp_numerical = SimpleImputer(missing_values=np.nan,strategy=\"mean\")\n",
    "imputer = imp_numerical.fit(df_train[['cons.conf.idx']])\n",
    "df_train['cons.conf.idx'] = imp_numerical.transform(df_train[['cons.conf.idx']])\n",
    "#imputing euribor3m column\n",
    "imp_numerical = SimpleImputer(missing_values=np.nan,strategy=\"mean\")\n",
    "imputer = imp_numerical.fit(df_train[['euribor3m']])\n",
    "df_train['euribor3m'] = imp_numerical.transform(df_train[['euribor3m']])\n",
    "#imputing nr.employed column\n",
    "imp_numerical = SimpleImputer(missing_values=np.nan,strategy=\"mean\")\n",
    "imputer = imp_numerical.fit(df_train[['nr.employed']])\n",
    "df_train['nr.employed'] = imp_numerical.transform(df_train[['nr.employed']])\n",
    "\n",
    "\n",
    "#impute categoricals \n",
    "#imputing jobs column\n",
    "imp_categorical = SimpleImputer(missing_values=np.nan,strategy=\"most_frequent\")\n",
    "imputer = imp_categorical.fit(df_train[['job']])\n",
    "df_train['job'] = imp_numerical.transform(df_train[['job']])\n",
    "#imputing marital column\n",
    "imp_categorical = SimpleImputer(missing_values=np.nan,strategy=\"most_frequent\")\n",
    "imputer = imp_categorical.fit(df_train[['marital']])\n",
    "df_train['marital'] = imp_numerical.transform(df_train[['marital']])\n",
    "#imputing education column\n",
    "imp_categorical = SimpleImputer(missing_values=np.nan,strategy=\"most_frequent\")\n",
    "imputer = imp_categorical.fit(df_train[['education']])\n",
    "df_train['education'] = imp_numerical.transform(df_train[['education']])\n",
    "#imputing default column\n",
    "imp_categorical = SimpleImputer(missing_values=np.nan,strategy=\"most_frequent\")\n",
    "imputer = imp_categorical.fit(df_train[['default']])\n",
    "df_train['default'] = imp_numerical.transform(df_train[['default']])\n",
    "#imputing housing column\n",
    "imp_categorical = SimpleImputer(missing_values=np.nan,strategy=\"most_frequent\")\n",
    "imputer = imp_categorical.fit(df_train[['housing']])\n",
    "df_train['housing'] = imp_numerical.transform(df_train[['housing']])\n",
    "#imputing loan column\n",
    "imp_categorical = SimpleImputer(missing_values=np.nan,strategy=\"most_frequent\")\n",
    "imputer = imp_categorical.fit(df_train[['loan']])\n",
    "df_train['loan'] = imp_numerical.transform(df_train[['loan']])\n",
    "#imputing month column\n",
    "imp_categorical = SimpleImputer(missing_values=np.nan,strategy=\"most_frequent\")\n",
    "imputer = imp_categorical.fit(df_train[['month']])\n",
    "df_train['month'] = imp_numerical.transform(df_train[['month']])\n",
    "#imputing day_of_week column\n",
    "imp_categorical = SimpleImputer(missing_values=np.nan,strategy=\"most_frequent\")\n",
    "imputer = imp_categorical.fit(df_train[['day_of_week']])\n",
    "df_train['day_of_week'] = imp_numerical.transform(df_train[['day_of_week']])\n",
    "#imputing poutcome column\n",
    "imp_categorical = SimpleImputer(missing_values=np.nan,strategy=\"most_frequent\")\n",
    "imputer = imp_categorical.fit(df_train[['poutcome']])\n",
    "df_train['poutcome'] = imp_numerical.transform(df_train[['poutcome']])\n",
    "\n",
    "#testset\n",
    "# impute numerical columns using mean\n",
    "#imputing age column\n",
    "imp_numerical = SimpleImputer(missing_values=np.nan,strategy=\"mean\")\n",
    "imputer = imp_numerical.fit(df_test[['age']])\n",
    "df_test['age'] = imp_numerical.transform(df_test[['age']])\n",
    "#imputing pdays column\n",
    "imp_numerical = SimpleImputer(missing_values=np.nan,strategy=\"mean\")\n",
    "imputer = imp_numerical.fit(df_test[['pdays']])\n",
    "df_test['pdays'] = imp_numerical.transform(df_test[['pdays']])\n",
    "#imputing campaign column\n",
    "imp_numerical = SimpleImputer(missing_values=np.nan,strategy=\"mean\")\n",
    "imputer = imp_numerical.fit(df_test[['campaign']])\n",
    "df_test['campaign'] = imp_numerical.transform(df_test[['campaign']])\n",
    "#imputing campaign column\n",
    "imp_numerical = SimpleImputer(missing_values=np.nan,strategy=\"mean\")\n",
    "imputer = imp_numerical.fit(df_test[['campaign']])\n",
    "df_test['campaign'] = imp_numerical.transform(df_test[['campaign']])\n",
    "#imputing previous column\n",
    "imp_numerical = SimpleImputer(missing_values=np.nan,strategy=\"mean\")\n",
    "imputer = imp_numerical.fit(df_test[['previous']])\n",
    "df_test['previous'] = imp_numerical.transform(df_test[['previous']])\n",
    "#imputing poutcome column\n",
    "imp_numerical = SimpleImputer(missing_values=np.nan,strategy=\"mean\")\n",
    "imputer = imp_numerical.fit(df_test[['poutcome']])\n",
    "df_test['poutcome'] = imp_numerical.transform(df_test[['poutcome']])\n",
    "#imputing emp.var.rate column\n",
    "imp_numerical = SimpleImputer(missing_values=np.nan,strategy=\"mean\")\n",
    "imputer = imp_numerical.fit(df_test[['emp.var.rate']])\n",
    "df_test['emp.var.rate'] = imp_numerical.transform(df_test[['emp.var.rate']])\n",
    "#imputing cons.price.idx column\n",
    "imp_numerical = SimpleImputer(missing_values=np.nan,strategy=\"mean\")\n",
    "imputer = imp_numerical.fit(df_test[['cons.price.idx']])\n",
    "df_test['cons.price.idx'] = imp_numerical.transform(df_test[['cons.price.idx']])\n",
    "#imputing cons.conf.idx  column\n",
    "imp_numerical = SimpleImputer(missing_values=np.nan,strategy=\"mean\")\n",
    "imputer = imp_numerical.fit(df_test[['cons.conf.idx']])\n",
    "df_test['cons.conf.idx'] = imp_numerical.transform(df_test[['cons.conf.idx']])\n",
    "#imputing euribor3m column\n",
    "imp_numerical = SimpleImputer(missing_values=np.nan,strategy=\"mean\")\n",
    "imputer = imp_numerical.fit(df_test[['euribor3m']])\n",
    "df_test['euribor3m'] = imp_numerical.transform(df_test[['euribor3m']])\n",
    "#imputing nr.employed column\n",
    "imp_numerical = SimpleImputer(missing_values=np.nan,strategy=\"mean\")\n",
    "imputer = imp_numerical.fit(df_test[['nr.employed']])\n",
    "df_test['nr.employed'] = imp_numerical.transform(df_test[['nr.employed']])\n",
    "\n",
    "#impute categoricals \n",
    "#imputing jobs column\n",
    "imp_categorical = SimpleImputer(missing_values=np.nan,strategy=\"most_frequent\")\n",
    "imputer = imp_categorical.fit(df_test[['job']])\n",
    "df_test['job'] = imp_numerical.transform(df_test[['job']])\n",
    "#imputing marital column\n",
    "imp_categorical = SimpleImputer(missing_values=np.nan,strategy=\"most_frequent\")\n",
    "imputer = imp_categorical.fit(df_test[['marital']])\n",
    "df_test['marital'] = imp_numerical.transform(df_test[['marital']])\n",
    "#imputing education column\n",
    "imp_categorical = SimpleImputer(missing_values=np.nan,strategy=\"most_frequent\")\n",
    "imputer = imp_categorical.fit(df_test[['education']])\n",
    "df_test['education'] = imp_numerical.transform(df_test[['education']])\n",
    "#imputing default column\n",
    "imp_categorical = SimpleImputer(missing_values=np.nan,strategy=\"most_frequent\")\n",
    "imputer = imp_categorical.fit(df_test[['default']])\n",
    "df_test['default'] = imp_numerical.transform(df_test[['default']])\n",
    "#imputing housing column\n",
    "imp_categorical = SimpleImputer(missing_values=np.nan,strategy=\"most_frequent\")\n",
    "imputer = imp_categorical.fit(df_test[['housing']])\n",
    "df_test['housing'] = imp_numerical.transform(df_test[['housing']])\n",
    "#imputing loan column\n",
    "imp_categorical = SimpleImputer(missing_values=np.nan,strategy=\"most_frequent\")\n",
    "imputer = imp_categorical.fit(df_test[['loan']])\n",
    "df_test['loan'] = imp_numerical.transform(df_test[['loan']])\n",
    "#imputing month column\n",
    "imp_categorical = SimpleImputer(missing_values=np.nan,strategy=\"most_frequent\")\n",
    "imputer = imp_categorical.fit(df_test[['month']])\n",
    "df_test['month'] = imp_numerical.transform(df_test[['month']])\n",
    "#imputing day_of_week column\n",
    "imp_categorical = SimpleImputer(missing_values=np.nan,strategy=\"most_frequent\")\n",
    "imputer = imp_categorical.fit(df_test[['day_of_week']])\n",
    "df_test['day_of_week'] = imp_numerical.transform(df_test[['day_of_week']])\n",
    "#imputing poutcome column\n",
    "imp_categorical = SimpleImputer(missing_values=np.nan,strategy=\"most_frequent\")\n",
    "imputer = imp_categorical.fit(df_test[['poutcome']])\n",
    "df_test['poutcome'] = imp_numerical.transform(df_test[['poutcome']])"
   ]
  },
  {
   "cell_type": "code",
   "execution_count": 41,
   "id": "c009fd43",
   "metadata": {},
   "outputs": [
    {
     "name": "stdout",
     "output_type": "stream",
     "text": [
      "<class 'pandas.core.frame.DataFrame'>\n",
      "RangeIndex: 20000 entries, 0 to 19999\n",
      "Data columns (total 21 columns):\n",
      " #   Column          Non-Null Count  Dtype  \n",
      "---  ------          --------------  -----  \n",
      " 0   client_id       20000 non-null  int64  \n",
      " 1   age             20000 non-null  float64\n",
      " 2   job             20000 non-null  float64\n",
      " 3   marital         20000 non-null  float64\n",
      " 4   education       20000 non-null  float64\n",
      " 5   default         20000 non-null  float64\n",
      " 6   housing         20000 non-null  float64\n",
      " 7   loan            20000 non-null  float64\n",
      " 8   contact         20000 non-null  int8   \n",
      " 9   month           20000 non-null  float64\n",
      " 10  day_of_week     20000 non-null  float64\n",
      " 11  campaign        20000 non-null  float64\n",
      " 12  pdays           20000 non-null  float64\n",
      " 13  previous        20000 non-null  float64\n",
      " 14  poutcome        20000 non-null  float64\n",
      " 15  emp.var.rate    20000 non-null  float64\n",
      " 16  cons.price.idx  20000 non-null  float64\n",
      " 17  cons.conf.idx   20000 non-null  float64\n",
      " 18  euribor3m       20000 non-null  float64\n",
      " 19  nr.employed     20000 non-null  float64\n",
      " 20  subscribe       20000 non-null  int64  \n",
      "dtypes: float64(18), int64(2), int8(1)\n",
      "memory usage: 3.1 MB\n"
     ]
    }
   ],
   "source": [
    "df_train.info()"
   ]
  },
  {
   "cell_type": "code",
   "execution_count": 42,
   "id": "65532653",
   "metadata": {},
   "outputs": [],
   "source": [
    "#subset train set for important cols based on correlation analysis \n",
    "df_train = df_train[['client_id', 'age', 'campaign', 'pdays', 'previous', 'emp.var.rate',\n",
    "       'cons.price.idx', 'cons.conf.idx', 'euribor3m', 'nr.employed','job', 'marital', 'education', 'default', 'housing',\n",
    "       'loan', 'contact', 'month', 'day_of_week', 'poutcome','subscribe']]"
   ]
  },
  {
   "cell_type": "code",
   "execution_count": 43,
   "id": "66da7dd3",
   "metadata": {},
   "outputs": [],
   "source": [
    "#test set as well - dv subscribe\n",
    "df_test = df_test[['client_id', 'age', 'campaign', 'pdays', 'previous', 'emp.var.rate',\n",
    "       'cons.price.idx', 'cons.conf.idx', 'euribor3m', 'nr.employed','job', 'marital', 'education', 'default', 'housing',\n",
    "       'loan', 'contact', 'month', 'day_of_week', 'poutcome']]"
   ]
  },
  {
   "cell_type": "code",
   "execution_count": 44,
   "id": "341f69a5",
   "metadata": {},
   "outputs": [],
   "source": [
    "#seperate feature matrix and target vector\n",
    "X_train = df_train[['client_id', 'age', 'campaign', 'pdays', 'previous', 'emp.var.rate',\n",
    "       'cons.price.idx', 'cons.conf.idx', 'euribor3m', 'nr.employed','job', 'marital', 'education', 'default', 'housing',\n",
    "       'loan', 'contact', 'month', 'day_of_week', 'poutcome']]\n",
    "y_train = df_train.subscribe"
   ]
  },
  {
   "cell_type": "code",
   "execution_count": 45,
   "id": "17e58013",
   "metadata": {},
   "outputs": [],
   "source": [
    "#create X_test matrix \n",
    "#seperate feature matrix and target vector\n",
    "X_test = df_test[['client_id', 'age', 'campaign', 'pdays', 'previous', 'emp.var.rate',\n",
    "       'cons.price.idx', 'cons.conf.idx', 'euribor3m', 'nr.employed','job', 'marital', 'education', 'default', 'housing',\n",
    "       'loan', 'contact', 'month', 'day_of_week', 'poutcome']]\n"
   ]
  },
  {
   "cell_type": "code",
   "execution_count": 46,
   "id": "d3e7e81f",
   "metadata": {},
   "outputs": [
    {
     "data": {
      "text/plain": [
       "RandomForestClassifier(max_depth=5, random_state=0)"
      ]
     },
     "execution_count": 46,
     "metadata": {},
     "output_type": "execute_result"
    }
   ],
   "source": [
    "clf = RandomForestClassifier(max_depth=5, random_state=0)\n",
    "\n",
    "clf.fit(X_train, y_train)"
   ]
  },
  {
   "cell_type": "code",
   "execution_count": 69,
   "id": "ef0d3fd4",
   "metadata": {},
   "outputs": [],
   "source": [
    "# preds1 = clf.predict(X_test)"
   ]
  },
  {
   "cell_type": "code",
   "execution_count": 47,
   "id": "3f6b6c1e",
   "metadata": {},
   "outputs": [],
   "source": [
    "rf_preds = clf.predict_proba(X_test)[:,1]"
   ]
  },
  {
   "cell_type": "code",
   "execution_count": 48,
   "id": "da22fa57",
   "metadata": {},
   "outputs": [
    {
     "name": "stderr",
     "output_type": "stream",
     "text": [
      "<ipython-input-48-1241de483434>:3: SettingWithCopyWarning: \n",
      "A value is trying to be set on a copy of a slice from a DataFrame.\n",
      "Try using .loc[row_indexer,col_indexer] = value instead\n",
      "\n",
      "See the caveats in the documentation: https://pandas.pydata.org/pandas-docs/stable/user_guide/indexing.html#returning-a-view-versus-a-copy\n",
      "  final_df['subscribe'] = rf_preds\n"
     ]
    }
   ],
   "source": [
    "final_df = X_test.copy(deep=True)\n",
    "final_df = X_test[['client_id']]\n",
    "final_df['subscribe'] = rf_preds"
   ]
  },
  {
   "cell_type": "code",
   "execution_count": 49,
   "id": "29a6cdb4",
   "metadata": {},
   "outputs": [],
   "source": [
    "final_df.to_csv('rf_submission2.csv',index=False)"
   ]
  },
  {
   "cell_type": "code",
   "execution_count": 61,
   "id": "6fecfd4a",
   "metadata": {},
   "outputs": [],
   "source": [
    "from pprint import pprint"
   ]
  },
  {
   "cell_type": "code",
   "execution_count": 63,
   "id": "dc5bde4f",
   "metadata": {},
   "outputs": [
    {
     "name": "stdout",
     "output_type": "stream",
     "text": [
      "Parameters currently in use:\n",
      "\n",
      "{'bootstrap': True,\n",
      " 'ccp_alpha': 0.0,\n",
      " 'class_weight': None,\n",
      " 'criterion': 'gini',\n",
      " 'max_depth': 5,\n",
      " 'max_features': 'auto',\n",
      " 'max_leaf_nodes': None,\n",
      " 'max_samples': None,\n",
      " 'min_impurity_decrease': 0.0,\n",
      " 'min_samples_leaf': 1,\n",
      " 'min_samples_split': 2,\n",
      " 'min_weight_fraction_leaf': 0.0,\n",
      " 'n_estimators': 100,\n",
      " 'n_jobs': None,\n",
      " 'oob_score': False,\n",
      " 'random_state': 0,\n",
      " 'verbose': 0,\n",
      " 'warm_start': False}\n"
     ]
    }
   ],
   "source": [
    "print('Parameters currently in use:\\n')\n",
    "pprint(clf.get_params())"
   ]
  },
  {
   "cell_type": "code",
   "execution_count": 104,
   "id": "d4263f59",
   "metadata": {},
   "outputs": [],
   "source": [
    "from sklearn.model_selection import RandomizedSearchCV\n",
    "# Number of trees in random forest\n",
    "n_estimators = [int(x) for x in np.linspace(start = 100, stop = 2000, num = 10)]\n",
    "# Number of features to consider at every split\n",
    "max_features = ['auto', 'sqrt']\n",
    "# Maximum number of levels in tree\n",
    "max_depth = [int(x) for x in np.linspace(10, 110, num = 11)]\n",
    "max_depth.append(None)\n",
    "# Minimum number of samples required to split a node\n",
    "min_samples_split = [2, 5, 10, 15,20]\n",
    "# Minimum number of samples required at each leaf node\n",
    "min_samples_leaf = [1, 2, 4, 8,10]\n",
    "# Method of selecting samples for training each tree\n",
    "bootstrap = [True, False]"
   ]
  },
  {
   "cell_type": "code",
   "execution_count": 105,
   "id": "419f94b9",
   "metadata": {},
   "outputs": [
    {
     "name": "stdout",
     "output_type": "stream",
     "text": [
      "{'bootstrap': [True, False],\n",
      " 'max_depth': [10, 20, 30, 40, 50, 60, 70, 80, 90, 100, 110, None],\n",
      " 'max_features': ['auto', 'sqrt'],\n",
      " 'min_samples_leaf': [1, 2, 4, 8, 10],\n",
      " 'min_samples_split': [2, 5, 10, 15, 20],\n",
      " 'n_estimators': [100, 311, 522, 733, 944, 1155, 1366, 1577, 1788, 2000]}\n"
     ]
    }
   ],
   "source": [
    "random_grid = {'n_estimators': n_estimators,\n",
    "               'max_features': max_features,\n",
    "               'max_depth': max_depth,\n",
    "               'min_samples_split': min_samples_split,\n",
    "               'min_samples_leaf': min_samples_leaf,\n",
    "               'bootstrap': bootstrap}\n",
    "pprint(random_grid)"
   ]
  },
  {
   "cell_type": "code",
   "execution_count": 113,
   "id": "489077b0",
   "metadata": {},
   "outputs": [
    {
     "name": "stdout",
     "output_type": "stream",
     "text": [
      "Fitting 3 folds for each of 100 candidates, totalling 300 fits\n"
     ]
    },
    {
     "data": {
      "text/plain": [
       "RandomizedSearchCV(cv=3, estimator=RandomForestClassifier(), n_iter=100,\n",
       "                   n_jobs=-1,\n",
       "                   param_distributions={'bootstrap': [True, False],\n",
       "                                        'max_depth': [10, 20, 30, 40, 50, 60,\n",
       "                                                      70, 80, 90, 100, 110,\n",
       "                                                      None],\n",
       "                                        'max_features': ['auto', 'sqrt'],\n",
       "                                        'min_samples_leaf': [1, 2, 4, 8, 10],\n",
       "                                        'min_samples_split': [2, 5, 10, 15, 20],\n",
       "                                        'n_estimators': [100, 311, 522, 733,\n",
       "                                                         944, 1155, 1366, 1577,\n",
       "                                                         1788, 2000]},\n",
       "                   random_state=42, verbose=2)"
      ]
     },
     "execution_count": 113,
     "metadata": {},
     "output_type": "execute_result"
    }
   ],
   "source": [
    "# Use the random grid to search for best hyperparameters\n",
    "# First create the base model to tune\n",
    "clf1 = RandomForestClassifier()\n",
    "# Random search of parameters, using 3 fold cross validation, \n",
    "# search across 100 different combinations, and use all available cores\n",
    "clf_random = RandomizedSearchCV(estimator = clf1, param_distributions = random_grid, n_iter = 100, cv = 3, verbose=2, random_state=42, n_jobs = -1)\n",
    "# Fit the random search model\n",
    "clf_random.fit(X_train, y_train)"
   ]
  },
  {
   "cell_type": "code",
   "execution_count": 114,
   "id": "6436e27e",
   "metadata": {},
   "outputs": [
    {
     "data": {
      "text/plain": [
       "{'n_estimators': 733,\n",
       " 'min_samples_split': 20,\n",
       " 'min_samples_leaf': 4,\n",
       " 'max_features': 'sqrt',\n",
       " 'max_depth': 110,\n",
       " 'bootstrap': True}"
      ]
     },
     "execution_count": 114,
     "metadata": {},
     "output_type": "execute_result"
    }
   ],
   "source": [
    "clf_random.best_params_"
   ]
  },
  {
   "cell_type": "code",
   "execution_count": 115,
   "id": "a5959b76",
   "metadata": {},
   "outputs": [],
   "source": [
    "best_random = clf_random.best_estimator_"
   ]
  },
  {
   "cell_type": "code",
   "execution_count": 116,
   "id": "aff65ef4",
   "metadata": {},
   "outputs": [],
   "source": [
    "rf_preds_bestrandom = best_random.predict_proba(X_test)[:,1]"
   ]
  },
  {
   "cell_type": "code",
   "execution_count": 117,
   "id": "13194e24",
   "metadata": {},
   "outputs": [
    {
     "name": "stderr",
     "output_type": "stream",
     "text": [
      "<ipython-input-117-a9818db9599f>:3: SettingWithCopyWarning: \n",
      "A value is trying to be set on a copy of a slice from a DataFrame.\n",
      "Try using .loc[row_indexer,col_indexer] = value instead\n",
      "\n",
      "See the caveats in the documentation: https://pandas.pydata.org/pandas-docs/stable/user_guide/indexing.html#returning-a-view-versus-a-copy\n",
      "  final_df_bestr['subscribe'] = rf_preds_bestrandom\n"
     ]
    }
   ],
   "source": [
    "final_df_bestr = X_test.copy(deep=True)\n",
    "final_df_bestr = X_test[['client_id']]\n",
    "final_df_bestr['subscribe'] = rf_preds_bestrandom"
   ]
  },
  {
   "cell_type": "code",
   "execution_count": 118,
   "id": "98bc9447",
   "metadata": {},
   "outputs": [],
   "source": [
    "final_df_bestr.to_csv('rf_submission8.csv',index=False)"
   ]
  },
  {
   "cell_type": "code",
   "execution_count": null,
   "id": "ef2a64c4",
   "metadata": {},
   "outputs": [],
   "source": []
  }
 ],
 "metadata": {
  "kernelspec": {
   "display_name": "Python 3 (ipykernel)",
   "language": "python",
   "name": "python3"
  },
  "language_info": {
   "codemirror_mode": {
    "name": "ipython",
    "version": 3
   },
   "file_extension": ".py",
   "mimetype": "text/x-python",
   "name": "python",
   "nbconvert_exporter": "python",
   "pygments_lexer": "ipython3",
   "version": "3.9.7"
  }
 },
 "nbformat": 4,
 "nbformat_minor": 5
}
