{
 "cells": [
  {
   "cell_type": "code",
   "execution_count": 877,
   "id": "2a0970f7",
   "metadata": {},
   "outputs": [],
   "source": [
    "import pandas as pd\n",
    "import numpy as np\n",
    "import matplotlib.pyplot as plt\n",
    "import os\n",
    "import missingno as msno\n",
    "%matplotlib inline\n",
    "from sklearn.model_selection import train_test_split\n",
    "from sklearn.ensemble import RandomForestClassifier\n",
    "from sklearn.metrics import accuracy_score\n",
    "from sklearn.impute import SimpleImputer\n",
    "from sklearn.model_selection import RandomizedSearchCV\n",
    "from imblearn.over_sampling import RandomOverSampler\n",
    "from sklearn.preprocessing import OneHotEncoder"
   ]
  },
  {
   "cell_type": "code",
   "execution_count": 878,
   "id": "bacf243b",
   "metadata": {},
   "outputs": [
    {
     "data": {
      "text/plain": [
       "'/Users/dimitrikestenbaum/Desktop/mbd2021-bank-telemarketing-outcome-prediction/notebooks'"
      ]
     },
     "execution_count": 878,
     "metadata": {},
     "output_type": "execute_result"
    }
   ],
   "source": [
    "os. getcwd()"
   ]
  },
  {
   "cell_type": "code",
   "execution_count": 879,
   "id": "4106927e",
   "metadata": {},
   "outputs": [],
   "source": [
    "def label_encoder(df,cols):\n",
    "    \"\"\"iterates over list of cols\n",
    "       transforming each col within \n",
    "       a dataframe of only categorical columns\n",
    "       to a numerical value\n",
    "       args: a dataframe with only categorical features \n",
    "       and a list of col names\n",
    "       output: the df given as input is returned\n",
    "       with the numerical transformations of each categorical\n",
    "    \"\"\"\n",
    "    for col in cols:\n",
    "        df[col] = df[col].astype('category').cat.codes\n",
    "    return(df)"
   ]
  },
  {
   "cell_type": "code",
   "execution_count": 880,
   "id": "452e8e75",
   "metadata": {},
   "outputs": [],
   "source": [
    "def impute_indicator(df_train,df_test):\n",
    "    cols_with_missings_train = [col for col in df_train.columns if df_train[col].isnull().sum() > 0]\n",
    "    \n",
    "    cols_with_missings_test = [col for col in df_test.columns if df_test[col].isnull().sum() > 0]\n",
    "    # Create an indicator column for columns that were imputed\n",
    "    indicators_train = df_train[cols_with_missings_train].isnull().astype(int).add_suffix('_indicator')\n",
    "    \n",
    "    indicators_test =  df_test[cols_with_missings_test].isnull().astype(int).add_suffix('_indicator')\n",
    "    \n",
    "    df_train = pd.concat([df_train,indicators_train],axis=1)\n",
    "    df_test = pd.concat([df_test,indicators_test],axis=1)\n",
    "    \n",
    "    imp_mean = SimpleImputer(missing_values=np.nan, strategy='mean')\n",
    "    imp_freq = SimpleImputer(missing_values=np.nan, strategy='most_frequent')\n",
    "    \n",
    "\n",
    "    for col in df_train[cols_with_missings_train].columns:\n",
    "        if df_train[col].dtype == 'object':\n",
    "            imp_freq=imp_freq.fit(df_train[[col]])\n",
    "            df_train[col] = imp_freq.transform(df_train[[col]])\n",
    "        else:\n",
    "            imp_mean=imp_mean.fit(df_train[[col]])\n",
    "            df_train[col] = imp_mean.transform(df_train[[col]])\n",
    "    \n",
    "    for col in x_test[cols_with_missings_test].columns:\n",
    "        if df_test[col].dtype == 'object':\n",
    "            imp_freq=imp_freq.fit(df_test[[col]])\n",
    "            df_test[col] = imp_freq.transform(df_test[[col]])\n",
    "        else:\n",
    "            imp_mean=imp_mean.fit(df_test[[col]])\n",
    "            df_test[col] = imp_mean.transform(df_test[[col]])\n",
    "\n",
    "    return df_train, df_test"
   ]
  },
  {
   "cell_type": "code",
   "execution_count": 881,
   "id": "3e15a315",
   "metadata": {},
   "outputs": [],
   "source": [
    "#preprocessing\n",
    "label_encoding = False \n",
    "impute_indicate = True\n",
    "impute_missing = False\n",
    "one_hot_encoding = True"
   ]
  },
  {
   "cell_type": "code",
   "execution_count": 882,
   "id": "a06efea2",
   "metadata": {},
   "outputs": [],
   "source": [
    "df_train = pd.read_csv(\"../data/bank_mkt_train.csv\")"
   ]
  },
  {
   "cell_type": "code",
   "execution_count": 883,
   "id": "df627921",
   "metadata": {},
   "outputs": [
    {
     "data": {
      "text/html": [
       "<div>\n",
       "<style scoped>\n",
       "    .dataframe tbody tr th:only-of-type {\n",
       "        vertical-align: middle;\n",
       "    }\n",
       "\n",
       "    .dataframe tbody tr th {\n",
       "        vertical-align: top;\n",
       "    }\n",
       "\n",
       "    .dataframe thead th {\n",
       "        text-align: right;\n",
       "    }\n",
       "</style>\n",
       "<table border=\"1\" class=\"dataframe\">\n",
       "  <thead>\n",
       "    <tr style=\"text-align: right;\">\n",
       "      <th></th>\n",
       "      <th>client_id</th>\n",
       "      <th>age</th>\n",
       "      <th>job</th>\n",
       "      <th>marital</th>\n",
       "      <th>education</th>\n",
       "      <th>default</th>\n",
       "      <th>housing</th>\n",
       "      <th>loan</th>\n",
       "      <th>contact</th>\n",
       "      <th>month</th>\n",
       "      <th>...</th>\n",
       "      <th>campaign</th>\n",
       "      <th>pdays</th>\n",
       "      <th>previous</th>\n",
       "      <th>poutcome</th>\n",
       "      <th>emp.var.rate</th>\n",
       "      <th>cons.price.idx</th>\n",
       "      <th>cons.conf.idx</th>\n",
       "      <th>euribor3m</th>\n",
       "      <th>nr.employed</th>\n",
       "      <th>subscribe</th>\n",
       "    </tr>\n",
       "  </thead>\n",
       "  <tbody>\n",
       "    <tr>\n",
       "      <th>0</th>\n",
       "      <td>29925</td>\n",
       "      <td>42.0</td>\n",
       "      <td>management</td>\n",
       "      <td>married</td>\n",
       "      <td>basic.9y</td>\n",
       "      <td>no</td>\n",
       "      <td>no</td>\n",
       "      <td>no</td>\n",
       "      <td>cellular</td>\n",
       "      <td>jul</td>\n",
       "      <td>...</td>\n",
       "      <td>1.0</td>\n",
       "      <td>999.0</td>\n",
       "      <td>0.0</td>\n",
       "      <td>nonexistent</td>\n",
       "      <td>1.4</td>\n",
       "      <td>93.918</td>\n",
       "      <td>-42.7</td>\n",
       "      <td>4.968</td>\n",
       "      <td>5228.1</td>\n",
       "      <td>0</td>\n",
       "    </tr>\n",
       "    <tr>\n",
       "      <th>1</th>\n",
       "      <td>37529</td>\n",
       "      <td>35.0</td>\n",
       "      <td>unemployed</td>\n",
       "      <td>married</td>\n",
       "      <td>university.degree</td>\n",
       "      <td>no</td>\n",
       "      <td>yes</td>\n",
       "      <td>no</td>\n",
       "      <td>telephone</td>\n",
       "      <td>jun</td>\n",
       "      <td>...</td>\n",
       "      <td>4.0</td>\n",
       "      <td>999.0</td>\n",
       "      <td>0.0</td>\n",
       "      <td>nonexistent</td>\n",
       "      <td>1.4</td>\n",
       "      <td>94.465</td>\n",
       "      <td>-41.8</td>\n",
       "      <td>4.960</td>\n",
       "      <td>5228.1</td>\n",
       "      <td>0</td>\n",
       "    </tr>\n",
       "    <tr>\n",
       "      <th>2</th>\n",
       "      <td>2757</td>\n",
       "      <td>44.0</td>\n",
       "      <td>technician</td>\n",
       "      <td>married</td>\n",
       "      <td>basic.9y</td>\n",
       "      <td>no</td>\n",
       "      <td>yes</td>\n",
       "      <td>yes</td>\n",
       "      <td>cellular</td>\n",
       "      <td>may</td>\n",
       "      <td>...</td>\n",
       "      <td>1.0</td>\n",
       "      <td>999.0</td>\n",
       "      <td>0.0</td>\n",
       "      <td>nonexistent</td>\n",
       "      <td>-1.8</td>\n",
       "      <td>92.893</td>\n",
       "      <td>-46.2</td>\n",
       "      <td>1.264</td>\n",
       "      <td>5099.1</td>\n",
       "      <td>0</td>\n",
       "    </tr>\n",
       "    <tr>\n",
       "      <th>3</th>\n",
       "      <td>9642</td>\n",
       "      <td>45.0</td>\n",
       "      <td>services</td>\n",
       "      <td>married</td>\n",
       "      <td>high.school</td>\n",
       "      <td>no</td>\n",
       "      <td>yes</td>\n",
       "      <td>no</td>\n",
       "      <td>cellular</td>\n",
       "      <td>apr</td>\n",
       "      <td>...</td>\n",
       "      <td>1.0</td>\n",
       "      <td>999.0</td>\n",
       "      <td>0.0</td>\n",
       "      <td>nonexistent</td>\n",
       "      <td>-1.8</td>\n",
       "      <td>93.075</td>\n",
       "      <td>-47.1</td>\n",
       "      <td>1.453</td>\n",
       "      <td>5099.1</td>\n",
       "      <td>0</td>\n",
       "    </tr>\n",
       "    <tr>\n",
       "      <th>4</th>\n",
       "      <td>14183</td>\n",
       "      <td>45.0</td>\n",
       "      <td>unknown</td>\n",
       "      <td>married</td>\n",
       "      <td>unknown</td>\n",
       "      <td>unknown</td>\n",
       "      <td>unknown</td>\n",
       "      <td>unknown</td>\n",
       "      <td>telephone</td>\n",
       "      <td>may</td>\n",
       "      <td>...</td>\n",
       "      <td>1.0</td>\n",
       "      <td>999.0</td>\n",
       "      <td>0.0</td>\n",
       "      <td>nonexistent</td>\n",
       "      <td>1.1</td>\n",
       "      <td>93.994</td>\n",
       "      <td>-36.4</td>\n",
       "      <td>4.859</td>\n",
       "      <td>5191.0</td>\n",
       "      <td>0</td>\n",
       "    </tr>\n",
       "  </tbody>\n",
       "</table>\n",
       "<p>5 rows × 21 columns</p>\n",
       "</div>"
      ],
      "text/plain": [
       "   client_id   age         job  marital          education  default  housing  \\\n",
       "0      29925  42.0  management  married           basic.9y       no       no   \n",
       "1      37529  35.0  unemployed  married  university.degree       no      yes   \n",
       "2       2757  44.0  technician  married           basic.9y       no      yes   \n",
       "3       9642  45.0    services  married        high.school       no      yes   \n",
       "4      14183  45.0     unknown  married            unknown  unknown  unknown   \n",
       "\n",
       "      loan    contact month  ... campaign  pdays  previous     poutcome  \\\n",
       "0       no   cellular   jul  ...      1.0  999.0       0.0  nonexistent   \n",
       "1       no  telephone   jun  ...      4.0  999.0       0.0  nonexistent   \n",
       "2      yes   cellular   may  ...      1.0  999.0       0.0  nonexistent   \n",
       "3       no   cellular   apr  ...      1.0  999.0       0.0  nonexistent   \n",
       "4  unknown  telephone   may  ...      1.0  999.0       0.0  nonexistent   \n",
       "\n",
       "  emp.var.rate  cons.price.idx  cons.conf.idx  euribor3m  nr.employed  \\\n",
       "0          1.4          93.918          -42.7      4.968       5228.1   \n",
       "1          1.4          94.465          -41.8      4.960       5228.1   \n",
       "2         -1.8          92.893          -46.2      1.264       5099.1   \n",
       "3         -1.8          93.075          -47.1      1.453       5099.1   \n",
       "4          1.1          93.994          -36.4      4.859       5191.0   \n",
       "\n",
       "   subscribe  \n",
       "0          0  \n",
       "1          0  \n",
       "2          0  \n",
       "3          0  \n",
       "4          0  \n",
       "\n",
       "[5 rows x 21 columns]"
      ]
     },
     "execution_count": 883,
     "metadata": {},
     "output_type": "execute_result"
    }
   ],
   "source": [
    "df_train.head()"
   ]
  },
  {
   "cell_type": "code",
   "execution_count": 884,
   "id": "e552d122",
   "metadata": {},
   "outputs": [],
   "source": [
    "df_test = pd.read_csv(\"../data/bank_mkt_test.csv\")"
   ]
  },
  {
   "cell_type": "code",
   "execution_count": 885,
   "id": "8f11fbb7",
   "metadata": {
    "scrolled": true
   },
   "outputs": [
    {
     "data": {
      "text/html": [
       "<div>\n",
       "<style scoped>\n",
       "    .dataframe tbody tr th:only-of-type {\n",
       "        vertical-align: middle;\n",
       "    }\n",
       "\n",
       "    .dataframe tbody tr th {\n",
       "        vertical-align: top;\n",
       "    }\n",
       "\n",
       "    .dataframe thead th {\n",
       "        text-align: right;\n",
       "    }\n",
       "</style>\n",
       "<table border=\"1\" class=\"dataframe\">\n",
       "  <thead>\n",
       "    <tr style=\"text-align: right;\">\n",
       "      <th></th>\n",
       "      <th>client_id</th>\n",
       "      <th>age</th>\n",
       "      <th>job</th>\n",
       "      <th>marital</th>\n",
       "      <th>education</th>\n",
       "      <th>default</th>\n",
       "      <th>housing</th>\n",
       "      <th>loan</th>\n",
       "      <th>contact</th>\n",
       "      <th>month</th>\n",
       "      <th>day_of_week</th>\n",
       "      <th>campaign</th>\n",
       "      <th>pdays</th>\n",
       "      <th>previous</th>\n",
       "      <th>poutcome</th>\n",
       "      <th>emp.var.rate</th>\n",
       "      <th>cons.price.idx</th>\n",
       "      <th>cons.conf.idx</th>\n",
       "      <th>euribor3m</th>\n",
       "      <th>nr.employed</th>\n",
       "    </tr>\n",
       "  </thead>\n",
       "  <tbody>\n",
       "    <tr>\n",
       "      <th>0</th>\n",
       "      <td>2986</td>\n",
       "      <td>53.0</td>\n",
       "      <td>technician</td>\n",
       "      <td>single</td>\n",
       "      <td>professional.course</td>\n",
       "      <td>no</td>\n",
       "      <td>no</td>\n",
       "      <td>no</td>\n",
       "      <td>cellular</td>\n",
       "      <td>jul</td>\n",
       "      <td>tue</td>\n",
       "      <td>1.0</td>\n",
       "      <td>999.0</td>\n",
       "      <td>0.0</td>\n",
       "      <td>nonexistent</td>\n",
       "      <td>1.4</td>\n",
       "      <td>93.918</td>\n",
       "      <td>-42.7</td>\n",
       "      <td>4.961</td>\n",
       "      <td>5228.1</td>\n",
       "    </tr>\n",
       "    <tr>\n",
       "      <th>1</th>\n",
       "      <td>29710</td>\n",
       "      <td>32.0</td>\n",
       "      <td>blue-collar</td>\n",
       "      <td>married</td>\n",
       "      <td>basic.6y</td>\n",
       "      <td>no</td>\n",
       "      <td>yes</td>\n",
       "      <td>no</td>\n",
       "      <td>telephone</td>\n",
       "      <td>jul</td>\n",
       "      <td>wed</td>\n",
       "      <td>2.0</td>\n",
       "      <td>999.0</td>\n",
       "      <td>0.0</td>\n",
       "      <td>nonexistent</td>\n",
       "      <td>1.4</td>\n",
       "      <td>93.918</td>\n",
       "      <td>-42.7</td>\n",
       "      <td>4.963</td>\n",
       "      <td>5228.1</td>\n",
       "    </tr>\n",
       "    <tr>\n",
       "      <th>2</th>\n",
       "      <td>38938</td>\n",
       "      <td>70.0</td>\n",
       "      <td>retired</td>\n",
       "      <td>married</td>\n",
       "      <td>high.school</td>\n",
       "      <td>no</td>\n",
       "      <td>yes</td>\n",
       "      <td>no</td>\n",
       "      <td>cellular</td>\n",
       "      <td>aug</td>\n",
       "      <td>tue</td>\n",
       "      <td>1.0</td>\n",
       "      <td>999.0</td>\n",
       "      <td>0.0</td>\n",
       "      <td>nonexistent</td>\n",
       "      <td>-2.9</td>\n",
       "      <td>92.201</td>\n",
       "      <td>-31.4</td>\n",
       "      <td>0.883</td>\n",
       "      <td>5076.2</td>\n",
       "    </tr>\n",
       "    <tr>\n",
       "      <th>3</th>\n",
       "      <td>31313</td>\n",
       "      <td>46.0</td>\n",
       "      <td>services</td>\n",
       "      <td>married</td>\n",
       "      <td>high.school</td>\n",
       "      <td>no</td>\n",
       "      <td>no</td>\n",
       "      <td>no</td>\n",
       "      <td>cellular</td>\n",
       "      <td>apr</td>\n",
       "      <td>mon</td>\n",
       "      <td>1.0</td>\n",
       "      <td>999.0</td>\n",
       "      <td>1.0</td>\n",
       "      <td>failure</td>\n",
       "      <td>-1.8</td>\n",
       "      <td>93.075</td>\n",
       "      <td>-47.1</td>\n",
       "      <td>1.405</td>\n",
       "      <td>5099.1</td>\n",
       "    </tr>\n",
       "    <tr>\n",
       "      <th>4</th>\n",
       "      <td>24173</td>\n",
       "      <td>35.0</td>\n",
       "      <td>technician</td>\n",
       "      <td>single</td>\n",
       "      <td>unknown</td>\n",
       "      <td>no</td>\n",
       "      <td>no</td>\n",
       "      <td>no</td>\n",
       "      <td>cellular</td>\n",
       "      <td>may</td>\n",
       "      <td>thu</td>\n",
       "      <td>1.0</td>\n",
       "      <td>999.0</td>\n",
       "      <td>1.0</td>\n",
       "      <td>failure</td>\n",
       "      <td>-1.8</td>\n",
       "      <td>92.893</td>\n",
       "      <td>-46.2</td>\n",
       "      <td>1.266</td>\n",
       "      <td>5099.1</td>\n",
       "    </tr>\n",
       "  </tbody>\n",
       "</table>\n",
       "</div>"
      ],
      "text/plain": [
       "   client_id   age          job  marital            education default housing  \\\n",
       "0       2986  53.0   technician   single  professional.course      no      no   \n",
       "1      29710  32.0  blue-collar  married             basic.6y      no     yes   \n",
       "2      38938  70.0      retired  married          high.school      no     yes   \n",
       "3      31313  46.0     services  married          high.school      no      no   \n",
       "4      24173  35.0   technician   single              unknown      no      no   \n",
       "\n",
       "  loan    contact month day_of_week  campaign  pdays  previous     poutcome  \\\n",
       "0   no   cellular   jul         tue       1.0  999.0       0.0  nonexistent   \n",
       "1   no  telephone   jul         wed       2.0  999.0       0.0  nonexistent   \n",
       "2   no   cellular   aug         tue       1.0  999.0       0.0  nonexistent   \n",
       "3   no   cellular   apr         mon       1.0  999.0       1.0      failure   \n",
       "4   no   cellular   may         thu       1.0  999.0       1.0      failure   \n",
       "\n",
       "   emp.var.rate  cons.price.idx  cons.conf.idx  euribor3m  nr.employed  \n",
       "0           1.4          93.918          -42.7      4.961       5228.1  \n",
       "1           1.4          93.918          -42.7      4.963       5228.1  \n",
       "2          -2.9          92.201          -31.4      0.883       5076.2  \n",
       "3          -1.8          93.075          -47.1      1.405       5099.1  \n",
       "4          -1.8          92.893          -46.2      1.266       5099.1  "
      ]
     },
     "execution_count": 885,
     "metadata": {},
     "output_type": "execute_result"
    }
   ],
   "source": [
    "df_test.head()"
   ]
  },
  {
   "cell_type": "code",
   "execution_count": 886,
   "id": "d7ff9c36",
   "metadata": {
    "scrolled": true
   },
   "outputs": [
    {
     "name": "stdout",
     "output_type": "stream",
     "text": [
      "<class 'pandas.core.frame.DataFrame'>\n",
      "RangeIndex: 20000 entries, 0 to 19999\n",
      "Data columns (total 21 columns):\n",
      " #   Column          Non-Null Count  Dtype  \n",
      "---  ------          --------------  -----  \n",
      " 0   client_id       20000 non-null  int64  \n",
      " 1   age             19798 non-null  float64\n",
      " 2   job             19839 non-null  object \n",
      " 3   marital         19801 non-null  object \n",
      " 4   education       19830 non-null  object \n",
      " 5   default         19786 non-null  object \n",
      " 6   housing         19805 non-null  object \n",
      " 7   loan            19781 non-null  object \n",
      " 8   contact         19783 non-null  object \n",
      " 9   month           19801 non-null  object \n",
      " 10  day_of_week     19815 non-null  object \n",
      " 11  campaign        19797 non-null  float64\n",
      " 12  pdays           19815 non-null  float64\n",
      " 13  previous        19791 non-null  float64\n",
      " 14  poutcome        19825 non-null  object \n",
      " 15  emp.var.rate    19835 non-null  float64\n",
      " 16  cons.price.idx  19819 non-null  float64\n",
      " 17  cons.conf.idx   19803 non-null  float64\n",
      " 18  euribor3m       19796 non-null  float64\n",
      " 19  nr.employed     19816 non-null  float64\n",
      " 20  subscribe       20000 non-null  int64  \n",
      "dtypes: float64(9), int64(2), object(10)\n",
      "memory usage: 3.2+ MB\n"
     ]
    }
   ],
   "source": [
    "df_train.info()"
   ]
  },
  {
   "cell_type": "code",
   "execution_count": 887,
   "id": "28e50a57",
   "metadata": {
    "scrolled": true
   },
   "outputs": [
    {
     "name": "stdout",
     "output_type": "stream",
     "text": [
      "<class 'pandas.core.frame.DataFrame'>\n",
      "RangeIndex: 10000 entries, 0 to 9999\n",
      "Data columns (total 20 columns):\n",
      " #   Column          Non-Null Count  Dtype  \n",
      "---  ------          --------------  -----  \n",
      " 0   client_id       10000 non-null  int64  \n",
      " 1   age             9895 non-null   float64\n",
      " 2   job             9889 non-null   object \n",
      " 3   marital         9905 non-null   object \n",
      " 4   education       9903 non-null   object \n",
      " 5   default         9876 non-null   object \n",
      " 6   housing         9897 non-null   object \n",
      " 7   loan            9891 non-null   object \n",
      " 8   contact         9913 non-null   object \n",
      " 9   month           9880 non-null   object \n",
      " 10  day_of_week     9894 non-null   object \n",
      " 11  campaign        9912 non-null   float64\n",
      " 12  pdays           9900 non-null   float64\n",
      " 13  previous        9895 non-null   float64\n",
      " 14  poutcome        9895 non-null   object \n",
      " 15  emp.var.rate    9895 non-null   float64\n",
      " 16  cons.price.idx  9899 non-null   float64\n",
      " 17  cons.conf.idx   9896 non-null   float64\n",
      " 18  euribor3m       9912 non-null   float64\n",
      " 19  nr.employed     9878 non-null   float64\n",
      "dtypes: float64(9), int64(1), object(10)\n",
      "memory usage: 1.5+ MB\n"
     ]
    }
   ],
   "source": [
    "df_test.info()"
   ]
  },
  {
   "cell_type": "code",
   "execution_count": 888,
   "id": "8e48cfab",
   "metadata": {
    "scrolled": true
   },
   "outputs": [
    {
     "data": {
      "text/plain": [
       "<AxesSubplot:>"
      ]
     },
     "execution_count": 888,
     "metadata": {},
     "output_type": "execute_result"
    },
    {
     "data": {
      "image/png": "[encoded data removed]",
      "text/plain": [
       "<Figure size 1800x720 with 3 Axes>"
      ]
     },
     "metadata": {
      "needs_background": "light"
     },
     "output_type": "display_data"
    }
   ],
   "source": [
    "msno.bar(df_train)"
   ]
  },
  {
   "cell_type": "code",
   "execution_count": 889,
   "id": "a3b3a561",
   "metadata": {
    "scrolled": true
   },
   "outputs": [
    {
     "data": {
      "text/plain": [
       "<AxesSubplot:>"
      ]
     },
     "execution_count": 889,
     "metadata": {},
     "output_type": "execute_result"
    },
    {
     "data": {
      "image/png": "[encoded data removed]",
      "text/plain": [
       "<Figure size 1800x720 with 3 Axes>"
      ]
     },
     "metadata": {
      "needs_background": "light"
     },
     "output_type": "display_data"
    }
   ],
   "source": [
    "msno.bar(df_test)"
   ]
  },
  {
   "cell_type": "markdown",
   "id": "70029f89",
   "metadata": {},
   "source": [
    "## Examine Feature Importance"
   ]
  },
  {
   "cell_type": "code",
   "execution_count": 890,
   "id": "3aa3ab0c",
   "metadata": {
    "scrolled": false
   },
   "outputs": [
    {
     "data": {
      "text/plain": [
       "Index(['client_id', 'age', 'job', 'marital', 'education', 'default', 'housing',\n",
       "       'loan', 'contact', 'month', 'day_of_week', 'campaign', 'pdays',\n",
       "       'previous', 'poutcome', 'emp.var.rate', 'cons.price.idx',\n",
       "       'cons.conf.idx', 'euribor3m', 'nr.employed', 'subscribe'],\n",
       "      dtype='object')"
      ]
     },
     "execution_count": 890,
     "metadata": {},
     "output_type": "execute_result"
    }
   ],
   "source": [
    "df_train.columns"
   ]
  },
  {
   "cell_type": "code",
   "execution_count": 891,
   "id": "236cdcac",
   "metadata": {
    "scrolled": true
   },
   "outputs": [
    {
     "data": {
      "text/plain": [
       "client_id           int64\n",
       "age               float64\n",
       "job                object\n",
       "marital            object\n",
       "education          object\n",
       "default            object\n",
       "housing            object\n",
       "loan               object\n",
       "contact            object\n",
       "month              object\n",
       "day_of_week        object\n",
       "campaign          float64\n",
       "pdays             float64\n",
       "previous          float64\n",
       "poutcome           object\n",
       "emp.var.rate      float64\n",
       "cons.price.idx    float64\n",
       "cons.conf.idx     float64\n",
       "euribor3m         float64\n",
       "nr.employed       float64\n",
       "subscribe           int64\n",
       "dtype: object"
      ]
     },
     "execution_count": 891,
     "metadata": {},
     "output_type": "execute_result"
    }
   ],
   "source": [
    "df_train.dtypes"
   ]
  },
  {
   "cell_type": "code",
   "execution_count": 892,
   "id": "4b09c88e",
   "metadata": {},
   "outputs": [],
   "source": [
    "#cat_cols = []\n",
    "#numeric_cols = []\n",
    "\n",
    "#for col in df_train.columns:\n",
    "#    if df_train[col].dtype == 'object':\n",
    "#        cat_cols.append(col)\n",
    "#    else:\n",
    "#        numeric_cols.append(col)"
   ]
  },
  {
   "cell_type": "code",
   "execution_count": 893,
   "id": "d0e4b7a6",
   "metadata": {},
   "outputs": [],
   "source": [
    "# List comprehension categoricals\n",
    "cat_cols = [col for col in df_train.columns if df_train[col].dtype == 'object']\n",
    "\n",
    "# List comprehension numerics\n",
    "numeric_cols = [col for col in df_train.columns if col not in cat_cols and col != 'subscribe']"
   ]
  },
  {
   "cell_type": "code",
   "execution_count": 894,
   "id": "a46d6e39",
   "metadata": {
    "scrolled": false
   },
   "outputs": [
    {
     "data": {
      "text/plain": [
       "['client_id',\n",
       " 'age',\n",
       " 'campaign',\n",
       " 'pdays',\n",
       " 'previous',\n",
       " 'emp.var.rate',\n",
       " 'cons.price.idx',\n",
       " 'cons.conf.idx',\n",
       " 'euribor3m',\n",
       " 'nr.employed']"
      ]
     },
     "execution_count": 894,
     "metadata": {},
     "output_type": "execute_result"
    }
   ],
   "source": [
    "numeric_cols"
   ]
  },
  {
   "cell_type": "code",
   "execution_count": 895,
   "id": "cc13fd51",
   "metadata": {
    "scrolled": true
   },
   "outputs": [
    {
     "data": {
      "image/png": "[encoded data removed]",
      "text/plain": [
       "<Figure size 432x288 with 1 Axes>"
      ]
     },
     "metadata": {
      "needs_background": "light"
     },
     "output_type": "display_data"
    },
    {
     "data": {
      "image/png": "[encoded data removed]",
      "text/plain": [
       "<Figure size 432x288 with 1 Axes>"
      ]
     },
     "metadata": {
      "needs_background": "light"
     },
     "output_type": "display_data"
    },
    {
     "data": {
      "image/png": "[encoded data removed]",
      "text/plain": [
       "<Figure size 432x288 with 1 Axes>"
      ]
     },
     "metadata": {
      "needs_background": "light"
     },
     "output_type": "display_data"
    },
    {
     "data": {
      "image/png": "[encoded data removed]",
      "text/plain": [
       "<Figure size 432x288 with 1 Axes>"
      ]
     },
     "metadata": {
      "needs_background": "light"
     },
     "output_type": "display_data"
    },
    {
     "data": {
      "image/png": "[encoded data removed]",
      "text/plain": [
       "<Figure size 432x288 with 1 Axes>"
      ]
     },
     "metadata": {
      "needs_background": "light"
     },
     "output_type": "display_data"
    },
    {
     "data": {
      "image/png": "[encoded data removed]",
      "text/plain": [
       "<Figure size 432x288 with 1 Axes>"
      ]
     },
     "metadata": {
      "needs_background": "light"
     },
     "output_type": "display_data"
    },
    {
     "data": {
      "image/png": "[encoded data removed]",
      "text/plain": [
       "<Figure size 432x288 with 1 Axes>"
      ]
     },
     "metadata": {
      "needs_background": "light"
     },
     "output_type": "display_data"
    },
    {
     "data": {
      "image/png": "[encoded data removed]",
      "text/plain": [
       "<Figure size 432x288 with 1 Axes>"
      ]
     },
     "metadata": {
      "needs_background": "light"
     },
     "output_type": "display_data"
    },
    {
     "data": {
      "image/png": "[encoded data removed]",
      "text/plain": [
       "<Figure size 432x288 with 1 Axes>"
      ]
     },
     "metadata": {
      "needs_background": "light"
     },
     "output_type": "display_data"
    },
    {
     "data": {
      "image/png": "[encoded data removed]",
      "text/plain": [
       "<Figure size 432x288 with 1 Axes>"
      ]
     },
     "metadata": {
      "needs_background": "light"
     },
     "output_type": "display_data"
    }
   ],
   "source": [
    "for col in numeric_cols:\n",
    "    plt.hist(df_train[col])\n",
    "    plt.title(col)\n",
    "    plt.show()"
   ]
  },
  {
   "cell_type": "code",
   "execution_count": 896,
   "id": "60d951f2",
   "metadata": {
    "scrolled": false
   },
   "outputs": [
    {
     "data": {
      "text/plain": [
       "['job',\n",
       " 'marital',\n",
       " 'education',\n",
       " 'default',\n",
       " 'housing',\n",
       " 'loan',\n",
       " 'contact',\n",
       " 'month',\n",
       " 'day_of_week',\n",
       " 'poutcome']"
      ]
     },
     "execution_count": 896,
     "metadata": {},
     "output_type": "execute_result"
    }
   ],
   "source": [
    "cat_cols"
   ]
  },
  {
   "cell_type": "code",
   "execution_count": 897,
   "id": "6a75a2c5",
   "metadata": {
    "scrolled": true
   },
   "outputs": [
    {
     "data": {
      "text/plain": [
       "['client_id',\n",
       " 'age',\n",
       " 'campaign',\n",
       " 'pdays',\n",
       " 'previous',\n",
       " 'emp.var.rate',\n",
       " 'cons.price.idx',\n",
       " 'cons.conf.idx',\n",
       " 'euribor3m',\n",
       " 'nr.employed']"
      ]
     },
     "execution_count": 897,
     "metadata": {},
     "output_type": "execute_result"
    }
   ],
   "source": [
    "numeric_cols"
   ]
  },
  {
   "cell_type": "code",
   "execution_count": 898,
   "id": "07a3a400",
   "metadata": {},
   "outputs": [],
   "source": [
    "if impute_missing == True:\n",
    "    print('ran')\n",
    "    df_train[cat_cols] = df_train[cat_cols].fillna('Missing')\n",
    "    df_test[cat_cols] = df_test[cat_cols].fillna('Missing')\n",
    "    imp_mean = SimpleImputer(missing_values=np.nan, strategy='mean')\n",
    "    imp_mean=imp_mean.fit(df_train[numeric_cols])\n",
    "    df_train[numeric_cols] = imp_mean.transform(df_train[numeric_cols])\n",
    "    imp_mean=imp_mean.fit(df_test[numeric_cols])\n",
    "    df_test[numeric_cols] = imp_mean.transform(df_test[numeric_cols])"
   ]
  },
  {
   "cell_type": "code",
   "execution_count": 899,
   "id": "31b246f3",
   "metadata": {},
   "outputs": [],
   "source": [
    "if label_encoding == True:\n",
    "    print('ran')\n",
    "    df_train = label_encoder(df_train,cat_cols)\n",
    "    df_test = label_encoder(df_test,cat_cols)"
   ]
  },
  {
   "cell_type": "code",
   "execution_count": 900,
   "id": "eb9a7d22",
   "metadata": {
    "scrolled": true
   },
   "outputs": [
    {
     "name": "stdout",
     "output_type": "stream",
     "text": [
      "ran\n"
     ]
    }
   ],
   "source": [
    "if one_hot_encoding == True:\n",
    "    print('ran')\n",
    "    #train\n",
    "    one_hot_encoder = OneHotEncoder(sparse=False)\n",
    "    train_encoded = one_hot_encoder.fit_transform(df_train[cat_cols])\n",
    "    train_encoded = pd.DataFrame(train_encoded)\n",
    "    train_encoded.columns = one_hot_encoder.get_feature_names_out()\n",
    "    df_train.drop(columns=cat_cols,inplace=True)\n",
    "    df_train = pd.concat([df_train,train_encoded],axis=1).reset_index()\n",
    "    #test\n",
    "    test_encoded = one_hot_encoder.fit_transform(df_test[cat_cols])\n",
    "    test_encoded = pd.DataFrame(test_encoded)\n",
    "    test_encoded.columns = one_hot_encoder.get_feature_names_out()\n",
    "    df_test.drop(columns=cat_cols,inplace=True)\n",
    "    df_test = pd.concat([df_test,test_encoded],axis=1).reset_index()"
   ]
  },
  {
   "cell_type": "code",
   "execution_count": 901,
   "id": "e07c9698",
   "metadata": {
    "scrolled": true
   },
   "outputs": [
    {
     "data": {
      "text/html": [
       "<div>\n",
       "<style scoped>\n",
       "    .dataframe tbody tr th:only-of-type {\n",
       "        vertical-align: middle;\n",
       "    }\n",
       "\n",
       "    .dataframe tbody tr th {\n",
       "        vertical-align: top;\n",
       "    }\n",
       "\n",
       "    .dataframe thead th {\n",
       "        text-align: right;\n",
       "    }\n",
       "</style>\n",
       "<table border=\"1\" class=\"dataframe\">\n",
       "  <thead>\n",
       "    <tr style=\"text-align: right;\">\n",
       "      <th></th>\n",
       "      <th>index</th>\n",
       "      <th>client_id</th>\n",
       "      <th>age</th>\n",
       "      <th>campaign</th>\n",
       "      <th>pdays</th>\n",
       "      <th>previous</th>\n",
       "      <th>emp.var.rate</th>\n",
       "      <th>cons.price.idx</th>\n",
       "      <th>cons.conf.idx</th>\n",
       "      <th>euribor3m</th>\n",
       "      <th>...</th>\n",
       "      <th>day_of_week_fri</th>\n",
       "      <th>day_of_week_mon</th>\n",
       "      <th>day_of_week_thu</th>\n",
       "      <th>day_of_week_tue</th>\n",
       "      <th>day_of_week_wed</th>\n",
       "      <th>day_of_week_nan</th>\n",
       "      <th>poutcome_failure</th>\n",
       "      <th>poutcome_nonexistent</th>\n",
       "      <th>poutcome_success</th>\n",
       "      <th>poutcome_nan</th>\n",
       "    </tr>\n",
       "  </thead>\n",
       "  <tbody>\n",
       "    <tr>\n",
       "      <th>0</th>\n",
       "      <td>0</td>\n",
       "      <td>29925</td>\n",
       "      <td>42.0</td>\n",
       "      <td>1.0</td>\n",
       "      <td>999.0</td>\n",
       "      <td>0.0</td>\n",
       "      <td>1.4</td>\n",
       "      <td>93.918</td>\n",
       "      <td>-42.7</td>\n",
       "      <td>4.968</td>\n",
       "      <td>...</td>\n",
       "      <td>0.0</td>\n",
       "      <td>0.0</td>\n",
       "      <td>1.0</td>\n",
       "      <td>0.0</td>\n",
       "      <td>0.0</td>\n",
       "      <td>0.0</td>\n",
       "      <td>0.0</td>\n",
       "      <td>1.0</td>\n",
       "      <td>0.0</td>\n",
       "      <td>0.0</td>\n",
       "    </tr>\n",
       "    <tr>\n",
       "      <th>1</th>\n",
       "      <td>1</td>\n",
       "      <td>37529</td>\n",
       "      <td>35.0</td>\n",
       "      <td>4.0</td>\n",
       "      <td>999.0</td>\n",
       "      <td>0.0</td>\n",
       "      <td>1.4</td>\n",
       "      <td>94.465</td>\n",
       "      <td>-41.8</td>\n",
       "      <td>4.960</td>\n",
       "      <td>...</td>\n",
       "      <td>0.0</td>\n",
       "      <td>1.0</td>\n",
       "      <td>0.0</td>\n",
       "      <td>0.0</td>\n",
       "      <td>0.0</td>\n",
       "      <td>0.0</td>\n",
       "      <td>0.0</td>\n",
       "      <td>1.0</td>\n",
       "      <td>0.0</td>\n",
       "      <td>0.0</td>\n",
       "    </tr>\n",
       "    <tr>\n",
       "      <th>2</th>\n",
       "      <td>2</td>\n",
       "      <td>2757</td>\n",
       "      <td>44.0</td>\n",
       "      <td>1.0</td>\n",
       "      <td>999.0</td>\n",
       "      <td>0.0</td>\n",
       "      <td>-1.8</td>\n",
       "      <td>92.893</td>\n",
       "      <td>-46.2</td>\n",
       "      <td>1.264</td>\n",
       "      <td>...</td>\n",
       "      <td>0.0</td>\n",
       "      <td>1.0</td>\n",
       "      <td>0.0</td>\n",
       "      <td>0.0</td>\n",
       "      <td>0.0</td>\n",
       "      <td>0.0</td>\n",
       "      <td>0.0</td>\n",
       "      <td>1.0</td>\n",
       "      <td>0.0</td>\n",
       "      <td>0.0</td>\n",
       "    </tr>\n",
       "    <tr>\n",
       "      <th>3</th>\n",
       "      <td>3</td>\n",
       "      <td>9642</td>\n",
       "      <td>45.0</td>\n",
       "      <td>1.0</td>\n",
       "      <td>999.0</td>\n",
       "      <td>0.0</td>\n",
       "      <td>-1.8</td>\n",
       "      <td>93.075</td>\n",
       "      <td>-47.1</td>\n",
       "      <td>1.453</td>\n",
       "      <td>...</td>\n",
       "      <td>0.0</td>\n",
       "      <td>0.0</td>\n",
       "      <td>0.0</td>\n",
       "      <td>1.0</td>\n",
       "      <td>0.0</td>\n",
       "      <td>0.0</td>\n",
       "      <td>0.0</td>\n",
       "      <td>1.0</td>\n",
       "      <td>0.0</td>\n",
       "      <td>0.0</td>\n",
       "    </tr>\n",
       "    <tr>\n",
       "      <th>4</th>\n",
       "      <td>4</td>\n",
       "      <td>14183</td>\n",
       "      <td>45.0</td>\n",
       "      <td>1.0</td>\n",
       "      <td>999.0</td>\n",
       "      <td>0.0</td>\n",
       "      <td>1.1</td>\n",
       "      <td>93.994</td>\n",
       "      <td>-36.4</td>\n",
       "      <td>4.859</td>\n",
       "      <td>...</td>\n",
       "      <td>0.0</td>\n",
       "      <td>0.0</td>\n",
       "      <td>0.0</td>\n",
       "      <td>0.0</td>\n",
       "      <td>1.0</td>\n",
       "      <td>0.0</td>\n",
       "      <td>0.0</td>\n",
       "      <td>1.0</td>\n",
       "      <td>0.0</td>\n",
       "      <td>0.0</td>\n",
       "    </tr>\n",
       "  </tbody>\n",
       "</table>\n",
       "<p>5 rows × 75 columns</p>\n",
       "</div>"
      ],
      "text/plain": [
       "   index  client_id   age  campaign  pdays  previous  emp.var.rate  \\\n",
       "0      0      29925  42.0       1.0  999.0       0.0           1.4   \n",
       "1      1      37529  35.0       4.0  999.0       0.0           1.4   \n",
       "2      2       2757  44.0       1.0  999.0       0.0          -1.8   \n",
       "3      3       9642  45.0       1.0  999.0       0.0          -1.8   \n",
       "4      4      14183  45.0       1.0  999.0       0.0           1.1   \n",
       "\n",
       "   cons.price.idx  cons.conf.idx  euribor3m  ...  day_of_week_fri  \\\n",
       "0          93.918          -42.7      4.968  ...              0.0   \n",
       "1          94.465          -41.8      4.960  ...              0.0   \n",
       "2          92.893          -46.2      1.264  ...              0.0   \n",
       "3          93.075          -47.1      1.453  ...              0.0   \n",
       "4          93.994          -36.4      4.859  ...              0.0   \n",
       "\n",
       "   day_of_week_mon  day_of_week_thu  day_of_week_tue  day_of_week_wed  \\\n",
       "0              0.0              1.0              0.0              0.0   \n",
       "1              1.0              0.0              0.0              0.0   \n",
       "2              1.0              0.0              0.0              0.0   \n",
       "3              0.0              0.0              1.0              0.0   \n",
       "4              0.0              0.0              0.0              1.0   \n",
       "\n",
       "   day_of_week_nan  poutcome_failure  poutcome_nonexistent  poutcome_success  \\\n",
       "0              0.0               0.0                   1.0               0.0   \n",
       "1              0.0               0.0                   1.0               0.0   \n",
       "2              0.0               0.0                   1.0               0.0   \n",
       "3              0.0               0.0                   1.0               0.0   \n",
       "4              0.0               0.0                   1.0               0.0   \n",
       "\n",
       "   poutcome_nan  \n",
       "0           0.0  \n",
       "1           0.0  \n",
       "2           0.0  \n",
       "3           0.0  \n",
       "4           0.0  \n",
       "\n",
       "[5 rows x 75 columns]"
      ]
     },
     "execution_count": 901,
     "metadata": {},
     "output_type": "execute_result"
    }
   ],
   "source": [
    "df_train.head()"
   ]
  },
  {
   "cell_type": "code",
   "execution_count": 902,
   "id": "d8caee09",
   "metadata": {
    "scrolled": true
   },
   "outputs": [
    {
     "data": {
      "text/plain": [
       "Index(['index', 'client_id', 'age', 'campaign', 'pdays', 'previous',\n",
       "       'emp.var.rate', 'cons.price.idx', 'cons.conf.idx', 'euribor3m',\n",
       "       'nr.employed', 'job_admin.', 'job_blue-collar', 'job_entrepreneur',\n",
       "       'job_housemaid', 'job_management', 'job_retired', 'job_self-employed',\n",
       "       'job_services', 'job_student', 'job_technician', 'job_unemployed',\n",
       "       'job_unknown', 'job_nan', 'marital_divorced', 'marital_married',\n",
       "       'marital_single', 'marital_unknown', 'marital_nan',\n",
       "       'education_basic.4y', 'education_basic.6y', 'education_basic.9y',\n",
       "       'education_high.school', 'education_illiterate',\n",
       "       'education_professional.course', 'education_university.degree',\n",
       "       'education_unknown', 'education_nan', 'default_no', 'default_unknown',\n",
       "       'default_nan', 'housing_no', 'housing_unknown', 'housing_yes',\n",
       "       'housing_nan', 'loan_no', 'loan_unknown', 'loan_yes', 'loan_nan',\n",
       "       'contact_cellular', 'contact_telephone', 'contact_nan', 'month_apr',\n",
       "       'month_aug', 'month_dec', 'month_jul', 'month_jun', 'month_mar',\n",
       "       'month_may', 'month_nov', 'month_oct', 'month_sep', 'month_nan',\n",
       "       'day_of_week_fri', 'day_of_week_mon', 'day_of_week_thu',\n",
       "       'day_of_week_tue', 'day_of_week_wed', 'day_of_week_nan',\n",
       "       'poutcome_failure', 'poutcome_nonexistent', 'poutcome_success',\n",
       "       'poutcome_nan'],\n",
       "      dtype='object')"
      ]
     },
     "execution_count": 902,
     "metadata": {},
     "output_type": "execute_result"
    }
   ],
   "source": [
    "df_test.columns"
   ]
  },
  {
   "cell_type": "code",
   "execution_count": 903,
   "id": "01173bc5",
   "metadata": {},
   "outputs": [
    {
     "name": "stdout",
     "output_type": "stream",
     "text": [
      "ran\n"
     ]
    }
   ],
   "source": [
    "if impute_indicate == True:\n",
    "    print('ran')\n",
    "    df_train, df_test = impute_indicator(df_train,df_test)"
   ]
  },
  {
   "cell_type": "code",
   "execution_count": 904,
   "id": "02332506",
   "metadata": {},
   "outputs": [],
   "source": [
    "X = df_train[[col for col in df_train.columns]]\n",
    "y = df_train.subscribe"
   ]
  },
  {
   "cell_type": "code",
   "execution_count": 905,
   "id": "ee86b344",
   "metadata": {},
   "outputs": [],
   "source": [
    "#train test split\n",
    "X_train, X_test, y_train, y_test = train_test_split(X,y,test_size=0.33)"
   ]
  },
  {
   "cell_type": "code",
   "execution_count": 906,
   "id": "7c9ab38d",
   "metadata": {
    "scrolled": false
   },
   "outputs": [],
   "source": [
    "clf.fit(X_train,y_train)\n",
    "\n",
    "preds = clf.predict(X_test)"
   ]
  },
  {
   "cell_type": "code",
   "execution_count": 907,
   "id": "96f5a55b",
   "metadata": {
    "scrolled": true
   },
   "outputs": [
    {
     "data": {
      "text/plain": [
       "1.0"
      ]
     },
     "execution_count": 907,
     "metadata": {},
     "output_type": "execute_result"
    }
   ],
   "source": [
    "accuracy_score(y_test, preds)"
   ]
  },
  {
   "cell_type": "markdown",
   "id": "2bc4f16b",
   "metadata": {},
   "source": [
    "### preprocessing for entire train and test sets"
   ]
  },
  {
   "cell_type": "code",
   "execution_count": 908,
   "id": "13e24dd1",
   "metadata": {
    "scrolled": true
   },
   "outputs": [
    {
     "data": {
      "text/plain": [
       "0    17729\n",
       "1     2271\n",
       "Name: subscribe, dtype: int64"
      ]
     },
     "execution_count": 908,
     "metadata": {},
     "output_type": "execute_result"
    }
   ],
   "source": [
    "df_train.subscribe.value_counts()"
   ]
  },
  {
   "cell_type": "markdown",
   "id": "16fc5099",
   "metadata": {},
   "source": [
    "## Imputation"
   ]
  },
  {
   "cell_type": "code",
   "execution_count": 909,
   "id": "6d1c4c81",
   "metadata": {},
   "outputs": [
    {
     "name": "stdout",
     "output_type": "stream",
     "text": [
      "<class 'pandas.core.frame.DataFrame'>\n",
      "RangeIndex: 20000 entries, 0 to 19999\n",
      "Data columns (total 84 columns):\n",
      " #   Column                         Non-Null Count  Dtype  \n",
      "---  ------                         --------------  -----  \n",
      " 0   index                          20000 non-null  int64  \n",
      " 1   client_id                      20000 non-null  int64  \n",
      " 2   age                            20000 non-null  float64\n",
      " 3   campaign                       20000 non-null  float64\n",
      " 4   pdays                          20000 non-null  float64\n",
      " 5   previous                       20000 non-null  float64\n",
      " 6   emp.var.rate                   20000 non-null  float64\n",
      " 7   cons.price.idx                 20000 non-null  float64\n",
      " 8   cons.conf.idx                  20000 non-null  float64\n",
      " 9   euribor3m                      20000 non-null  float64\n",
      " 10  nr.employed                    20000 non-null  float64\n",
      " 11  subscribe                      20000 non-null  int64  \n",
      " 12  job_admin.                     20000 non-null  float64\n",
      " 13  job_blue-collar                20000 non-null  float64\n",
      " 14  job_entrepreneur               20000 non-null  float64\n",
      " 15  job_housemaid                  20000 non-null  float64\n",
      " 16  job_management                 20000 non-null  float64\n",
      " 17  job_retired                    20000 non-null  float64\n",
      " 18  job_self-employed              20000 non-null  float64\n",
      " 19  job_services                   20000 non-null  float64\n",
      " 20  job_student                    20000 non-null  float64\n",
      " 21  job_technician                 20000 non-null  float64\n",
      " 22  job_unemployed                 20000 non-null  float64\n",
      " 23  job_unknown                    20000 non-null  float64\n",
      " 24  job_nan                        20000 non-null  float64\n",
      " 25  marital_divorced               20000 non-null  float64\n",
      " 26  marital_married                20000 non-null  float64\n",
      " 27  marital_single                 20000 non-null  float64\n",
      " 28  marital_unknown                20000 non-null  float64\n",
      " 29  marital_nan                    20000 non-null  float64\n",
      " 30  education_basic.4y             20000 non-null  float64\n",
      " 31  education_basic.6y             20000 non-null  float64\n",
      " 32  education_basic.9y             20000 non-null  float64\n",
      " 33  education_high.school          20000 non-null  float64\n",
      " 34  education_illiterate           20000 non-null  float64\n",
      " 35  education_professional.course  20000 non-null  float64\n",
      " 36  education_university.degree    20000 non-null  float64\n",
      " 37  education_unknown              20000 non-null  float64\n",
      " 38  education_nan                  20000 non-null  float64\n",
      " 39  default_no                     20000 non-null  float64\n",
      " 40  default_unknown                20000 non-null  float64\n",
      " 41  default_yes                    20000 non-null  float64\n",
      " 42  default_nan                    20000 non-null  float64\n",
      " 43  housing_no                     20000 non-null  float64\n",
      " 44  housing_unknown                20000 non-null  float64\n",
      " 45  housing_yes                    20000 non-null  float64\n",
      " 46  housing_nan                    20000 non-null  float64\n",
      " 47  loan_no                        20000 non-null  float64\n",
      " 48  loan_unknown                   20000 non-null  float64\n",
      " 49  loan_yes                       20000 non-null  float64\n",
      " 50  loan_nan                       20000 non-null  float64\n",
      " 51  contact_cellular               20000 non-null  float64\n",
      " 52  contact_telephone              20000 non-null  float64\n",
      " 53  contact_nan                    20000 non-null  float64\n",
      " 54  month_apr                      20000 non-null  float64\n",
      " 55  month_aug                      20000 non-null  float64\n",
      " 56  month_dec                      20000 non-null  float64\n",
      " 57  month_jul                      20000 non-null  float64\n",
      " 58  month_jun                      20000 non-null  float64\n",
      " 59  month_mar                      20000 non-null  float64\n",
      " 60  month_may                      20000 non-null  float64\n",
      " 61  month_nov                      20000 non-null  float64\n",
      " 62  month_oct                      20000 non-null  float64\n",
      " 63  month_sep                      20000 non-null  float64\n",
      " 64  month_nan                      20000 non-null  float64\n",
      " 65  day_of_week_fri                20000 non-null  float64\n",
      " 66  day_of_week_mon                20000 non-null  float64\n",
      " 67  day_of_week_thu                20000 non-null  float64\n",
      " 68  day_of_week_tue                20000 non-null  float64\n",
      " 69  day_of_week_wed                20000 non-null  float64\n",
      " 70  day_of_week_nan                20000 non-null  float64\n",
      " 71  poutcome_failure               20000 non-null  float64\n",
      " 72  poutcome_nonexistent           20000 non-null  float64\n",
      " 73  poutcome_success               20000 non-null  float64\n",
      " 74  poutcome_nan                   20000 non-null  float64\n",
      " 75  age_indicator                  20000 non-null  int64  \n",
      " 76  campaign_indicator             20000 non-null  int64  \n",
      " 77  pdays_indicator                20000 non-null  int64  \n",
      " 78  previous_indicator             20000 non-null  int64  \n",
      " 79  emp.var.rate_indicator         20000 non-null  int64  \n",
      " 80  cons.price.idx_indicator       20000 non-null  int64  \n",
      " 81  cons.conf.idx_indicator        20000 non-null  int64  \n",
      " 82  euribor3m_indicator            20000 non-null  int64  \n",
      " 83  nr.employed_indicator          20000 non-null  int64  \n",
      "dtypes: float64(72), int64(12)\n",
      "memory usage: 12.8 MB\n"
     ]
    }
   ],
   "source": [
    "df_train.info()"
   ]
  },
  {
   "cell_type": "code",
   "execution_count": 910,
   "id": "be985625",
   "metadata": {},
   "outputs": [
    {
     "name": "stdout",
     "output_type": "stream",
     "text": [
      "<class 'pandas.core.frame.DataFrame'>\n",
      "RangeIndex: 10000 entries, 0 to 9999\n",
      "Data columns (total 82 columns):\n",
      " #   Column                         Non-Null Count  Dtype  \n",
      "---  ------                         --------------  -----  \n",
      " 0   index                          10000 non-null  int64  \n",
      " 1   client_id                      10000 non-null  int64  \n",
      " 2   age                            10000 non-null  float64\n",
      " 3   campaign                       10000 non-null  float64\n",
      " 4   pdays                          10000 non-null  float64\n",
      " 5   previous                       10000 non-null  float64\n",
      " 6   emp.var.rate                   10000 non-null  float64\n",
      " 7   cons.price.idx                 10000 non-null  float64\n",
      " 8   cons.conf.idx                  10000 non-null  float64\n",
      " 9   euribor3m                      10000 non-null  float64\n",
      " 10  nr.employed                    10000 non-null  float64\n",
      " 11  job_admin.                     10000 non-null  float64\n",
      " 12  job_blue-collar                10000 non-null  float64\n",
      " 13  job_entrepreneur               10000 non-null  float64\n",
      " 14  job_housemaid                  10000 non-null  float64\n",
      " 15  job_management                 10000 non-null  float64\n",
      " 16  job_retired                    10000 non-null  float64\n",
      " 17  job_self-employed              10000 non-null  float64\n",
      " 18  job_services                   10000 non-null  float64\n",
      " 19  job_student                    10000 non-null  float64\n",
      " 20  job_technician                 10000 non-null  float64\n",
      " 21  job_unemployed                 10000 non-null  float64\n",
      " 22  job_unknown                    10000 non-null  float64\n",
      " 23  job_nan                        10000 non-null  float64\n",
      " 24  marital_divorced               10000 non-null  float64\n",
      " 25  marital_married                10000 non-null  float64\n",
      " 26  marital_single                 10000 non-null  float64\n",
      " 27  marital_unknown                10000 non-null  float64\n",
      " 28  marital_nan                    10000 non-null  float64\n",
      " 29  education_basic.4y             10000 non-null  float64\n",
      " 30  education_basic.6y             10000 non-null  float64\n",
      " 31  education_basic.9y             10000 non-null  float64\n",
      " 32  education_high.school          10000 non-null  float64\n",
      " 33  education_illiterate           10000 non-null  float64\n",
      " 34  education_professional.course  10000 non-null  float64\n",
      " 35  education_university.degree    10000 non-null  float64\n",
      " 36  education_unknown              10000 non-null  float64\n",
      " 37  education_nan                  10000 non-null  float64\n",
      " 38  default_no                     10000 non-null  float64\n",
      " 39  default_unknown                10000 non-null  float64\n",
      " 40  default_nan                    10000 non-null  float64\n",
      " 41  housing_no                     10000 non-null  float64\n",
      " 42  housing_unknown                10000 non-null  float64\n",
      " 43  housing_yes                    10000 non-null  float64\n",
      " 44  housing_nan                    10000 non-null  float64\n",
      " 45  loan_no                        10000 non-null  float64\n",
      " 46  loan_unknown                   10000 non-null  float64\n",
      " 47  loan_yes                       10000 non-null  float64\n",
      " 48  loan_nan                       10000 non-null  float64\n",
      " 49  contact_cellular               10000 non-null  float64\n",
      " 50  contact_telephone              10000 non-null  float64\n",
      " 51  contact_nan                    10000 non-null  float64\n",
      " 52  month_apr                      10000 non-null  float64\n",
      " 53  month_aug                      10000 non-null  float64\n",
      " 54  month_dec                      10000 non-null  float64\n",
      " 55  month_jul                      10000 non-null  float64\n",
      " 56  month_jun                      10000 non-null  float64\n",
      " 57  month_mar                      10000 non-null  float64\n",
      " 58  month_may                      10000 non-null  float64\n",
      " 59  month_nov                      10000 non-null  float64\n",
      " 60  month_oct                      10000 non-null  float64\n",
      " 61  month_sep                      10000 non-null  float64\n",
      " 62  month_nan                      10000 non-null  float64\n",
      " 63  day_of_week_fri                10000 non-null  float64\n",
      " 64  day_of_week_mon                10000 non-null  float64\n",
      " 65  day_of_week_thu                10000 non-null  float64\n",
      " 66  day_of_week_tue                10000 non-null  float64\n",
      " 67  day_of_week_wed                10000 non-null  float64\n",
      " 68  day_of_week_nan                10000 non-null  float64\n",
      " 69  poutcome_failure               10000 non-null  float64\n",
      " 70  poutcome_nonexistent           10000 non-null  float64\n",
      " 71  poutcome_success               10000 non-null  float64\n",
      " 72  poutcome_nan                   10000 non-null  float64\n",
      " 73  age_indicator                  10000 non-null  int64  \n",
      " 74  campaign_indicator             10000 non-null  int64  \n",
      " 75  pdays_indicator                10000 non-null  int64  \n",
      " 76  previous_indicator             10000 non-null  int64  \n",
      " 77  emp.var.rate_indicator         10000 non-null  int64  \n",
      " 78  cons.price.idx_indicator       10000 non-null  int64  \n",
      " 79  cons.conf.idx_indicator        10000 non-null  int64  \n",
      " 80  euribor3m_indicator            10000 non-null  int64  \n",
      " 81  nr.employed_indicator          10000 non-null  int64  \n",
      "dtypes: float64(71), int64(11)\n",
      "memory usage: 6.3 MB\n"
     ]
    }
   ],
   "source": [
    "df_test.info()"
   ]
  },
  {
   "cell_type": "code",
   "execution_count": 911,
   "id": "65532653",
   "metadata": {},
   "outputs": [],
   "source": [
    "#subset train set for important cols based on correlation analysis \n",
    "X_train = df_train[[col for col in df_train.columns if col != 'subscribe']]"
   ]
  },
  {
   "cell_type": "code",
   "execution_count": 912,
   "id": "66da7dd3",
   "metadata": {},
   "outputs": [],
   "source": [
    "#test set as well - dv subscribe\n",
    "X_test = df_test[[col for col in df_test.columns]]"
   ]
  },
  {
   "cell_type": "code",
   "execution_count": 913,
   "id": "341f69a5",
   "metadata": {},
   "outputs": [],
   "source": [
    "#seperate feature matrix and target vector\n",
    "#X_train = df_train[['client_id', 'age', 'campaign', 'pdays', 'previous', 'emp.var.rate',\n",
    "       #'cons.price.idx', 'cons.conf.idx', 'euribor3m', 'nr.employed','job', 'marital', 'education', 'default', 'housing',\n",
    "       #'loan', 'contact', 'month', 'day_of_week', 'poutcome']]\n",
    "y_train = df_train.subscribe"
   ]
  },
  {
   "cell_type": "code",
   "execution_count": 914,
   "id": "17e58013",
   "metadata": {},
   "outputs": [],
   "source": [
    "#create X_test matrix \n",
    "#seperate feature matrix and target vector\n",
    "#X_test = df_test[['client_id', 'age', 'campaign', 'pdays', 'previous', 'emp.var.rate',\n",
    "       #'cons.price.idx', 'cons.conf.idx', 'euribor3m', 'nr.employed','job', 'marital', 'education', 'default', 'housing',\n",
    "       #'loan', 'contact', 'month', 'day_of_week', 'poutcome']]\n"
   ]
  },
  {
   "cell_type": "code",
   "execution_count": 220,
   "id": "6f34cb66",
   "metadata": {
    "scrolled": false
   },
   "outputs": [
    {
     "name": "stdout",
     "output_type": "stream",
     "text": [
      "Fitting 3 folds for each of 100 candidates, totalling 300 fits\n",
      "[CV 1/3] END bootstrap=True, max_depth=88, max_features=sqrt, min_samples_leaf=4, min_samples_split=10, n_estimators=863;, score=0.899 total time=  10.8s\n",
      "[CV 2/3] END bootstrap=True, max_depth=88, max_features=sqrt, min_samples_leaf=4, min_samples_split=10, n_estimators=863;, score=0.900 total time=  11.2s\n",
      "[CV 3/3] END bootstrap=True, max_depth=88, max_features=sqrt, min_samples_leaf=4, min_samples_split=10, n_estimators=863;, score=0.904 total time=  11.0s\n",
      "[CV 1/3] END bootstrap=False, max_depth=52, max_features=auto, min_samples_leaf=1, min_samples_split=10, n_estimators=1626;, score=0.896 total time=  31.5s\n",
      "[CV 2/3] END bootstrap=False, max_depth=52, max_features=auto, min_samples_leaf=1, min_samples_split=10, n_estimators=1626;, score=0.899 total time=  32.1s\n",
      "[CV 3/3] END bootstrap=False, max_depth=52, max_features=auto, min_samples_leaf=1, min_samples_split=10, n_estimators=1626;, score=0.899 total time=  33.1s\n",
      "[CV 1/3] END bootstrap=True, max_depth=99, max_features=sqrt, min_samples_leaf=4, min_samples_split=10, n_estimators=1626;, score=0.899 total time=  19.8s\n",
      "[CV 2/3] END bootstrap=True, max_depth=99, max_features=sqrt, min_samples_leaf=4, min_samples_split=10, n_estimators=1626;, score=0.900 total time=  20.1s\n",
      "[CV 3/3] END bootstrap=True, max_depth=99, max_features=sqrt, min_samples_leaf=4, min_samples_split=10, n_estimators=1626;, score=0.904 total time=  20.6s\n",
      "[CV 1/3] END bootstrap=True, max_depth=88, max_features=auto, min_samples_leaf=6, min_samples_split=20, n_estimators=2694;, score=0.900 total time=  30.1s\n",
      "[CV 2/3] END bootstrap=True, max_depth=88, max_features=auto, min_samples_leaf=6, min_samples_split=20, n_estimators=2694;, score=0.901 total time=  30.6s\n",
      "[CV 3/3] END bootstrap=True, max_depth=88, max_features=auto, min_samples_leaf=6, min_samples_split=20, n_estimators=2694;, score=0.904 total time=  30.8s\n",
      "[CV 1/3] END bootstrap=True, max_depth=46, max_features=sqrt, min_samples_leaf=4, min_samples_split=20, n_estimators=557;, score=0.900 total time=   6.8s\n",
      "[CV 2/3] END bootstrap=True, max_depth=46, max_features=sqrt, min_samples_leaf=4, min_samples_split=20, n_estimators=557;, score=0.901 total time=   7.2s\n",
      "[CV 3/3] END bootstrap=True, max_depth=46, max_features=sqrt, min_samples_leaf=4, min_samples_split=20, n_estimators=557;, score=0.904 total time=   6.9s\n",
      "[CV 1/3] END bootstrap=False, max_depth=25, max_features=sqrt, min_samples_leaf=4, min_samples_split=20, n_estimators=1015;, score=0.898 total time=  17.3s\n",
      "[CV 2/3] END bootstrap=False, max_depth=25, max_features=sqrt, min_samples_leaf=4, min_samples_split=20, n_estimators=1015;, score=0.900 total time=  17.3s\n",
      "[CV 3/3] END bootstrap=False, max_depth=25, max_features=sqrt, min_samples_leaf=4, min_samples_split=20, n_estimators=1015;, score=0.903 total time=  17.2s\n",
      "[CV 1/3] END bootstrap=False, max_depth=20, max_features=auto, min_samples_leaf=4, min_samples_split=15, n_estimators=252;, score=0.898 total time=   4.3s\n",
      "[CV 2/3] END bootstrap=False, max_depth=20, max_features=auto, min_samples_leaf=4, min_samples_split=15, n_estimators=252;, score=0.900 total time=   4.2s\n",
      "[CV 3/3] END bootstrap=False, max_depth=20, max_features=auto, min_samples_leaf=4, min_samples_split=15, n_estimators=252;, score=0.903 total time=   4.3s\n",
      "[CV 1/3] END bootstrap=True, max_depth=10, max_features=auto, min_samples_leaf=1, min_samples_split=25, n_estimators=2542;, score=0.900 total time=  22.6s\n",
      "[CV 2/3] END bootstrap=True, max_depth=10, max_features=auto, min_samples_leaf=1, min_samples_split=25, n_estimators=2542;, score=0.901 total time=  22.0s\n",
      "[CV 3/3] END bootstrap=True, max_depth=10, max_features=auto, min_samples_leaf=1, min_samples_split=25, n_estimators=2542;, score=0.903 total time=  22.3s\n",
      "[CV 1/3] END bootstrap=False, max_depth=25, max_features=auto, min_samples_leaf=2, min_samples_split=20, n_estimators=1015;, score=0.898 total time=  17.6s\n",
      "[CV 2/3] END bootstrap=False, max_depth=25, max_features=auto, min_samples_leaf=2, min_samples_split=20, n_estimators=1015;, score=0.900 total time=  18.2s\n",
      "[CV 3/3] END bootstrap=False, max_depth=25, max_features=auto, min_samples_leaf=2, min_samples_split=20, n_estimators=1015;, score=0.901 total time=  18.3s\n",
      "[CV 1/3] END bootstrap=True, max_depth=36, max_features=sqrt, min_samples_leaf=2, min_samples_split=20, n_estimators=710;, score=0.900 total time=   8.6s\n",
      "[CV 2/3] END bootstrap=True, max_depth=36, max_features=sqrt, min_samples_leaf=2, min_samples_split=20, n_estimators=710;, score=0.900 total time=   8.9s\n",
      "[CV 3/3] END bootstrap=True, max_depth=36, max_features=sqrt, min_samples_leaf=2, min_samples_split=20, n_estimators=710;, score=0.903 total time=   8.9s\n",
      "[CV 1/3] END bootstrap=False, max_depth=78, max_features=sqrt, min_samples_leaf=4, min_samples_split=5, n_estimators=1626;, score=0.899 total time=  28.6s\n",
      "[CV 2/3] END bootstrap=False, max_depth=78, max_features=sqrt, min_samples_leaf=4, min_samples_split=5, n_estimators=1626;, score=0.899 total time=  29.2s\n",
      "[CV 3/3] END bootstrap=False, max_depth=78, max_features=sqrt, min_samples_leaf=4, min_samples_split=5, n_estimators=1626;, score=0.902 total time=  29.6s\n",
      "[CV 1/3] END bootstrap=True, max_depth=10, max_features=auto, min_samples_leaf=2, min_samples_split=5, n_estimators=1778;, score=0.900 total time=  15.5s\n",
      "[CV 2/3] END bootstrap=True, max_depth=10, max_features=auto, min_samples_leaf=2, min_samples_split=5, n_estimators=1778;, score=0.900 total time=  16.4s\n",
      "[CV 3/3] END bootstrap=True, max_depth=10, max_features=auto, min_samples_leaf=2, min_samples_split=5, n_estimators=1778;, score=0.903 total time=  16.4s\n",
      "[CV 1/3] END bootstrap=False, max_depth=94, max_features=auto, min_samples_leaf=4, min_samples_split=15, n_estimators=1473;, score=0.898 total time=  26.5s\n",
      "[CV 2/3] END bootstrap=False, max_depth=94, max_features=auto, min_samples_leaf=4, min_samples_split=15, n_estimators=1473;, score=0.901 total time=  26.8s\n",
      "[CV 3/3] END bootstrap=False, max_depth=94, max_features=auto, min_samples_leaf=4, min_samples_split=15, n_estimators=1473;, score=0.904 total time=  26.7s\n",
      "[CV 1/3] END bootstrap=True, max_depth=99, max_features=sqrt, min_samples_leaf=4, min_samples_split=15, n_estimators=1168;, score=0.898 total time=  14.5s\n",
      "[CV 2/3] END bootstrap=True, max_depth=99, max_features=sqrt, min_samples_leaf=4, min_samples_split=15, n_estimators=1168;, score=0.901 total time=  14.2s\n",
      "[CV 3/3] END bootstrap=True, max_depth=99, max_features=sqrt, min_samples_leaf=4, min_samples_split=15, n_estimators=1168;, score=0.903 total time=  14.8s\n",
      "[CV 1/3] END bootstrap=False, max_depth=88, max_features=sqrt, min_samples_leaf=2, min_samples_split=20, n_estimators=405;, score=0.897 total time=   7.8s\n",
      "[CV 2/3] END bootstrap=False, max_depth=88, max_features=sqrt, min_samples_leaf=2, min_samples_split=20, n_estimators=405;, score=0.899 total time=   7.7s\n",
      "[CV 3/3] END bootstrap=False, max_depth=88, max_features=sqrt, min_samples_leaf=2, min_samples_split=20, n_estimators=405;, score=0.903 total time=   8.1s\n",
      "[CV 1/3] END bootstrap=True, max_depth=25, max_features=auto, min_samples_leaf=6, min_samples_split=10, n_estimators=863;, score=0.899 total time=  11.0s\n",
      "[CV 2/3] END bootstrap=True, max_depth=25, max_features=auto, min_samples_leaf=6, min_samples_split=10, n_estimators=863;, score=0.900 total time=  10.4s\n",
      "[CV 3/3] END bootstrap=True, max_depth=25, max_features=auto, min_samples_leaf=6, min_samples_split=10, n_estimators=863;, score=0.904 total time=  10.5s\n",
      "[CV 1/3] END bootstrap=False, max_depth=67, max_features=auto, min_samples_leaf=2, min_samples_split=15, n_estimators=100;, score=0.899 total time=   1.9s\n",
      "[CV 2/3] END bootstrap=False, max_depth=67, max_features=auto, min_samples_leaf=2, min_samples_split=15, n_estimators=100;, score=0.899 total time=   1.9s\n",
      "[CV 3/3] END bootstrap=False, max_depth=67, max_features=auto, min_samples_leaf=2, min_samples_split=15, n_estimators=100;, score=0.901 total time=   1.9s\n",
      "[CV 1/3] END bootstrap=True, max_depth=83, max_features=sqrt, min_samples_leaf=10, min_samples_split=15, n_estimators=710;, score=0.899 total time=   8.1s\n",
      "[CV 2/3] END bootstrap=True, max_depth=83, max_features=sqrt, min_samples_leaf=10, min_samples_split=15, n_estimators=710;, score=0.901 total time=   8.1s\n"
     ]
    },
    {
     "name": "stdout",
     "output_type": "stream",
     "text": [
      "[CV 3/3] END bootstrap=True, max_depth=83, max_features=sqrt, min_samples_leaf=10, min_samples_split=15, n_estimators=710;, score=0.903 total time=   9.1s\n",
      "[CV 1/3] END bootstrap=True, max_depth=99, max_features=auto, min_samples_leaf=10, min_samples_split=20, n_estimators=2542;, score=0.899 total time=  28.9s\n",
      "[CV 2/3] END bootstrap=True, max_depth=99, max_features=auto, min_samples_leaf=10, min_samples_split=20, n_estimators=2542;, score=0.901 total time=  29.9s\n",
      "[CV 3/3] END bootstrap=True, max_depth=99, max_features=auto, min_samples_leaf=10, min_samples_split=20, n_estimators=2542;, score=0.904 total time=  32.0s\n",
      "[CV 1/3] END bootstrap=True, max_depth=46, max_features=sqrt, min_samples_leaf=10, min_samples_split=25, n_estimators=863;, score=0.899 total time=  10.0s\n",
      "[CV 2/3] END bootstrap=True, max_depth=46, max_features=sqrt, min_samples_leaf=10, min_samples_split=25, n_estimators=863;, score=0.901 total time=  10.0s\n",
      "[CV 3/3] END bootstrap=True, max_depth=46, max_features=sqrt, min_samples_leaf=10, min_samples_split=25, n_estimators=863;, score=0.903 total time=  10.3s\n",
      "[CV 1/3] END bootstrap=False, max_depth=41, max_features=sqrt, min_samples_leaf=2, min_samples_split=10, n_estimators=1015;, score=0.897 total time=  19.8s\n",
      "[CV 2/3] END bootstrap=False, max_depth=41, max_features=sqrt, min_samples_leaf=2, min_samples_split=10, n_estimators=1015;, score=0.899 total time=  19.6s\n",
      "[CV 3/3] END bootstrap=False, max_depth=41, max_features=sqrt, min_samples_leaf=2, min_samples_split=10, n_estimators=1015;, score=0.901 total time=  20.3s\n",
      "[CV 1/3] END bootstrap=True, max_depth=41, max_features=auto, min_samples_leaf=10, min_samples_split=25, n_estimators=710;, score=0.899 total time=   8.1s\n",
      "[CV 2/3] END bootstrap=True, max_depth=41, max_features=auto, min_samples_leaf=10, min_samples_split=25, n_estimators=710;, score=0.901 total time=   8.0s\n",
      "[CV 3/3] END bootstrap=True, max_depth=41, max_features=auto, min_samples_leaf=10, min_samples_split=25, n_estimators=710;, score=0.903 total time=   7.8s\n",
      "[CV 1/3] END bootstrap=False, max_depth=62, max_features=auto, min_samples_leaf=4, min_samples_split=15, n_estimators=2389;, score=0.899 total time=  42.7s\n",
      "[CV 2/3] END bootstrap=False, max_depth=62, max_features=auto, min_samples_leaf=4, min_samples_split=15, n_estimators=2389;, score=0.901 total time=  43.4s\n",
      "[CV 3/3] END bootstrap=False, max_depth=62, max_features=auto, min_samples_leaf=4, min_samples_split=15, n_estimators=2389;, score=0.903 total time=  43.5s\n",
      "[CV 1/3] END bootstrap=True, max_depth=41, max_features=sqrt, min_samples_leaf=2, min_samples_split=15, n_estimators=1321;, score=0.899 total time=  18.0s\n",
      "[CV 2/3] END bootstrap=True, max_depth=41, max_features=sqrt, min_samples_leaf=2, min_samples_split=15, n_estimators=1321;, score=0.901 total time=  16.8s\n",
      "[CV 3/3] END bootstrap=True, max_depth=41, max_features=sqrt, min_samples_leaf=2, min_samples_split=15, n_estimators=1321;, score=0.903 total time=  16.6s\n",
      "[CV 1/3] END bootstrap=False, max_depth=20, max_features=auto, min_samples_leaf=10, min_samples_split=20, n_estimators=252;, score=0.899 total time=   4.3s\n",
      "[CV 2/3] END bootstrap=False, max_depth=20, max_features=auto, min_samples_leaf=10, min_samples_split=20, n_estimators=252;, score=0.900 total time=   4.2s\n",
      "[CV 3/3] END bootstrap=False, max_depth=20, max_features=auto, min_samples_leaf=10, min_samples_split=20, n_estimators=252;, score=0.903 total time=   3.9s\n",
      "[CV 1/3] END bootstrap=False, max_depth=25, max_features=sqrt, min_samples_leaf=4, min_samples_split=10, n_estimators=1321;, score=0.898 total time=  24.7s\n",
      "[CV 2/3] END bootstrap=False, max_depth=25, max_features=sqrt, min_samples_leaf=4, min_samples_split=10, n_estimators=1321;, score=0.900 total time=  22.9s\n",
      "[CV 3/3] END bootstrap=False, max_depth=25, max_features=sqrt, min_samples_leaf=4, min_samples_split=10, n_estimators=1321;, score=0.903 total time=  23.9s\n",
      "[CV 1/3] END bootstrap=True, max_depth=99, max_features=sqrt, min_samples_leaf=1, min_samples_split=15, n_estimators=557;, score=0.899 total time=   7.5s\n",
      "[CV 2/3] END bootstrap=True, max_depth=99, max_features=sqrt, min_samples_leaf=1, min_samples_split=15, n_estimators=557;, score=0.901 total time=   7.5s\n",
      "[CV 3/3] END bootstrap=True, max_depth=99, max_features=sqrt, min_samples_leaf=1, min_samples_split=15, n_estimators=557;, score=0.904 total time=   7.3s\n",
      "[CV 1/3] END bootstrap=True, max_depth=31, max_features=auto, min_samples_leaf=2, min_samples_split=25, n_estimators=2389;, score=0.899 total time=  29.4s\n",
      "[CV 2/3] END bootstrap=True, max_depth=31, max_features=auto, min_samples_leaf=2, min_samples_split=25, n_estimators=2389;, score=0.901 total time=  30.7s\n",
      "[CV 3/3] END bootstrap=True, max_depth=31, max_features=auto, min_samples_leaf=2, min_samples_split=25, n_estimators=2389;, score=0.903 total time=  30.7s\n",
      "[CV 1/3] END bootstrap=True, max_depth=20, max_features=auto, min_samples_leaf=10, min_samples_split=10, n_estimators=1321;, score=0.899 total time=  15.0s\n",
      "[CV 2/3] END bootstrap=True, max_depth=20, max_features=auto, min_samples_leaf=10, min_samples_split=10, n_estimators=1321;, score=0.901 total time=  15.3s\n",
      "[CV 3/3] END bootstrap=True, max_depth=20, max_features=auto, min_samples_leaf=10, min_samples_split=10, n_estimators=1321;, score=0.904 total time=  14.6s\n",
      "[CV 1/3] END bootstrap=True, max_depth=52, max_features=auto, min_samples_leaf=1, min_samples_split=10, n_estimators=1321;, score=0.897 total time=  16.9s\n",
      "[CV 2/3] END bootstrap=True, max_depth=52, max_features=auto, min_samples_leaf=1, min_samples_split=10, n_estimators=1321;, score=0.899 total time=  17.8s\n",
      "[CV 3/3] END bootstrap=True, max_depth=52, max_features=auto, min_samples_leaf=1, min_samples_split=10, n_estimators=1321;, score=0.903 total time=  18.1s\n",
      "[CV 1/3] END bootstrap=True, max_depth=25, max_features=auto, min_samples_leaf=4, min_samples_split=15, n_estimators=1931;, score=0.899 total time=  24.2s\n",
      "[CV 2/3] END bootstrap=True, max_depth=25, max_features=auto, min_samples_leaf=4, min_samples_split=15, n_estimators=1931;, score=0.901 total time=  23.4s\n",
      "[CV 3/3] END bootstrap=True, max_depth=25, max_features=auto, min_samples_leaf=4, min_samples_split=15, n_estimators=1931;, score=0.904 total time=  25.0s\n",
      "[CV 1/3] END bootstrap=True, max_depth=99, max_features=sqrt, min_samples_leaf=4, min_samples_split=20, n_estimators=1015;, score=0.899 total time=  12.0s\n",
      "[CV 2/3] END bootstrap=True, max_depth=99, max_features=sqrt, min_samples_leaf=4, min_samples_split=20, n_estimators=1015;, score=0.901 total time=  12.5s\n",
      "[CV 3/3] END bootstrap=True, max_depth=99, max_features=sqrt, min_samples_leaf=4, min_samples_split=20, n_estimators=1015;, score=0.904 total time=  12.2s\n",
      "[CV 1/3] END bootstrap=False, max_depth=52, max_features=sqrt, min_samples_leaf=1, min_samples_split=5, n_estimators=2084;, score=0.897 total time=  41.4s\n",
      "[CV 2/3] END bootstrap=False, max_depth=52, max_features=sqrt, min_samples_leaf=1, min_samples_split=5, n_estimators=2084;, score=0.898 total time=  42.9s\n",
      "[CV 3/3] END bootstrap=False, max_depth=52, max_features=sqrt, min_samples_leaf=1, min_samples_split=5, n_estimators=2084;, score=0.898 total time=  41.1s\n",
      "[CV 1/3] END bootstrap=True, max_depth=67, max_features=sqrt, min_samples_leaf=6, min_samples_split=25, n_estimators=2236;, score=0.900 total time=  26.4s\n",
      "[CV 2/3] END bootstrap=True, max_depth=67, max_features=sqrt, min_samples_leaf=6, min_samples_split=25, n_estimators=2236;, score=0.900 total time=  26.1s\n",
      "[CV 3/3] END bootstrap=True, max_depth=67, max_features=sqrt, min_samples_leaf=6, min_samples_split=25, n_estimators=2236;, score=0.904 total time=  25.7s\n",
      "[CV 1/3] END bootstrap=False, max_depth=57, max_features=sqrt, min_samples_leaf=1, min_samples_split=10, n_estimators=2236;, score=0.897 total time=  43.8s\n",
      "[CV 2/3] END bootstrap=False, max_depth=57, max_features=sqrt, min_samples_leaf=1, min_samples_split=10, n_estimators=2236;, score=0.898 total time=  44.0s\n",
      "[CV 3/3] END bootstrap=False, max_depth=57, max_features=sqrt, min_samples_leaf=1, min_samples_split=10, n_estimators=2236;, score=0.899 total time=  44.6s\n",
      "[CV 1/3] END bootstrap=False, max_depth=62, max_features=auto, min_samples_leaf=2, min_samples_split=5, n_estimators=1168;, score=0.896 total time=  23.0s\n"
     ]
    },
    {
     "name": "stdout",
     "output_type": "stream",
     "text": [
      "[CV 2/3] END bootstrap=False, max_depth=62, max_features=auto, min_samples_leaf=2, min_samples_split=5, n_estimators=1168;, score=0.898 total time=  23.2s\n",
      "[CV 3/3] END bootstrap=False, max_depth=62, max_features=auto, min_samples_leaf=2, min_samples_split=5, n_estimators=1168;, score=0.900 total time=  23.3s\n",
      "[CV 1/3] END bootstrap=True, max_depth=20, max_features=auto, min_samples_leaf=6, min_samples_split=10, n_estimators=2847;, score=0.899 total time=  34.9s\n",
      "[CV 2/3] END bootstrap=True, max_depth=20, max_features=auto, min_samples_leaf=6, min_samples_split=10, n_estimators=2847;, score=0.900 total time=  33.6s\n",
      "[CV 3/3] END bootstrap=True, max_depth=20, max_features=auto, min_samples_leaf=6, min_samples_split=10, n_estimators=2847;, score=0.904 total time=  34.5s\n",
      "[CV 1/3] END bootstrap=True, max_depth=94, max_features=sqrt, min_samples_leaf=10, min_samples_split=20, n_estimators=1931;, score=0.899 total time=  21.9s\n",
      "[CV 2/3] END bootstrap=True, max_depth=94, max_features=sqrt, min_samples_leaf=10, min_samples_split=20, n_estimators=1931;, score=0.901 total time=  23.4s\n",
      "[CV 3/3] END bootstrap=True, max_depth=94, max_features=sqrt, min_samples_leaf=10, min_samples_split=20, n_estimators=1931;, score=0.903 total time=  21.8s\n",
      "[CV 1/3] END bootstrap=False, max_depth=10, max_features=auto, min_samples_leaf=6, min_samples_split=15, n_estimators=2389;, score=0.899 total time=  28.9s\n",
      "[CV 2/3] END bootstrap=False, max_depth=10, max_features=auto, min_samples_leaf=6, min_samples_split=15, n_estimators=2389;, score=0.901 total time=  28.9s\n",
      "[CV 3/3] END bootstrap=False, max_depth=10, max_features=auto, min_samples_leaf=6, min_samples_split=15, n_estimators=2389;, score=0.903 total time=  28.9s\n",
      "[CV 1/3] END bootstrap=True, max_depth=73, max_features=auto, min_samples_leaf=6, min_samples_split=25, n_estimators=2236;, score=0.899 total time=  26.4s\n",
      "[CV 2/3] END bootstrap=True, max_depth=73, max_features=auto, min_samples_leaf=6, min_samples_split=25, n_estimators=2236;, score=0.901 total time=  25.5s\n",
      "[CV 3/3] END bootstrap=True, max_depth=73, max_features=auto, min_samples_leaf=6, min_samples_split=25, n_estimators=2236;, score=0.904 total time=  26.7s\n",
      "[CV 1/3] END bootstrap=True, max_depth=20, max_features=sqrt, min_samples_leaf=2, min_samples_split=10, n_estimators=710;, score=0.898 total time=   8.8s\n",
      "[CV 2/3] END bootstrap=True, max_depth=20, max_features=sqrt, min_samples_leaf=2, min_samples_split=10, n_estimators=710;, score=0.900 total time=   8.6s\n",
      "[CV 3/3] END bootstrap=True, max_depth=20, max_features=sqrt, min_samples_leaf=2, min_samples_split=10, n_estimators=710;, score=0.903 total time=   8.6s\n",
      "[CV 1/3] END bootstrap=True, max_depth=15, max_features=auto, min_samples_leaf=10, min_samples_split=15, n_estimators=405;, score=0.899 total time=   4.1s\n",
      "[CV 2/3] END bootstrap=True, max_depth=15, max_features=auto, min_samples_leaf=10, min_samples_split=15, n_estimators=405;, score=0.901 total time=   4.1s\n",
      "[CV 3/3] END bootstrap=True, max_depth=15, max_features=auto, min_samples_leaf=10, min_samples_split=15, n_estimators=405;, score=0.903 total time=   4.1s\n",
      "[CV 1/3] END bootstrap=True, max_depth=57, max_features=auto, min_samples_leaf=1, min_samples_split=5, n_estimators=2847;, score=0.897 total time=  38.3s\n",
      "[CV 2/3] END bootstrap=True, max_depth=57, max_features=auto, min_samples_leaf=1, min_samples_split=5, n_estimators=2847;, score=0.899 total time=  44.1s\n",
      "[CV 3/3] END bootstrap=True, max_depth=57, max_features=auto, min_samples_leaf=1, min_samples_split=5, n_estimators=2847;, score=0.901 total time=  41.6s\n",
      "[CV 1/3] END bootstrap=True, max_depth=57, max_features=sqrt, min_samples_leaf=2, min_samples_split=5, n_estimators=1626;, score=0.899 total time=  20.8s\n",
      "[CV 2/3] END bootstrap=True, max_depth=57, max_features=sqrt, min_samples_leaf=2, min_samples_split=5, n_estimators=1626;, score=0.899 total time=  22.5s\n",
      "[CV 3/3] END bootstrap=True, max_depth=57, max_features=sqrt, min_samples_leaf=2, min_samples_split=5, n_estimators=1626;, score=0.902 total time=  22.0s\n",
      "[CV 1/3] END bootstrap=True, max_depth=83, max_features=auto, min_samples_leaf=1, min_samples_split=10, n_estimators=1473;, score=0.898 total time=  19.7s\n",
      "[CV 2/3] END bootstrap=True, max_depth=83, max_features=auto, min_samples_leaf=1, min_samples_split=10, n_estimators=1473;, score=0.901 total time=  20.0s\n",
      "[CV 3/3] END bootstrap=True, max_depth=83, max_features=auto, min_samples_leaf=1, min_samples_split=10, n_estimators=1473;, score=0.903 total time=  20.3s\n",
      "[CV 1/3] END bootstrap=False, max_depth=25, max_features=auto, min_samples_leaf=1, min_samples_split=5, n_estimators=1931;, score=0.895 total time=  38.3s\n",
      "[CV 2/3] END bootstrap=False, max_depth=25, max_features=auto, min_samples_leaf=1, min_samples_split=5, n_estimators=1931;, score=0.898 total time=  38.8s\n",
      "[CV 3/3] END bootstrap=False, max_depth=25, max_features=auto, min_samples_leaf=1, min_samples_split=5, n_estimators=1931;, score=0.898 total time=  38.1s\n",
      "[CV 1/3] END bootstrap=True, max_depth=88, max_features=sqrt, min_samples_leaf=2, min_samples_split=10, n_estimators=1778;, score=0.899 total time=  23.3s\n",
      "[CV 2/3] END bootstrap=True, max_depth=88, max_features=sqrt, min_samples_leaf=2, min_samples_split=10, n_estimators=1778;, score=0.900 total time=  22.7s\n",
      "[CV 3/3] END bootstrap=True, max_depth=88, max_features=sqrt, min_samples_leaf=2, min_samples_split=10, n_estimators=1778;, score=0.903 total time=  23.6s\n",
      "[CV 1/3] END bootstrap=False, max_depth=25, max_features=sqrt, min_samples_leaf=1, min_samples_split=10, n_estimators=1778;, score=0.897 total time=  33.4s\n",
      "[CV 2/3] END bootstrap=False, max_depth=25, max_features=sqrt, min_samples_leaf=1, min_samples_split=10, n_estimators=1778;, score=0.899 total time=  34.4s\n",
      "[CV 3/3] END bootstrap=False, max_depth=25, max_features=sqrt, min_samples_leaf=1, min_samples_split=10, n_estimators=1778;, score=0.900 total time=  34.6s\n",
      "[CV 1/3] END bootstrap=True, max_depth=57, max_features=sqrt, min_samples_leaf=10, min_samples_split=25, n_estimators=252;, score=0.899 total time=   2.8s\n",
      "[CV 2/3] END bootstrap=True, max_depth=57, max_features=sqrt, min_samples_leaf=10, min_samples_split=25, n_estimators=252;, score=0.901 total time=   2.9s\n",
      "[CV 3/3] END bootstrap=True, max_depth=57, max_features=sqrt, min_samples_leaf=10, min_samples_split=25, n_estimators=252;, score=0.903 total time=   2.8s\n",
      "[CV 1/3] END bootstrap=False, max_depth=62, max_features=sqrt, min_samples_leaf=6, min_samples_split=20, n_estimators=2847;, score=0.898 total time=  49.4s\n",
      "[CV 2/3] END bootstrap=False, max_depth=62, max_features=sqrt, min_samples_leaf=6, min_samples_split=20, n_estimators=2847;, score=0.900 total time=  48.5s\n",
      "[CV 3/3] END bootstrap=False, max_depth=62, max_features=sqrt, min_samples_leaf=6, min_samples_split=20, n_estimators=2847;, score=0.903 total time=  48.3s\n",
      "[CV 1/3] END bootstrap=False, max_depth=31, max_features=auto, min_samples_leaf=2, min_samples_split=10, n_estimators=2236;, score=0.897 total time=  43.0s\n",
      "[CV 2/3] END bootstrap=False, max_depth=31, max_features=auto, min_samples_leaf=2, min_samples_split=10, n_estimators=2236;, score=0.899 total time=  43.7s\n",
      "[CV 3/3] END bootstrap=False, max_depth=31, max_features=auto, min_samples_leaf=2, min_samples_split=10, n_estimators=2236;, score=0.901 total time=  43.3s\n",
      "[CV 1/3] END bootstrap=True, max_depth=99, max_features=sqrt, min_samples_leaf=4, min_samples_split=20, n_estimators=2084;, score=0.899 total time=  26.2s\n",
      "[CV 2/3] END bootstrap=True, max_depth=99, max_features=sqrt, min_samples_leaf=4, min_samples_split=20, n_estimators=2084;, score=0.900 total time=  26.1s\n",
      "[CV 3/3] END bootstrap=True, max_depth=99, max_features=sqrt, min_samples_leaf=4, min_samples_split=20, n_estimators=2084;, score=0.904 total time=  26.0s\n",
      "[CV 1/3] END bootstrap=False, max_depth=31, max_features=sqrt, min_samples_leaf=10, min_samples_split=15, n_estimators=1168;, score=0.899 total time=  20.5s\n",
      "[CV 2/3] END bootstrap=False, max_depth=31, max_features=sqrt, min_samples_leaf=10, min_samples_split=15, n_estimators=1168;, score=0.900 total time=  20.3s\n",
      "[CV 3/3] END bootstrap=False, max_depth=31, max_features=sqrt, min_samples_leaf=10, min_samples_split=15, n_estimators=1168;, score=0.904 total time=  18.7s\n"
     ]
    },
    {
     "name": "stdout",
     "output_type": "stream",
     "text": [
      "[CV 1/3] END bootstrap=True, max_depth=62, max_features=sqrt, min_samples_leaf=10, min_samples_split=20, n_estimators=100;, score=0.898 total time=   1.1s\n",
      "[CV 2/3] END bootstrap=True, max_depth=62, max_features=sqrt, min_samples_leaf=10, min_samples_split=20, n_estimators=100;, score=0.901 total time=   1.1s\n",
      "[CV 3/3] END bootstrap=True, max_depth=62, max_features=sqrt, min_samples_leaf=10, min_samples_split=20, n_estimators=100;, score=0.903 total time=   1.1s\n",
      "[CV 1/3] END bootstrap=True, max_depth=25, max_features=auto, min_samples_leaf=6, min_samples_split=5, n_estimators=2542;, score=0.900 total time=  31.5s\n",
      "[CV 2/3] END bootstrap=True, max_depth=25, max_features=auto, min_samples_leaf=6, min_samples_split=5, n_estimators=2542;, score=0.900 total time=  31.5s\n",
      "[CV 3/3] END bootstrap=True, max_depth=25, max_features=auto, min_samples_leaf=6, min_samples_split=5, n_estimators=2542;, score=0.905 total time=  30.6s\n",
      "[CV 1/3] END bootstrap=False, max_depth=10, max_features=sqrt, min_samples_leaf=6, min_samples_split=10, n_estimators=3000;, score=0.900 total time=  36.4s\n",
      "[CV 2/3] END bootstrap=False, max_depth=10, max_features=sqrt, min_samples_leaf=6, min_samples_split=10, n_estimators=3000;, score=0.901 total time=  37.0s\n",
      "[CV 3/3] END bootstrap=False, max_depth=10, max_features=sqrt, min_samples_leaf=6, min_samples_split=10, n_estimators=3000;, score=0.903 total time=  35.6s\n",
      "[CV 1/3] END bootstrap=False, max_depth=52, max_features=sqrt, min_samples_leaf=2, min_samples_split=5, n_estimators=3000;, score=0.896 total time= 1.0min\n",
      "[CV 2/3] END bootstrap=False, max_depth=52, max_features=sqrt, min_samples_leaf=2, min_samples_split=5, n_estimators=3000;, score=0.899 total time= 1.0min\n",
      "[CV 3/3] END bootstrap=False, max_depth=52, max_features=sqrt, min_samples_leaf=2, min_samples_split=5, n_estimators=3000;, score=0.900 total time= 1.1min\n",
      "[CV 1/3] END bootstrap=True, max_depth=52, max_features=sqrt, min_samples_leaf=4, min_samples_split=15, n_estimators=1168;, score=0.899 total time=  15.1s\n",
      "[CV 2/3] END bootstrap=True, max_depth=52, max_features=sqrt, min_samples_leaf=4, min_samples_split=15, n_estimators=1168;, score=0.900 total time=  15.3s\n",
      "[CV 3/3] END bootstrap=True, max_depth=52, max_features=sqrt, min_samples_leaf=4, min_samples_split=15, n_estimators=1168;, score=0.904 total time=  14.5s\n",
      "[CV 1/3] END bootstrap=False, max_depth=94, max_features=auto, min_samples_leaf=1, min_samples_split=10, n_estimators=1015;, score=0.897 total time=  20.0s\n",
      "[CV 2/3] END bootstrap=False, max_depth=94, max_features=auto, min_samples_leaf=1, min_samples_split=10, n_estimators=1015;, score=0.899 total time=  21.2s\n",
      "[CV 3/3] END bootstrap=False, max_depth=94, max_features=auto, min_samples_leaf=1, min_samples_split=10, n_estimators=1015;, score=0.900 total time=  20.6s\n",
      "[CV 1/3] END bootstrap=True, max_depth=52, max_features=sqrt, min_samples_leaf=6, min_samples_split=25, n_estimators=1168;, score=0.899 total time=  13.5s\n",
      "[CV 2/3] END bootstrap=True, max_depth=52, max_features=sqrt, min_samples_leaf=6, min_samples_split=25, n_estimators=1168;, score=0.901 total time=  13.9s\n",
      "[CV 3/3] END bootstrap=True, max_depth=52, max_features=sqrt, min_samples_leaf=6, min_samples_split=25, n_estimators=1168;, score=0.904 total time=  15.3s\n",
      "[CV 1/3] END bootstrap=True, max_depth=41, max_features=sqrt, min_samples_leaf=1, min_samples_split=20, n_estimators=2847;, score=0.898 total time=  37.9s\n",
      "[CV 2/3] END bootstrap=True, max_depth=41, max_features=sqrt, min_samples_leaf=1, min_samples_split=20, n_estimators=2847;, score=0.901 total time=  37.0s\n",
      "[CV 3/3] END bootstrap=True, max_depth=41, max_features=sqrt, min_samples_leaf=1, min_samples_split=20, n_estimators=2847;, score=0.903 total time=  37.2s\n",
      "[CV 1/3] END bootstrap=True, max_depth=46, max_features=sqrt, min_samples_leaf=10, min_samples_split=25, n_estimators=1931;, score=0.899 total time=  22.1s\n",
      "[CV 2/3] END bootstrap=True, max_depth=46, max_features=sqrt, min_samples_leaf=10, min_samples_split=25, n_estimators=1931;, score=0.901 total time=  23.4s\n",
      "[CV 3/3] END bootstrap=True, max_depth=46, max_features=sqrt, min_samples_leaf=10, min_samples_split=25, n_estimators=1931;, score=0.903 total time=  22.4s\n",
      "[CV 1/3] END bootstrap=False, max_depth=83, max_features=auto, min_samples_leaf=1, min_samples_split=25, n_estimators=2694;, score=0.898 total time=  50.7s\n",
      "[CV 2/3] END bootstrap=False, max_depth=83, max_features=auto, min_samples_leaf=1, min_samples_split=25, n_estimators=2694;, score=0.900 total time=  50.2s\n",
      "[CV 3/3] END bootstrap=False, max_depth=83, max_features=auto, min_samples_leaf=1, min_samples_split=25, n_estimators=2694;, score=0.902 total time=  50.5s\n",
      "[CV 1/3] END bootstrap=True, max_depth=31, max_features=sqrt, min_samples_leaf=2, min_samples_split=10, n_estimators=1015;, score=0.899 total time=  12.4s\n",
      "[CV 2/3] END bootstrap=True, max_depth=31, max_features=sqrt, min_samples_leaf=2, min_samples_split=10, n_estimators=1015;, score=0.900 total time=  12.8s\n",
      "[CV 3/3] END bootstrap=True, max_depth=31, max_features=sqrt, min_samples_leaf=2, min_samples_split=10, n_estimators=1015;, score=0.903 total time=  12.6s\n",
      "[CV 1/3] END bootstrap=True, max_depth=57, max_features=sqrt, min_samples_leaf=4, min_samples_split=10, n_estimators=1473;, score=0.899 total time=  17.4s\n",
      "[CV 2/3] END bootstrap=True, max_depth=57, max_features=sqrt, min_samples_leaf=4, min_samples_split=10, n_estimators=1473;, score=0.900 total time=  17.7s\n",
      "[CV 3/3] END bootstrap=True, max_depth=57, max_features=sqrt, min_samples_leaf=4, min_samples_split=10, n_estimators=1473;, score=0.904 total time=  17.4s\n",
      "[CV 1/3] END bootstrap=True, max_depth=83, max_features=auto, min_samples_leaf=6, min_samples_split=25, n_estimators=1168;, score=0.900 total time=  13.0s\n",
      "[CV 2/3] END bootstrap=True, max_depth=83, max_features=auto, min_samples_leaf=6, min_samples_split=25, n_estimators=1168;, score=0.900 total time=  13.4s\n",
      "[CV 3/3] END bootstrap=True, max_depth=83, max_features=auto, min_samples_leaf=6, min_samples_split=25, n_estimators=1168;, score=0.903 total time=  13.1s\n",
      "[CV 1/3] END bootstrap=False, max_depth=99, max_features=sqrt, min_samples_leaf=6, min_samples_split=5, n_estimators=710;, score=0.898 total time=  11.6s\n",
      "[CV 2/3] END bootstrap=False, max_depth=99, max_features=sqrt, min_samples_leaf=6, min_samples_split=5, n_estimators=710;, score=0.901 total time=  11.8s\n",
      "[CV 3/3] END bootstrap=False, max_depth=99, max_features=sqrt, min_samples_leaf=6, min_samples_split=5, n_estimators=710;, score=0.903 total time=  11.6s\n",
      "[CV 1/3] END bootstrap=False, max_depth=73, max_features=sqrt, min_samples_leaf=2, min_samples_split=10, n_estimators=1473;, score=0.898 total time=  26.7s\n",
      "[CV 2/3] END bootstrap=False, max_depth=73, max_features=sqrt, min_samples_leaf=2, min_samples_split=10, n_estimators=1473;, score=0.899 total time=  27.2s\n",
      "[CV 3/3] END bootstrap=False, max_depth=73, max_features=sqrt, min_samples_leaf=2, min_samples_split=10, n_estimators=1473;, score=0.900 total time=  27.0s\n",
      "[CV 1/3] END bootstrap=False, max_depth=31, max_features=auto, min_samples_leaf=4, min_samples_split=25, n_estimators=2694;, score=0.898 total time=  45.1s\n",
      "[CV 2/3] END bootstrap=False, max_depth=31, max_features=auto, min_samples_leaf=4, min_samples_split=25, n_estimators=2694;, score=0.900 total time=  44.1s\n",
      "[CV 3/3] END bootstrap=False, max_depth=31, max_features=auto, min_samples_leaf=4, min_samples_split=25, n_estimators=2694;, score=0.903 total time=  44.5s\n",
      "[CV 1/3] END bootstrap=False, max_depth=62, max_features=auto, min_samples_leaf=1, min_samples_split=5, n_estimators=100;, score=0.896 total time=   1.9s\n",
      "[CV 2/3] END bootstrap=False, max_depth=62, max_features=auto, min_samples_leaf=1, min_samples_split=5, n_estimators=100;, score=0.898 total time=   1.9s\n",
      "[CV 3/3] END bootstrap=False, max_depth=62, max_features=auto, min_samples_leaf=1, min_samples_split=5, n_estimators=100;, score=0.898 total time=   1.9s\n",
      "[CV 1/3] END bootstrap=False, max_depth=41, max_features=sqrt, min_samples_leaf=1, min_samples_split=25, n_estimators=1168;, score=0.898 total time=  20.4s\n",
      "[CV 2/3] END bootstrap=False, max_depth=41, max_features=sqrt, min_samples_leaf=1, min_samples_split=25, n_estimators=1168;, score=0.899 total time=  20.6s\n"
     ]
    },
    {
     "name": "stdout",
     "output_type": "stream",
     "text": [
      "[CV 3/3] END bootstrap=False, max_depth=41, max_features=sqrt, min_samples_leaf=1, min_samples_split=25, n_estimators=1168;, score=0.903 total time=  20.7s\n",
      "[CV 1/3] END bootstrap=True, max_depth=52, max_features=sqrt, min_samples_leaf=1, min_samples_split=10, n_estimators=2236;, score=0.898 total time=  28.4s\n",
      "[CV 2/3] END bootstrap=True, max_depth=52, max_features=sqrt, min_samples_leaf=1, min_samples_split=10, n_estimators=2236;, score=0.899 total time=  29.2s\n",
      "[CV 3/3] END bootstrap=True, max_depth=52, max_features=sqrt, min_samples_leaf=1, min_samples_split=10, n_estimators=2236;, score=0.903 total time=  29.2s\n",
      "[CV 1/3] END bootstrap=True, max_depth=20, max_features=sqrt, min_samples_leaf=1, min_samples_split=10, n_estimators=252;, score=0.899 total time=   3.1s\n",
      "[CV 2/3] END bootstrap=True, max_depth=20, max_features=sqrt, min_samples_leaf=1, min_samples_split=10, n_estimators=252;, score=0.900 total time=   3.1s\n",
      "[CV 3/3] END bootstrap=True, max_depth=20, max_features=sqrt, min_samples_leaf=1, min_samples_split=10, n_estimators=252;, score=0.903 total time=   3.2s\n",
      "[CV 1/3] END bootstrap=False, max_depth=52, max_features=auto, min_samples_leaf=4, min_samples_split=20, n_estimators=557;, score=0.898 total time=   9.3s\n",
      "[CV 2/3] END bootstrap=False, max_depth=52, max_features=auto, min_samples_leaf=4, min_samples_split=20, n_estimators=557;, score=0.900 total time=   9.5s\n",
      "[CV 3/3] END bootstrap=False, max_depth=52, max_features=auto, min_samples_leaf=4, min_samples_split=20, n_estimators=557;, score=0.903 total time=   9.2s\n",
      "[CV 1/3] END bootstrap=True, max_depth=57, max_features=sqrt, min_samples_leaf=4, min_samples_split=5, n_estimators=863;, score=0.898 total time=  10.3s\n",
      "[CV 2/3] END bootstrap=True, max_depth=57, max_features=sqrt, min_samples_leaf=4, min_samples_split=5, n_estimators=863;, score=0.901 total time=  10.4s\n",
      "[CV 3/3] END bootstrap=True, max_depth=57, max_features=sqrt, min_samples_leaf=4, min_samples_split=5, n_estimators=863;, score=0.903 total time=  10.6s\n",
      "[CV 1/3] END bootstrap=True, max_depth=36, max_features=auto, min_samples_leaf=10, min_samples_split=20, n_estimators=2236;, score=0.899 total time=  24.2s\n",
      "[CV 2/3] END bootstrap=True, max_depth=36, max_features=auto, min_samples_leaf=10, min_samples_split=20, n_estimators=2236;, score=0.900 total time=  24.2s\n",
      "[CV 3/3] END bootstrap=True, max_depth=36, max_features=auto, min_samples_leaf=10, min_samples_split=20, n_estimators=2236;, score=0.903 total time=  23.1s\n",
      "[CV 1/3] END bootstrap=True, max_depth=41, max_features=auto, min_samples_leaf=1, min_samples_split=10, n_estimators=1168;, score=0.898 total time=  30.6s\n",
      "[CV 2/3] END bootstrap=True, max_depth=41, max_features=auto, min_samples_leaf=1, min_samples_split=10, n_estimators=1168;, score=0.900 total time=  18.1s\n",
      "[CV 3/3] END bootstrap=True, max_depth=41, max_features=auto, min_samples_leaf=1, min_samples_split=10, n_estimators=1168;, score=0.904 total time=  16.1s\n",
      "[CV 1/3] END bootstrap=False, max_depth=57, max_features=auto, min_samples_leaf=10, min_samples_split=10, n_estimators=1168;, score=0.899 total time=  18.8s\n",
      "[CV 2/3] END bootstrap=False, max_depth=57, max_features=auto, min_samples_leaf=10, min_samples_split=10, n_estimators=1168;, score=0.900 total time=  20.7s\n",
      "[CV 3/3] END bootstrap=False, max_depth=57, max_features=auto, min_samples_leaf=10, min_samples_split=10, n_estimators=1168;, score=0.903 total time=  20.9s\n",
      "[CV 1/3] END bootstrap=False, max_depth=46, max_features=sqrt, min_samples_leaf=2, min_samples_split=15, n_estimators=100;, score=0.898 total time=   1.9s\n",
      "[CV 2/3] END bootstrap=False, max_depth=46, max_features=sqrt, min_samples_leaf=2, min_samples_split=15, n_estimators=100;, score=0.900 total time=   1.9s\n",
      "[CV 3/3] END bootstrap=False, max_depth=46, max_features=sqrt, min_samples_leaf=2, min_samples_split=15, n_estimators=100;, score=0.902 total time=   2.0s\n",
      "[CV 1/3] END bootstrap=True, max_depth=57, max_features=auto, min_samples_leaf=10, min_samples_split=10, n_estimators=2847;, score=0.899 total time=  33.5s\n",
      "[CV 2/3] END bootstrap=True, max_depth=57, max_features=auto, min_samples_leaf=10, min_samples_split=10, n_estimators=2847;, score=0.901 total time=  33.3s\n",
      "[CV 3/3] END bootstrap=True, max_depth=57, max_features=auto, min_samples_leaf=10, min_samples_split=10, n_estimators=2847;, score=0.904 total time=  34.4s\n",
      "[CV 1/3] END bootstrap=True, max_depth=83, max_features=sqrt, min_samples_leaf=2, min_samples_split=5, n_estimators=252;, score=0.898 total time=   3.2s\n",
      "[CV 2/3] END bootstrap=True, max_depth=83, max_features=sqrt, min_samples_leaf=2, min_samples_split=5, n_estimators=252;, score=0.900 total time=   3.3s\n",
      "[CV 3/3] END bootstrap=True, max_depth=83, max_features=sqrt, min_samples_leaf=2, min_samples_split=5, n_estimators=252;, score=0.902 total time=   3.6s\n",
      "[CV 1/3] END bootstrap=True, max_depth=99, max_features=auto, min_samples_leaf=10, min_samples_split=25, n_estimators=2389;, score=0.900 total time=  25.7s\n",
      "[CV 2/3] END bootstrap=True, max_depth=99, max_features=auto, min_samples_leaf=10, min_samples_split=25, n_estimators=2389;, score=0.900 total time=  26.0s\n",
      "[CV 3/3] END bootstrap=True, max_depth=99, max_features=auto, min_samples_leaf=10, min_samples_split=25, n_estimators=2389;, score=0.904 total time=  25.6s\n",
      "[CV 1/3] END bootstrap=False, max_depth=78, max_features=sqrt, min_samples_leaf=10, min_samples_split=25, n_estimators=1626;, score=0.899 total time=  24.9s\n",
      "[CV 2/3] END bootstrap=False, max_depth=78, max_features=sqrt, min_samples_leaf=10, min_samples_split=25, n_estimators=1626;, score=0.899 total time=  25.3s\n",
      "[CV 3/3] END bootstrap=False, max_depth=78, max_features=sqrt, min_samples_leaf=10, min_samples_split=25, n_estimators=1626;, score=0.903 total time=  24.8s\n",
      "[CV 1/3] END bootstrap=False, max_depth=110, max_features=auto, min_samples_leaf=1, min_samples_split=15, n_estimators=1931;, score=0.897 total time=  38.5s\n",
      "[CV 2/3] END bootstrap=False, max_depth=110, max_features=auto, min_samples_leaf=1, min_samples_split=15, n_estimators=1931;, score=0.899 total time=  39.7s\n",
      "[CV 3/3] END bootstrap=False, max_depth=110, max_features=auto, min_samples_leaf=1, min_samples_split=15, n_estimators=1931;, score=0.901 total time=  38.5s\n",
      "[CV 1/3] END bootstrap=False, max_depth=78, max_features=auto, min_samples_leaf=4, min_samples_split=5, n_estimators=1015;, score=0.898 total time=  17.5s\n",
      "[CV 2/3] END bootstrap=False, max_depth=78, max_features=auto, min_samples_leaf=4, min_samples_split=5, n_estimators=1015;, score=0.900 total time=  18.0s\n",
      "[CV 3/3] END bootstrap=False, max_depth=78, max_features=auto, min_samples_leaf=4, min_samples_split=5, n_estimators=1015;, score=0.902 total time=  18.9s\n",
      "[CV 1/3] END bootstrap=False, max_depth=88, max_features=auto, min_samples_leaf=6, min_samples_split=15, n_estimators=2389;, score=0.899 total time=  41.2s\n",
      "[CV 2/3] END bootstrap=False, max_depth=88, max_features=auto, min_samples_leaf=6, min_samples_split=15, n_estimators=2389;, score=0.901 total time=  42.6s\n",
      "[CV 3/3] END bootstrap=False, max_depth=88, max_features=auto, min_samples_leaf=6, min_samples_split=15, n_estimators=2389;, score=0.904 total time=  41.8s\n",
      "[CV 1/3] END bootstrap=True, max_depth=67, max_features=auto, min_samples_leaf=1, min_samples_split=15, n_estimators=1015;, score=0.898 total time=  13.1s\n",
      "[CV 2/3] END bootstrap=True, max_depth=67, max_features=auto, min_samples_leaf=1, min_samples_split=15, n_estimators=1015;, score=0.901 total time=  14.5s\n",
      "[CV 3/3] END bootstrap=True, max_depth=67, max_features=auto, min_samples_leaf=1, min_samples_split=15, n_estimators=1015;, score=0.903 total time=  13.6s\n",
      "[CV 1/3] END bootstrap=True, max_depth=73, max_features=auto, min_samples_leaf=4, min_samples_split=10, n_estimators=252;, score=0.900 total time=   3.3s\n",
      "[CV 2/3] END bootstrap=True, max_depth=73, max_features=auto, min_samples_leaf=4, min_samples_split=10, n_estimators=252;, score=0.901 total time=   3.5s\n",
      "[CV 3/3] END bootstrap=True, max_depth=73, max_features=auto, min_samples_leaf=4, min_samples_split=10, n_estimators=252;, score=0.904 total time=   3.5s\n",
      "[CV 1/3] END bootstrap=False, max_depth=10, max_features=auto, min_samples_leaf=4, min_samples_split=25, n_estimators=2847;, score=0.899 total time=  35.2s\n"
     ]
    },
    {
     "name": "stdout",
     "output_type": "stream",
     "text": [
      "[CV 2/3] END bootstrap=False, max_depth=10, max_features=auto, min_samples_leaf=4, min_samples_split=25, n_estimators=2847;, score=0.900 total time=  35.1s\n",
      "[CV 3/3] END bootstrap=False, max_depth=10, max_features=auto, min_samples_leaf=4, min_samples_split=25, n_estimators=2847;, score=0.903 total time=  34.7s\n",
      "[CV 1/3] END bootstrap=False, max_depth=36, max_features=auto, min_samples_leaf=10, min_samples_split=15, n_estimators=557;, score=0.900 total time=   9.4s\n",
      "[CV 2/3] END bootstrap=False, max_depth=36, max_features=auto, min_samples_leaf=10, min_samples_split=15, n_estimators=557;, score=0.899 total time=   9.0s\n",
      "[CV 3/3] END bootstrap=False, max_depth=36, max_features=auto, min_samples_leaf=10, min_samples_split=15, n_estimators=557;, score=0.903 total time=   9.2s\n",
      "[CV 1/3] END bootstrap=False, max_depth=10, max_features=auto, min_samples_leaf=1, min_samples_split=25, n_estimators=710;, score=0.899 total time=   8.1s\n",
      "[CV 2/3] END bootstrap=False, max_depth=10, max_features=auto, min_samples_leaf=1, min_samples_split=25, n_estimators=710;, score=0.900 total time=   8.1s\n",
      "[CV 3/3] END bootstrap=False, max_depth=10, max_features=auto, min_samples_leaf=1, min_samples_split=25, n_estimators=710;, score=0.901 total time=   8.4s\n",
      "[CV 1/3] END bootstrap=True, max_depth=20, max_features=sqrt, min_samples_leaf=6, min_samples_split=20, n_estimators=557;, score=0.900 total time=   6.2s\n",
      "[CV 2/3] END bootstrap=True, max_depth=20, max_features=sqrt, min_samples_leaf=6, min_samples_split=20, n_estimators=557;, score=0.901 total time=   6.4s\n",
      "[CV 3/3] END bootstrap=True, max_depth=20, max_features=sqrt, min_samples_leaf=6, min_samples_split=20, n_estimators=557;, score=0.903 total time=   6.6s\n",
      "[CV 1/3] END bootstrap=False, max_depth=83, max_features=auto, min_samples_leaf=10, min_samples_split=10, n_estimators=2694;, score=0.899 total time=  46.0s\n",
      "[CV 2/3] END bootstrap=False, max_depth=83, max_features=auto, min_samples_leaf=10, min_samples_split=10, n_estimators=2694;, score=0.899 total time=  43.4s\n",
      "[CV 3/3] END bootstrap=False, max_depth=83, max_features=auto, min_samples_leaf=10, min_samples_split=10, n_estimators=2694;, score=0.904 total time=  43.4s\n",
      "[CV 1/3] END bootstrap=False, max_depth=67, max_features=auto, min_samples_leaf=1, min_samples_split=25, n_estimators=100;, score=0.898 total time=   1.8s\n",
      "[CV 2/3] END bootstrap=False, max_depth=67, max_features=auto, min_samples_leaf=1, min_samples_split=25, n_estimators=100;, score=0.899 total time=   1.8s\n",
      "[CV 3/3] END bootstrap=False, max_depth=67, max_features=auto, min_samples_leaf=1, min_samples_split=25, n_estimators=100;, score=0.902 total time=   1.9s\n",
      "[CV 1/3] END bootstrap=True, max_depth=57, max_features=auto, min_samples_leaf=6, min_samples_split=10, n_estimators=863;, score=0.900 total time=  10.4s\n",
      "[CV 2/3] END bootstrap=True, max_depth=57, max_features=auto, min_samples_leaf=6, min_samples_split=10, n_estimators=863;, score=0.900 total time=  10.1s\n",
      "[CV 3/3] END bootstrap=True, max_depth=57, max_features=auto, min_samples_leaf=6, min_samples_split=10, n_estimators=863;, score=0.904 total time=   9.9s\n",
      "[CV 1/3] END bootstrap=False, max_depth=99, max_features=sqrt, min_samples_leaf=10, min_samples_split=20, n_estimators=2236;, score=0.899 total time=  34.7s\n",
      "[CV 2/3] END bootstrap=False, max_depth=99, max_features=sqrt, min_samples_leaf=10, min_samples_split=20, n_estimators=2236;, score=0.900 total time=  37.1s\n",
      "[CV 3/3] END bootstrap=False, max_depth=99, max_features=sqrt, min_samples_leaf=10, min_samples_split=20, n_estimators=2236;, score=0.903 total time=  35.7s\n",
      "[CV 1/3] END bootstrap=True, max_depth=31, max_features=auto, min_samples_leaf=2, min_samples_split=15, n_estimators=405;, score=0.898 total time=   5.4s\n",
      "[CV 2/3] END bootstrap=True, max_depth=31, max_features=auto, min_samples_leaf=2, min_samples_split=15, n_estimators=405;, score=0.901 total time=   5.7s\n",
      "[CV 3/3] END bootstrap=True, max_depth=31, max_features=auto, min_samples_leaf=2, min_samples_split=15, n_estimators=405;, score=0.902 total time=   5.3s\n",
      "[CV 1/3] END bootstrap=True, max_depth=83, max_features=sqrt, min_samples_leaf=2, min_samples_split=10, n_estimators=1931;, score=0.899 total time=  23.9s\n",
      "[CV 2/3] END bootstrap=True, max_depth=83, max_features=sqrt, min_samples_leaf=2, min_samples_split=10, n_estimators=1931;, score=0.900 total time=  24.1s\n",
      "[CV 3/3] END bootstrap=True, max_depth=83, max_features=sqrt, min_samples_leaf=2, min_samples_split=10, n_estimators=1931;, score=0.903 total time=  24.0s\n",
      "[CV 1/3] END bootstrap=False, max_depth=52, max_features=auto, min_samples_leaf=1, min_samples_split=15, n_estimators=2694;, score=0.897 total time=  49.6s\n",
      "[CV 2/3] END bootstrap=False, max_depth=52, max_features=auto, min_samples_leaf=1, min_samples_split=15, n_estimators=2694;, score=0.899 total time=  53.5s\n",
      "[CV 3/3] END bootstrap=False, max_depth=52, max_features=auto, min_samples_leaf=1, min_samples_split=15, n_estimators=2694;, score=0.901 total time=  54.5s\n",
      "[CV 1/3] END bootstrap=True, max_depth=25, max_features=sqrt, min_samples_leaf=10, min_samples_split=25, n_estimators=2694;, score=0.900 total time=  33.4s\n",
      "[CV 2/3] END bootstrap=True, max_depth=25, max_features=sqrt, min_samples_leaf=10, min_samples_split=25, n_estimators=2694;, score=0.901 total time=  32.3s\n",
      "[CV 3/3] END bootstrap=True, max_depth=25, max_features=sqrt, min_samples_leaf=10, min_samples_split=25, n_estimators=2694;, score=0.903 total time=  31.1s\n"
     ]
    },
    {
     "data": {
      "text/plain": [
       "RandomizedSearchCV(cv=3, estimator=RandomForestClassifier(), n_iter=100,\n",
       "                   param_distributions={'bootstrap': [True, False],\n",
       "                                        'max_depth': [10, 15, 20, 25, 31, 36,\n",
       "                                                      41, 46, 52, 57, 62, 67,\n",
       "                                                      73, 78, 83, 88, 94, 99,\n",
       "                                                      104, 110],\n",
       "                                        'max_features': ['auto', 'sqrt'],\n",
       "                                        'min_samples_leaf': [1, 2, 4, 6, 10],\n",
       "                                        'min_samples_split': [5, 10, 15, 20,\n",
       "                                                              25],\n",
       "                                        'n_estimators': [100, 252, 405, 557,\n",
       "                                                         710, 863, 1015, 1168,\n",
       "                                                         1321, 1473, 1626, 1778,\n",
       "                                                         1931, 2084, 2236, 2389,\n",
       "                                                         2542, 2694, 2847,\n",
       "                                                         3000]},\n",
       "                   random_state=123, verbose=3)"
      ]
     },
     "execution_count": 220,
     "metadata": {},
     "output_type": "execute_result"
    }
   ],
   "source": [
    "rf = RandomForestClassifier()\n",
    "# create parameter dictionary \n",
    "param_grid = {'bootstrap': [True, False],\n",
    "                'max_depth': [int(x) for x in np.linspace(10, 110, num = 20)],\n",
    "                'max_features': ['auto', 'sqrt'],\n",
    "                'min_samples_leaf': [1, 2, 4, 6, 10],\n",
    "                'min_samples_split': [5, 10, 15, 20, 25],\n",
    "                'n_estimators': [int(x) for x in np.linspace(start = 100, stop = 3000, num = 20)]}\n",
    "#initiate grid search\n",
    "grid = RandomizedSearchCV(rf,param_grid,\n",
    "                          n_iter=100,\n",
    "                          random_state=123,\n",
    "                          verbose=3,\n",
    "                          cv=3)\n",
    "#fit train data\n",
    "\n",
    "grid.fit(X_train,y_train)"
   ]
  },
  {
   "cell_type": "code",
   "execution_count": 627,
   "id": "281be746",
   "metadata": {
    "scrolled": false
   },
   "outputs": [
    {
     "name": "stdout",
     "output_type": "stream",
     "text": [
      "{'n_estimators': 557, 'min_samples_split': 20, 'min_samples_leaf': 6, 'max_features': 'sqrt', 'max_depth': 20, 'bootstrap': True}\n",
      "RandomForestClassifier(max_depth=20, max_features='sqrt', min_samples_leaf=6,\n",
      "                       min_samples_split=20, n_estimators=557)\n"
     ]
    }
   ],
   "source": [
    "print(grid.best_params_)\n",
    "print(grid.best_estimator_)"
   ]
  },
  {
   "cell_type": "code",
   "execution_count": 915,
   "id": "01dc2bf9",
   "metadata": {
    "scrolled": true
   },
   "outputs": [
    {
     "data": {
      "text/plain": [
       "['default_yes']"
      ]
     },
     "execution_count": 915,
     "metadata": {},
     "output_type": "execute_result"
    }
   ],
   "source": [
    "list(set(X_train.columns) - set( X_test.columns))"
   ]
  },
  {
   "cell_type": "code",
   "execution_count": 916,
   "id": "40129493",
   "metadata": {
    "scrolled": true
   },
   "outputs": [
    {
     "name": "stderr",
     "output_type": "stream",
     "text": [
      "/Users/dimitrikestenbaum/opt/anaconda3/lib/python3.9/site-packages/pandas/core/frame.py:4906: SettingWithCopyWarning: \n",
      "A value is trying to be set on a copy of a slice from a DataFrame\n",
      "\n",
      "See the caveats in the documentation: https://pandas.pydata.org/pandas-docs/stable/user_guide/indexing.html#returning-a-view-versus-a-copy\n",
      "  return super().drop(\n"
     ]
    }
   ],
   "source": [
    "X_train.drop(columns=['default_yes'],inplace=True)"
   ]
  },
  {
   "cell_type": "markdown",
   "id": "c971492c",
   "metadata": {},
   "source": [
    "{'n_estimators': 733,\n",
    " 'min_samples_split': 20,\n",
    " 'min_samples_leaf': 4,\n",
    " 'max_features': 'sqrt',\n",
    " 'max_depth': 110,\n",
    " 'bootstrap': True}"
   ]
  },
  {
   "cell_type": "markdown",
   "id": "7a096d70",
   "metadata": {},
   "source": [
    "{'n_estimators': 557, 'min_samples_split': 20, 'min_samples_leaf': 6, 'max_features': 'sqrt', 'max_depth': 20, 'bootstrap': True}\n",
    "RandomForestClassifier(max_depth=20, max_features='sqrt', min_samples_leaf=6,\n",
    "                       min_samples_split=20, n_estimators=557)"
   ]
  },
  {
   "cell_type": "code",
   "execution_count": 917,
   "id": "d3e7e81f",
   "metadata": {
    "scrolled": true
   },
   "outputs": [
    {
     "data": {
      "text/plain": [
       "RandomForestClassifier(max_depth=20, max_features='sqrt', min_samples_leaf=6,\n",
       "                       min_samples_split=20, n_estimators=557,\n",
       "                       random_state=123)"
      ]
     },
     "execution_count": 917,
     "metadata": {},
     "output_type": "execute_result"
    }
   ],
   "source": [
    "clf = RandomForestClassifier(max_depth=20, max_features='sqrt', min_samples_leaf=6, min_samples_split=20, n_estimators=557,random_state=123)\n",
    "\n",
    "clf.fit(X_train, y_train)"
   ]
  },
  {
   "cell_type": "code",
   "execution_count": 918,
   "id": "01486ce0",
   "metadata": {},
   "outputs": [],
   "source": [
    "feature_importances = clf.feature_importances_"
   ]
  },
  {
   "cell_type": "code",
   "execution_count": 919,
   "id": "5b4cd346",
   "metadata": {},
   "outputs": [
    {
     "data": {
      "image/png": "[encoded data removed]",
      "text/plain": [
       "<Figure size 1080x1080 with 1 Axes>"
      ]
     },
     "metadata": {
      "needs_background": "light"
     },
     "output_type": "display_data"
    }
   ],
   "source": [
    "forest_importances = pd.Series(feature_importances, index=X_train.columns.to_list())\n",
    "\n",
    "fig, ax = plt.subplots(figsize=(15,15))\n",
    "forest_importances.plot.bar(ax=ax)\n",
    "ax.set_title(\"Feature importances using MDI\")\n",
    "ax.set_ylabel(\"Mean decrease in impurity\")\n",
    "fig.tight_layout()"
   ]
  },
  {
   "cell_type": "code",
   "execution_count": null,
   "id": "3f6b6c1e",
   "metadata": {},
   "outputs": [],
   "source": [
    "rf_preds = clf.predict_proba(X_test)[:,1]"
   ]
  },
  {
   "cell_type": "code",
   "execution_count": null,
   "id": "da22fa57",
   "metadata": {
    "scrolled": true
   },
   "outputs": [],
   "source": [
    "final_df = X_test.copy(deep=True)\n",
    "final_df = X_test[['client_id']]\n",
    "final_df['subscribe'] = rf_preds"
   ]
  },
  {
   "cell_type": "code",
   "execution_count": null,
   "id": "ef36f7de",
   "metadata": {
    "scrolled": true
   },
   "outputs": [],
   "source": [
    "final_df.client_id = final_df.client_id.astype('int')"
   ]
  },
  {
   "cell_type": "code",
   "execution_count": null,
   "id": "b1c6ff81",
   "metadata": {},
   "outputs": [],
   "source": [
    "final_df.head()"
   ]
  },
  {
   "cell_type": "code",
   "execution_count": null,
   "id": "29a6cdb4",
   "metadata": {},
   "outputs": [],
   "source": [
    "final_df.to_csv('rf_submission10.csv',index=False)"
   ]
  }
 ],
 "metadata": {
  "kernelspec": {
   "display_name": "Python 3 (ipykernel)",
   "language": "python",
   "name": "python3"
  },
  "language_info": {
   "codemirror_mode": {
    "name": "ipython",
    "version": 3
   },
   "file_extension": ".py",
   "mimetype": "text/x-python",
   "name": "python",
   "nbconvert_exporter": "python",
   "pygments_lexer": "ipython3",
   "version": "3.9.7"
  }
 },
 "nbformat": 4,
 "nbformat_minor": 5
}
