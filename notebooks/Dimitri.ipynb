{
 "cells": [
  {
   "cell_type": "code",
   "execution_count": 420,
   "id": "2a0970f7",
   "metadata": {},
   "outputs": [],
   "source": [
    "import pandas as pd\n",
    "import numpy as np\n",
    "import matplotlib.pyplot as plt\n",
    "import os\n",
    "import missingno as msno\n",
    "import time\n",
    "%matplotlib inline\n",
    "from sklearn.model_selection import train_test_split\n",
    "from sklearn.ensemble import RandomForestClassifier\n",
    "from sklearn.metrics import accuracy_score\n",
    "from sklearn.impute import SimpleImputer\n",
    "from sklearn.model_selection import RandomizedSearchCV\n",
    "from imblearn.over_sampling import RandomOverSampler\n",
    "from sklearn.preprocessing import OneHotEncoder\n",
    "from sklearn.preprocessing import LabelEncoder\n",
    "from sklearn.linear_model import LogisticRegression\n",
    "from sklearn import metrics\n",
    "from sklearn.feature_selection import SequentialFeatureSelector\n",
    "from sklearn.ensemble import AdaBoostClassifier\n",
    "from sklearn.tree import DecisionTreeClassifier\n",
    "from sklearn.pipeline import Pipeline\n",
    "from sklearn.feature_selection import RFECV"
   ]
  },
  {
   "cell_type": "code",
   "execution_count": 346,
   "id": "bacf243b",
   "metadata": {},
   "outputs": [
    {
     "data": {
      "text/plain": [
       "'/Users/dimitrikestenbaum/Desktop/mbd2021-bank-telemarketing-outcome-prediction/notebooks'"
      ]
     },
     "execution_count": 346,
     "metadata": {},
     "output_type": "execute_result"
    }
   ],
   "source": [
    "os. getcwd()"
   ]
  },
  {
   "cell_type": "markdown",
   "id": "b676fd20",
   "metadata": {},
   "source": [
    "### Function Definitions"
   ]
  },
  {
   "cell_type": "code",
   "execution_count": 347,
   "id": "4106927e",
   "metadata": {},
   "outputs": [],
   "source": [
    "def label_encoder(df,cols):\n",
    "    \"\"\"iterates over list of cols\n",
    "       transforming each col within \n",
    "       a dataframe of only categorical columns\n",
    "       to a numerical value\n",
    "       args: a dataframe with only categorical features \n",
    "       and a list of col names\n",
    "       output: the df given as input is returned\n",
    "       with the numerical transformations of each categorical\n",
    "    \"\"\"\n",
    "    for col in cols:\n",
    "        df[col] = df[col].astype('category').cat.codes\n",
    "    return(df)"
   ]
  },
  {
   "cell_type": "code",
   "execution_count": 348,
   "id": "452e8e75",
   "metadata": {},
   "outputs": [],
   "source": [
    "def impute_indicator(df_train,df_test,strategy_num='mean',strategy_cat='most_frequent',with_indicators=False):\n",
    "    \"\"\"\n",
    "    imputes missing values within DataFrames,\n",
    "    with two distinct imputation strategies\n",
    "    for numerical and categorical cols.\n",
    "    Params: train and test DataFrames, string value for numeric\n",
    "    impuation strategy, string value for categorical\n",
    "    imputation strategy, boolean value to indicate\n",
    "    whether a imputation indication column\n",
    "    should be concatenated to the DataFrame.\n",
    "    returns: imputed train and test DataFrames\n",
    "    \"\"\"\n",
    "    cols_with_missings_train = [col for col in df_train.columns if df_train[col].isnull().sum() > 0]\n",
    "    \n",
    "    cols_with_missings_test = [col for col in df_test.columns if df_test[col].isnull().sum() > 0]\n",
    "    # Create an indicator column for columns that were imputed\n",
    "    \n",
    "    if with_indicators == True:\n",
    "        indicators_train = df_train[cols_with_missings_train].isnull().astype(int).add_suffix('_indicator')\n",
    "        indicators_test =  df_test[cols_with_missings_test].isnull().astype(int).add_suffix('_indicator')\n",
    "    \n",
    "        df_train = pd.concat([df_train,indicators_train],axis=1)\n",
    "        df_test = pd.concat([df_test,indicators_test],axis=1)\n",
    "    \n",
    "    imp_mean = SimpleImputer(missing_values=np.nan, strategy=strategy_num)\n",
    "    imp_freq = SimpleImputer(missing_values=np.nan, strategy=strategy_cat)\n",
    "    \n",
    "\n",
    "    for col in df_train[cols_with_missings_train].columns:\n",
    "        if df_train[col].dtype == 'object':\n",
    "            imp_freq=imp_freq.fit(df_train[[col]])\n",
    "            df_train[col] = imp_freq.transform(df_train[[col]])\n",
    "        else:\n",
    "            imp_mean=imp_mean.fit(df_train[[col]])\n",
    "            df_train[col] = imp_mean.transform(df_train[[col]])\n",
    "    \n",
    "    for col in df_test[cols_with_missings_test].columns:\n",
    "        if df_test[col].dtype == 'object':\n",
    "            imp_freq=imp_freq.fit(df_test[[col]])\n",
    "            df_test[col] = imp_freq.transform(df_test[[col]])\n",
    "        else:\n",
    "            imp_mean=imp_mean.fit(df_test[[col]])\n",
    "            df_test[col] = imp_mean.transform(df_test[[col]])\n",
    "\n",
    "    return df_train, df_test"
   ]
  },
  {
   "cell_type": "code",
   "execution_count": 431,
   "id": "8d9177d0",
   "metadata": {},
   "outputs": [],
   "source": [
    "def compare_models(models,preds_test,preds_val,model_names,y_test,y_val):\n",
    "    \"\"\"This function makes evaluates predictions for a list of models, \n",
    "    scores the models using AUC, and returns a dataframe with the class \n",
    "    an AUC for each model and its predictions.\n",
    "    Args: A list of model variables, a list of corresponding prediction values, and a list of model names in string form. \n",
    "    \"\"\"\n",
    "    scoring_df = pd.DataFrame()\n",
    "    for ind, mod in enumerate(models):\n",
    "        # Train\n",
    "        fpr_train, tpr_train, thresholds = metrics.roc_curve(y_test, preds[ind], pos_label=1)\n",
    "        model_auc_train = metrics.auc(fpr_train, tpr_train)\n",
    "        # Test\n",
    "        fpr_test, tpr_test, thresholds = metrics.roc_curve(y_val, preds[ind], pos_label=1)\n",
    "        model_auc_test = metrics.auc(fpr_test, tpr_test)\n",
    "        scoring_df[model_names[ind]] = [round(model_auc_train,2)]\n",
    "        scoring_df[model_names[ind]] = [round(model_auc_test,2)]\n",
    "    scoring_df.index = ['Train AUC','Test AUC']\n",
    "    return(scoring_df)"
   ]
  },
  {
   "cell_type": "code",
   "execution_count": 350,
   "id": "79a4fc0f",
   "metadata": {},
   "outputs": [],
   "source": [
    "def ordinal_encoder(df, col, order):\n",
    "    \"\"\"\n",
    "    This function uses cat.codes \n",
    "    encoding but label mappings are determined\n",
    "    using a predetermined order.\n",
    "    Params: DataFrame, column of DataFrame \n",
    "    to be encoded, list object with ordered\n",
    "    categorical labels.\n",
    "    \"\"\"\n",
    "    df[col] = df[col].astype('category')\n",
    "    df[col] = df[col].cat.reorder_categories(order, ordered=True)\n",
    "    df[col] = df[col].cat.codes.astype(int)"
   ]
  },
  {
   "cell_type": "code",
   "execution_count": 352,
   "id": "b382451e",
   "metadata": {},
   "outputs": [],
   "source": [
    "# Some of the code from this function was inspired and adapted form the following source: \n",
    "# https://towardsdatascience.com/logistic-regression-model-tuning-with-scikit-learn-part-1-425142e01af5\n",
    "def hybrid_encoder(df_train, df_test):\n",
    "    \"\"\"\n",
    "    This function returns two dataframes which have been \n",
    "    encoded with a combination of label, ordinal, and dummy encodings.\n",
    "    params: train and test dataframes\n",
    "    \"\"\"\n",
    "    # Label encode categorical variables.\n",
    "\n",
    "    label_encoder = LabelEncoder()\n",
    "    mappings = []\n",
    "\n",
    "    # Desired label orders for categorical columns.\n",
    "    education_levels_ordered = ['unknown', 'illiterate', 'basic.4y', 'basic.6y', 'basic.9y', 'high.school', 'professional.course', 'university.degree']\n",
    "    month_ordered = ['mar', 'apr', 'may', 'jun', 'jul', 'aug', 'sep', 'oct', 'nov', 'dec']\n",
    "    weekdays_ordered = ['mon', 'tue', 'wed', 'thu', 'fri']\n",
    "\n",
    "    # Dummy variables for high-cardinality categoricals \n",
    "    df_train = pd.concat([df_train, pd.get_dummies(df_train['job'])],axis=1)\n",
    "    df_train.drop(columns=['job'],inplace=True)\n",
    "\n",
    "    # Use ordered cat.codes for days, months, and education\n",
    "    ordinal_encoder(df_train, 'education', education_levels_ordered)\n",
    "    ordinal_encoder(df_train, 'month', month_ordered)\n",
    "    ordinal_encoder(df_train, 'day_of_week', weekdays_ordered)\n",
    "\n",
    "    # Same label encoding for rest since low cardinality\n",
    "    for i, col in enumerate(df_train):\n",
    "        if df_train[col].dtype == 'object':\n",
    "            df_train[col] = label_encoder.fit_transform(np.array(df_train[col].astype(str)).reshape((-1,)))\n",
    "            df_test[col] = label_encoder.transform(np.array(df_test[col].astype(str)).reshape((-1,)))\n",
    "            mappings.append(dict(zip(label_encoder.classes_, range(1, len(label_encoder.classes_)+1))))\n",
    "\n",
    "    # Desired label orders for categorical columns.\n",
    "    education_levels_ordered = ['unknown', 'illiterate', 'basic.4y', 'basic.6y', 'basic.9y', 'high.school', 'professional.course', 'university.degree']\n",
    "    month_ordered = ['mar', 'apr', 'may', 'jun', 'jul', 'aug', 'sep', 'oct', 'nov', 'dec']\n",
    "    weekdays_ordered = ['mon', 'tue', 'wed', 'thu', 'fri']\n",
    "\n",
    "    # Dummy variables for high-cardinality categoricals \n",
    "    df_test = pd.concat([df_test, pd.get_dummies(df_test['job'])],axis=1)\n",
    "    df_test.drop(columns=['job'],inplace=True)\n",
    "\n",
    "    # Use ordered cat.codes for days, months, and education\n",
    "    ordinal_encoder(df_test, 'education', education_levels_ordered)\n",
    "    ordinal_encoder(df_test, 'month', month_ordered)\n",
    "    ordinal_encoder(df_test, 'day_of_week', weekdays_ordered)\n",
    "    \n",
    "    return(df_train,df_test)"
   ]
  },
  {
   "cell_type": "markdown",
   "id": "e1e650f2",
   "metadata": {},
   "source": [
    "### Pipeline Control Flow"
   ]
  },
  {
   "cell_type": "code",
   "execution_count": 353,
   "id": "3e15a315",
   "metadata": {},
   "outputs": [],
   "source": [
    "# Preprocessing\n",
    "\n",
    "# Use label encoding code\n",
    "label_encoding = False \n",
    "\n",
    "# Use imputation function\n",
    "impute_indicate = True\n",
    "\n",
    "# Impute missing categorical variables as 'missing'\n",
    "impute_missing = False\n",
    "\n",
    "# Use one-hot-encoding code\n",
    "one_hot_encoding = False\n",
    "\n",
    "# Use feature engineering code\n",
    "feature_engineering=False\n",
    "\n",
    "# Run forward-stepwise feature selection\n",
    "feature_selection_fsws=False\n",
    "\n",
    "# Apply feature seleciton based on IV multicollinearity \n",
    "feature_selection_multicoli=False\n",
    "\n",
    "# Apply ordinal encoding for ordinal categoricals and get dummies for high-cardinality categoricals\n",
    "hybrid_categorical_encoding=True"
   ]
  },
  {
   "cell_type": "code",
   "execution_count": 354,
   "id": "a06efea2",
   "metadata": {},
   "outputs": [],
   "source": [
    "df_train = pd.read_csv(\"../data/bank_mkt_train.csv\")"
   ]
  },
  {
   "cell_type": "code",
   "execution_count": 355,
   "id": "df627921",
   "metadata": {
    "scrolled": false
   },
   "outputs": [
    {
     "data": {
      "text/html": [
       "<div>\n",
       "<style scoped>\n",
       "    .dataframe tbody tr th:only-of-type {\n",
       "        vertical-align: middle;\n",
       "    }\n",
       "\n",
       "    .dataframe tbody tr th {\n",
       "        vertical-align: top;\n",
       "    }\n",
       "\n",
       "    .dataframe thead th {\n",
       "        text-align: right;\n",
       "    }\n",
       "</style>\n",
       "<table border=\"1\" class=\"dataframe\">\n",
       "  <thead>\n",
       "    <tr style=\"text-align: right;\">\n",
       "      <th></th>\n",
       "      <th>client_id</th>\n",
       "      <th>age</th>\n",
       "      <th>job</th>\n",
       "      <th>marital</th>\n",
       "      <th>education</th>\n",
       "      <th>default</th>\n",
       "      <th>housing</th>\n",
       "      <th>loan</th>\n",
       "      <th>contact</th>\n",
       "      <th>month</th>\n",
       "      <th>...</th>\n",
       "      <th>campaign</th>\n",
       "      <th>pdays</th>\n",
       "      <th>previous</th>\n",
       "      <th>poutcome</th>\n",
       "      <th>emp.var.rate</th>\n",
       "      <th>cons.price.idx</th>\n",
       "      <th>cons.conf.idx</th>\n",
       "      <th>euribor3m</th>\n",
       "      <th>nr.employed</th>\n",
       "      <th>subscribe</th>\n",
       "    </tr>\n",
       "  </thead>\n",
       "  <tbody>\n",
       "    <tr>\n",
       "      <th>0</th>\n",
       "      <td>29925</td>\n",
       "      <td>42.0</td>\n",
       "      <td>management</td>\n",
       "      <td>married</td>\n",
       "      <td>basic.9y</td>\n",
       "      <td>no</td>\n",
       "      <td>no</td>\n",
       "      <td>no</td>\n",
       "      <td>cellular</td>\n",
       "      <td>jul</td>\n",
       "      <td>...</td>\n",
       "      <td>1.0</td>\n",
       "      <td>999.0</td>\n",
       "      <td>0.0</td>\n",
       "      <td>nonexistent</td>\n",
       "      <td>1.4</td>\n",
       "      <td>93.918</td>\n",
       "      <td>-42.7</td>\n",
       "      <td>4.968</td>\n",
       "      <td>5228.1</td>\n",
       "      <td>0</td>\n",
       "    </tr>\n",
       "    <tr>\n",
       "      <th>1</th>\n",
       "      <td>37529</td>\n",
       "      <td>35.0</td>\n",
       "      <td>unemployed</td>\n",
       "      <td>married</td>\n",
       "      <td>university.degree</td>\n",
       "      <td>no</td>\n",
       "      <td>yes</td>\n",
       "      <td>no</td>\n",
       "      <td>telephone</td>\n",
       "      <td>jun</td>\n",
       "      <td>...</td>\n",
       "      <td>4.0</td>\n",
       "      <td>999.0</td>\n",
       "      <td>0.0</td>\n",
       "      <td>nonexistent</td>\n",
       "      <td>1.4</td>\n",
       "      <td>94.465</td>\n",
       "      <td>-41.8</td>\n",
       "      <td>4.960</td>\n",
       "      <td>5228.1</td>\n",
       "      <td>0</td>\n",
       "    </tr>\n",
       "    <tr>\n",
       "      <th>2</th>\n",
       "      <td>2757</td>\n",
       "      <td>44.0</td>\n",
       "      <td>technician</td>\n",
       "      <td>married</td>\n",
       "      <td>basic.9y</td>\n",
       "      <td>no</td>\n",
       "      <td>yes</td>\n",
       "      <td>yes</td>\n",
       "      <td>cellular</td>\n",
       "      <td>may</td>\n",
       "      <td>...</td>\n",
       "      <td>1.0</td>\n",
       "      <td>999.0</td>\n",
       "      <td>0.0</td>\n",
       "      <td>nonexistent</td>\n",
       "      <td>-1.8</td>\n",
       "      <td>92.893</td>\n",
       "      <td>-46.2</td>\n",
       "      <td>1.264</td>\n",
       "      <td>5099.1</td>\n",
       "      <td>0</td>\n",
       "    </tr>\n",
       "    <tr>\n",
       "      <th>3</th>\n",
       "      <td>9642</td>\n",
       "      <td>45.0</td>\n",
       "      <td>services</td>\n",
       "      <td>married</td>\n",
       "      <td>high.school</td>\n",
       "      <td>no</td>\n",
       "      <td>yes</td>\n",
       "      <td>no</td>\n",
       "      <td>cellular</td>\n",
       "      <td>apr</td>\n",
       "      <td>...</td>\n",
       "      <td>1.0</td>\n",
       "      <td>999.0</td>\n",
       "      <td>0.0</td>\n",
       "      <td>nonexistent</td>\n",
       "      <td>-1.8</td>\n",
       "      <td>93.075</td>\n",
       "      <td>-47.1</td>\n",
       "      <td>1.453</td>\n",
       "      <td>5099.1</td>\n",
       "      <td>0</td>\n",
       "    </tr>\n",
       "    <tr>\n",
       "      <th>4</th>\n",
       "      <td>14183</td>\n",
       "      <td>45.0</td>\n",
       "      <td>unknown</td>\n",
       "      <td>married</td>\n",
       "      <td>unknown</td>\n",
       "      <td>unknown</td>\n",
       "      <td>unknown</td>\n",
       "      <td>unknown</td>\n",
       "      <td>telephone</td>\n",
       "      <td>may</td>\n",
       "      <td>...</td>\n",
       "      <td>1.0</td>\n",
       "      <td>999.0</td>\n",
       "      <td>0.0</td>\n",
       "      <td>nonexistent</td>\n",
       "      <td>1.1</td>\n",
       "      <td>93.994</td>\n",
       "      <td>-36.4</td>\n",
       "      <td>4.859</td>\n",
       "      <td>5191.0</td>\n",
       "      <td>0</td>\n",
       "    </tr>\n",
       "  </tbody>\n",
       "</table>\n",
       "<p>5 rows × 21 columns</p>\n",
       "</div>"
      ],
      "text/plain": [
       "   client_id   age         job  marital          education  default  housing  \\\n",
       "0      29925  42.0  management  married           basic.9y       no       no   \n",
       "1      37529  35.0  unemployed  married  university.degree       no      yes   \n",
       "2       2757  44.0  technician  married           basic.9y       no      yes   \n",
       "3       9642  45.0    services  married        high.school       no      yes   \n",
       "4      14183  45.0     unknown  married            unknown  unknown  unknown   \n",
       "\n",
       "      loan    contact month  ... campaign  pdays  previous     poutcome  \\\n",
       "0       no   cellular   jul  ...      1.0  999.0       0.0  nonexistent   \n",
       "1       no  telephone   jun  ...      4.0  999.0       0.0  nonexistent   \n",
       "2      yes   cellular   may  ...      1.0  999.0       0.0  nonexistent   \n",
       "3       no   cellular   apr  ...      1.0  999.0       0.0  nonexistent   \n",
       "4  unknown  telephone   may  ...      1.0  999.0       0.0  nonexistent   \n",
       "\n",
       "  emp.var.rate  cons.price.idx  cons.conf.idx  euribor3m  nr.employed  \\\n",
       "0          1.4          93.918          -42.7      4.968       5228.1   \n",
       "1          1.4          94.465          -41.8      4.960       5228.1   \n",
       "2         -1.8          92.893          -46.2      1.264       5099.1   \n",
       "3         -1.8          93.075          -47.1      1.453       5099.1   \n",
       "4          1.1          93.994          -36.4      4.859       5191.0   \n",
       "\n",
       "   subscribe  \n",
       "0          0  \n",
       "1          0  \n",
       "2          0  \n",
       "3          0  \n",
       "4          0  \n",
       "\n",
       "[5 rows x 21 columns]"
      ]
     },
     "execution_count": 355,
     "metadata": {},
     "output_type": "execute_result"
    }
   ],
   "source": [
    "df_train.head()"
   ]
  },
  {
   "cell_type": "code",
   "execution_count": 356,
   "id": "e552d122",
   "metadata": {},
   "outputs": [],
   "source": [
    "df_test = pd.read_csv(\"../data/bank_mkt_test.csv\")"
   ]
  },
  {
   "cell_type": "code",
   "execution_count": 357,
   "id": "8f11fbb7",
   "metadata": {
    "scrolled": true
   },
   "outputs": [
    {
     "data": {
      "text/html": [
       "<div>\n",
       "<style scoped>\n",
       "    .dataframe tbody tr th:only-of-type {\n",
       "        vertical-align: middle;\n",
       "    }\n",
       "\n",
       "    .dataframe tbody tr th {\n",
       "        vertical-align: top;\n",
       "    }\n",
       "\n",
       "    .dataframe thead th {\n",
       "        text-align: right;\n",
       "    }\n",
       "</style>\n",
       "<table border=\"1\" class=\"dataframe\">\n",
       "  <thead>\n",
       "    <tr style=\"text-align: right;\">\n",
       "      <th></th>\n",
       "      <th>client_id</th>\n",
       "      <th>age</th>\n",
       "      <th>job</th>\n",
       "      <th>marital</th>\n",
       "      <th>education</th>\n",
       "      <th>default</th>\n",
       "      <th>housing</th>\n",
       "      <th>loan</th>\n",
       "      <th>contact</th>\n",
       "      <th>month</th>\n",
       "      <th>day_of_week</th>\n",
       "      <th>campaign</th>\n",
       "      <th>pdays</th>\n",
       "      <th>previous</th>\n",
       "      <th>poutcome</th>\n",
       "      <th>emp.var.rate</th>\n",
       "      <th>cons.price.idx</th>\n",
       "      <th>cons.conf.idx</th>\n",
       "      <th>euribor3m</th>\n",
       "      <th>nr.employed</th>\n",
       "    </tr>\n",
       "  </thead>\n",
       "  <tbody>\n",
       "    <tr>\n",
       "      <th>0</th>\n",
       "      <td>2986</td>\n",
       "      <td>53.0</td>\n",
       "      <td>technician</td>\n",
       "      <td>single</td>\n",
       "      <td>professional.course</td>\n",
       "      <td>no</td>\n",
       "      <td>no</td>\n",
       "      <td>no</td>\n",
       "      <td>cellular</td>\n",
       "      <td>jul</td>\n",
       "      <td>tue</td>\n",
       "      <td>1.0</td>\n",
       "      <td>999.0</td>\n",
       "      <td>0.0</td>\n",
       "      <td>nonexistent</td>\n",
       "      <td>1.4</td>\n",
       "      <td>93.918</td>\n",
       "      <td>-42.7</td>\n",
       "      <td>4.961</td>\n",
       "      <td>5228.1</td>\n",
       "    </tr>\n",
       "    <tr>\n",
       "      <th>1</th>\n",
       "      <td>29710</td>\n",
       "      <td>32.0</td>\n",
       "      <td>blue-collar</td>\n",
       "      <td>married</td>\n",
       "      <td>basic.6y</td>\n",
       "      <td>no</td>\n",
       "      <td>yes</td>\n",
       "      <td>no</td>\n",
       "      <td>telephone</td>\n",
       "      <td>jul</td>\n",
       "      <td>wed</td>\n",
       "      <td>2.0</td>\n",
       "      <td>999.0</td>\n",
       "      <td>0.0</td>\n",
       "      <td>nonexistent</td>\n",
       "      <td>1.4</td>\n",
       "      <td>93.918</td>\n",
       "      <td>-42.7</td>\n",
       "      <td>4.963</td>\n",
       "      <td>5228.1</td>\n",
       "    </tr>\n",
       "    <tr>\n",
       "      <th>2</th>\n",
       "      <td>38938</td>\n",
       "      <td>70.0</td>\n",
       "      <td>retired</td>\n",
       "      <td>married</td>\n",
       "      <td>high.school</td>\n",
       "      <td>no</td>\n",
       "      <td>yes</td>\n",
       "      <td>no</td>\n",
       "      <td>cellular</td>\n",
       "      <td>aug</td>\n",
       "      <td>tue</td>\n",
       "      <td>1.0</td>\n",
       "      <td>999.0</td>\n",
       "      <td>0.0</td>\n",
       "      <td>nonexistent</td>\n",
       "      <td>-2.9</td>\n",
       "      <td>92.201</td>\n",
       "      <td>-31.4</td>\n",
       "      <td>0.883</td>\n",
       "      <td>5076.2</td>\n",
       "    </tr>\n",
       "    <tr>\n",
       "      <th>3</th>\n",
       "      <td>31313</td>\n",
       "      <td>46.0</td>\n",
       "      <td>services</td>\n",
       "      <td>married</td>\n",
       "      <td>high.school</td>\n",
       "      <td>no</td>\n",
       "      <td>no</td>\n",
       "      <td>no</td>\n",
       "      <td>cellular</td>\n",
       "      <td>apr</td>\n",
       "      <td>mon</td>\n",
       "      <td>1.0</td>\n",
       "      <td>999.0</td>\n",
       "      <td>1.0</td>\n",
       "      <td>failure</td>\n",
       "      <td>-1.8</td>\n",
       "      <td>93.075</td>\n",
       "      <td>-47.1</td>\n",
       "      <td>1.405</td>\n",
       "      <td>5099.1</td>\n",
       "    </tr>\n",
       "    <tr>\n",
       "      <th>4</th>\n",
       "      <td>24173</td>\n",
       "      <td>35.0</td>\n",
       "      <td>technician</td>\n",
       "      <td>single</td>\n",
       "      <td>unknown</td>\n",
       "      <td>no</td>\n",
       "      <td>no</td>\n",
       "      <td>no</td>\n",
       "      <td>cellular</td>\n",
       "      <td>may</td>\n",
       "      <td>thu</td>\n",
       "      <td>1.0</td>\n",
       "      <td>999.0</td>\n",
       "      <td>1.0</td>\n",
       "      <td>failure</td>\n",
       "      <td>-1.8</td>\n",
       "      <td>92.893</td>\n",
       "      <td>-46.2</td>\n",
       "      <td>1.266</td>\n",
       "      <td>5099.1</td>\n",
       "    </tr>\n",
       "  </tbody>\n",
       "</table>\n",
       "</div>"
      ],
      "text/plain": [
       "   client_id   age          job  marital            education default housing  \\\n",
       "0       2986  53.0   technician   single  professional.course      no      no   \n",
       "1      29710  32.0  blue-collar  married             basic.6y      no     yes   \n",
       "2      38938  70.0      retired  married          high.school      no     yes   \n",
       "3      31313  46.0     services  married          high.school      no      no   \n",
       "4      24173  35.0   technician   single              unknown      no      no   \n",
       "\n",
       "  loan    contact month day_of_week  campaign  pdays  previous     poutcome  \\\n",
       "0   no   cellular   jul         tue       1.0  999.0       0.0  nonexistent   \n",
       "1   no  telephone   jul         wed       2.0  999.0       0.0  nonexistent   \n",
       "2   no   cellular   aug         tue       1.0  999.0       0.0  nonexistent   \n",
       "3   no   cellular   apr         mon       1.0  999.0       1.0      failure   \n",
       "4   no   cellular   may         thu       1.0  999.0       1.0      failure   \n",
       "\n",
       "   emp.var.rate  cons.price.idx  cons.conf.idx  euribor3m  nr.employed  \n",
       "0           1.4          93.918          -42.7      4.961       5228.1  \n",
       "1           1.4          93.918          -42.7      4.963       5228.1  \n",
       "2          -2.9          92.201          -31.4      0.883       5076.2  \n",
       "3          -1.8          93.075          -47.1      1.405       5099.1  \n",
       "4          -1.8          92.893          -46.2      1.266       5099.1  "
      ]
     },
     "execution_count": 357,
     "metadata": {},
     "output_type": "execute_result"
    }
   ],
   "source": [
    "df_test.head()"
   ]
  },
  {
   "cell_type": "code",
   "execution_count": 358,
   "id": "d7ff9c36",
   "metadata": {
    "scrolled": true
   },
   "outputs": [
    {
     "name": "stdout",
     "output_type": "stream",
     "text": [
      "<class 'pandas.core.frame.DataFrame'>\n",
      "RangeIndex: 20000 entries, 0 to 19999\n",
      "Data columns (total 21 columns):\n",
      " #   Column          Non-Null Count  Dtype  \n",
      "---  ------          --------------  -----  \n",
      " 0   client_id       20000 non-null  int64  \n",
      " 1   age             19798 non-null  float64\n",
      " 2   job             19839 non-null  object \n",
      " 3   marital         19801 non-null  object \n",
      " 4   education       19830 non-null  object \n",
      " 5   default         19786 non-null  object \n",
      " 6   housing         19805 non-null  object \n",
      " 7   loan            19781 non-null  object \n",
      " 8   contact         19783 non-null  object \n",
      " 9   month           19801 non-null  object \n",
      " 10  day_of_week     19815 non-null  object \n",
      " 11  campaign        19797 non-null  float64\n",
      " 12  pdays           19815 non-null  float64\n",
      " 13  previous        19791 non-null  float64\n",
      " 14  poutcome        19825 non-null  object \n",
      " 15  emp.var.rate    19835 non-null  float64\n",
      " 16  cons.price.idx  19819 non-null  float64\n",
      " 17  cons.conf.idx   19803 non-null  float64\n",
      " 18  euribor3m       19796 non-null  float64\n",
      " 19  nr.employed     19816 non-null  float64\n",
      " 20  subscribe       20000 non-null  int64  \n",
      "dtypes: float64(9), int64(2), object(10)\n",
      "memory usage: 3.2+ MB\n"
     ]
    }
   ],
   "source": [
    "df_train.info()"
   ]
  },
  {
   "cell_type": "code",
   "execution_count": 359,
   "id": "28e50a57",
   "metadata": {
    "scrolled": true
   },
   "outputs": [
    {
     "name": "stdout",
     "output_type": "stream",
     "text": [
      "<class 'pandas.core.frame.DataFrame'>\n",
      "RangeIndex: 10000 entries, 0 to 9999\n",
      "Data columns (total 20 columns):\n",
      " #   Column          Non-Null Count  Dtype  \n",
      "---  ------          --------------  -----  \n",
      " 0   client_id       10000 non-null  int64  \n",
      " 1   age             9895 non-null   float64\n",
      " 2   job             9889 non-null   object \n",
      " 3   marital         9905 non-null   object \n",
      " 4   education       9903 non-null   object \n",
      " 5   default         9876 non-null   object \n",
      " 6   housing         9897 non-null   object \n",
      " 7   loan            9891 non-null   object \n",
      " 8   contact         9913 non-null   object \n",
      " 9   month           9880 non-null   object \n",
      " 10  day_of_week     9894 non-null   object \n",
      " 11  campaign        9912 non-null   float64\n",
      " 12  pdays           9900 non-null   float64\n",
      " 13  previous        9895 non-null   float64\n",
      " 14  poutcome        9895 non-null   object \n",
      " 15  emp.var.rate    9895 non-null   float64\n",
      " 16  cons.price.idx  9899 non-null   float64\n",
      " 17  cons.conf.idx   9896 non-null   float64\n",
      " 18  euribor3m       9912 non-null   float64\n",
      " 19  nr.employed     9878 non-null   float64\n",
      "dtypes: float64(9), int64(1), object(10)\n",
      "memory usage: 1.5+ MB\n"
     ]
    }
   ],
   "source": [
    "df_test.info()"
   ]
  },
  {
   "cell_type": "code",
   "execution_count": 360,
   "id": "8e48cfab",
   "metadata": {
    "scrolled": true
   },
   "outputs": [
    {
     "data": {
      "text/plain": [
       "<AxesSubplot:>"
      ]
     },
     "execution_count": 360,
     "metadata": {},
     "output_type": "execute_result"
    },
    {
     "data": {
      "image/png": "[encoded data removed]",
      "text/plain": [
       "<Figure size 1800x720 with 3 Axes>"
      ]
     },
     "metadata": {
      "needs_background": "light"
     },
     "output_type": "display_data"
    }
   ],
   "source": [
    "msno.bar(df_train)"
   ]
  },
  {
   "cell_type": "code",
   "execution_count": 361,
   "id": "a3b3a561",
   "metadata": {
    "scrolled": true
   },
   "outputs": [
    {
     "data": {
      "text/plain": [
       "<AxesSubplot:>"
      ]
     },
     "execution_count": 361,
     "metadata": {},
     "output_type": "execute_result"
    },
    {
     "data": {
      "image/png": "[encoded data removed]",
      "text/plain": [
       "<Figure size 1800x720 with 3 Axes>"
      ]
     },
     "metadata": {
      "needs_background": "light"
     },
     "output_type": "display_data"
    }
   ],
   "source": [
    "msno.bar(df_test)"
   ]
  },
  {
   "cell_type": "markdown",
   "id": "70029f89",
   "metadata": {},
   "source": [
    "## Examine Feature Importance"
   ]
  },
  {
   "cell_type": "code",
   "execution_count": 362,
   "id": "3aa3ab0c",
   "metadata": {
    "scrolled": false
   },
   "outputs": [
    {
     "data": {
      "text/plain": [
       "Index(['client_id', 'age', 'job', 'marital', 'education', 'default', 'housing',\n",
       "       'loan', 'contact', 'month', 'day_of_week', 'campaign', 'pdays',\n",
       "       'previous', 'poutcome', 'emp.var.rate', 'cons.price.idx',\n",
       "       'cons.conf.idx', 'euribor3m', 'nr.employed', 'subscribe'],\n",
       "      dtype='object')"
      ]
     },
     "execution_count": 362,
     "metadata": {},
     "output_type": "execute_result"
    }
   ],
   "source": [
    "df_train.columns"
   ]
  },
  {
   "cell_type": "code",
   "execution_count": 363,
   "id": "236cdcac",
   "metadata": {
    "scrolled": true
   },
   "outputs": [
    {
     "data": {
      "text/plain": [
       "client_id           int64\n",
       "age               float64\n",
       "job                object\n",
       "marital            object\n",
       "education          object\n",
       "default            object\n",
       "housing            object\n",
       "loan               object\n",
       "contact            object\n",
       "month              object\n",
       "day_of_week        object\n",
       "campaign          float64\n",
       "pdays             float64\n",
       "previous          float64\n",
       "poutcome           object\n",
       "emp.var.rate      float64\n",
       "cons.price.idx    float64\n",
       "cons.conf.idx     float64\n",
       "euribor3m         float64\n",
       "nr.employed       float64\n",
       "subscribe           int64\n",
       "dtype: object"
      ]
     },
     "execution_count": 363,
     "metadata": {},
     "output_type": "execute_result"
    }
   ],
   "source": [
    "df_train.dtypes"
   ]
  },
  {
   "cell_type": "code",
   "execution_count": 364,
   "id": "4b09c88e",
   "metadata": {},
   "outputs": [],
   "source": [
    "#cat_cols = []\n",
    "#numeric_cols = []\n",
    "\n",
    "#for col in df_train.columns:\n",
    "#    if df_train[col].dtype == 'object':\n",
    "#        cat_cols.append(col)\n",
    "#    else:\n",
    "#        numeric_cols.append(col)"
   ]
  },
  {
   "cell_type": "code",
   "execution_count": 365,
   "id": "d0e4b7a6",
   "metadata": {},
   "outputs": [],
   "source": [
    "# List comprehension categoricals\n",
    "cat_cols = [col for col in df_train.columns if df_train[col].dtype == 'object']\n",
    "\n",
    "# List comprehension numerics\n",
    "numeric_cols = [col for col in df_train.columns if col not in cat_cols and col != 'subscribe']"
   ]
  },
  {
   "cell_type": "code",
   "execution_count": 366,
   "id": "a46d6e39",
   "metadata": {
    "scrolled": false
   },
   "outputs": [
    {
     "data": {
      "text/plain": [
       "['client_id',\n",
       " 'age',\n",
       " 'campaign',\n",
       " 'pdays',\n",
       " 'previous',\n",
       " 'emp.var.rate',\n",
       " 'cons.price.idx',\n",
       " 'cons.conf.idx',\n",
       " 'euribor3m',\n",
       " 'nr.employed']"
      ]
     },
     "execution_count": 366,
     "metadata": {},
     "output_type": "execute_result"
    }
   ],
   "source": [
    "numeric_cols"
   ]
  },
  {
   "cell_type": "code",
   "execution_count": 367,
   "id": "cc13fd51",
   "metadata": {
    "scrolled": true
   },
   "outputs": [
    {
     "data": {
      "image/png": "[encoded data removed]",
      "text/plain": [
       "<Figure size 432x288 with 1 Axes>"
      ]
     },
     "metadata": {
      "needs_background": "light"
     },
     "output_type": "display_data"
    },
    {
     "data": {
      "image/png": "[encoded data removed]",
      "text/plain": [
       "<Figure size 432x288 with 1 Axes>"
      ]
     },
     "metadata": {
      "needs_background": "light"
     },
     "output_type": "display_data"
    },
    {
     "data": {
      "image/png": "[encoded data removed]",
      "text/plain": [
       "<Figure size 432x288 with 1 Axes>"
      ]
     },
     "metadata": {
      "needs_background": "light"
     },
     "output_type": "display_data"
    },
    {
     "data": {
      "image/png": "[encoded data removed]",
      "text/plain": [
       "<Figure size 432x288 with 1 Axes>"
      ]
     },
     "metadata": {
      "needs_background": "light"
     },
     "output_type": "display_data"
    },
    {
     "data": {
      "image/png": "[encoded data removed]",
      "text/plain": [
       "<Figure size 432x288 with 1 Axes>"
      ]
     },
     "metadata": {
      "needs_background": "light"
     },
     "output_type": "display_data"
    },
    {
     "data": {
      "image/png": "[encoded data removed]",
      "text/plain": [
       "<Figure size 432x288 with 1 Axes>"
      ]
     },
     "metadata": {
      "needs_background": "light"
     },
     "output_type": "display_data"
    },
    {
     "data": {
      "image/png": "[encoded data removed]",
      "text/plain": [
       "<Figure size 432x288 with 1 Axes>"
      ]
     },
     "metadata": {
      "needs_background": "light"
     },
     "output_type": "display_data"
    },
    {
     "data": {
      "image/png": "[encoded data removed]",
      "text/plain": [
       "<Figure size 432x288 with 1 Axes>"
      ]
     },
     "metadata": {
      "needs_background": "light"
     },
     "output_type": "display_data"
    },
    {
     "data": {
      "image/png": "[encoded data removed]",
      "text/plain": [
       "<Figure size 432x288 with 1 Axes>"
      ]
     },
     "metadata": {
      "needs_background": "light"
     },
     "output_type": "display_data"
    },
    {
     "data": {
      "image/png": "[encoded data removed]",
      "text/plain": [
       "<Figure size 432x288 with 1 Axes>"
      ]
     },
     "metadata": {
      "needs_background": "light"
     },
     "output_type": "display_data"
    }
   ],
   "source": [
    "# Examine feature distributions\n",
    "\n",
    "for col in numeric_cols:\n",
    "    plt.hist(df_train[col])\n",
    "    plt.title(col)\n",
    "    plt.show()"
   ]
  },
  {
   "cell_type": "code",
   "execution_count": 370,
   "id": "01e8677b",
   "metadata": {
    "scrolled": true
   },
   "outputs": [
    {
     "data": {
      "text/html": [
       "<div>\n",
       "<style scoped>\n",
       "    .dataframe tbody tr th:only-of-type {\n",
       "        vertical-align: middle;\n",
       "    }\n",
       "\n",
       "    .dataframe tbody tr th {\n",
       "        vertical-align: top;\n",
       "    }\n",
       "\n",
       "    .dataframe thead th {\n",
       "        text-align: right;\n",
       "    }\n",
       "</style>\n",
       "<table border=\"1\" class=\"dataframe\">\n",
       "  <thead>\n",
       "    <tr style=\"text-align: right;\">\n",
       "      <th></th>\n",
       "      <th>client_id</th>\n",
       "      <th>age</th>\n",
       "      <th>job</th>\n",
       "      <th>marital</th>\n",
       "      <th>education</th>\n",
       "      <th>default</th>\n",
       "      <th>housing</th>\n",
       "      <th>loan</th>\n",
       "      <th>contact</th>\n",
       "      <th>month</th>\n",
       "      <th>...</th>\n",
       "      <th>campaign</th>\n",
       "      <th>pdays</th>\n",
       "      <th>previous</th>\n",
       "      <th>poutcome</th>\n",
       "      <th>emp.var.rate</th>\n",
       "      <th>cons.price.idx</th>\n",
       "      <th>cons.conf.idx</th>\n",
       "      <th>euribor3m</th>\n",
       "      <th>nr.employed</th>\n",
       "      <th>subscribe</th>\n",
       "    </tr>\n",
       "  </thead>\n",
       "  <tbody>\n",
       "    <tr>\n",
       "      <th>0</th>\n",
       "      <td>29925</td>\n",
       "      <td>42.0</td>\n",
       "      <td>management</td>\n",
       "      <td>married</td>\n",
       "      <td>basic.9y</td>\n",
       "      <td>no</td>\n",
       "      <td>no</td>\n",
       "      <td>no</td>\n",
       "      <td>cellular</td>\n",
       "      <td>jul</td>\n",
       "      <td>...</td>\n",
       "      <td>1.0</td>\n",
       "      <td>999.0</td>\n",
       "      <td>0.0</td>\n",
       "      <td>nonexistent</td>\n",
       "      <td>1.4</td>\n",
       "      <td>93.918</td>\n",
       "      <td>-42.7</td>\n",
       "      <td>4.968</td>\n",
       "      <td>5228.1</td>\n",
       "      <td>0</td>\n",
       "    </tr>\n",
       "    <tr>\n",
       "      <th>1</th>\n",
       "      <td>37529</td>\n",
       "      <td>35.0</td>\n",
       "      <td>unemployed</td>\n",
       "      <td>married</td>\n",
       "      <td>university.degree</td>\n",
       "      <td>no</td>\n",
       "      <td>yes</td>\n",
       "      <td>no</td>\n",
       "      <td>telephone</td>\n",
       "      <td>jun</td>\n",
       "      <td>...</td>\n",
       "      <td>4.0</td>\n",
       "      <td>999.0</td>\n",
       "      <td>0.0</td>\n",
       "      <td>nonexistent</td>\n",
       "      <td>1.4</td>\n",
       "      <td>94.465</td>\n",
       "      <td>-41.8</td>\n",
       "      <td>4.960</td>\n",
       "      <td>5228.1</td>\n",
       "      <td>0</td>\n",
       "    </tr>\n",
       "    <tr>\n",
       "      <th>2</th>\n",
       "      <td>2757</td>\n",
       "      <td>44.0</td>\n",
       "      <td>technician</td>\n",
       "      <td>married</td>\n",
       "      <td>basic.9y</td>\n",
       "      <td>no</td>\n",
       "      <td>yes</td>\n",
       "      <td>yes</td>\n",
       "      <td>cellular</td>\n",
       "      <td>may</td>\n",
       "      <td>...</td>\n",
       "      <td>1.0</td>\n",
       "      <td>999.0</td>\n",
       "      <td>0.0</td>\n",
       "      <td>nonexistent</td>\n",
       "      <td>-1.8</td>\n",
       "      <td>92.893</td>\n",
       "      <td>-46.2</td>\n",
       "      <td>1.264</td>\n",
       "      <td>5099.1</td>\n",
       "      <td>0</td>\n",
       "    </tr>\n",
       "    <tr>\n",
       "      <th>3</th>\n",
       "      <td>9642</td>\n",
       "      <td>45.0</td>\n",
       "      <td>services</td>\n",
       "      <td>married</td>\n",
       "      <td>high.school</td>\n",
       "      <td>no</td>\n",
       "      <td>yes</td>\n",
       "      <td>no</td>\n",
       "      <td>cellular</td>\n",
       "      <td>apr</td>\n",
       "      <td>...</td>\n",
       "      <td>1.0</td>\n",
       "      <td>999.0</td>\n",
       "      <td>0.0</td>\n",
       "      <td>nonexistent</td>\n",
       "      <td>-1.8</td>\n",
       "      <td>93.075</td>\n",
       "      <td>-47.1</td>\n",
       "      <td>1.453</td>\n",
       "      <td>5099.1</td>\n",
       "      <td>0</td>\n",
       "    </tr>\n",
       "    <tr>\n",
       "      <th>4</th>\n",
       "      <td>14183</td>\n",
       "      <td>45.0</td>\n",
       "      <td>unknown</td>\n",
       "      <td>married</td>\n",
       "      <td>unknown</td>\n",
       "      <td>unknown</td>\n",
       "      <td>unknown</td>\n",
       "      <td>unknown</td>\n",
       "      <td>telephone</td>\n",
       "      <td>may</td>\n",
       "      <td>...</td>\n",
       "      <td>1.0</td>\n",
       "      <td>999.0</td>\n",
       "      <td>0.0</td>\n",
       "      <td>nonexistent</td>\n",
       "      <td>1.1</td>\n",
       "      <td>93.994</td>\n",
       "      <td>-36.4</td>\n",
       "      <td>4.859</td>\n",
       "      <td>5191.0</td>\n",
       "      <td>0</td>\n",
       "    </tr>\n",
       "  </tbody>\n",
       "</table>\n",
       "<p>5 rows × 21 columns</p>\n",
       "</div>"
      ],
      "text/plain": [
       "   client_id   age         job  marital          education  default  housing  \\\n",
       "0      29925  42.0  management  married           basic.9y       no       no   \n",
       "1      37529  35.0  unemployed  married  university.degree       no      yes   \n",
       "2       2757  44.0  technician  married           basic.9y       no      yes   \n",
       "3       9642  45.0    services  married        high.school       no      yes   \n",
       "4      14183  45.0     unknown  married            unknown  unknown  unknown   \n",
       "\n",
       "      loan    contact month  ... campaign  pdays  previous     poutcome  \\\n",
       "0       no   cellular   jul  ...      1.0  999.0       0.0  nonexistent   \n",
       "1       no  telephone   jun  ...      4.0  999.0       0.0  nonexistent   \n",
       "2      yes   cellular   may  ...      1.0  999.0       0.0  nonexistent   \n",
       "3       no   cellular   apr  ...      1.0  999.0       0.0  nonexistent   \n",
       "4  unknown  telephone   may  ...      1.0  999.0       0.0  nonexistent   \n",
       "\n",
       "  emp.var.rate  cons.price.idx  cons.conf.idx  euribor3m  nr.employed  \\\n",
       "0          1.4          93.918          -42.7      4.968       5228.1   \n",
       "1          1.4          94.465          -41.8      4.960       5228.1   \n",
       "2         -1.8          92.893          -46.2      1.264       5099.1   \n",
       "3         -1.8          93.075          -47.1      1.453       5099.1   \n",
       "4          1.1          93.994          -36.4      4.859       5191.0   \n",
       "\n",
       "   subscribe  \n",
       "0          0  \n",
       "1          0  \n",
       "2          0  \n",
       "3          0  \n",
       "4          0  \n",
       "\n",
       "[5 rows x 21 columns]"
      ]
     },
     "execution_count": 370,
     "metadata": {},
     "output_type": "execute_result"
    }
   ],
   "source": [
    "df_train.head()"
   ]
  },
  {
   "cell_type": "code",
   "execution_count": 371,
   "id": "209361a3",
   "metadata": {},
   "outputs": [],
   "source": [
    "if feature_engineering == True:\n",
    "    print('ran')\n",
    "    # Discretize age column\n",
    "    df_train['age_quantiles'] = pd.qcut(df_train['age'],\n",
    "                            q=[0,.2,.4,.6,.8,1],\n",
    "                            labels=False,\n",
    "                            precision=0)\n",
    "    # Test set\n",
    "    df_test['age_quantiles'] = pd.qcut(df_test['age'],\n",
    "                            q=[0,.2,.4,.6,.8,1],\n",
    "                            labels=False,\n",
    "                            precision=0)\n",
    "\n",
    "    # Create P_Months column using the Pdays column\n",
    "    df_train['P_months'] = df_train['pdays']/12\n",
    "\n",
    "    # Create P_Months column using the Pdays column\n",
    "    df_test['P_months'] = df_test['pdays']/12"
   ]
  },
  {
   "cell_type": "code",
   "execution_count": 372,
   "id": "b1559af5",
   "metadata": {},
   "outputs": [
    {
     "data": {
      "text/html": [
       "<div>\n",
       "<style scoped>\n",
       "    .dataframe tbody tr th:only-of-type {\n",
       "        vertical-align: middle;\n",
       "    }\n",
       "\n",
       "    .dataframe tbody tr th {\n",
       "        vertical-align: top;\n",
       "    }\n",
       "\n",
       "    .dataframe thead th {\n",
       "        text-align: right;\n",
       "    }\n",
       "</style>\n",
       "<table border=\"1\" class=\"dataframe\">\n",
       "  <thead>\n",
       "    <tr style=\"text-align: right;\">\n",
       "      <th></th>\n",
       "      <th>client_id</th>\n",
       "      <th>age</th>\n",
       "      <th>job</th>\n",
       "      <th>marital</th>\n",
       "      <th>education</th>\n",
       "      <th>default</th>\n",
       "      <th>housing</th>\n",
       "      <th>loan</th>\n",
       "      <th>contact</th>\n",
       "      <th>month</th>\n",
       "      <th>...</th>\n",
       "      <th>campaign</th>\n",
       "      <th>pdays</th>\n",
       "      <th>previous</th>\n",
       "      <th>poutcome</th>\n",
       "      <th>emp.var.rate</th>\n",
       "      <th>cons.price.idx</th>\n",
       "      <th>cons.conf.idx</th>\n",
       "      <th>euribor3m</th>\n",
       "      <th>nr.employed</th>\n",
       "      <th>subscribe</th>\n",
       "    </tr>\n",
       "  </thead>\n",
       "  <tbody>\n",
       "    <tr>\n",
       "      <th>0</th>\n",
       "      <td>29925</td>\n",
       "      <td>42.0</td>\n",
       "      <td>management</td>\n",
       "      <td>married</td>\n",
       "      <td>basic.9y</td>\n",
       "      <td>no</td>\n",
       "      <td>no</td>\n",
       "      <td>no</td>\n",
       "      <td>cellular</td>\n",
       "      <td>jul</td>\n",
       "      <td>...</td>\n",
       "      <td>1.0</td>\n",
       "      <td>999.0</td>\n",
       "      <td>0.0</td>\n",
       "      <td>nonexistent</td>\n",
       "      <td>1.4</td>\n",
       "      <td>93.918</td>\n",
       "      <td>-42.7</td>\n",
       "      <td>4.968</td>\n",
       "      <td>5228.1</td>\n",
       "      <td>0</td>\n",
       "    </tr>\n",
       "    <tr>\n",
       "      <th>1</th>\n",
       "      <td>37529</td>\n",
       "      <td>35.0</td>\n",
       "      <td>unemployed</td>\n",
       "      <td>married</td>\n",
       "      <td>university.degree</td>\n",
       "      <td>no</td>\n",
       "      <td>yes</td>\n",
       "      <td>no</td>\n",
       "      <td>telephone</td>\n",
       "      <td>jun</td>\n",
       "      <td>...</td>\n",
       "      <td>4.0</td>\n",
       "      <td>999.0</td>\n",
       "      <td>0.0</td>\n",
       "      <td>nonexistent</td>\n",
       "      <td>1.4</td>\n",
       "      <td>94.465</td>\n",
       "      <td>-41.8</td>\n",
       "      <td>4.960</td>\n",
       "      <td>5228.1</td>\n",
       "      <td>0</td>\n",
       "    </tr>\n",
       "    <tr>\n",
       "      <th>2</th>\n",
       "      <td>2757</td>\n",
       "      <td>44.0</td>\n",
       "      <td>technician</td>\n",
       "      <td>married</td>\n",
       "      <td>basic.9y</td>\n",
       "      <td>no</td>\n",
       "      <td>yes</td>\n",
       "      <td>yes</td>\n",
       "      <td>cellular</td>\n",
       "      <td>may</td>\n",
       "      <td>...</td>\n",
       "      <td>1.0</td>\n",
       "      <td>999.0</td>\n",
       "      <td>0.0</td>\n",
       "      <td>nonexistent</td>\n",
       "      <td>-1.8</td>\n",
       "      <td>92.893</td>\n",
       "      <td>-46.2</td>\n",
       "      <td>1.264</td>\n",
       "      <td>5099.1</td>\n",
       "      <td>0</td>\n",
       "    </tr>\n",
       "    <tr>\n",
       "      <th>3</th>\n",
       "      <td>9642</td>\n",
       "      <td>45.0</td>\n",
       "      <td>services</td>\n",
       "      <td>married</td>\n",
       "      <td>high.school</td>\n",
       "      <td>no</td>\n",
       "      <td>yes</td>\n",
       "      <td>no</td>\n",
       "      <td>cellular</td>\n",
       "      <td>apr</td>\n",
       "      <td>...</td>\n",
       "      <td>1.0</td>\n",
       "      <td>999.0</td>\n",
       "      <td>0.0</td>\n",
       "      <td>nonexistent</td>\n",
       "      <td>-1.8</td>\n",
       "      <td>93.075</td>\n",
       "      <td>-47.1</td>\n",
       "      <td>1.453</td>\n",
       "      <td>5099.1</td>\n",
       "      <td>0</td>\n",
       "    </tr>\n",
       "    <tr>\n",
       "      <th>4</th>\n",
       "      <td>14183</td>\n",
       "      <td>45.0</td>\n",
       "      <td>unknown</td>\n",
       "      <td>married</td>\n",
       "      <td>unknown</td>\n",
       "      <td>unknown</td>\n",
       "      <td>unknown</td>\n",
       "      <td>unknown</td>\n",
       "      <td>telephone</td>\n",
       "      <td>may</td>\n",
       "      <td>...</td>\n",
       "      <td>1.0</td>\n",
       "      <td>999.0</td>\n",
       "      <td>0.0</td>\n",
       "      <td>nonexistent</td>\n",
       "      <td>1.1</td>\n",
       "      <td>93.994</td>\n",
       "      <td>-36.4</td>\n",
       "      <td>4.859</td>\n",
       "      <td>5191.0</td>\n",
       "      <td>0</td>\n",
       "    </tr>\n",
       "  </tbody>\n",
       "</table>\n",
       "<p>5 rows × 21 columns</p>\n",
       "</div>"
      ],
      "text/plain": [
       "   client_id   age         job  marital          education  default  housing  \\\n",
       "0      29925  42.0  management  married           basic.9y       no       no   \n",
       "1      37529  35.0  unemployed  married  university.degree       no      yes   \n",
       "2       2757  44.0  technician  married           basic.9y       no      yes   \n",
       "3       9642  45.0    services  married        high.school       no      yes   \n",
       "4      14183  45.0     unknown  married            unknown  unknown  unknown   \n",
       "\n",
       "      loan    contact month  ... campaign  pdays  previous     poutcome  \\\n",
       "0       no   cellular   jul  ...      1.0  999.0       0.0  nonexistent   \n",
       "1       no  telephone   jun  ...      4.0  999.0       0.0  nonexistent   \n",
       "2      yes   cellular   may  ...      1.0  999.0       0.0  nonexistent   \n",
       "3       no   cellular   apr  ...      1.0  999.0       0.0  nonexistent   \n",
       "4  unknown  telephone   may  ...      1.0  999.0       0.0  nonexistent   \n",
       "\n",
       "  emp.var.rate  cons.price.idx  cons.conf.idx  euribor3m  nr.employed  \\\n",
       "0          1.4          93.918          -42.7      4.968       5228.1   \n",
       "1          1.4          94.465          -41.8      4.960       5228.1   \n",
       "2         -1.8          92.893          -46.2      1.264       5099.1   \n",
       "3         -1.8          93.075          -47.1      1.453       5099.1   \n",
       "4          1.1          93.994          -36.4      4.859       5191.0   \n",
       "\n",
       "   subscribe  \n",
       "0          0  \n",
       "1          0  \n",
       "2          0  \n",
       "3          0  \n",
       "4          0  \n",
       "\n",
       "[5 rows x 21 columns]"
      ]
     },
     "execution_count": 372,
     "metadata": {},
     "output_type": "execute_result"
    }
   ],
   "source": [
    "df_train.head()"
   ]
  },
  {
   "cell_type": "code",
   "execution_count": 373,
   "id": "07a3a400",
   "metadata": {},
   "outputs": [],
   "source": [
    "if impute_missing == True:\n",
    "    print('ran')\n",
    "    df_train[cat_cols] = df_train[cat_cols].fillna('Missing')\n",
    "    df_test[cat_cols] = df_test[cat_cols].fillna('Missing')\n",
    "    imp_mean = SimpleImputer(missing_values=np.nan, strategy='mean')\n",
    "    imp_mean=imp_mean.fit(df_train[numeric_cols])\n",
    "    df_train[numeric_cols] = imp_mean.transform(df_train[numeric_cols])\n",
    "    imp_mean=imp_mean.fit(df_test[numeric_cols])\n",
    "    df_test[numeric_cols] = imp_mean.transform(df_test[numeric_cols])"
   ]
  },
  {
   "cell_type": "code",
   "execution_count": 374,
   "id": "31b246f3",
   "metadata": {},
   "outputs": [],
   "source": [
    "if label_encoding == True:\n",
    "    print('ran')\n",
    "    df_train = label_encoder(df_train,cat_cols)\n",
    "    df_test = label_encoder(df_test,cat_cols)"
   ]
  },
  {
   "cell_type": "code",
   "execution_count": 375,
   "id": "eb9a7d22",
   "metadata": {
    "scrolled": true
   },
   "outputs": [],
   "source": [
    "if one_hot_encoding == True:\n",
    "    print('ran')\n",
    "    #train\n",
    "    one_hot_encoder = OneHotEncoder(sparse=False)\n",
    "    train_encoded = one_hot_encoder.fit_transform(df_train[cat_cols])\n",
    "    train_encoded = pd.DataFrame(train_encoded)\n",
    "    train_encoded.columns = one_hot_encoder.get_feature_names_out()\n",
    "    df_train.drop(columns=cat_cols,inplace=True)\n",
    "    df_train = pd.concat([df_train,train_encoded],axis=1).reset_index()\n",
    "    #test\n",
    "    test_encoded = one_hot_encoder.transform(df_test[cat_cols])\n",
    "    test_encoded = pd.DataFrame(test_encoded)\n",
    "    test_encoded.columns = one_hot_encoder.get_feature_names_out()\n",
    "    df_test.drop(columns=cat_cols,inplace=True)\n",
    "    df_test = pd.concat([df_test,test_encoded],axis=1).reset_index()"
   ]
  },
  {
   "cell_type": "code",
   "execution_count": 376,
   "id": "26c6e05e",
   "metadata": {
    "scrolled": true
   },
   "outputs": [
    {
     "data": {
      "text/plain": [
       "Index(['client_id', 'age', 'job', 'marital', 'education', 'default', 'housing',\n",
       "       'loan', 'contact', 'month', 'day_of_week', 'campaign', 'pdays',\n",
       "       'previous', 'poutcome', 'emp.var.rate', 'cons.price.idx',\n",
       "       'cons.conf.idx', 'euribor3m', 'nr.employed', 'subscribe'],\n",
       "      dtype='object')"
      ]
     },
     "execution_count": 376,
     "metadata": {},
     "output_type": "execute_result"
    }
   ],
   "source": [
    "df_train.columns"
   ]
  },
  {
   "cell_type": "code",
   "execution_count": 377,
   "id": "4e044df7",
   "metadata": {
    "scrolled": true
   },
   "outputs": [
    {
     "name": "stdout",
     "output_type": "stream",
     "text": [
      "ran\n"
     ]
    }
   ],
   "source": [
    "if hybrid_categorical_encoding == True:\n",
    "    print('ran')\n",
    "    df_train,df_test = hybrid_encoder(df_train,df_test)"
   ]
  },
  {
   "cell_type": "code",
   "execution_count": 380,
   "id": "01173bc5",
   "metadata": {
    "scrolled": false
   },
   "outputs": [
    {
     "name": "stdout",
     "output_type": "stream",
     "text": [
      "ran\n"
     ]
    }
   ],
   "source": [
    "if impute_indicate == True:\n",
    "    print('ran')\n",
    "    df_train, df_test = impute_indicator(df_train,df_test)"
   ]
  },
  {
   "cell_type": "code",
   "execution_count": 381,
   "id": "02332506",
   "metadata": {},
   "outputs": [],
   "source": [
    "X = df_train[[col for col in df_train.columns if col != 'subscribe']]\n",
    "y = df_train.subscribe"
   ]
  },
  {
   "cell_type": "code",
   "execution_count": 382,
   "id": "e735e4e5",
   "metadata": {},
   "outputs": [],
   "source": [
    "if feature_selection_fsws == True:\n",
    "    print('ran')\n",
    "    clf = RandomForestClassifier(max_depth=20, max_features='sqrt', min_samples_leaf=6, min_samples_split=20, n_estimators=557,random_state=123)\n",
    "    sfs = SequentialFeatureSelector(clf, n_features_to_select=18,direction='forward')\n",
    "    sfs.fit(X, y)\n",
    "    sfs.transform(X).shape"
   ]
  },
  {
   "cell_type": "code",
   "execution_count": 383,
   "id": "ee86b344",
   "metadata": {},
   "outputs": [],
   "source": [
    "# Training and remaining split\n",
    "X_train, X_rem, y_train, y_rem = train_test_split(X,y,test_size=0.4)\n",
    "\n",
    "# Validation split\n",
    "X_val, X_test, y_val, y_test = train_test_split(X_rem,y_rem,test_size=0.5)"
   ]
  },
  {
   "cell_type": "code",
   "execution_count": 386,
   "id": "65532653",
   "metadata": {},
   "outputs": [],
   "source": [
    "#subset train set for important cols based on correlation analysis \n",
    "X_train_full = df_train[[col for col in df_train.columns if col != 'subscribe']]\n",
    "y_train_full = df_train.subscribe"
   ]
  },
  {
   "cell_type": "code",
   "execution_count": 387,
   "id": "66da7dd3",
   "metadata": {},
   "outputs": [],
   "source": [
    "#test set as well - dv subscribe\n",
    "X_test_full = df_test[[col for col in df_test.columns]]"
   ]
  },
  {
   "cell_type": "markdown",
   "id": "8bee0a8c",
   "metadata": {},
   "source": [
    "## Random Forest Classifier"
   ]
  },
  {
   "cell_type": "code",
   "execution_count": 391,
   "id": "6f34cb66",
   "metadata": {
    "scrolled": false
   },
   "outputs": [
    {
     "name": "stdout",
     "output_type": "stream",
     "text": [
      "Fitting 5 folds for each of 100 candidates, totalling 500 fits\n",
      "[CV 1/5] END bootstrap=True, criterion=gini, max_depth=88, max_features=sqrt, min_samples_leaf=4, min_samples_split=10, n_estimators=731;, score=0.898 total time=   6.1s\n",
      "[CV 2/5] END bootstrap=True, criterion=gini, max_depth=88, max_features=sqrt, min_samples_leaf=4, min_samples_split=10, n_estimators=731;, score=0.906 total time=   5.9s\n",
      "[CV 3/5] END bootstrap=True, criterion=gini, max_depth=88, max_features=sqrt, min_samples_leaf=4, min_samples_split=10, n_estimators=731;, score=0.897 total time=   5.8s\n",
      "[CV 4/5] END bootstrap=True, criterion=gini, max_depth=88, max_features=sqrt, min_samples_leaf=4, min_samples_split=10, n_estimators=731;, score=0.898 total time=   5.8s\n",
      "[CV 5/5] END bootstrap=True, criterion=gini, max_depth=88, max_features=sqrt, min_samples_leaf=4, min_samples_split=10, n_estimators=731;, score=0.905 total time=   5.7s\n",
      "[CV 1/5] END bootstrap=True, criterion=entropy, max_depth=52, max_features=auto, min_samples_leaf=1, min_samples_split=10, n_estimators=1363;, score=0.899 total time=  12.2s\n",
      "[CV 2/5] END bootstrap=True, criterion=entropy, max_depth=52, max_features=auto, min_samples_leaf=1, min_samples_split=10, n_estimators=1363;, score=0.907 total time=  13.8s\n",
      "[CV 3/5] END bootstrap=True, criterion=entropy, max_depth=52, max_features=auto, min_samples_leaf=1, min_samples_split=10, n_estimators=1363;, score=0.896 total time=  12.8s\n",
      "[CV 4/5] END bootstrap=True, criterion=entropy, max_depth=52, max_features=auto, min_samples_leaf=1, min_samples_split=10, n_estimators=1363;, score=0.897 total time=  12.7s\n",
      "[CV 5/5] END bootstrap=True, criterion=entropy, max_depth=52, max_features=auto, min_samples_leaf=1, min_samples_split=10, n_estimators=1363;, score=0.902 total time=  12.9s\n",
      "[CV 1/5] END bootstrap=True, criterion=gini, max_depth=99, max_features=sqrt, min_samples_leaf=4, min_samples_split=10, n_estimators=1363;, score=0.898 total time=  13.0s\n",
      "[CV 2/5] END bootstrap=True, criterion=gini, max_depth=99, max_features=sqrt, min_samples_leaf=4, min_samples_split=10, n_estimators=1363;, score=0.906 total time=  13.7s\n",
      "[CV 3/5] END bootstrap=True, criterion=gini, max_depth=99, max_features=sqrt, min_samples_leaf=4, min_samples_split=10, n_estimators=1363;, score=0.897 total time=  11.2s\n",
      "[CV 4/5] END bootstrap=True, criterion=gini, max_depth=99, max_features=sqrt, min_samples_leaf=4, min_samples_split=10, n_estimators=1363;, score=0.898 total time=  12.3s\n",
      "[CV 5/5] END bootstrap=True, criterion=gini, max_depth=99, max_features=sqrt, min_samples_leaf=4, min_samples_split=10, n_estimators=1363;, score=0.905 total time=  11.5s\n",
      "[CV 1/5] END bootstrap=False, criterion=entropy, max_depth=15, max_features=auto, min_samples_leaf=10, min_samples_split=5, n_estimators=605;, score=0.897 total time=   6.0s\n",
      "[CV 2/5] END bootstrap=False, criterion=entropy, max_depth=15, max_features=auto, min_samples_leaf=10, min_samples_split=5, n_estimators=605;, score=0.907 total time=   6.1s\n",
      "[CV 3/5] END bootstrap=False, criterion=entropy, max_depth=15, max_features=auto, min_samples_leaf=10, min_samples_split=5, n_estimators=605;, score=0.896 total time=   6.0s\n",
      "[CV 4/5] END bootstrap=False, criterion=entropy, max_depth=15, max_features=auto, min_samples_leaf=10, min_samples_split=5, n_estimators=605;, score=0.898 total time=   7.3s\n",
      "[CV 5/5] END bootstrap=False, criterion=entropy, max_depth=15, max_features=auto, min_samples_leaf=10, min_samples_split=5, n_estimators=605;, score=0.905 total time=   7.6s\n",
      "[CV 1/5] END bootstrap=False, criterion=entropy, max_depth=25, max_features=auto, min_samples_leaf=4, min_samples_split=5, n_estimators=857;, score=0.896 total time=  10.7s\n",
      "[CV 2/5] END bootstrap=False, criterion=entropy, max_depth=25, max_features=auto, min_samples_leaf=4, min_samples_split=5, n_estimators=857;, score=0.906 total time=  10.8s\n",
      "[CV 3/5] END bootstrap=False, criterion=entropy, max_depth=25, max_features=auto, min_samples_leaf=4, min_samples_split=5, n_estimators=857;, score=0.895 total time=  10.1s\n",
      "[CV 4/5] END bootstrap=False, criterion=entropy, max_depth=25, max_features=auto, min_samples_leaf=4, min_samples_split=5, n_estimators=857;, score=0.900 total time=  10.2s\n",
      "[CV 5/5] END bootstrap=False, criterion=entropy, max_depth=25, max_features=auto, min_samples_leaf=4, min_samples_split=5, n_estimators=857;, score=0.904 total time=  11.2s\n",
      "[CV 1/5] END bootstrap=True, criterion=gini, max_depth=88, max_features=auto, min_samples_leaf=6, min_samples_split=20, n_estimators=2247;, score=0.898 total time=  18.1s\n",
      "[CV 2/5] END bootstrap=True, criterion=gini, max_depth=88, max_features=auto, min_samples_leaf=6, min_samples_split=20, n_estimators=2247;, score=0.907 total time=  17.5s\n",
      "[CV 3/5] END bootstrap=True, criterion=gini, max_depth=88, max_features=auto, min_samples_leaf=6, min_samples_split=20, n_estimators=2247;, score=0.897 total time=  18.2s\n",
      "[CV 4/5] END bootstrap=True, criterion=gini, max_depth=88, max_features=auto, min_samples_leaf=6, min_samples_split=20, n_estimators=2247;, score=0.897 total time=  17.8s\n",
      "[CV 5/5] END bootstrap=True, criterion=gini, max_depth=88, max_features=auto, min_samples_leaf=6, min_samples_split=20, n_estimators=2247;, score=0.905 total time=  17.5s\n",
      "[CV 1/5] END bootstrap=False, criterion=entropy, max_depth=78, max_features=auto, min_samples_leaf=4, min_samples_split=25, n_estimators=2500;, score=0.898 total time=  30.0s\n",
      "[CV 2/5] END bootstrap=False, criterion=entropy, max_depth=78, max_features=auto, min_samples_leaf=4, min_samples_split=25, n_estimators=2500;, score=0.907 total time=  29.8s\n",
      "[CV 3/5] END bootstrap=False, criterion=entropy, max_depth=78, max_features=auto, min_samples_leaf=4, min_samples_split=25, n_estimators=2500;, score=0.896 total time=  32.4s\n",
      "[CV 4/5] END bootstrap=False, criterion=entropy, max_depth=78, max_features=auto, min_samples_leaf=4, min_samples_split=25, n_estimators=2500;, score=0.899 total time=  30.1s\n",
      "[CV 5/5] END bootstrap=False, criterion=entropy, max_depth=78, max_features=auto, min_samples_leaf=4, min_samples_split=25, n_estimators=2500;, score=0.905 total time=  29.5s\n",
      "[CV 1/5] END bootstrap=False, criterion=gini, max_depth=41, max_features=auto, min_samples_leaf=4, min_samples_split=5, n_estimators=478;, score=0.898 total time=   6.6s\n",
      "[CV 2/5] END bootstrap=False, criterion=gini, max_depth=41, max_features=auto, min_samples_leaf=4, min_samples_split=5, n_estimators=478;, score=0.905 total time=   6.1s\n",
      "[CV 3/5] END bootstrap=False, criterion=gini, max_depth=41, max_features=auto, min_samples_leaf=4, min_samples_split=5, n_estimators=478;, score=0.895 total time=   6.0s\n",
      "[CV 4/5] END bootstrap=False, criterion=gini, max_depth=41, max_features=auto, min_samples_leaf=4, min_samples_split=5, n_estimators=478;, score=0.898 total time=   5.8s\n",
      "[CV 5/5] END bootstrap=False, criterion=gini, max_depth=41, max_features=auto, min_samples_leaf=4, min_samples_split=5, n_estimators=478;, score=0.904 total time=   5.8s\n",
      "[CV 1/5] END bootstrap=True, criterion=entropy, max_depth=20, max_features=auto, min_samples_leaf=4, min_samples_split=15, n_estimators=226;, score=0.900 total time=   2.0s\n",
      "[CV 2/5] END bootstrap=True, criterion=entropy, max_depth=20, max_features=auto, min_samples_leaf=4, min_samples_split=15, n_estimators=226;, score=0.907 total time=   1.9s\n",
      "[CV 3/5] END bootstrap=True, criterion=entropy, max_depth=20, max_features=auto, min_samples_leaf=4, min_samples_split=15, n_estimators=226;, score=0.897 total time=   1.9s\n",
      "[CV 4/5] END bootstrap=True, criterion=entropy, max_depth=20, max_features=auto, min_samples_leaf=4, min_samples_split=15, n_estimators=226;, score=0.897 total time=   2.2s\n",
      "[CV 5/5] END bootstrap=True, criterion=entropy, max_depth=20, max_features=auto, min_samples_leaf=4, min_samples_split=15, n_estimators=226;, score=0.905 total time=   2.1s\n",
      "[CV 1/5] END bootstrap=False, criterion=entropy, max_depth=36, max_features=sqrt, min_samples_leaf=2, min_samples_split=10, n_estimators=1615;, score=0.897 total time=  22.0s\n",
      "[CV 2/5] END bootstrap=False, criterion=entropy, max_depth=36, max_features=sqrt, min_samples_leaf=2, min_samples_split=10, n_estimators=1615;, score=0.904 total time=  21.3s\n",
      "[CV 3/5] END bootstrap=False, criterion=entropy, max_depth=36, max_features=sqrt, min_samples_leaf=2, min_samples_split=10, n_estimators=1615;, score=0.894 total time=  21.5s\n"
     ]
    },
    {
     "name": "stdout",
     "output_type": "stream",
     "text": [
      "[CV 4/5] END bootstrap=False, criterion=entropy, max_depth=36, max_features=sqrt, min_samples_leaf=2, min_samples_split=10, n_estimators=1615;, score=0.896 total time=  20.4s\n",
      "[CV 5/5] END bootstrap=False, criterion=entropy, max_depth=36, max_features=sqrt, min_samples_leaf=2, min_samples_split=10, n_estimators=1615;, score=0.902 total time=  20.1s\n",
      "[CV 1/5] END bootstrap=False, criterion=gini, max_depth=88, max_features=auto, min_samples_leaf=10, min_samples_split=5, n_estimators=1236;, score=0.898 total time=  12.2s\n",
      "[CV 2/5] END bootstrap=False, criterion=gini, max_depth=88, max_features=auto, min_samples_leaf=10, min_samples_split=5, n_estimators=1236;, score=0.905 total time=  12.4s\n",
      "[CV 3/5] END bootstrap=False, criterion=gini, max_depth=88, max_features=auto, min_samples_leaf=10, min_samples_split=5, n_estimators=1236;, score=0.896 total time=  12.3s\n",
      "[CV 4/5] END bootstrap=False, criterion=gini, max_depth=88, max_features=auto, min_samples_leaf=10, min_samples_split=5, n_estimators=1236;, score=0.899 total time=  12.4s\n",
      "[CV 5/5] END bootstrap=False, criterion=gini, max_depth=88, max_features=auto, min_samples_leaf=10, min_samples_split=5, n_estimators=1236;, score=0.905 total time=  12.2s\n",
      "[CV 1/5] END bootstrap=True, criterion=entropy, max_depth=25, max_features=auto, min_samples_leaf=2, min_samples_split=20, n_estimators=857;, score=0.898 total time=   7.2s\n",
      "[CV 2/5] END bootstrap=True, criterion=entropy, max_depth=25, max_features=auto, min_samples_leaf=2, min_samples_split=20, n_estimators=857;, score=0.906 total time=   8.6s\n",
      "[CV 3/5] END bootstrap=True, criterion=entropy, max_depth=25, max_features=auto, min_samples_leaf=2, min_samples_split=20, n_estimators=857;, score=0.896 total time=   7.2s\n",
      "[CV 4/5] END bootstrap=True, criterion=entropy, max_depth=25, max_features=auto, min_samples_leaf=2, min_samples_split=20, n_estimators=857;, score=0.897 total time=   7.2s\n",
      "[CV 5/5] END bootstrap=True, criterion=entropy, max_depth=25, max_features=auto, min_samples_leaf=2, min_samples_split=20, n_estimators=857;, score=0.905 total time=   7.3s\n",
      "[CV 1/5] END bootstrap=False, criterion=entropy, max_depth=67, max_features=auto, min_samples_leaf=4, min_samples_split=5, n_estimators=100;, score=0.897 total time=   1.2s\n",
      "[CV 2/5] END bootstrap=False, criterion=entropy, max_depth=67, max_features=auto, min_samples_leaf=4, min_samples_split=5, n_estimators=100;, score=0.904 total time=   1.2s\n",
      "[CV 3/5] END bootstrap=False, criterion=entropy, max_depth=67, max_features=auto, min_samples_leaf=4, min_samples_split=5, n_estimators=100;, score=0.894 total time=   1.2s\n",
      "[CV 4/5] END bootstrap=False, criterion=entropy, max_depth=67, max_features=auto, min_samples_leaf=4, min_samples_split=5, n_estimators=100;, score=0.898 total time=   1.2s\n",
      "[CV 5/5] END bootstrap=False, criterion=entropy, max_depth=67, max_features=auto, min_samples_leaf=4, min_samples_split=5, n_estimators=100;, score=0.904 total time=   1.2s\n",
      "[CV 1/5] END bootstrap=True, criterion=entropy, max_depth=78, max_features=sqrt, min_samples_leaf=4, min_samples_split=5, n_estimators=1363;, score=0.898 total time=  12.9s\n",
      "[CV 2/5] END bootstrap=True, criterion=entropy, max_depth=78, max_features=sqrt, min_samples_leaf=4, min_samples_split=5, n_estimators=1363;, score=0.907 total time=  11.2s\n",
      "[CV 3/5] END bootstrap=True, criterion=entropy, max_depth=78, max_features=sqrt, min_samples_leaf=4, min_samples_split=5, n_estimators=1363;, score=0.896 total time=  11.2s\n",
      "[CV 4/5] END bootstrap=True, criterion=entropy, max_depth=78, max_features=sqrt, min_samples_leaf=4, min_samples_split=5, n_estimators=1363;, score=0.899 total time=  11.3s\n",
      "[CV 5/5] END bootstrap=True, criterion=entropy, max_depth=78, max_features=sqrt, min_samples_leaf=4, min_samples_split=5, n_estimators=1363;, score=0.905 total time=  11.2s\n",
      "[CV 1/5] END bootstrap=False, criterion=entropy, max_depth=36, max_features=sqrt, min_samples_leaf=2, min_samples_split=15, n_estimators=984;, score=0.897 total time=  11.8s\n",
      "[CV 2/5] END bootstrap=False, criterion=entropy, max_depth=36, max_features=sqrt, min_samples_leaf=2, min_samples_split=15, n_estimators=984;, score=0.905 total time=  12.1s\n",
      "[CV 3/5] END bootstrap=False, criterion=entropy, max_depth=36, max_features=sqrt, min_samples_leaf=2, min_samples_split=15, n_estimators=984;, score=0.894 total time=  11.8s\n",
      "[CV 4/5] END bootstrap=False, criterion=entropy, max_depth=36, max_features=sqrt, min_samples_leaf=2, min_samples_split=15, n_estimators=984;, score=0.897 total time=  12.0s\n",
      "[CV 5/5] END bootstrap=False, criterion=entropy, max_depth=36, max_features=sqrt, min_samples_leaf=2, min_samples_split=15, n_estimators=984;, score=0.904 total time=  11.7s\n",
      "[CV 1/5] END bootstrap=True, criterion=gini, max_depth=99, max_features=sqrt, min_samples_leaf=4, min_samples_split=15, n_estimators=984;, score=0.899 total time=   7.5s\n",
      "[CV 2/5] END bootstrap=True, criterion=gini, max_depth=99, max_features=sqrt, min_samples_leaf=4, min_samples_split=15, n_estimators=984;, score=0.907 total time=   8.3s\n",
      "[CV 3/5] END bootstrap=True, criterion=gini, max_depth=99, max_features=sqrt, min_samples_leaf=4, min_samples_split=15, n_estimators=984;, score=0.897 total time=   8.9s\n",
      "[CV 4/5] END bootstrap=True, criterion=gini, max_depth=99, max_features=sqrt, min_samples_leaf=4, min_samples_split=15, n_estimators=984;, score=0.898 total time=   9.1s\n",
      "[CV 5/5] END bootstrap=True, criterion=gini, max_depth=99, max_features=sqrt, min_samples_leaf=4, min_samples_split=15, n_estimators=984;, score=0.905 total time=   8.2s\n",
      "[CV 1/5] END bootstrap=True, criterion=entropy, max_depth=88, max_features=sqrt, min_samples_leaf=2, min_samples_split=20, n_estimators=352;, score=0.899 total time=   3.2s\n",
      "[CV 2/5] END bootstrap=True, criterion=entropy, max_depth=88, max_features=sqrt, min_samples_leaf=2, min_samples_split=20, n_estimators=352;, score=0.906 total time=   3.0s\n",
      "[CV 3/5] END bootstrap=True, criterion=entropy, max_depth=88, max_features=sqrt, min_samples_leaf=2, min_samples_split=20, n_estimators=352;, score=0.896 total time=   2.9s\n",
      "[CV 4/5] END bootstrap=True, criterion=entropy, max_depth=88, max_features=sqrt, min_samples_leaf=2, min_samples_split=20, n_estimators=352;, score=0.898 total time=   3.3s\n",
      "[CV 5/5] END bootstrap=True, criterion=entropy, max_depth=88, max_features=sqrt, min_samples_leaf=2, min_samples_split=20, n_estimators=352;, score=0.905 total time=   3.5s\n",
      "[CV 1/5] END bootstrap=False, criterion=entropy, max_depth=52, max_features=sqrt, min_samples_leaf=6, min_samples_split=20, n_estimators=226;, score=0.897 total time=   2.8s\n",
      "[CV 2/5] END bootstrap=False, criterion=entropy, max_depth=52, max_features=sqrt, min_samples_leaf=6, min_samples_split=20, n_estimators=226;, score=0.908 total time=   2.6s\n",
      "[CV 3/5] END bootstrap=False, criterion=entropy, max_depth=52, max_features=sqrt, min_samples_leaf=6, min_samples_split=20, n_estimators=226;, score=0.896 total time=   2.5s\n",
      "[CV 4/5] END bootstrap=False, criterion=entropy, max_depth=52, max_features=sqrt, min_samples_leaf=6, min_samples_split=20, n_estimators=226;, score=0.898 total time=   2.5s\n",
      "[CV 5/5] END bootstrap=False, criterion=entropy, max_depth=52, max_features=sqrt, min_samples_leaf=6, min_samples_split=20, n_estimators=226;, score=0.903 total time=   2.5s\n",
      "[CV 1/5] END bootstrap=True, criterion=gini, max_depth=83, max_features=sqrt, min_samples_leaf=10, min_samples_split=15, n_estimators=605;, score=0.899 total time=   4.4s\n",
      "[CV 2/5] END bootstrap=True, criterion=gini, max_depth=83, max_features=sqrt, min_samples_leaf=10, min_samples_split=15, n_estimators=605;, score=0.905 total time=   4.4s\n",
      "[CV 3/5] END bootstrap=True, criterion=gini, max_depth=83, max_features=sqrt, min_samples_leaf=10, min_samples_split=15, n_estimators=605;, score=0.897 total time=   4.4s\n",
      "[CV 4/5] END bootstrap=True, criterion=gini, max_depth=83, max_features=sqrt, min_samples_leaf=10, min_samples_split=15, n_estimators=605;, score=0.898 total time=   4.4s\n",
      "[CV 5/5] END bootstrap=True, criterion=gini, max_depth=83, max_features=sqrt, min_samples_leaf=10, min_samples_split=15, n_estimators=605;, score=0.905 total time=   4.5s\n",
      "[CV 1/5] END bootstrap=False, criterion=entropy, max_depth=78, max_features=sqrt, min_samples_leaf=1, min_samples_split=10, n_estimators=226;, score=0.896 total time=   3.0s\n"
     ]
    },
    {
     "name": "stdout",
     "output_type": "stream",
     "text": [
      "[CV 2/5] END bootstrap=False, criterion=entropy, max_depth=78, max_features=sqrt, min_samples_leaf=1, min_samples_split=10, n_estimators=226;, score=0.906 total time=   3.0s\n",
      "[CV 3/5] END bootstrap=False, criterion=entropy, max_depth=78, max_features=sqrt, min_samples_leaf=1, min_samples_split=10, n_estimators=226;, score=0.893 total time=   3.0s\n",
      "[CV 4/5] END bootstrap=False, criterion=entropy, max_depth=78, max_features=sqrt, min_samples_leaf=1, min_samples_split=10, n_estimators=226;, score=0.897 total time=   3.1s\n",
      "[CV 5/5] END bootstrap=False, criterion=entropy, max_depth=78, max_features=sqrt, min_samples_leaf=1, min_samples_split=10, n_estimators=226;, score=0.902 total time=   3.0s\n",
      "[CV 1/5] END bootstrap=False, criterion=gini, max_depth=36, max_features=sqrt, min_samples_leaf=1, min_samples_split=5, n_estimators=984;, score=0.896 total time=  12.6s\n",
      "[CV 2/5] END bootstrap=False, criterion=gini, max_depth=36, max_features=sqrt, min_samples_leaf=1, min_samples_split=5, n_estimators=984;, score=0.905 total time=  12.5s\n",
      "[CV 3/5] END bootstrap=False, criterion=gini, max_depth=36, max_features=sqrt, min_samples_leaf=1, min_samples_split=5, n_estimators=984;, score=0.893 total time=  13.9s\n",
      "[CV 4/5] END bootstrap=False, criterion=gini, max_depth=36, max_features=sqrt, min_samples_leaf=1, min_samples_split=5, n_estimators=984;, score=0.897 total time=  16.0s\n",
      "[CV 5/5] END bootstrap=False, criterion=gini, max_depth=36, max_features=sqrt, min_samples_leaf=1, min_samples_split=5, n_estimators=984;, score=0.900 total time=  13.7s\n",
      "[CV 1/5] END bootstrap=True, criterion=entropy, max_depth=41, max_features=sqrt, min_samples_leaf=2, min_samples_split=10, n_estimators=857;, score=0.898 total time=   9.5s\n",
      "[CV 2/5] END bootstrap=True, criterion=entropy, max_depth=41, max_features=sqrt, min_samples_leaf=2, min_samples_split=10, n_estimators=857;, score=0.908 total time=   8.8s\n",
      "[CV 3/5] END bootstrap=True, criterion=entropy, max_depth=41, max_features=sqrt, min_samples_leaf=2, min_samples_split=10, n_estimators=857;, score=0.895 total time=   8.6s\n",
      "[CV 4/5] END bootstrap=True, criterion=entropy, max_depth=41, max_features=sqrt, min_samples_leaf=2, min_samples_split=10, n_estimators=857;, score=0.899 total time=   9.3s\n",
      "[CV 5/5] END bootstrap=True, criterion=entropy, max_depth=41, max_features=sqrt, min_samples_leaf=2, min_samples_split=10, n_estimators=857;, score=0.905 total time=   9.2s\n",
      "[CV 1/5] END bootstrap=False, criterion=entropy, max_depth=73, max_features=auto, min_samples_leaf=1, min_samples_split=10, n_estimators=100;, score=0.896 total time=   1.5s\n",
      "[CV 2/5] END bootstrap=False, criterion=entropy, max_depth=73, max_features=auto, min_samples_leaf=1, min_samples_split=10, n_estimators=100;, score=0.903 total time=   1.5s\n",
      "[CV 3/5] END bootstrap=False, criterion=entropy, max_depth=73, max_features=auto, min_samples_leaf=1, min_samples_split=10, n_estimators=100;, score=0.894 total time=   1.4s\n",
      "[CV 4/5] END bootstrap=False, criterion=entropy, max_depth=73, max_features=auto, min_samples_leaf=1, min_samples_split=10, n_estimators=100;, score=0.897 total time=   1.4s\n",
      "[CV 5/5] END bootstrap=False, criterion=entropy, max_depth=73, max_features=auto, min_samples_leaf=1, min_samples_split=10, n_estimators=100;, score=0.900 total time=   1.4s\n",
      "[CV 1/5] END bootstrap=True, criterion=entropy, max_depth=62, max_features=auto, min_samples_leaf=4, min_samples_split=15, n_estimators=1994;, score=0.898 total time=  17.1s\n",
      "[CV 2/5] END bootstrap=True, criterion=entropy, max_depth=62, max_features=auto, min_samples_leaf=4, min_samples_split=15, n_estimators=1994;, score=0.906 total time=  17.1s\n",
      "[CV 3/5] END bootstrap=True, criterion=entropy, max_depth=62, max_features=auto, min_samples_leaf=4, min_samples_split=15, n_estimators=1994;, score=0.897 total time=  17.0s\n",
      "[CV 4/5] END bootstrap=True, criterion=entropy, max_depth=62, max_features=auto, min_samples_leaf=4, min_samples_split=15, n_estimators=1994;, score=0.897 total time=  17.1s\n",
      "[CV 5/5] END bootstrap=True, criterion=entropy, max_depth=62, max_features=auto, min_samples_leaf=4, min_samples_split=15, n_estimators=1994;, score=0.905 total time=  16.8s\n",
      "[CV 1/5] END bootstrap=True, criterion=gini, max_depth=41, max_features=sqrt, min_samples_leaf=2, min_samples_split=15, n_estimators=1110;, score=0.898 total time=   9.4s\n",
      "[CV 2/5] END bootstrap=True, criterion=gini, max_depth=41, max_features=sqrt, min_samples_leaf=2, min_samples_split=15, n_estimators=1110;, score=0.907 total time=   9.5s\n",
      "[CV 3/5] END bootstrap=True, criterion=gini, max_depth=41, max_features=sqrt, min_samples_leaf=2, min_samples_split=15, n_estimators=1110;, score=0.897 total time=   9.3s\n",
      "[CV 4/5] END bootstrap=True, criterion=gini, max_depth=41, max_features=sqrt, min_samples_leaf=2, min_samples_split=15, n_estimators=1110;, score=0.897 total time=   9.4s\n",
      "[CV 5/5] END bootstrap=True, criterion=gini, max_depth=41, max_features=sqrt, min_samples_leaf=2, min_samples_split=15, n_estimators=1110;, score=0.905 total time=   9.4s\n",
      "[CV 1/5] END bootstrap=True, criterion=entropy, max_depth=25, max_features=sqrt, min_samples_leaf=4, min_samples_split=10, n_estimators=1110;, score=0.898 total time=   9.3s\n",
      "[CV 2/5] END bootstrap=True, criterion=entropy, max_depth=25, max_features=sqrt, min_samples_leaf=4, min_samples_split=10, n_estimators=1110;, score=0.905 total time=   9.3s\n",
      "[CV 3/5] END bootstrap=True, criterion=entropy, max_depth=25, max_features=sqrt, min_samples_leaf=4, min_samples_split=10, n_estimators=1110;, score=0.896 total time=   9.2s\n",
      "[CV 4/5] END bootstrap=True, criterion=entropy, max_depth=25, max_features=sqrt, min_samples_leaf=4, min_samples_split=10, n_estimators=1110;, score=0.899 total time=   9.2s\n",
      "[CV 5/5] END bootstrap=True, criterion=entropy, max_depth=25, max_features=sqrt, min_samples_leaf=4, min_samples_split=10, n_estimators=1110;, score=0.906 total time=   9.2s\n",
      "[CV 1/5] END bootstrap=True, criterion=gini, max_depth=31, max_features=auto, min_samples_leaf=2, min_samples_split=25, n_estimators=1994;, score=0.900 total time=  16.3s\n",
      "[CV 2/5] END bootstrap=True, criterion=gini, max_depth=31, max_features=auto, min_samples_leaf=2, min_samples_split=25, n_estimators=1994;, score=0.906 total time=  16.0s\n",
      "[CV 3/5] END bootstrap=True, criterion=gini, max_depth=31, max_features=auto, min_samples_leaf=2, min_samples_split=25, n_estimators=1994;, score=0.897 total time=  17.2s\n",
      "[CV 4/5] END bootstrap=True, criterion=gini, max_depth=31, max_features=auto, min_samples_leaf=2, min_samples_split=25, n_estimators=1994;, score=0.898 total time=  16.0s\n",
      "[CV 5/5] END bootstrap=True, criterion=gini, max_depth=31, max_features=auto, min_samples_leaf=2, min_samples_split=25, n_estimators=1994;, score=0.905 total time=  15.7s\n",
      "[CV 1/5] END bootstrap=True, criterion=gini, max_depth=20, max_features=auto, min_samples_leaf=10, min_samples_split=10, n_estimators=1110;, score=0.899 total time=   7.9s\n",
      "[CV 2/5] END bootstrap=True, criterion=gini, max_depth=20, max_features=auto, min_samples_leaf=10, min_samples_split=10, n_estimators=1110;, score=0.906 total time=   7.9s\n",
      "[CV 3/5] END bootstrap=True, criterion=gini, max_depth=20, max_features=auto, min_samples_leaf=10, min_samples_split=10, n_estimators=1110;, score=0.899 total time=   7.8s\n",
      "[CV 4/5] END bootstrap=True, criterion=gini, max_depth=20, max_features=auto, min_samples_leaf=10, min_samples_split=10, n_estimators=1110;, score=0.899 total time=   7.9s\n",
      "[CV 5/5] END bootstrap=True, criterion=gini, max_depth=20, max_features=auto, min_samples_leaf=10, min_samples_split=10, n_estimators=1110;, score=0.906 total time=   7.8s\n",
      "[CV 1/5] END bootstrap=True, criterion=gini, max_depth=52, max_features=auto, min_samples_leaf=1, min_samples_split=10, n_estimators=1110;, score=0.897 total time=   9.5s\n",
      "[CV 2/5] END bootstrap=True, criterion=gini, max_depth=52, max_features=auto, min_samples_leaf=1, min_samples_split=10, n_estimators=1110;, score=0.909 total time=   9.5s\n",
      "[CV 3/5] END bootstrap=True, criterion=gini, max_depth=52, max_features=auto, min_samples_leaf=1, min_samples_split=10, n_estimators=1110;, score=0.895 total time=   9.4s\n",
      "[CV 4/5] END bootstrap=True, criterion=gini, max_depth=52, max_features=auto, min_samples_leaf=1, min_samples_split=10, n_estimators=1110;, score=0.897 total time=   9.6s\n"
     ]
    },
    {
     "name": "stdout",
     "output_type": "stream",
     "text": [
      "[CV 5/5] END bootstrap=True, criterion=gini, max_depth=52, max_features=auto, min_samples_leaf=1, min_samples_split=10, n_estimators=1110;, score=0.905 total time=   9.4s\n",
      "[CV 1/5] END bootstrap=True, criterion=gini, max_depth=25, max_features=auto, min_samples_leaf=4, min_samples_split=15, n_estimators=1615;, score=0.899 total time=  12.6s\n",
      "[CV 2/5] END bootstrap=True, criterion=gini, max_depth=25, max_features=auto, min_samples_leaf=4, min_samples_split=15, n_estimators=1615;, score=0.906 total time=  12.8s\n",
      "[CV 3/5] END bootstrap=True, criterion=gini, max_depth=25, max_features=auto, min_samples_leaf=4, min_samples_split=15, n_estimators=1615;, score=0.897 total time=  12.7s\n",
      "[CV 4/5] END bootstrap=True, criterion=gini, max_depth=25, max_features=auto, min_samples_leaf=4, min_samples_split=15, n_estimators=1615;, score=0.897 total time=  12.8s\n",
      "[CV 5/5] END bootstrap=True, criterion=gini, max_depth=25, max_features=auto, min_samples_leaf=4, min_samples_split=15, n_estimators=1615;, score=0.905 total time=  12.8s\n",
      "[CV 1/5] END bootstrap=True, criterion=gini, max_depth=99, max_features=sqrt, min_samples_leaf=4, min_samples_split=20, n_estimators=857;, score=0.899 total time=   6.7s\n",
      "[CV 2/5] END bootstrap=True, criterion=gini, max_depth=99, max_features=sqrt, min_samples_leaf=4, min_samples_split=20, n_estimators=857;, score=0.906 total time=   6.8s\n",
      "[CV 3/5] END bootstrap=True, criterion=gini, max_depth=99, max_features=sqrt, min_samples_leaf=4, min_samples_split=20, n_estimators=857;, score=0.897 total time=   6.8s\n",
      "[CV 4/5] END bootstrap=True, criterion=gini, max_depth=99, max_features=sqrt, min_samples_leaf=4, min_samples_split=20, n_estimators=857;, score=0.898 total time=   6.6s\n",
      "[CV 5/5] END bootstrap=True, criterion=gini, max_depth=99, max_features=sqrt, min_samples_leaf=4, min_samples_split=20, n_estimators=857;, score=0.904 total time=   5.9s\n",
      "[CV 1/5] END bootstrap=True, criterion=gini, max_depth=67, max_features=sqrt, min_samples_leaf=6, min_samples_split=25, n_estimators=1868;, score=0.898 total time= 1.5min\n",
      "[CV 2/5] END bootstrap=True, criterion=gini, max_depth=67, max_features=sqrt, min_samples_leaf=6, min_samples_split=25, n_estimators=1868;, score=0.907 total time=  17.2s\n",
      "[CV 3/5] END bootstrap=True, criterion=gini, max_depth=67, max_features=sqrt, min_samples_leaf=6, min_samples_split=25, n_estimators=1868;, score=0.897 total time=  14.0s\n",
      "[CV 4/5] END bootstrap=True, criterion=gini, max_depth=67, max_features=sqrt, min_samples_leaf=6, min_samples_split=25, n_estimators=1868;, score=0.899 total time=  14.0s\n",
      "[CV 5/5] END bootstrap=True, criterion=gini, max_depth=67, max_features=sqrt, min_samples_leaf=6, min_samples_split=25, n_estimators=1868;, score=0.905 total time=  14.4s\n",
      "[CV 1/5] END bootstrap=False, criterion=entropy, max_depth=46, max_features=sqrt, min_samples_leaf=6, min_samples_split=20, n_estimators=1868;, score=0.899 total time=  22.3s\n",
      "[CV 2/5] END bootstrap=False, criterion=entropy, max_depth=46, max_features=sqrt, min_samples_leaf=6, min_samples_split=20, n_estimators=1868;, score=0.906 total time=  24.9s\n",
      "[CV 3/5] END bootstrap=False, criterion=entropy, max_depth=46, max_features=sqrt, min_samples_leaf=6, min_samples_split=20, n_estimators=1868;, score=0.896 total time=  21.2s\n",
      "[CV 4/5] END bootstrap=False, criterion=entropy, max_depth=46, max_features=sqrt, min_samples_leaf=6, min_samples_split=20, n_estimators=1868;, score=0.898 total time=  21.4s\n",
      "[CV 5/5] END bootstrap=False, criterion=entropy, max_depth=46, max_features=sqrt, min_samples_leaf=6, min_samples_split=20, n_estimators=1868;, score=0.905 total time=  23.0s\n",
      "[CV 1/5] END bootstrap=False, criterion=gini, max_depth=88, max_features=auto, min_samples_leaf=4, min_samples_split=20, n_estimators=731;, score=0.899 total time=   8.6s\n",
      "[CV 2/5] END bootstrap=False, criterion=gini, max_depth=88, max_features=auto, min_samples_leaf=4, min_samples_split=20, n_estimators=731;, score=0.907 total time=   8.1s\n",
      "[CV 3/5] END bootstrap=False, criterion=gini, max_depth=88, max_features=auto, min_samples_leaf=4, min_samples_split=20, n_estimators=731;, score=0.897 total time=   7.8s\n",
      "[CV 4/5] END bootstrap=False, criterion=gini, max_depth=88, max_features=auto, min_samples_leaf=4, min_samples_split=20, n_estimators=731;, score=0.898 total time=   8.1s\n",
      "[CV 5/5] END bootstrap=False, criterion=gini, max_depth=88, max_features=auto, min_samples_leaf=4, min_samples_split=20, n_estimators=731;, score=0.903 total time=   7.9s\n",
      "[CV 1/5] END bootstrap=True, criterion=entropy, max_depth=10, max_features=auto, min_samples_leaf=6, min_samples_split=15, n_estimators=1994;, score=0.896 total time=  12.4s\n",
      "[CV 2/5] END bootstrap=True, criterion=entropy, max_depth=10, max_features=auto, min_samples_leaf=6, min_samples_split=15, n_estimators=1994;, score=0.906 total time=  12.3s\n",
      "[CV 3/5] END bootstrap=True, criterion=entropy, max_depth=10, max_features=auto, min_samples_leaf=6, min_samples_split=15, n_estimators=1994;, score=0.897 total time=  12.3s\n",
      "[CV 4/5] END bootstrap=True, criterion=entropy, max_depth=10, max_features=auto, min_samples_leaf=6, min_samples_split=15, n_estimators=1994;, score=0.897 total time=  12.4s\n",
      "[CV 5/5] END bootstrap=True, criterion=entropy, max_depth=10, max_features=auto, min_samples_leaf=6, min_samples_split=15, n_estimators=1994;, score=0.905 total time=  12.5s\n",
      "[CV 1/5] END bootstrap=True, criterion=gini, max_depth=73, max_features=auto, min_samples_leaf=6, min_samples_split=25, n_estimators=1868;, score=0.898 total time=  13.9s\n",
      "[CV 2/5] END bootstrap=True, criterion=gini, max_depth=73, max_features=auto, min_samples_leaf=6, min_samples_split=25, n_estimators=1868;, score=0.906 total time=  14.0s\n",
      "[CV 3/5] END bootstrap=True, criterion=gini, max_depth=73, max_features=auto, min_samples_leaf=6, min_samples_split=25, n_estimators=1868;, score=0.897 total time=  13.8s\n",
      "[CV 4/5] END bootstrap=True, criterion=gini, max_depth=73, max_features=auto, min_samples_leaf=6, min_samples_split=25, n_estimators=1868;, score=0.899 total time=  13.7s\n",
      "[CV 5/5] END bootstrap=True, criterion=gini, max_depth=73, max_features=auto, min_samples_leaf=6, min_samples_split=25, n_estimators=1868;, score=0.905 total time=  13.6s\n",
      "[CV 1/5] END bootstrap=False, criterion=entropy, max_depth=52, max_features=auto, min_samples_leaf=2, min_samples_split=20, n_estimators=100;, score=0.897 total time=   1.2s\n",
      "[CV 2/5] END bootstrap=False, criterion=entropy, max_depth=52, max_features=auto, min_samples_leaf=2, min_samples_split=20, n_estimators=100;, score=0.905 total time=   1.2s\n",
      "[CV 3/5] END bootstrap=False, criterion=entropy, max_depth=52, max_features=auto, min_samples_leaf=2, min_samples_split=20, n_estimators=100;, score=0.893 total time=   1.2s\n",
      "[CV 4/5] END bootstrap=False, criterion=entropy, max_depth=52, max_features=auto, min_samples_leaf=2, min_samples_split=20, n_estimators=100;, score=0.898 total time=   1.2s\n",
      "[CV 5/5] END bootstrap=False, criterion=entropy, max_depth=52, max_features=auto, min_samples_leaf=2, min_samples_split=20, n_estimators=100;, score=0.906 total time=   1.2s\n",
      "[CV 1/5] END bootstrap=False, criterion=entropy, max_depth=41, max_features=sqrt, min_samples_leaf=10, min_samples_split=20, n_estimators=2373;, score=0.898 total time=  25.6s\n",
      "[CV 2/5] END bootstrap=False, criterion=entropy, max_depth=41, max_features=sqrt, min_samples_leaf=10, min_samples_split=20, n_estimators=2373;, score=0.905 total time=  24.9s\n",
      "[CV 3/5] END bootstrap=False, criterion=entropy, max_depth=41, max_features=sqrt, min_samples_leaf=10, min_samples_split=20, n_estimators=2373;, score=0.896 total time=  24.5s\n",
      "[CV 4/5] END bootstrap=False, criterion=entropy, max_depth=41, max_features=sqrt, min_samples_leaf=10, min_samples_split=20, n_estimators=2373;, score=0.898 total time=  24.5s\n",
      "[CV 5/5] END bootstrap=False, criterion=entropy, max_depth=41, max_features=sqrt, min_samples_leaf=10, min_samples_split=20, n_estimators=2373;, score=0.905 total time=  24.5s\n",
      "[CV 1/5] END bootstrap=False, criterion=entropy, max_depth=83, max_features=sqrt, min_samples_leaf=1, min_samples_split=15, n_estimators=1868;, score=0.897 total time=  23.4s\n",
      "[CV 2/5] END bootstrap=False, criterion=entropy, max_depth=83, max_features=sqrt, min_samples_leaf=1, min_samples_split=15, n_estimators=1868;, score=0.907 total time=  23.8s\n"
     ]
    },
    {
     "name": "stdout",
     "output_type": "stream",
     "text": [
      "[CV 3/5] END bootstrap=False, criterion=entropy, max_depth=83, max_features=sqrt, min_samples_leaf=1, min_samples_split=15, n_estimators=1868;, score=0.895 total time=  23.2s\n",
      "[CV 4/5] END bootstrap=False, criterion=entropy, max_depth=83, max_features=sqrt, min_samples_leaf=1, min_samples_split=15, n_estimators=1868;, score=0.897 total time=  23.7s\n",
      "[CV 5/5] END bootstrap=False, criterion=entropy, max_depth=83, max_features=sqrt, min_samples_leaf=1, min_samples_split=15, n_estimators=1868;, score=0.902 total time=  23.3s\n",
      "[CV 1/5] END bootstrap=True, criterion=gini, max_depth=57, max_features=sqrt, min_samples_leaf=2, min_samples_split=5, n_estimators=1363;, score=0.897 total time=  11.5s\n",
      "[CV 2/5] END bootstrap=True, criterion=gini, max_depth=57, max_features=sqrt, min_samples_leaf=2, min_samples_split=5, n_estimators=1363;, score=0.908 total time=  11.5s\n",
      "[CV 3/5] END bootstrap=True, criterion=gini, max_depth=57, max_features=sqrt, min_samples_leaf=2, min_samples_split=5, n_estimators=1363;, score=0.895 total time=  10.1s\n",
      "[CV 4/5] END bootstrap=True, criterion=gini, max_depth=57, max_features=sqrt, min_samples_leaf=2, min_samples_split=5, n_estimators=1363;, score=0.897 total time=  12.2s\n",
      "[CV 5/5] END bootstrap=True, criterion=gini, max_depth=57, max_features=sqrt, min_samples_leaf=2, min_samples_split=5, n_estimators=1363;, score=0.905 total time=  14.8s\n",
      "[CV 1/5] END bootstrap=False, criterion=entropy, max_depth=110, max_features=sqrt, min_samples_leaf=1, min_samples_split=20, n_estimators=731;, score=0.896 total time=  11.0s\n",
      "[CV 2/5] END bootstrap=False, criterion=entropy, max_depth=110, max_features=sqrt, min_samples_leaf=1, min_samples_split=20, n_estimators=731;, score=0.909 total time=   9.8s\n",
      "[CV 3/5] END bootstrap=False, criterion=entropy, max_depth=110, max_features=sqrt, min_samples_leaf=1, min_samples_split=20, n_estimators=731;, score=0.896 total time=  10.3s\n",
      "[CV 4/5] END bootstrap=False, criterion=entropy, max_depth=110, max_features=sqrt, min_samples_leaf=1, min_samples_split=20, n_estimators=731;, score=0.899 total time=   9.4s\n",
      "[CV 5/5] END bootstrap=False, criterion=entropy, max_depth=110, max_features=sqrt, min_samples_leaf=1, min_samples_split=20, n_estimators=731;, score=0.904 total time=  10.4s\n",
      "[CV 1/5] END bootstrap=True, criterion=entropy, max_depth=25, max_features=auto, min_samples_leaf=1, min_samples_split=5, n_estimators=1615;, score=0.896 total time=  16.3s\n",
      "[CV 2/5] END bootstrap=True, criterion=entropy, max_depth=25, max_features=auto, min_samples_leaf=1, min_samples_split=5, n_estimators=1615;, score=0.907 total time=  15.5s\n",
      "[CV 3/5] END bootstrap=True, criterion=entropy, max_depth=25, max_features=auto, min_samples_leaf=1, min_samples_split=5, n_estimators=1615;, score=0.895 total time=  16.6s\n",
      "[CV 4/5] END bootstrap=True, criterion=entropy, max_depth=25, max_features=auto, min_samples_leaf=1, min_samples_split=5, n_estimators=1615;, score=0.897 total time=  16.3s\n",
      "[CV 5/5] END bootstrap=True, criterion=entropy, max_depth=25, max_features=auto, min_samples_leaf=1, min_samples_split=5, n_estimators=1615;, score=0.902 total time=  16.0s\n",
      "[CV 1/5] END bootstrap=True, criterion=gini, max_depth=88, max_features=sqrt, min_samples_leaf=2, min_samples_split=10, n_estimators=1489;, score=0.897 total time=  13.4s\n",
      "[CV 2/5] END bootstrap=True, criterion=gini, max_depth=88, max_features=sqrt, min_samples_leaf=2, min_samples_split=10, n_estimators=1489;, score=0.908 total time=  12.9s\n",
      "[CV 3/5] END bootstrap=True, criterion=gini, max_depth=88, max_features=sqrt, min_samples_leaf=2, min_samples_split=10, n_estimators=1489;, score=0.896 total time=  12.9s\n",
      "[CV 4/5] END bootstrap=True, criterion=gini, max_depth=88, max_features=sqrt, min_samples_leaf=2, min_samples_split=10, n_estimators=1489;, score=0.899 total time=  13.3s\n",
      "[CV 5/5] END bootstrap=True, criterion=gini, max_depth=88, max_features=sqrt, min_samples_leaf=2, min_samples_split=10, n_estimators=1489;, score=0.905 total time=  12.8s\n",
      "[CV 1/5] END bootstrap=False, criterion=gini, max_depth=78, max_features=sqrt, min_samples_leaf=2, min_samples_split=15, n_estimators=2500;, score=0.897 total time=  29.4s\n",
      "[CV 2/5] END bootstrap=False, criterion=gini, max_depth=78, max_features=sqrt, min_samples_leaf=2, min_samples_split=15, n_estimators=2500;, score=0.907 total time=  30.3s\n",
      "[CV 3/5] END bootstrap=False, criterion=gini, max_depth=78, max_features=sqrt, min_samples_leaf=2, min_samples_split=15, n_estimators=2500;, score=0.894 total time=  29.5s\n",
      "[CV 4/5] END bootstrap=False, criterion=gini, max_depth=78, max_features=sqrt, min_samples_leaf=2, min_samples_split=15, n_estimators=2500;, score=0.898 total time=  32.7s\n",
      "[CV 5/5] END bootstrap=False, criterion=gini, max_depth=78, max_features=sqrt, min_samples_leaf=2, min_samples_split=15, n_estimators=2500;, score=0.902 total time=  33.8s\n",
      "[CV 1/5] END bootstrap=False, criterion=entropy, max_depth=88, max_features=sqrt, min_samples_leaf=1, min_samples_split=5, n_estimators=2247;, score=0.894 total time=  32.7s\n",
      "[CV 2/5] END bootstrap=False, criterion=entropy, max_depth=88, max_features=sqrt, min_samples_leaf=1, min_samples_split=5, n_estimators=2247;, score=0.904 total time=  32.7s\n",
      "[CV 3/5] END bootstrap=False, criterion=entropy, max_depth=88, max_features=sqrt, min_samples_leaf=1, min_samples_split=5, n_estimators=2247;, score=0.891 total time=  32.0s\n",
      "[CV 4/5] END bootstrap=False, criterion=entropy, max_depth=88, max_features=sqrt, min_samples_leaf=1, min_samples_split=5, n_estimators=2247;, score=0.898 total time=  31.4s\n",
      "[CV 5/5] END bootstrap=False, criterion=entropy, max_depth=88, max_features=sqrt, min_samples_leaf=1, min_samples_split=5, n_estimators=2247;, score=0.899 total time=  30.8s\n",
      "[CV 1/5] END bootstrap=False, criterion=gini, max_depth=99, max_features=auto, min_samples_leaf=6, min_samples_split=10, n_estimators=605;, score=0.897 total time=   6.4s\n",
      "[CV 2/5] END bootstrap=False, criterion=gini, max_depth=99, max_features=auto, min_samples_leaf=6, min_samples_split=10, n_estimators=605;, score=0.906 total time=   6.5s\n",
      "[CV 3/5] END bootstrap=False, criterion=gini, max_depth=99, max_features=auto, min_samples_leaf=6, min_samples_split=10, n_estimators=605;, score=0.897 total time=   6.6s\n",
      "[CV 4/5] END bootstrap=False, criterion=gini, max_depth=99, max_features=auto, min_samples_leaf=6, min_samples_split=10, n_estimators=605;, score=0.899 total time=   6.4s\n",
      "[CV 5/5] END bootstrap=False, criterion=gini, max_depth=99, max_features=auto, min_samples_leaf=6, min_samples_split=10, n_estimators=605;, score=0.903 total time=   6.4s\n",
      "[CV 1/5] END bootstrap=True, criterion=entropy, max_depth=62, max_features=sqrt, min_samples_leaf=6, min_samples_split=20, n_estimators=2373;, score=0.897 total time=  19.1s\n",
      "[CV 2/5] END bootstrap=True, criterion=entropy, max_depth=62, max_features=sqrt, min_samples_leaf=6, min_samples_split=20, n_estimators=2373;, score=0.906 total time=  19.3s\n",
      "[CV 3/5] END bootstrap=True, criterion=entropy, max_depth=62, max_features=sqrt, min_samples_leaf=6, min_samples_split=20, n_estimators=2373;, score=0.897 total time=  19.8s\n",
      "[CV 4/5] END bootstrap=True, criterion=entropy, max_depth=62, max_features=sqrt, min_samples_leaf=6, min_samples_split=20, n_estimators=2373;, score=0.898 total time=  21.1s\n",
      "[CV 5/5] END bootstrap=True, criterion=entropy, max_depth=62, max_features=sqrt, min_samples_leaf=6, min_samples_split=20, n_estimators=2373;, score=0.905 total time=  21.6s\n",
      "[CV 1/5] END bootstrap=False, criterion=entropy, max_depth=10, max_features=sqrt, min_samples_leaf=1, min_samples_split=25, n_estimators=2121;, score=0.898 total time=  20.3s\n",
      "[CV 2/5] END bootstrap=False, criterion=entropy, max_depth=10, max_features=sqrt, min_samples_leaf=1, min_samples_split=25, n_estimators=2121;, score=0.907 total time=  18.3s\n",
      "[CV 3/5] END bootstrap=False, criterion=entropy, max_depth=10, max_features=sqrt, min_samples_leaf=1, min_samples_split=25, n_estimators=2121;, score=0.895 total time=  19.5s\n",
      "[CV 4/5] END bootstrap=False, criterion=entropy, max_depth=10, max_features=sqrt, min_samples_leaf=1, min_samples_split=25, n_estimators=2121;, score=0.897 total time=  17.5s\n",
      "[CV 5/5] END bootstrap=False, criterion=entropy, max_depth=10, max_features=sqrt, min_samples_leaf=1, min_samples_split=25, n_estimators=2121;, score=0.904 total time=  17.6s\n"
     ]
    },
    {
     "name": "stdout",
     "output_type": "stream",
     "text": [
      "[CV 1/5] END bootstrap=True, criterion=entropy, max_depth=31, max_features=auto, min_samples_leaf=2, min_samples_split=10, n_estimators=1868;, score=0.896 total time=  21.7s\n",
      "[CV 2/5] END bootstrap=True, criterion=entropy, max_depth=31, max_features=auto, min_samples_leaf=2, min_samples_split=10, n_estimators=1868;, score=0.906 total time=  17.5s\n",
      "[CV 3/5] END bootstrap=True, criterion=entropy, max_depth=31, max_features=auto, min_samples_leaf=2, min_samples_split=10, n_estimators=1868;, score=0.896 total time=  19.5s\n",
      "[CV 4/5] END bootstrap=True, criterion=entropy, max_depth=31, max_features=auto, min_samples_leaf=2, min_samples_split=10, n_estimators=1868;, score=0.898 total time=  19.6s\n",
      "[CV 5/5] END bootstrap=True, criterion=entropy, max_depth=31, max_features=auto, min_samples_leaf=2, min_samples_split=10, n_estimators=1868;, score=0.904 total time=  16.7s\n",
      "[CV 1/5] END bootstrap=True, criterion=gini, max_depth=99, max_features=sqrt, min_samples_leaf=4, min_samples_split=20, n_estimators=1742;, score=0.897 total time=  13.9s\n",
      "[CV 2/5] END bootstrap=True, criterion=gini, max_depth=99, max_features=sqrt, min_samples_leaf=4, min_samples_split=20, n_estimators=1742;, score=0.906 total time=  14.5s\n",
      "[CV 3/5] END bootstrap=True, criterion=gini, max_depth=99, max_features=sqrt, min_samples_leaf=4, min_samples_split=20, n_estimators=1742;, score=0.897 total time=  14.0s\n",
      "[CV 4/5] END bootstrap=True, criterion=gini, max_depth=99, max_features=sqrt, min_samples_leaf=4, min_samples_split=20, n_estimators=1742;, score=0.898 total time=  14.1s\n",
      "[CV 5/5] END bootstrap=True, criterion=gini, max_depth=99, max_features=sqrt, min_samples_leaf=4, min_samples_split=20, n_estimators=1742;, score=0.905 total time=  13.8s\n",
      "[CV 1/5] END bootstrap=False, criterion=gini, max_depth=31, max_features=auto, min_samples_leaf=2, min_samples_split=25, n_estimators=857;, score=0.897 total time=  12.3s\n",
      "[CV 2/5] END bootstrap=False, criterion=gini, max_depth=31, max_features=auto, min_samples_leaf=2, min_samples_split=25, n_estimators=857;, score=0.906 total time=  10.2s\n",
      "[CV 3/5] END bootstrap=False, criterion=gini, max_depth=31, max_features=auto, min_samples_leaf=2, min_samples_split=25, n_estimators=857;, score=0.896 total time=   9.5s\n",
      "[CV 4/5] END bootstrap=False, criterion=gini, max_depth=31, max_features=auto, min_samples_leaf=2, min_samples_split=25, n_estimators=857;, score=0.898 total time=  10.2s\n",
      "[CV 5/5] END bootstrap=False, criterion=gini, max_depth=31, max_features=auto, min_samples_leaf=2, min_samples_split=25, n_estimators=857;, score=0.905 total time=   9.6s\n",
      "[CV 1/5] END bootstrap=False, criterion=entropy, max_depth=94, max_features=auto, min_samples_leaf=10, min_samples_split=25, n_estimators=2121;, score=0.898 total time=  22.7s\n",
      "[CV 2/5] END bootstrap=False, criterion=entropy, max_depth=94, max_features=auto, min_samples_leaf=10, min_samples_split=25, n_estimators=2121;, score=0.906 total time=  22.8s\n",
      "[CV 3/5] END bootstrap=False, criterion=entropy, max_depth=94, max_features=auto, min_samples_leaf=10, min_samples_split=25, n_estimators=2121;, score=0.896 total time=  22.9s\n",
      "[CV 4/5] END bootstrap=False, criterion=entropy, max_depth=94, max_features=auto, min_samples_leaf=10, min_samples_split=25, n_estimators=2121;, score=0.898 total time=  23.6s\n",
      "[CV 5/5] END bootstrap=False, criterion=entropy, max_depth=94, max_features=auto, min_samples_leaf=10, min_samples_split=25, n_estimators=2121;, score=0.905 total time=  22.4s\n",
      "[CV 1/5] END bootstrap=True, criterion=gini, max_depth=25, max_features=auto, min_samples_leaf=6, min_samples_split=5, n_estimators=2121;, score=0.898 total time=  16.5s\n",
      "[CV 2/5] END bootstrap=True, criterion=gini, max_depth=25, max_features=auto, min_samples_leaf=6, min_samples_split=5, n_estimators=2121;, score=0.907 total time=  16.3s\n",
      "[CV 3/5] END bootstrap=True, criterion=gini, max_depth=25, max_features=auto, min_samples_leaf=6, min_samples_split=5, n_estimators=2121;, score=0.897 total time=  16.3s\n",
      "[CV 4/5] END bootstrap=True, criterion=gini, max_depth=25, max_features=auto, min_samples_leaf=6, min_samples_split=5, n_estimators=2121;, score=0.898 total time=  20.3s\n",
      "[CV 5/5] END bootstrap=True, criterion=gini, max_depth=25, max_features=auto, min_samples_leaf=6, min_samples_split=5, n_estimators=2121;, score=0.905 total time=  18.5s\n",
      "[CV 1/5] END bootstrap=True, criterion=entropy, max_depth=10, max_features=sqrt, min_samples_leaf=6, min_samples_split=10, n_estimators=2500;, score=0.897 total time=  17.0s\n",
      "[CV 2/5] END bootstrap=True, criterion=entropy, max_depth=10, max_features=sqrt, min_samples_leaf=6, min_samples_split=10, n_estimators=2500;, score=0.906 total time=  16.4s\n",
      "[CV 3/5] END bootstrap=True, criterion=entropy, max_depth=10, max_features=sqrt, min_samples_leaf=6, min_samples_split=10, n_estimators=2500;, score=0.896 total time=  18.4s\n",
      "[CV 4/5] END bootstrap=True, criterion=entropy, max_depth=10, max_features=sqrt, min_samples_leaf=6, min_samples_split=10, n_estimators=2500;, score=0.897 total time=  19.2s\n",
      "[CV 5/5] END bootstrap=True, criterion=entropy, max_depth=10, max_features=sqrt, min_samples_leaf=6, min_samples_split=10, n_estimators=2500;, score=0.905 total time=  16.9s\n",
      "[CV 1/5] END bootstrap=True, criterion=entropy, max_depth=52, max_features=sqrt, min_samples_leaf=2, min_samples_split=5, n_estimators=2500;, score=0.897 total time=  24.5s\n",
      "[CV 2/5] END bootstrap=True, criterion=entropy, max_depth=52, max_features=sqrt, min_samples_leaf=2, min_samples_split=5, n_estimators=2500;, score=0.909 total time=  23.7s\n",
      "[CV 3/5] END bootstrap=True, criterion=entropy, max_depth=52, max_features=sqrt, min_samples_leaf=2, min_samples_split=5, n_estimators=2500;, score=0.895 total time=  23.6s\n",
      "[CV 4/5] END bootstrap=True, criterion=entropy, max_depth=52, max_features=sqrt, min_samples_leaf=2, min_samples_split=5, n_estimators=2500;, score=0.896 total time=  25.1s\n",
      "[CV 5/5] END bootstrap=True, criterion=entropy, max_depth=52, max_features=sqrt, min_samples_leaf=2, min_samples_split=5, n_estimators=2500;, score=0.904 total time=  24.5s\n",
      "[CV 1/5] END bootstrap=False, criterion=gini, max_depth=62, max_features=auto, min_samples_leaf=2, min_samples_split=5, n_estimators=352;, score=0.897 total time=   4.5s\n",
      "[CV 2/5] END bootstrap=False, criterion=gini, max_depth=62, max_features=auto, min_samples_leaf=2, min_samples_split=5, n_estimators=352;, score=0.902 total time=   4.5s\n",
      "[CV 3/5] END bootstrap=False, criterion=gini, max_depth=62, max_features=auto, min_samples_leaf=2, min_samples_split=5, n_estimators=352;, score=0.892 total time=   4.3s\n",
      "[CV 4/5] END bootstrap=False, criterion=gini, max_depth=62, max_features=auto, min_samples_leaf=2, min_samples_split=5, n_estimators=352;, score=0.897 total time=   4.5s\n",
      "[CV 5/5] END bootstrap=False, criterion=gini, max_depth=62, max_features=auto, min_samples_leaf=2, min_samples_split=5, n_estimators=352;, score=0.901 total time=   4.3s\n",
      "[CV 1/5] END bootstrap=False, criterion=gini, max_depth=62, max_features=auto, min_samples_leaf=6, min_samples_split=5, n_estimators=731;, score=0.899 total time=   8.1s\n",
      "[CV 2/5] END bootstrap=False, criterion=gini, max_depth=62, max_features=auto, min_samples_leaf=6, min_samples_split=5, n_estimators=731;, score=0.906 total time=   8.3s\n",
      "[CV 3/5] END bootstrap=False, criterion=gini, max_depth=62, max_features=auto, min_samples_leaf=6, min_samples_split=5, n_estimators=731;, score=0.897 total time=   8.1s\n",
      "[CV 4/5] END bootstrap=False, criterion=gini, max_depth=62, max_features=auto, min_samples_leaf=6, min_samples_split=5, n_estimators=731;, score=0.899 total time=   7.9s\n",
      "[CV 5/5] END bootstrap=False, criterion=gini, max_depth=62, max_features=auto, min_samples_leaf=6, min_samples_split=5, n_estimators=731;, score=0.905 total time=   8.0s\n",
      "[CV 1/5] END bootstrap=True, criterion=gini, max_depth=52, max_features=sqrt, min_samples_leaf=4, min_samples_split=15, n_estimators=984;, score=0.899 total time=   8.6s\n",
      "[CV 2/5] END bootstrap=True, criterion=gini, max_depth=52, max_features=sqrt, min_samples_leaf=4, min_samples_split=15, n_estimators=984;, score=0.907 total time=   8.5s\n",
      "[CV 3/5] END bootstrap=True, criterion=gini, max_depth=52, max_features=sqrt, min_samples_leaf=4, min_samples_split=15, n_estimators=984;, score=0.897 total time=   8.1s\n"
     ]
    },
    {
     "name": "stdout",
     "output_type": "stream",
     "text": [
      "[CV 4/5] END bootstrap=True, criterion=gini, max_depth=52, max_features=sqrt, min_samples_leaf=4, min_samples_split=15, n_estimators=984;, score=0.898 total time=   8.0s\n",
      "[CV 5/5] END bootstrap=True, criterion=gini, max_depth=52, max_features=sqrt, min_samples_leaf=4, min_samples_split=15, n_estimators=984;, score=0.905 total time=   7.9s\n",
      "[CV 1/5] END bootstrap=True, criterion=entropy, max_depth=94, max_features=auto, min_samples_leaf=1, min_samples_split=10, n_estimators=857;, score=0.896 total time=   8.3s\n",
      "[CV 2/5] END bootstrap=True, criterion=entropy, max_depth=94, max_features=auto, min_samples_leaf=1, min_samples_split=10, n_estimators=857;, score=0.907 total time=   8.3s\n",
      "[CV 3/5] END bootstrap=True, criterion=entropy, max_depth=94, max_features=auto, min_samples_leaf=1, min_samples_split=10, n_estimators=857;, score=0.895 total time=   7.7s\n",
      "[CV 4/5] END bootstrap=True, criterion=entropy, max_depth=94, max_features=auto, min_samples_leaf=1, min_samples_split=10, n_estimators=857;, score=0.897 total time=   8.4s\n",
      "[CV 5/5] END bootstrap=True, criterion=entropy, max_depth=94, max_features=auto, min_samples_leaf=1, min_samples_split=10, n_estimators=857;, score=0.905 total time=  10.6s\n",
      "[CV 1/5] END bootstrap=False, criterion=entropy, max_depth=83, max_features=auto, min_samples_leaf=10, min_samples_split=10, n_estimators=478;, score=0.897 total time=   6.3s\n",
      "[CV 2/5] END bootstrap=False, criterion=entropy, max_depth=83, max_features=auto, min_samples_leaf=10, min_samples_split=10, n_estimators=478;, score=0.906 total time=   5.8s\n",
      "[CV 3/5] END bootstrap=False, criterion=entropy, max_depth=83, max_features=auto, min_samples_leaf=10, min_samples_split=10, n_estimators=478;, score=0.895 total time=   5.7s\n",
      "[CV 4/5] END bootstrap=False, criterion=entropy, max_depth=83, max_features=auto, min_samples_leaf=10, min_samples_split=10, n_estimators=478;, score=0.898 total time=   5.5s\n",
      "[CV 5/5] END bootstrap=False, criterion=entropy, max_depth=83, max_features=auto, min_samples_leaf=10, min_samples_split=10, n_estimators=478;, score=0.904 total time=   5.2s\n",
      "[CV 1/5] END bootstrap=False, criterion=entropy, max_depth=31, max_features=auto, min_samples_leaf=1, min_samples_split=10, n_estimators=731;, score=0.894 total time=  10.1s\n",
      "[CV 2/5] END bootstrap=False, criterion=entropy, max_depth=31, max_features=auto, min_samples_leaf=1, min_samples_split=10, n_estimators=731;, score=0.906 total time=  10.7s\n",
      "[CV 3/5] END bootstrap=False, criterion=entropy, max_depth=31, max_features=auto, min_samples_leaf=1, min_samples_split=10, n_estimators=731;, score=0.894 total time=  10.5s\n",
      "[CV 4/5] END bootstrap=False, criterion=entropy, max_depth=31, max_features=auto, min_samples_leaf=1, min_samples_split=10, n_estimators=731;, score=0.898 total time=  10.9s\n",
      "[CV 5/5] END bootstrap=False, criterion=entropy, max_depth=31, max_features=auto, min_samples_leaf=1, min_samples_split=10, n_estimators=731;, score=0.901 total time=  10.3s\n",
      "[CV 1/5] END bootstrap=True, criterion=gini, max_depth=41, max_features=sqrt, min_samples_leaf=1, min_samples_split=20, n_estimators=2373;, score=0.899 total time=  21.0s\n",
      "[CV 2/5] END bootstrap=True, criterion=gini, max_depth=41, max_features=sqrt, min_samples_leaf=1, min_samples_split=20, n_estimators=2373;, score=0.908 total time=  21.3s\n",
      "[CV 3/5] END bootstrap=True, criterion=gini, max_depth=41, max_features=sqrt, min_samples_leaf=1, min_samples_split=20, n_estimators=2373;, score=0.897 total time=  20.5s\n",
      "[CV 4/5] END bootstrap=True, criterion=gini, max_depth=41, max_features=sqrt, min_samples_leaf=1, min_samples_split=20, n_estimators=2373;, score=0.898 total time=  21.2s\n",
      "[CV 5/5] END bootstrap=True, criterion=gini, max_depth=41, max_features=sqrt, min_samples_leaf=1, min_samples_split=20, n_estimators=2373;, score=0.904 total time=  23.8s\n",
      "[CV 1/5] END bootstrap=False, criterion=gini, max_depth=20, max_features=sqrt, min_samples_leaf=10, min_samples_split=20, n_estimators=605;, score=0.897 total time=   6.3s\n",
      "[CV 2/5] END bootstrap=False, criterion=gini, max_depth=20, max_features=sqrt, min_samples_leaf=10, min_samples_split=20, n_estimators=605;, score=0.905 total time=   6.4s\n",
      "[CV 3/5] END bootstrap=False, criterion=gini, max_depth=20, max_features=sqrt, min_samples_leaf=10, min_samples_split=20, n_estimators=605;, score=0.897 total time=   6.3s\n",
      "[CV 4/5] END bootstrap=False, criterion=gini, max_depth=20, max_features=sqrt, min_samples_leaf=10, min_samples_split=20, n_estimators=605;, score=0.898 total time=   6.3s\n",
      "[CV 5/5] END bootstrap=False, criterion=gini, max_depth=20, max_features=sqrt, min_samples_leaf=10, min_samples_split=20, n_estimators=605;, score=0.905 total time=   6.0s\n",
      "[CV 1/5] END bootstrap=False, criterion=entropy, max_depth=78, max_features=sqrt, min_samples_leaf=1, min_samples_split=10, n_estimators=1110;, score=0.895 total time=  15.5s\n",
      "[CV 2/5] END bootstrap=False, criterion=entropy, max_depth=78, max_features=sqrt, min_samples_leaf=1, min_samples_split=10, n_estimators=1110;, score=0.905 total time=  15.7s\n",
      "[CV 3/5] END bootstrap=False, criterion=entropy, max_depth=78, max_features=sqrt, min_samples_leaf=1, min_samples_split=10, n_estimators=1110;, score=0.892 total time=  15.0s\n",
      "[CV 4/5] END bootstrap=False, criterion=entropy, max_depth=78, max_features=sqrt, min_samples_leaf=1, min_samples_split=10, n_estimators=1110;, score=0.898 total time=  15.9s\n",
      "[CV 5/5] END bootstrap=False, criterion=entropy, max_depth=78, max_features=sqrt, min_samples_leaf=1, min_samples_split=10, n_estimators=1110;, score=0.900 total time=  18.5s\n",
      "[CV 1/5] END bootstrap=False, criterion=entropy, max_depth=62, max_features=auto, min_samples_leaf=2, min_samples_split=20, n_estimators=352;, score=0.897 total time=   5.0s\n",
      "[CV 2/5] END bootstrap=False, criterion=entropy, max_depth=62, max_features=auto, min_samples_leaf=2, min_samples_split=20, n_estimators=352;, score=0.906 total time=   4.6s\n",
      "[CV 3/5] END bootstrap=False, criterion=entropy, max_depth=62, max_features=auto, min_samples_leaf=2, min_samples_split=20, n_estimators=352;, score=0.897 total time=   4.5s\n",
      "[CV 4/5] END bootstrap=False, criterion=entropy, max_depth=62, max_features=auto, min_samples_leaf=2, min_samples_split=20, n_estimators=352;, score=0.899 total time=   4.8s\n",
      "[CV 5/5] END bootstrap=False, criterion=entropy, max_depth=62, max_features=auto, min_samples_leaf=2, min_samples_split=20, n_estimators=352;, score=0.903 total time=   4.7s\n",
      "[CV 1/5] END bootstrap=True, criterion=gini, max_depth=57, max_features=sqrt, min_samples_leaf=4, min_samples_split=10, n_estimators=1236;, score=0.898 total time=  12.7s\n",
      "[CV 2/5] END bootstrap=True, criterion=gini, max_depth=57, max_features=sqrt, min_samples_leaf=4, min_samples_split=10, n_estimators=1236;, score=0.905 total time=  12.1s\n",
      "[CV 3/5] END bootstrap=True, criterion=gini, max_depth=57, max_features=sqrt, min_samples_leaf=4, min_samples_split=10, n_estimators=1236;, score=0.897 total time=  11.8s\n",
      "[CV 4/5] END bootstrap=True, criterion=gini, max_depth=57, max_features=sqrt, min_samples_leaf=4, min_samples_split=10, n_estimators=1236;, score=0.898 total time=  10.6s\n",
      "[CV 5/5] END bootstrap=True, criterion=gini, max_depth=57, max_features=sqrt, min_samples_leaf=4, min_samples_split=10, n_estimators=1236;, score=0.905 total time=  10.4s\n",
      "[CV 1/5] END bootstrap=False, criterion=entropy, max_depth=110, max_features=sqrt, min_samples_leaf=10, min_samples_split=10, n_estimators=478;, score=0.898 total time=   5.0s\n",
      "[CV 2/5] END bootstrap=False, criterion=entropy, max_depth=110, max_features=sqrt, min_samples_leaf=10, min_samples_split=10, n_estimators=478;, score=0.905 total time=   6.0s\n",
      "[CV 3/5] END bootstrap=False, criterion=entropy, max_depth=110, max_features=sqrt, min_samples_leaf=10, min_samples_split=10, n_estimators=478;, score=0.896 total time=   5.2s\n",
      "[CV 4/5] END bootstrap=False, criterion=entropy, max_depth=110, max_features=sqrt, min_samples_leaf=10, min_samples_split=10, n_estimators=478;, score=0.897 total time=   5.4s\n",
      "[CV 5/5] END bootstrap=False, criterion=entropy, max_depth=110, max_features=sqrt, min_samples_leaf=10, min_samples_split=10, n_estimators=478;, score=0.905 total time=   5.2s\n",
      "[CV 1/5] END bootstrap=True, criterion=entropy, max_depth=73, max_features=sqrt, min_samples_leaf=2, min_samples_split=10, n_estimators=1236;, score=0.898 total time=  11.4s\n"
     ]
    },
    {
     "name": "stdout",
     "output_type": "stream",
     "text": [
      "[CV 2/5] END bootstrap=True, criterion=entropy, max_depth=73, max_features=sqrt, min_samples_leaf=2, min_samples_split=10, n_estimators=1236;, score=0.907 total time=  11.5s\n",
      "[CV 3/5] END bootstrap=True, criterion=entropy, max_depth=73, max_features=sqrt, min_samples_leaf=2, min_samples_split=10, n_estimators=1236;, score=0.895 total time=  12.0s\n",
      "[CV 4/5] END bootstrap=True, criterion=entropy, max_depth=73, max_features=sqrt, min_samples_leaf=2, min_samples_split=10, n_estimators=1236;, score=0.899 total time=  12.2s\n",
      "[CV 5/5] END bootstrap=True, criterion=entropy, max_depth=73, max_features=sqrt, min_samples_leaf=2, min_samples_split=10, n_estimators=1236;, score=0.905 total time=  11.3s\n",
      "[CV 1/5] END bootstrap=False, criterion=gini, max_depth=94, max_features=auto, min_samples_leaf=6, min_samples_split=20, n_estimators=2121;, score=0.897 total time=  23.3s\n",
      "[CV 2/5] END bootstrap=False, criterion=gini, max_depth=94, max_features=auto, min_samples_leaf=6, min_samples_split=20, n_estimators=2121;, score=0.907 total time=  23.8s\n",
      "[CV 3/5] END bootstrap=False, criterion=gini, max_depth=94, max_features=auto, min_samples_leaf=6, min_samples_split=20, n_estimators=2121;, score=0.897 total time=  22.9s\n",
      "[CV 4/5] END bootstrap=False, criterion=gini, max_depth=94, max_features=auto, min_samples_leaf=6, min_samples_split=20, n_estimators=2121;, score=0.899 total time=  23.9s\n",
      "[CV 5/5] END bootstrap=False, criterion=gini, max_depth=94, max_features=auto, min_samples_leaf=6, min_samples_split=20, n_estimators=2121;, score=0.905 total time=  22.7s\n",
      "[CV 1/5] END bootstrap=True, criterion=entropy, max_depth=41, max_features=sqrt, min_samples_leaf=1, min_samples_split=25, n_estimators=984;, score=0.899 total time=   9.7s\n",
      "[CV 2/5] END bootstrap=True, criterion=entropy, max_depth=41, max_features=sqrt, min_samples_leaf=1, min_samples_split=25, n_estimators=984;, score=0.907 total time=  10.9s\n",
      "[CV 3/5] END bootstrap=True, criterion=entropy, max_depth=41, max_features=sqrt, min_samples_leaf=1, min_samples_split=25, n_estimators=984;, score=0.896 total time=   9.0s\n",
      "[CV 4/5] END bootstrap=True, criterion=entropy, max_depth=41, max_features=sqrt, min_samples_leaf=1, min_samples_split=25, n_estimators=984;, score=0.898 total time=  11.4s\n",
      "[CV 5/5] END bootstrap=True, criterion=entropy, max_depth=41, max_features=sqrt, min_samples_leaf=1, min_samples_split=25, n_estimators=984;, score=0.905 total time=   8.6s\n",
      "[CV 1/5] END bootstrap=True, criterion=gini, max_depth=52, max_features=sqrt, min_samples_leaf=1, min_samples_split=10, n_estimators=1868;, score=0.897 total time=  16.6s\n",
      "[CV 2/5] END bootstrap=True, criterion=gini, max_depth=52, max_features=sqrt, min_samples_leaf=1, min_samples_split=10, n_estimators=1868;, score=0.909 total time=  17.7s\n",
      "[CV 3/5] END bootstrap=True, criterion=gini, max_depth=52, max_features=sqrt, min_samples_leaf=1, min_samples_split=10, n_estimators=1868;, score=0.896 total time=  16.1s\n",
      "[CV 4/5] END bootstrap=True, criterion=gini, max_depth=52, max_features=sqrt, min_samples_leaf=1, min_samples_split=10, n_estimators=1868;, score=0.898 total time=  16.6s\n",
      "[CV 5/5] END bootstrap=True, criterion=gini, max_depth=52, max_features=sqrt, min_samples_leaf=1, min_samples_split=10, n_estimators=1868;, score=0.905 total time=  17.5s\n",
      "[CV 1/5] END bootstrap=False, criterion=entropy, max_depth=31, max_features=sqrt, min_samples_leaf=1, min_samples_split=20, n_estimators=2500;, score=0.898 total time=  32.3s\n",
      "[CV 2/5] END bootstrap=False, criterion=entropy, max_depth=31, max_features=sqrt, min_samples_leaf=1, min_samples_split=20, n_estimators=2500;, score=0.907 total time=  35.6s\n",
      "[CV 3/5] END bootstrap=False, criterion=entropy, max_depth=31, max_features=sqrt, min_samples_leaf=1, min_samples_split=20, n_estimators=2500;, score=0.895 total time=  32.2s\n",
      "[CV 4/5] END bootstrap=False, criterion=entropy, max_depth=31, max_features=sqrt, min_samples_leaf=1, min_samples_split=20, n_estimators=2500;, score=0.900 total time=  34.5s\n",
      "[CV 5/5] END bootstrap=False, criterion=entropy, max_depth=31, max_features=sqrt, min_samples_leaf=1, min_samples_split=20, n_estimators=2500;, score=0.902 total time=  35.2s\n",
      "[CV 1/5] END bootstrap=False, criterion=gini, max_depth=67, max_features=sqrt, min_samples_leaf=6, min_samples_split=20, n_estimators=226;, score=0.899 total time=   3.1s\n",
      "[CV 2/5] END bootstrap=False, criterion=gini, max_depth=67, max_features=sqrt, min_samples_leaf=6, min_samples_split=20, n_estimators=226;, score=0.905 total time=   4.6s\n",
      "[CV 3/5] END bootstrap=False, criterion=gini, max_depth=67, max_features=sqrt, min_samples_leaf=6, min_samples_split=20, n_estimators=226;, score=0.897 total time=   3.4s\n",
      "[CV 4/5] END bootstrap=False, criterion=gini, max_depth=67, max_features=sqrt, min_samples_leaf=6, min_samples_split=20, n_estimators=226;, score=0.900 total time=   2.7s\n",
      "[CV 5/5] END bootstrap=False, criterion=gini, max_depth=67, max_features=sqrt, min_samples_leaf=6, min_samples_split=20, n_estimators=226;, score=0.904 total time=   2.7s\n",
      "[CV 1/5] END bootstrap=False, criterion=entropy, max_depth=52, max_features=auto, min_samples_leaf=1, min_samples_split=15, n_estimators=2247;, score=0.897 total time=  33.8s\n",
      "[CV 2/5] END bootstrap=False, criterion=entropy, max_depth=52, max_features=auto, min_samples_leaf=1, min_samples_split=15, n_estimators=2247;, score=0.907 total time=  34.8s\n",
      "[CV 3/5] END bootstrap=False, criterion=entropy, max_depth=52, max_features=auto, min_samples_leaf=1, min_samples_split=15, n_estimators=2247;, score=0.895 total time=  31.9s\n",
      "[CV 4/5] END bootstrap=False, criterion=entropy, max_depth=52, max_features=auto, min_samples_leaf=1, min_samples_split=15, n_estimators=2247;, score=0.898 total time=  30.4s\n",
      "[CV 5/5] END bootstrap=False, criterion=entropy, max_depth=52, max_features=auto, min_samples_leaf=1, min_samples_split=15, n_estimators=2247;, score=0.902 total time=  29.7s\n",
      "[CV 1/5] END bootstrap=True, criterion=gini, max_depth=57, max_features=sqrt, min_samples_leaf=4, min_samples_split=5, n_estimators=731;, score=0.896 total time=   6.0s\n",
      "[CV 2/5] END bootstrap=True, criterion=gini, max_depth=57, max_features=sqrt, min_samples_leaf=4, min_samples_split=5, n_estimators=731;, score=0.906 total time=   6.3s\n",
      "[CV 3/5] END bootstrap=True, criterion=gini, max_depth=57, max_features=sqrt, min_samples_leaf=4, min_samples_split=5, n_estimators=731;, score=0.897 total time=   6.3s\n",
      "[CV 4/5] END bootstrap=True, criterion=gini, max_depth=57, max_features=sqrt, min_samples_leaf=4, min_samples_split=5, n_estimators=731;, score=0.899 total time=   6.1s\n",
      "[CV 5/5] END bootstrap=True, criterion=gini, max_depth=57, max_features=sqrt, min_samples_leaf=4, min_samples_split=5, n_estimators=731;, score=0.906 total time=   6.0s\n",
      "[CV 1/5] END bootstrap=True, criterion=gini, max_depth=36, max_features=auto, min_samples_leaf=10, min_samples_split=20, n_estimators=1868;, score=0.899 total time=  14.4s\n",
      "[CV 2/5] END bootstrap=True, criterion=gini, max_depth=36, max_features=auto, min_samples_leaf=10, min_samples_split=20, n_estimators=1868;, score=0.906 total time=  14.1s\n",
      "[CV 3/5] END bootstrap=True, criterion=gini, max_depth=36, max_features=auto, min_samples_leaf=10, min_samples_split=20, n_estimators=1868;, score=0.898 total time=  13.6s\n",
      "[CV 4/5] END bootstrap=True, criterion=gini, max_depth=36, max_features=auto, min_samples_leaf=10, min_samples_split=20, n_estimators=1868;, score=0.899 total time=  13.8s\n",
      "[CV 5/5] END bootstrap=True, criterion=gini, max_depth=36, max_features=auto, min_samples_leaf=10, min_samples_split=20, n_estimators=1868;, score=0.906 total time=  13.8s\n",
      "[CV 1/5] END bootstrap=False, criterion=entropy, max_depth=67, max_features=sqrt, min_samples_leaf=1, min_samples_split=20, n_estimators=478;, score=0.897 total time=   6.2s\n",
      "[CV 2/5] END bootstrap=False, criterion=entropy, max_depth=67, max_features=sqrt, min_samples_leaf=1, min_samples_split=20, n_estimators=478;, score=0.906 total time=   6.3s\n",
      "[CV 3/5] END bootstrap=False, criterion=entropy, max_depth=67, max_features=sqrt, min_samples_leaf=1, min_samples_split=20, n_estimators=478;, score=0.895 total time=   6.2s\n",
      "[CV 4/5] END bootstrap=False, criterion=entropy, max_depth=67, max_features=sqrt, min_samples_leaf=1, min_samples_split=20, n_estimators=478;, score=0.899 total time=   6.4s\n"
     ]
    },
    {
     "name": "stdout",
     "output_type": "stream",
     "text": [
      "[CV 5/5] END bootstrap=False, criterion=entropy, max_depth=67, max_features=sqrt, min_samples_leaf=1, min_samples_split=20, n_estimators=478;, score=0.904 total time=   7.1s\n",
      "[CV 1/5] END bootstrap=True, criterion=entropy, max_depth=57, max_features=auto, min_samples_leaf=10, min_samples_split=10, n_estimators=984;, score=0.899 total time=   7.5s\n",
      "[CV 2/5] END bootstrap=True, criterion=entropy, max_depth=57, max_features=auto, min_samples_leaf=10, min_samples_split=10, n_estimators=984;, score=0.905 total time=   7.8s\n",
      "[CV 3/5] END bootstrap=True, criterion=entropy, max_depth=57, max_features=auto, min_samples_leaf=10, min_samples_split=10, n_estimators=984;, score=0.898 total time=   7.6s\n",
      "[CV 4/5] END bootstrap=True, criterion=entropy, max_depth=57, max_features=auto, min_samples_leaf=10, min_samples_split=10, n_estimators=984;, score=0.899 total time=   7.8s\n",
      "[CV 5/5] END bootstrap=True, criterion=entropy, max_depth=57, max_features=auto, min_samples_leaf=10, min_samples_split=10, n_estimators=984;, score=0.905 total time=   7.9s\n",
      "[CV 1/5] END bootstrap=True, criterion=entropy, max_depth=46, max_features=sqrt, min_samples_leaf=2, min_samples_split=15, n_estimators=100;, score=0.897 total time=   0.9s\n",
      "[CV 2/5] END bootstrap=True, criterion=entropy, max_depth=46, max_features=sqrt, min_samples_leaf=2, min_samples_split=15, n_estimators=100;, score=0.906 total time=   0.9s\n",
      "[CV 3/5] END bootstrap=True, criterion=entropy, max_depth=46, max_features=sqrt, min_samples_leaf=2, min_samples_split=15, n_estimators=100;, score=0.894 total time=   0.9s\n",
      "[CV 4/5] END bootstrap=True, criterion=entropy, max_depth=46, max_features=sqrt, min_samples_leaf=2, min_samples_split=15, n_estimators=100;, score=0.897 total time=   0.9s\n",
      "[CV 5/5] END bootstrap=True, criterion=entropy, max_depth=46, max_features=sqrt, min_samples_leaf=2, min_samples_split=15, n_estimators=100;, score=0.905 total time=   0.9s\n",
      "[CV 1/5] END bootstrap=True, criterion=gini, max_depth=57, max_features=auto, min_samples_leaf=10, min_samples_split=10, n_estimators=2373;, score=0.898 total time=  17.6s\n",
      "[CV 2/5] END bootstrap=True, criterion=gini, max_depth=57, max_features=auto, min_samples_leaf=10, min_samples_split=10, n_estimators=2373;, score=0.905 total time=  17.8s\n",
      "[CV 3/5] END bootstrap=True, criterion=gini, max_depth=57, max_features=auto, min_samples_leaf=10, min_samples_split=10, n_estimators=2373;, score=0.899 total time=  20.0s\n",
      "[CV 4/5] END bootstrap=True, criterion=gini, max_depth=57, max_features=auto, min_samples_leaf=10, min_samples_split=10, n_estimators=2373;, score=0.898 total time=  19.0s\n",
      "[CV 5/5] END bootstrap=True, criterion=gini, max_depth=57, max_features=auto, min_samples_leaf=10, min_samples_split=10, n_estimators=2373;, score=0.906 total time=  17.6s\n",
      "[CV 1/5] END bootstrap=True, criterion=gini, max_depth=99, max_features=auto, min_samples_leaf=10, min_samples_split=25, n_estimators=1994;, score=0.899 total time=  14.5s\n",
      "[CV 2/5] END bootstrap=True, criterion=gini, max_depth=99, max_features=auto, min_samples_leaf=10, min_samples_split=25, n_estimators=1994;, score=0.906 total time=  14.8s\n",
      "[CV 3/5] END bootstrap=True, criterion=gini, max_depth=99, max_features=auto, min_samples_leaf=10, min_samples_split=25, n_estimators=1994;, score=0.899 total time=  14.9s\n",
      "[CV 4/5] END bootstrap=True, criterion=gini, max_depth=99, max_features=auto, min_samples_leaf=10, min_samples_split=25, n_estimators=1994;, score=0.899 total time=  15.3s\n",
      "[CV 5/5] END bootstrap=True, criterion=gini, max_depth=99, max_features=auto, min_samples_leaf=10, min_samples_split=25, n_estimators=1994;, score=0.906 total time=  14.7s\n",
      "[CV 1/5] END bootstrap=False, criterion=gini, max_depth=46, max_features=auto, min_samples_leaf=1, min_samples_split=20, n_estimators=2373;, score=0.895 total time=  28.0s\n",
      "[CV 2/5] END bootstrap=False, criterion=gini, max_depth=46, max_features=auto, min_samples_leaf=1, min_samples_split=20, n_estimators=2373;, score=0.906 total time=  30.4s\n",
      "[CV 3/5] END bootstrap=False, criterion=gini, max_depth=46, max_features=auto, min_samples_leaf=1, min_samples_split=20, n_estimators=2373;, score=0.894 total time=  31.1s\n",
      "[CV 4/5] END bootstrap=False, criterion=gini, max_depth=46, max_features=auto, min_samples_leaf=1, min_samples_split=20, n_estimators=2373;, score=0.898 total time=  31.1s\n",
      "[CV 5/5] END bootstrap=False, criterion=gini, max_depth=46, max_features=auto, min_samples_leaf=1, min_samples_split=20, n_estimators=2373;, score=0.902 total time=  29.6s\n",
      "[CV 1/5] END bootstrap=False, criterion=entropy, max_depth=10, max_features=auto, min_samples_leaf=4, min_samples_split=25, n_estimators=226;, score=0.899 total time=   1.9s\n",
      "[CV 2/5] END bootstrap=False, criterion=entropy, max_depth=10, max_features=auto, min_samples_leaf=4, min_samples_split=25, n_estimators=226;, score=0.907 total time=   1.9s\n",
      "[CV 3/5] END bootstrap=False, criterion=entropy, max_depth=10, max_features=auto, min_samples_leaf=4, min_samples_split=25, n_estimators=226;, score=0.895 total time=   1.9s\n",
      "[CV 4/5] END bootstrap=False, criterion=entropy, max_depth=10, max_features=auto, min_samples_leaf=4, min_samples_split=25, n_estimators=226;, score=0.897 total time=   1.8s\n",
      "[CV 5/5] END bootstrap=False, criterion=entropy, max_depth=10, max_features=auto, min_samples_leaf=4, min_samples_split=25, n_estimators=226;, score=0.904 total time=   2.0s\n",
      "[CV 1/5] END bootstrap=True, criterion=entropy, max_depth=78, max_features=sqrt, min_samples_leaf=10, min_samples_split=25, n_estimators=1363;, score=0.899 total time=  10.5s\n",
      "[CV 2/5] END bootstrap=True, criterion=entropy, max_depth=78, max_features=sqrt, min_samples_leaf=10, min_samples_split=25, n_estimators=1363;, score=0.905 total time=  10.7s\n",
      "[CV 3/5] END bootstrap=True, criterion=entropy, max_depth=78, max_features=sqrt, min_samples_leaf=10, min_samples_split=25, n_estimators=1363;, score=0.899 total time=  10.6s\n",
      "[CV 4/5] END bootstrap=True, criterion=entropy, max_depth=78, max_features=sqrt, min_samples_leaf=10, min_samples_split=25, n_estimators=1363;, score=0.898 total time=  11.6s\n",
      "[CV 5/5] END bootstrap=True, criterion=entropy, max_depth=78, max_features=sqrt, min_samples_leaf=10, min_samples_split=25, n_estimators=1363;, score=0.905 total time=  12.2s\n",
      "[CV 1/5] END bootstrap=True, criterion=entropy, max_depth=110, max_features=auto, min_samples_leaf=1, min_samples_split=15, n_estimators=1615;, score=0.898 total time=  16.9s\n",
      "[CV 2/5] END bootstrap=True, criterion=entropy, max_depth=110, max_features=auto, min_samples_leaf=1, min_samples_split=15, n_estimators=1615;, score=0.907 total time=  16.0s\n",
      "[CV 3/5] END bootstrap=True, criterion=entropy, max_depth=110, max_features=auto, min_samples_leaf=1, min_samples_split=15, n_estimators=1615;, score=0.896 total time=  14.0s\n",
      "[CV 4/5] END bootstrap=True, criterion=entropy, max_depth=110, max_features=auto, min_samples_leaf=1, min_samples_split=15, n_estimators=1615;, score=0.898 total time=  14.1s\n",
      "[CV 5/5] END bootstrap=True, criterion=entropy, max_depth=110, max_features=auto, min_samples_leaf=1, min_samples_split=15, n_estimators=1615;, score=0.905 total time=  14.0s\n",
      "[CV 1/5] END bootstrap=True, criterion=entropy, max_depth=88, max_features=auto, min_samples_leaf=6, min_samples_split=15, n_estimators=1994;, score=0.897 total time=  15.7s\n",
      "[CV 2/5] END bootstrap=True, criterion=entropy, max_depth=88, max_features=auto, min_samples_leaf=6, min_samples_split=15, n_estimators=1994;, score=0.907 total time=  16.2s\n",
      "[CV 3/5] END bootstrap=True, criterion=entropy, max_depth=88, max_features=auto, min_samples_leaf=6, min_samples_split=15, n_estimators=1994;, score=0.895 total time=  15.6s\n",
      "[CV 4/5] END bootstrap=True, criterion=entropy, max_depth=88, max_features=auto, min_samples_leaf=6, min_samples_split=15, n_estimators=1994;, score=0.897 total time=  15.9s\n",
      "[CV 5/5] END bootstrap=True, criterion=entropy, max_depth=88, max_features=auto, min_samples_leaf=6, min_samples_split=15, n_estimators=1994;, score=0.906 total time=  15.8s\n",
      "[CV 1/5] END bootstrap=False, criterion=entropy, max_depth=94, max_features=sqrt, min_samples_leaf=1, min_samples_split=25, n_estimators=352;, score=0.897 total time=   4.3s\n",
      "[CV 2/5] END bootstrap=False, criterion=entropy, max_depth=94, max_features=sqrt, min_samples_leaf=1, min_samples_split=25, n_estimators=352;, score=0.907 total time=   4.4s\n"
     ]
    },
    {
     "name": "stdout",
     "output_type": "stream",
     "text": [
      "[CV 3/5] END bootstrap=False, criterion=entropy, max_depth=94, max_features=sqrt, min_samples_leaf=1, min_samples_split=25, n_estimators=352;, score=0.896 total time=   4.3s\n",
      "[CV 4/5] END bootstrap=False, criterion=entropy, max_depth=94, max_features=sqrt, min_samples_leaf=1, min_samples_split=25, n_estimators=352;, score=0.898 total time=   5.2s\n",
      "[CV 5/5] END bootstrap=False, criterion=entropy, max_depth=94, max_features=sqrt, min_samples_leaf=1, min_samples_split=25, n_estimators=352;, score=0.903 total time=   4.5s\n",
      "[CV 1/5] END bootstrap=False, criterion=gini, max_depth=10, max_features=auto, min_samples_leaf=6, min_samples_split=10, n_estimators=2247;, score=0.898 total time=  16.9s\n",
      "[CV 2/5] END bootstrap=False, criterion=gini, max_depth=10, max_features=auto, min_samples_leaf=6, min_samples_split=10, n_estimators=2247;, score=0.906 total time=  16.7s\n",
      "[CV 3/5] END bootstrap=False, criterion=gini, max_depth=10, max_features=auto, min_samples_leaf=6, min_samples_split=10, n_estimators=2247;, score=0.897 total time=  16.9s\n",
      "[CV 4/5] END bootstrap=False, criterion=gini, max_depth=10, max_features=auto, min_samples_leaf=6, min_samples_split=10, n_estimators=2247;, score=0.899 total time=  16.7s\n",
      "[CV 5/5] END bootstrap=False, criterion=gini, max_depth=10, max_features=auto, min_samples_leaf=6, min_samples_split=10, n_estimators=2247;, score=0.905 total time=  16.8s\n",
      "[CV 1/5] END bootstrap=True, criterion=gini, max_depth=73, max_features=auto, min_samples_leaf=4, min_samples_split=10, n_estimators=226;, score=0.899 total time=   1.8s\n",
      "[CV 2/5] END bootstrap=True, criterion=gini, max_depth=73, max_features=auto, min_samples_leaf=4, min_samples_split=10, n_estimators=226;, score=0.907 total time=   1.8s\n",
      "[CV 3/5] END bootstrap=True, criterion=gini, max_depth=73, max_features=auto, min_samples_leaf=4, min_samples_split=10, n_estimators=226;, score=0.896 total time=   1.8s\n",
      "[CV 4/5] END bootstrap=True, criterion=gini, max_depth=73, max_features=auto, min_samples_leaf=4, min_samples_split=10, n_estimators=226;, score=0.897 total time=   1.8s\n",
      "[CV 5/5] END bootstrap=True, criterion=gini, max_depth=73, max_features=auto, min_samples_leaf=4, min_samples_split=10, n_estimators=226;, score=0.905 total time=   1.8s\n",
      "[CV 1/5] END bootstrap=False, criterion=gini, max_depth=67, max_features=auto, min_samples_leaf=1, min_samples_split=15, n_estimators=1868;, score=0.899 total time=  22.2s\n",
      "[CV 2/5] END bootstrap=False, criterion=gini, max_depth=67, max_features=auto, min_samples_leaf=1, min_samples_split=15, n_estimators=1868;, score=0.905 total time=  22.5s\n",
      "[CV 3/5] END bootstrap=False, criterion=gini, max_depth=67, max_features=auto, min_samples_leaf=1, min_samples_split=15, n_estimators=1868;, score=0.895 total time=  21.8s\n",
      "[CV 4/5] END bootstrap=False, criterion=gini, max_depth=67, max_features=auto, min_samples_leaf=1, min_samples_split=15, n_estimators=1868;, score=0.897 total time=  24.5s\n",
      "[CV 5/5] END bootstrap=False, criterion=gini, max_depth=67, max_features=auto, min_samples_leaf=1, min_samples_split=15, n_estimators=1868;, score=0.902 total time=  23.7s\n",
      "[CV 1/5] END bootstrap=True, criterion=entropy, max_depth=10, max_features=auto, min_samples_leaf=4, min_samples_split=25, n_estimators=2373;, score=0.897 total time=  17.1s\n",
      "[CV 2/5] END bootstrap=True, criterion=entropy, max_depth=10, max_features=auto, min_samples_leaf=4, min_samples_split=25, n_estimators=2373;, score=0.905 total time=  16.1s\n",
      "[CV 3/5] END bootstrap=True, criterion=entropy, max_depth=10, max_features=auto, min_samples_leaf=4, min_samples_split=25, n_estimators=2373;, score=0.895 total time=  15.5s\n",
      "[CV 4/5] END bootstrap=True, criterion=entropy, max_depth=10, max_features=auto, min_samples_leaf=4, min_samples_split=25, n_estimators=2373;, score=0.898 total time=  15.1s\n",
      "[CV 5/5] END bootstrap=True, criterion=entropy, max_depth=10, max_features=auto, min_samples_leaf=4, min_samples_split=25, n_estimators=2373;, score=0.905 total time=  15.5s\n",
      "[CV 1/5] END bootstrap=False, criterion=entropy, max_depth=52, max_features=auto, min_samples_leaf=6, min_samples_split=25, n_estimators=2500;, score=0.899 total time=  40.9s\n",
      "[CV 2/5] END bootstrap=False, criterion=entropy, max_depth=52, max_features=auto, min_samples_leaf=6, min_samples_split=25, n_estimators=2500;, score=0.907 total time=  28.6s\n",
      "[CV 3/5] END bootstrap=False, criterion=entropy, max_depth=52, max_features=auto, min_samples_leaf=6, min_samples_split=25, n_estimators=2500;, score=0.896 total time=  27.6s\n",
      "[CV 4/5] END bootstrap=False, criterion=entropy, max_depth=52, max_features=auto, min_samples_leaf=6, min_samples_split=25, n_estimators=2500;, score=0.898 total time=  29.7s\n",
      "[CV 5/5] END bootstrap=False, criterion=entropy, max_depth=52, max_features=auto, min_samples_leaf=6, min_samples_split=25, n_estimators=2500;, score=0.905 total time=  27.3s\n",
      "[CV 1/5] END bootstrap=False, criterion=gini, max_depth=36, max_features=auto, min_samples_leaf=1, min_samples_split=20, n_estimators=1615;, score=0.897 total time=  19.1s\n",
      "[CV 2/5] END bootstrap=False, criterion=gini, max_depth=36, max_features=auto, min_samples_leaf=1, min_samples_split=20, n_estimators=1615;, score=0.907 total time=  19.5s\n",
      "[CV 3/5] END bootstrap=False, criterion=gini, max_depth=36, max_features=auto, min_samples_leaf=1, min_samples_split=20, n_estimators=1615;, score=0.895 total time=  21.0s\n",
      "[CV 4/5] END bootstrap=False, criterion=gini, max_depth=36, max_features=auto, min_samples_leaf=1, min_samples_split=20, n_estimators=1615;, score=0.897 total time=  20.0s\n",
      "[CV 5/5] END bootstrap=False, criterion=gini, max_depth=36, max_features=auto, min_samples_leaf=1, min_samples_split=20, n_estimators=1615;, score=0.903 total time=  21.3s\n",
      "[CV 1/5] END bootstrap=True, criterion=entropy, max_depth=83, max_features=auto, min_samples_leaf=10, min_samples_split=10, n_estimators=2247;, score=0.898 total time=  18.1s\n",
      "[CV 2/5] END bootstrap=True, criterion=entropy, max_depth=83, max_features=auto, min_samples_leaf=10, min_samples_split=10, n_estimators=2247;, score=0.905 total time=  18.1s\n",
      "[CV 3/5] END bootstrap=True, criterion=entropy, max_depth=83, max_features=auto, min_samples_leaf=10, min_samples_split=10, n_estimators=2247;, score=0.899 total time=  20.8s\n",
      "[CV 4/5] END bootstrap=True, criterion=entropy, max_depth=83, max_features=auto, min_samples_leaf=10, min_samples_split=10, n_estimators=2247;, score=0.899 total time=  18.3s\n",
      "[CV 5/5] END bootstrap=True, criterion=entropy, max_depth=83, max_features=auto, min_samples_leaf=10, min_samples_split=10, n_estimators=2247;, score=0.905 total time=  20.7s\n",
      "[CV 1/5] END bootstrap=True, criterion=gini, max_depth=57, max_features=auto, min_samples_leaf=6, min_samples_split=10, n_estimators=731;, score=0.897 total time=   5.9s\n",
      "[CV 2/5] END bootstrap=True, criterion=gini, max_depth=57, max_features=auto, min_samples_leaf=6, min_samples_split=10, n_estimators=731;, score=0.906 total time=   6.0s\n",
      "[CV 3/5] END bootstrap=True, criterion=gini, max_depth=57, max_features=auto, min_samples_leaf=6, min_samples_split=10, n_estimators=731;, score=0.897 total time=   5.8s\n",
      "[CV 4/5] END bootstrap=True, criterion=gini, max_depth=57, max_features=auto, min_samples_leaf=6, min_samples_split=10, n_estimators=731;, score=0.899 total time=   6.4s\n",
      "[CV 5/5] END bootstrap=True, criterion=gini, max_depth=57, max_features=auto, min_samples_leaf=6, min_samples_split=10, n_estimators=731;, score=0.906 total time=   6.5s\n",
      "[CV 1/5] END bootstrap=True, criterion=gini, max_depth=31, max_features=auto, min_samples_leaf=2, min_samples_split=15, n_estimators=352;, score=0.898 total time=   5.1s\n",
      "[CV 2/5] END bootstrap=True, criterion=gini, max_depth=31, max_features=auto, min_samples_leaf=2, min_samples_split=15, n_estimators=352;, score=0.907 total time=   3.4s\n",
      "[CV 3/5] END bootstrap=True, criterion=gini, max_depth=31, max_features=auto, min_samples_leaf=2, min_samples_split=15, n_estimators=352;, score=0.896 total time=   3.0s\n",
      "[CV 4/5] END bootstrap=True, criterion=gini, max_depth=31, max_features=auto, min_samples_leaf=2, min_samples_split=15, n_estimators=352;, score=0.899 total time=   2.9s\n",
      "[CV 5/5] END bootstrap=True, criterion=gini, max_depth=31, max_features=auto, min_samples_leaf=2, min_samples_split=15, n_estimators=352;, score=0.904 total time=   3.2s\n"
     ]
    },
    {
     "name": "stdout",
     "output_type": "stream",
     "text": [
      "[CV 1/5] END bootstrap=False, criterion=gini, max_depth=73, max_features=sqrt, min_samples_leaf=1, min_samples_split=10, n_estimators=2500;, score=0.898 total time=  31.7s\n",
      "[CV 2/5] END bootstrap=False, criterion=gini, max_depth=73, max_features=sqrt, min_samples_leaf=1, min_samples_split=10, n_estimators=2500;, score=0.905 total time=  33.1s\n",
      "[CV 3/5] END bootstrap=False, criterion=gini, max_depth=73, max_features=sqrt, min_samples_leaf=1, min_samples_split=10, n_estimators=2500;, score=0.896 total time=  31.7s\n",
      "[CV 4/5] END bootstrap=False, criterion=gini, max_depth=73, max_features=sqrt, min_samples_leaf=1, min_samples_split=10, n_estimators=2500;, score=0.896 total time=  32.4s\n",
      "[CV 5/5] END bootstrap=False, criterion=gini, max_depth=73, max_features=sqrt, min_samples_leaf=1, min_samples_split=10, n_estimators=2500;, score=0.901 total time=  32.5s\n",
      "[CV 1/5] END bootstrap=True, criterion=gini, max_depth=83, max_features=sqrt, min_samples_leaf=2, min_samples_split=10, n_estimators=1615;, score=0.898 total time=  14.6s\n",
      "[CV 2/5] END bootstrap=True, criterion=gini, max_depth=83, max_features=sqrt, min_samples_leaf=2, min_samples_split=10, n_estimators=1615;, score=0.907 total time=  16.5s\n",
      "[CV 3/5] END bootstrap=True, criterion=gini, max_depth=83, max_features=sqrt, min_samples_leaf=2, min_samples_split=10, n_estimators=1615;, score=0.896 total time=  17.2s\n",
      "[CV 4/5] END bootstrap=True, criterion=gini, max_depth=83, max_features=sqrt, min_samples_leaf=2, min_samples_split=10, n_estimators=1615;, score=0.899 total time=  17.1s\n",
      "[CV 5/5] END bootstrap=True, criterion=gini, max_depth=83, max_features=sqrt, min_samples_leaf=2, min_samples_split=10, n_estimators=1615;, score=0.905 total time=  16.3s\n",
      "[CV 1/5] END bootstrap=False, criterion=gini, max_depth=31, max_features=auto, min_samples_leaf=6, min_samples_split=10, n_estimators=1742;, score=0.899 total time=  21.1s\n",
      "[CV 2/5] END bootstrap=False, criterion=gini, max_depth=31, max_features=auto, min_samples_leaf=6, min_samples_split=10, n_estimators=1742;, score=0.907 total time=  19.4s\n",
      "[CV 3/5] END bootstrap=False, criterion=gini, max_depth=31, max_features=auto, min_samples_leaf=6, min_samples_split=10, n_estimators=1742;, score=0.896 total time=  19.6s\n",
      "[CV 4/5] END bootstrap=False, criterion=gini, max_depth=31, max_features=auto, min_samples_leaf=6, min_samples_split=10, n_estimators=1742;, score=0.898 total time=  19.7s\n",
      "[CV 5/5] END bootstrap=False, criterion=gini, max_depth=31, max_features=auto, min_samples_leaf=6, min_samples_split=10, n_estimators=1742;, score=0.904 total time=  19.2s\n",
      "[CV 1/5] END bootstrap=False, criterion=entropy, max_depth=25, max_features=auto, min_samples_leaf=4, min_samples_split=10, n_estimators=1615;, score=0.895 total time=  20.0s\n",
      "[CV 2/5] END bootstrap=False, criterion=entropy, max_depth=25, max_features=auto, min_samples_leaf=4, min_samples_split=10, n_estimators=1615;, score=0.908 total time=  20.6s\n",
      "[CV 3/5] END bootstrap=False, criterion=entropy, max_depth=25, max_features=auto, min_samples_leaf=4, min_samples_split=10, n_estimators=1615;, score=0.895 total time=  19.1s\n",
      "[CV 4/5] END bootstrap=False, criterion=entropy, max_depth=25, max_features=auto, min_samples_leaf=4, min_samples_split=10, n_estimators=1615;, score=0.898 total time=  19.8s\n",
      "[CV 5/5] END bootstrap=False, criterion=entropy, max_depth=25, max_features=auto, min_samples_leaf=4, min_samples_split=10, n_estimators=1615;, score=0.905 total time=  19.6s\n",
      "CPU times: user 1h 46min 50s, sys: 1min 53s, total: 1h 48min 44s\n",
      "Wall time: 1h 52min 10s\n"
     ]
    },
    {
     "data": {
      "text/plain": [
       "RandomizedSearchCV(cv=5, estimator=RandomForestClassifier(), n_iter=100,\n",
       "                   param_distributions={'bootstrap': [True, False],\n",
       "                                        'criterion': ['gini', 'entropy'],\n",
       "                                        'max_depth': [10, 15, 20, 25, 31, 36,\n",
       "                                                      41, 46, 52, 57, 62, 67,\n",
       "                                                      73, 78, 83, 88, 94, 99,\n",
       "                                                      104, 110],\n",
       "                                        'max_features': ['auto', 'sqrt'],\n",
       "                                        'min_samples_leaf': [1, 2, 4, 6, 10],\n",
       "                                        'min_samples_split': [5, 10, 15, 20,\n",
       "                                                              25],\n",
       "                                        'n_estimators': [100, 226, 352, 478,\n",
       "                                                         605, 731, 857, 984,\n",
       "                                                         1110, 1236, 1363, 1489,\n",
       "                                                         1615, 1742, 1868, 1994,\n",
       "                                                         2121, 2247, 2373,\n",
       "                                                         2500]},\n",
       "                   random_state=123, verbose=3)"
      ]
     },
     "execution_count": 391,
     "metadata": {},
     "output_type": "execute_result"
    }
   ],
   "source": [
    "%%time \n",
    "rf = RandomForestClassifier()\n",
    "# create parameter dictionary \n",
    "param_grid = {'bootstrap': [True, False],\n",
    "              'criterion': ['gini','entropy'],\n",
    "                'max_depth': [int(x) for x in np.linspace(10, 110, num = 20)],\n",
    "                'max_features': ['auto', 'sqrt'],\n",
    "                'min_samples_leaf': [1, 2, 4, 6, 10],\n",
    "                'min_samples_split': [5, 10, 15, 20, 25],\n",
    "                'n_estimators': [int(x) for x in np.linspace(start = 100, stop = 2500, num = 20)]}\n",
    "#initiate grid search\n",
    "grid = RandomizedSearchCV(rf,param_grid,\n",
    "                          n_iter=100,\n",
    "                          random_state=123,\n",
    "                          verbose=3,\n",
    "                          cv=5)\n",
    "#fit train data\n",
    "\n",
    "grid.fit(X_train,y_train)"
   ]
  },
  {
   "cell_type": "code",
   "execution_count": 392,
   "id": "281be746",
   "metadata": {
    "scrolled": false
   },
   "outputs": [
    {
     "name": "stdout",
     "output_type": "stream",
     "text": [
      "{'n_estimators': 1994, 'min_samples_split': 25, 'min_samples_leaf': 10, 'max_features': 'auto', 'max_depth': 99, 'criterion': 'gini', 'bootstrap': True}\n",
      "RandomForestClassifier(max_depth=99, min_samples_leaf=10, min_samples_split=25,\n",
      "                       n_estimators=1994)\n"
     ]
    }
   ],
   "source": [
    "print(grid.best_params_)\n",
    "print(grid.best_estimator_)"
   ]
  },
  {
   "cell_type": "markdown",
   "id": "279aa918",
   "metadata": {},
   "source": [
    "{'n_estimators': 733,\n",
    " 'min_samples_split': 20,\n",
    " 'min_samples_leaf': 4,\n",
    " 'max_features': 'sqrt',\n",
    " 'max_depth': 110,\n",
    " 'bootstrap': True}\n",
    "\n",
    "{'n_estimators': 557, 'min_samples_split': 20, 'min_samples_leaf': 4, 'max_features': 'sqrt', 'max_depth': 46, 'bootstrap': True}\n",
    "RandomForestClassifier(max_depth=46, max_features='sqrt', min_samples_leaf=4,\n",
    "                       min_samples_split=20, n_estimators=557)\n",
    "                       \n",
    "{'n_estimators': 557, 'min_samples_split': 20, 'min_samples_leaf': 6, 'max_features': 'sqrt', 'max_depth': 20, 'bootstrap': True}\n",
    "RandomForestClassifier(max_depth=20, max_features='sqrt', min_samples_leaf=6,\n",
    "                       min_samples_split=20, n_estimators=557)             \n",
    "\n",
    "{'n_estimators': 1994, 'min_samples_split': 25, 'min_samples_leaf': 10, 'max_features': 'auto', 'max_depth': 99, 'criterion': 'gini', 'bootstrap': True}\n",
    "RandomForestClassifier(max_depth=99, min_samples_leaf=10, min_samples_split=25,\n",
    "                       n_estimators=1994)"
   ]
  },
  {
   "cell_type": "code",
   "execution_count": 393,
   "id": "01dc2bf9",
   "metadata": {
    "scrolled": true
   },
   "outputs": [],
   "source": [
    "if list(set(X_train.columns) - set( X_test.columns)) != []:\n",
    "    X_train_full.drop(columns=['default_yes'],inplace=True)\n",
    "    X_train.drop(columns=['default_yes'],inplace=True)"
   ]
  },
  {
   "cell_type": "code",
   "execution_count": 401,
   "id": "d3e7e81f",
   "metadata": {
    "scrolled": true
   },
   "outputs": [
    {
     "data": {
      "text/plain": [
       "RandomForestClassifier(max_depth=99, min_samples_leaf=10, min_samples_split=25,\n",
       "                       n_estimators=1994, random_state=123)"
      ]
     },
     "execution_count": 401,
     "metadata": {},
     "output_type": "execute_result"
    }
   ],
   "source": [
    "#clf = RandomForestClassifier(max_depth=20, max_features='sqrt', min_samples_leaf=6, min_samples_split=20, n_estimators=557,random_state=123)\n",
    "\n",
    "rf_clf = RandomForestClassifier(max_depth=99, min_samples_leaf=10, min_samples_split=25, n_estimators=1994,random_state=123)\n",
    "\n",
    "rf_clf.fit(X_train, y_train)"
   ]
  },
  {
   "cell_type": "code",
   "execution_count": 402,
   "id": "01486ce0",
   "metadata": {},
   "outputs": [],
   "source": [
    "feature_importances = clf.feature_importances_"
   ]
  },
  {
   "cell_type": "code",
   "execution_count": 403,
   "id": "5b4cd346",
   "metadata": {},
   "outputs": [
    {
     "data": {
      "image/png": "[encoded data removed]",
      "text/plain": [
       "<Figure size 1080x1080 with 1 Axes>"
      ]
     },
     "metadata": {
      "needs_background": "light"
     },
     "output_type": "display_data"
    }
   ],
   "source": [
    "# Code source: \n",
    "# https://scikit-learn.org/stable/auto_examples/ensemble/plot_forest_importances.html\n",
    "forest_importances = pd.Series(feature_importances, index=X_train.columns.to_list())\n",
    "\n",
    "fig, ax = plt.subplots(figsize=(15,15))\n",
    "forest_importances.plot.bar(ax=ax)\n",
    "ax.set_title(\"Feature importances\")\n",
    "ax.set_ylabel(\"Mean decrease in impurity\")\n",
    "fig.tight_layout()"
   ]
  },
  {
   "cell_type": "code",
   "execution_count": null,
   "id": "8efdbf93",
   "metadata": {},
   "outputs": [],
   "source": [
    "X_test.columns"
   ]
  },
  {
   "cell_type": "code",
   "execution_count": 405,
   "id": "69ab134e",
   "metadata": {},
   "outputs": [
    {
     "name": "stdout",
     "output_type": "stream",
     "text": [
      "Train AUC: 0.76917, Test AUC: 0.76598\n"
     ]
    }
   ],
   "source": [
    "clf_train_preds = rf_clf.predict_proba(X_test)[:,1]\n",
    "\n",
    "fpr, tpr, thresholds = metrics.roc_curve(y_test, clf_train_preds, pos_label=1)\n",
    "\n",
    "AUC_train_clf = metrics.auc(fpr, tpr)\n",
    "\n",
    "clf_test_preds = rf_clf.predict_proba(X_val)[:,1]\n",
    "\n",
    "fpr, tpr, thresholds = metrics.roc_curve(y_val, clf_test_preds, pos_label=1)\n",
    "\n",
    "AUC_test_clf = metrics.auc(fpr, tpr)\n",
    "\n",
    "print(f'Train AUC: %.5f, Test AUC: %.5f'% (AUC_train_clf,AUC_test_clf))"
   ]
  },
  {
   "cell_type": "markdown",
   "id": "7cd20a46",
   "metadata": {},
   "source": [
    "## AdaBoost Classifier"
   ]
  },
  {
   "cell_type": "code",
   "execution_count": 412,
   "id": "9fb1d2c6",
   "metadata": {},
   "outputs": [
    {
     "name": "stdout",
     "output_type": "stream",
     "text": [
      "Fitting 3 folds for each of 50 candidates, totalling 150 fits\n",
      "[CV 1/3] END base_estimator__max_depth=12, base_estimator__min_samples_leaf=19, learning_rate=0.1, n_estimators=405;, score=0.887 total time=  27.1s\n",
      "[CV 2/3] END base_estimator__max_depth=12, base_estimator__min_samples_leaf=19, learning_rate=0.1, n_estimators=405;, score=0.894 total time=  29.2s\n",
      "[CV 3/3] END base_estimator__max_depth=12, base_estimator__min_samples_leaf=19, learning_rate=0.1, n_estimators=405;, score=0.893 total time=  27.3s\n"
     ]
    },
    {
     "ename": "KeyboardInterrupt",
     "evalue": "",
     "output_type": "error",
     "traceback": [
      "\u001b[0;31m---------------------------------------------------------------------------\u001b[0m",
      "\u001b[0;31mKeyboardInterrupt\u001b[0m                         Traceback (most recent call last)",
      "\u001b[0;32m/var/folders/fc/9vrqth010qgbrhv1th35kb040000gn/T/ipykernel_31613/2644525228.py\u001b[0m in \u001b[0;36m<module>\u001b[0;34m\u001b[0m\n\u001b[1;32m     13\u001b[0m \u001b[0;34m\u001b[0m\u001b[0m\n\u001b[1;32m     14\u001b[0m \u001b[0;34m\u001b[0m\u001b[0m\n\u001b[0;32m---> 15\u001b[0;31m \u001b[0mgrid\u001b[0m\u001b[0;34m.\u001b[0m\u001b[0mfit\u001b[0m\u001b[0;34m(\u001b[0m\u001b[0mX_train_full\u001b[0m\u001b[0;34m,\u001b[0m\u001b[0my_train_full\u001b[0m\u001b[0;34m)\u001b[0m\u001b[0;34m\u001b[0m\u001b[0;34m\u001b[0m\u001b[0m\n\u001b[0m",
      "\u001b[0;32m~/opt/anaconda3/lib/python3.9/site-packages/sklearn/model_selection/_search.py\u001b[0m in \u001b[0;36mfit\u001b[0;34m(self, X, y, groups, **fit_params)\u001b[0m\n\u001b[1;32m    889\u001b[0m                 \u001b[0;32mreturn\u001b[0m \u001b[0mresults\u001b[0m\u001b[0;34m\u001b[0m\u001b[0;34m\u001b[0m\u001b[0m\n\u001b[1;32m    890\u001b[0m \u001b[0;34m\u001b[0m\u001b[0m\n\u001b[0;32m--> 891\u001b[0;31m             \u001b[0mself\u001b[0m\u001b[0;34m.\u001b[0m\u001b[0m_run_search\u001b[0m\u001b[0;34m(\u001b[0m\u001b[0mevaluate_candidates\u001b[0m\u001b[0;34m)\u001b[0m\u001b[0;34m\u001b[0m\u001b[0;34m\u001b[0m\u001b[0m\n\u001b[0m\u001b[1;32m    892\u001b[0m \u001b[0;34m\u001b[0m\u001b[0m\n\u001b[1;32m    893\u001b[0m             \u001b[0;31m# multimetric is determined here because in the case of a callable\u001b[0m\u001b[0;34m\u001b[0m\u001b[0;34m\u001b[0m\u001b[0m\n",
      "\u001b[0;32m~/opt/anaconda3/lib/python3.9/site-packages/sklearn/model_selection/_search.py\u001b[0m in \u001b[0;36m_run_search\u001b[0;34m(self, evaluate_candidates)\u001b[0m\n\u001b[1;32m   1764\u001b[0m     \u001b[0;32mdef\u001b[0m \u001b[0m_run_search\u001b[0m\u001b[0;34m(\u001b[0m\u001b[0mself\u001b[0m\u001b[0;34m,\u001b[0m \u001b[0mevaluate_candidates\u001b[0m\u001b[0;34m)\u001b[0m\u001b[0;34m:\u001b[0m\u001b[0;34m\u001b[0m\u001b[0;34m\u001b[0m\u001b[0m\n\u001b[1;32m   1765\u001b[0m         \u001b[0;34m\"\"\"Search n_iter candidates from param_distributions\"\"\"\u001b[0m\u001b[0;34m\u001b[0m\u001b[0;34m\u001b[0m\u001b[0m\n\u001b[0;32m-> 1766\u001b[0;31m         evaluate_candidates(\n\u001b[0m\u001b[1;32m   1767\u001b[0m             ParameterSampler(\n\u001b[1;32m   1768\u001b[0m                 \u001b[0mself\u001b[0m\u001b[0;34m.\u001b[0m\u001b[0mparam_distributions\u001b[0m\u001b[0;34m,\u001b[0m \u001b[0mself\u001b[0m\u001b[0;34m.\u001b[0m\u001b[0mn_iter\u001b[0m\u001b[0;34m,\u001b[0m \u001b[0mrandom_state\u001b[0m\u001b[0;34m=\u001b[0m\u001b[0mself\u001b[0m\u001b[0;34m.\u001b[0m\u001b[0mrandom_state\u001b[0m\u001b[0;34m\u001b[0m\u001b[0;34m\u001b[0m\u001b[0m\n",
      "\u001b[0;32m~/opt/anaconda3/lib/python3.9/site-packages/sklearn/model_selection/_search.py\u001b[0m in \u001b[0;36mevaluate_candidates\u001b[0;34m(candidate_params, cv, more_results)\u001b[0m\n\u001b[1;32m    836\u001b[0m                     )\n\u001b[1;32m    837\u001b[0m \u001b[0;34m\u001b[0m\u001b[0m\n\u001b[0;32m--> 838\u001b[0;31m                 out = parallel(\n\u001b[0m\u001b[1;32m    839\u001b[0m                     delayed(_fit_and_score)(\n\u001b[1;32m    840\u001b[0m                         \u001b[0mclone\u001b[0m\u001b[0;34m(\u001b[0m\u001b[0mbase_estimator\u001b[0m\u001b[0;34m)\u001b[0m\u001b[0;34m,\u001b[0m\u001b[0;34m\u001b[0m\u001b[0;34m\u001b[0m\u001b[0m\n",
      "\u001b[0;32m~/opt/anaconda3/lib/python3.9/site-packages/joblib/parallel.py\u001b[0m in \u001b[0;36m__call__\u001b[0;34m(self, iterable)\u001b[0m\n\u001b[1;32m   1044\u001b[0m                 \u001b[0mself\u001b[0m\u001b[0;34m.\u001b[0m\u001b[0m_iterating\u001b[0m \u001b[0;34m=\u001b[0m \u001b[0mself\u001b[0m\u001b[0;34m.\u001b[0m\u001b[0m_original_iterator\u001b[0m \u001b[0;32mis\u001b[0m \u001b[0;32mnot\u001b[0m \u001b[0;32mNone\u001b[0m\u001b[0;34m\u001b[0m\u001b[0;34m\u001b[0m\u001b[0m\n\u001b[1;32m   1045\u001b[0m \u001b[0;34m\u001b[0m\u001b[0m\n\u001b[0;32m-> 1046\u001b[0;31m             \u001b[0;32mwhile\u001b[0m \u001b[0mself\u001b[0m\u001b[0;34m.\u001b[0m\u001b[0mdispatch_one_batch\u001b[0m\u001b[0;34m(\u001b[0m\u001b[0miterator\u001b[0m\u001b[0;34m)\u001b[0m\u001b[0;34m:\u001b[0m\u001b[0;34m\u001b[0m\u001b[0;34m\u001b[0m\u001b[0m\n\u001b[0m\u001b[1;32m   1047\u001b[0m                 \u001b[0;32mpass\u001b[0m\u001b[0;34m\u001b[0m\u001b[0;34m\u001b[0m\u001b[0m\n\u001b[1;32m   1048\u001b[0m \u001b[0;34m\u001b[0m\u001b[0m\n",
      "\u001b[0;32m~/opt/anaconda3/lib/python3.9/site-packages/joblib/parallel.py\u001b[0m in \u001b[0;36mdispatch_one_batch\u001b[0;34m(self, iterator)\u001b[0m\n\u001b[1;32m    859\u001b[0m                 \u001b[0;32mreturn\u001b[0m \u001b[0;32mFalse\u001b[0m\u001b[0;34m\u001b[0m\u001b[0;34m\u001b[0m\u001b[0m\n\u001b[1;32m    860\u001b[0m             \u001b[0;32melse\u001b[0m\u001b[0;34m:\u001b[0m\u001b[0;34m\u001b[0m\u001b[0;34m\u001b[0m\u001b[0m\n\u001b[0;32m--> 861\u001b[0;31m                 \u001b[0mself\u001b[0m\u001b[0;34m.\u001b[0m\u001b[0m_dispatch\u001b[0m\u001b[0;34m(\u001b[0m\u001b[0mtasks\u001b[0m\u001b[0;34m)\u001b[0m\u001b[0;34m\u001b[0m\u001b[0;34m\u001b[0m\u001b[0m\n\u001b[0m\u001b[1;32m    862\u001b[0m                 \u001b[0;32mreturn\u001b[0m \u001b[0;32mTrue\u001b[0m\u001b[0;34m\u001b[0m\u001b[0;34m\u001b[0m\u001b[0m\n\u001b[1;32m    863\u001b[0m \u001b[0;34m\u001b[0m\u001b[0m\n",
      "\u001b[0;32m~/opt/anaconda3/lib/python3.9/site-packages/joblib/parallel.py\u001b[0m in \u001b[0;36m_dispatch\u001b[0;34m(self, batch)\u001b[0m\n\u001b[1;32m    777\u001b[0m         \u001b[0;32mwith\u001b[0m \u001b[0mself\u001b[0m\u001b[0;34m.\u001b[0m\u001b[0m_lock\u001b[0m\u001b[0;34m:\u001b[0m\u001b[0;34m\u001b[0m\u001b[0;34m\u001b[0m\u001b[0m\n\u001b[1;32m    778\u001b[0m             \u001b[0mjob_idx\u001b[0m \u001b[0;34m=\u001b[0m \u001b[0mlen\u001b[0m\u001b[0;34m(\u001b[0m\u001b[0mself\u001b[0m\u001b[0;34m.\u001b[0m\u001b[0m_jobs\u001b[0m\u001b[0;34m)\u001b[0m\u001b[0;34m\u001b[0m\u001b[0;34m\u001b[0m\u001b[0m\n\u001b[0;32m--> 779\u001b[0;31m             \u001b[0mjob\u001b[0m \u001b[0;34m=\u001b[0m \u001b[0mself\u001b[0m\u001b[0;34m.\u001b[0m\u001b[0m_backend\u001b[0m\u001b[0;34m.\u001b[0m\u001b[0mapply_async\u001b[0m\u001b[0;34m(\u001b[0m\u001b[0mbatch\u001b[0m\u001b[0;34m,\u001b[0m \u001b[0mcallback\u001b[0m\u001b[0;34m=\u001b[0m\u001b[0mcb\u001b[0m\u001b[0;34m)\u001b[0m\u001b[0;34m\u001b[0m\u001b[0;34m\u001b[0m\u001b[0m\n\u001b[0m\u001b[1;32m    780\u001b[0m             \u001b[0;31m# A job can complete so quickly than its callback is\u001b[0m\u001b[0;34m\u001b[0m\u001b[0;34m\u001b[0m\u001b[0m\n\u001b[1;32m    781\u001b[0m             \u001b[0;31m# called before we get here, causing self._jobs to\u001b[0m\u001b[0;34m\u001b[0m\u001b[0;34m\u001b[0m\u001b[0m\n",
      "\u001b[0;32m~/opt/anaconda3/lib/python3.9/site-packages/joblib/_parallel_backends.py\u001b[0m in \u001b[0;36mapply_async\u001b[0;34m(self, func, callback)\u001b[0m\n\u001b[1;32m    206\u001b[0m     \u001b[0;32mdef\u001b[0m \u001b[0mapply_async\u001b[0m\u001b[0;34m(\u001b[0m\u001b[0mself\u001b[0m\u001b[0;34m,\u001b[0m \u001b[0mfunc\u001b[0m\u001b[0;34m,\u001b[0m \u001b[0mcallback\u001b[0m\u001b[0;34m=\u001b[0m\u001b[0;32mNone\u001b[0m\u001b[0;34m)\u001b[0m\u001b[0;34m:\u001b[0m\u001b[0;34m\u001b[0m\u001b[0;34m\u001b[0m\u001b[0m\n\u001b[1;32m    207\u001b[0m         \u001b[0;34m\"\"\"Schedule a func to be run\"\"\"\u001b[0m\u001b[0;34m\u001b[0m\u001b[0;34m\u001b[0m\u001b[0m\n\u001b[0;32m--> 208\u001b[0;31m         \u001b[0mresult\u001b[0m \u001b[0;34m=\u001b[0m \u001b[0mImmediateResult\u001b[0m\u001b[0;34m(\u001b[0m\u001b[0mfunc\u001b[0m\u001b[0;34m)\u001b[0m\u001b[0;34m\u001b[0m\u001b[0;34m\u001b[0m\u001b[0m\n\u001b[0m\u001b[1;32m    209\u001b[0m         \u001b[0;32mif\u001b[0m \u001b[0mcallback\u001b[0m\u001b[0;34m:\u001b[0m\u001b[0;34m\u001b[0m\u001b[0;34m\u001b[0m\u001b[0m\n\u001b[1;32m    210\u001b[0m             \u001b[0mcallback\u001b[0m\u001b[0;34m(\u001b[0m\u001b[0mresult\u001b[0m\u001b[0;34m)\u001b[0m\u001b[0;34m\u001b[0m\u001b[0;34m\u001b[0m\u001b[0m\n",
      "\u001b[0;32m~/opt/anaconda3/lib/python3.9/site-packages/joblib/_parallel_backends.py\u001b[0m in \u001b[0;36m__init__\u001b[0;34m(self, batch)\u001b[0m\n\u001b[1;32m    570\u001b[0m         \u001b[0;31m# Don't delay the application, to avoid keeping the input\u001b[0m\u001b[0;34m\u001b[0m\u001b[0;34m\u001b[0m\u001b[0m\n\u001b[1;32m    571\u001b[0m         \u001b[0;31m# arguments in memory\u001b[0m\u001b[0;34m\u001b[0m\u001b[0;34m\u001b[0m\u001b[0m\n\u001b[0;32m--> 572\u001b[0;31m         \u001b[0mself\u001b[0m\u001b[0;34m.\u001b[0m\u001b[0mresults\u001b[0m \u001b[0;34m=\u001b[0m \u001b[0mbatch\u001b[0m\u001b[0;34m(\u001b[0m\u001b[0;34m)\u001b[0m\u001b[0;34m\u001b[0m\u001b[0;34m\u001b[0m\u001b[0m\n\u001b[0m\u001b[1;32m    573\u001b[0m \u001b[0;34m\u001b[0m\u001b[0m\n\u001b[1;32m    574\u001b[0m     \u001b[0;32mdef\u001b[0m \u001b[0mget\u001b[0m\u001b[0;34m(\u001b[0m\u001b[0mself\u001b[0m\u001b[0;34m)\u001b[0m\u001b[0;34m:\u001b[0m\u001b[0;34m\u001b[0m\u001b[0;34m\u001b[0m\u001b[0m\n",
      "\u001b[0;32m~/opt/anaconda3/lib/python3.9/site-packages/joblib/parallel.py\u001b[0m in \u001b[0;36m__call__\u001b[0;34m(self)\u001b[0m\n\u001b[1;32m    260\u001b[0m         \u001b[0;31m# change the default number of processes to -1\u001b[0m\u001b[0;34m\u001b[0m\u001b[0;34m\u001b[0m\u001b[0m\n\u001b[1;32m    261\u001b[0m         \u001b[0;32mwith\u001b[0m \u001b[0mparallel_backend\u001b[0m\u001b[0;34m(\u001b[0m\u001b[0mself\u001b[0m\u001b[0;34m.\u001b[0m\u001b[0m_backend\u001b[0m\u001b[0;34m,\u001b[0m \u001b[0mn_jobs\u001b[0m\u001b[0;34m=\u001b[0m\u001b[0mself\u001b[0m\u001b[0;34m.\u001b[0m\u001b[0m_n_jobs\u001b[0m\u001b[0;34m)\u001b[0m\u001b[0;34m:\u001b[0m\u001b[0;34m\u001b[0m\u001b[0;34m\u001b[0m\u001b[0m\n\u001b[0;32m--> 262\u001b[0;31m             return [func(*args, **kwargs)\n\u001b[0m\u001b[1;32m    263\u001b[0m                     for func, args, kwargs in self.items]\n\u001b[1;32m    264\u001b[0m \u001b[0;34m\u001b[0m\u001b[0m\n",
      "\u001b[0;32m~/opt/anaconda3/lib/python3.9/site-packages/joblib/parallel.py\u001b[0m in \u001b[0;36m<listcomp>\u001b[0;34m(.0)\u001b[0m\n\u001b[1;32m    260\u001b[0m         \u001b[0;31m# change the default number of processes to -1\u001b[0m\u001b[0;34m\u001b[0m\u001b[0;34m\u001b[0m\u001b[0m\n\u001b[1;32m    261\u001b[0m         \u001b[0;32mwith\u001b[0m \u001b[0mparallel_backend\u001b[0m\u001b[0;34m(\u001b[0m\u001b[0mself\u001b[0m\u001b[0;34m.\u001b[0m\u001b[0m_backend\u001b[0m\u001b[0;34m,\u001b[0m \u001b[0mn_jobs\u001b[0m\u001b[0;34m=\u001b[0m\u001b[0mself\u001b[0m\u001b[0;34m.\u001b[0m\u001b[0m_n_jobs\u001b[0m\u001b[0;34m)\u001b[0m\u001b[0;34m:\u001b[0m\u001b[0;34m\u001b[0m\u001b[0;34m\u001b[0m\u001b[0m\n\u001b[0;32m--> 262\u001b[0;31m             return [func(*args, **kwargs)\n\u001b[0m\u001b[1;32m    263\u001b[0m                     for func, args, kwargs in self.items]\n\u001b[1;32m    264\u001b[0m \u001b[0;34m\u001b[0m\u001b[0m\n",
      "\u001b[0;32m~/opt/anaconda3/lib/python3.9/site-packages/sklearn/utils/fixes.py\u001b[0m in \u001b[0;36m__call__\u001b[0;34m(self, *args, **kwargs)\u001b[0m\n\u001b[1;32m    214\u001b[0m     \u001b[0;32mdef\u001b[0m \u001b[0m__call__\u001b[0m\u001b[0;34m(\u001b[0m\u001b[0mself\u001b[0m\u001b[0;34m,\u001b[0m \u001b[0;34m*\u001b[0m\u001b[0margs\u001b[0m\u001b[0;34m,\u001b[0m \u001b[0;34m**\u001b[0m\u001b[0mkwargs\u001b[0m\u001b[0;34m)\u001b[0m\u001b[0;34m:\u001b[0m\u001b[0;34m\u001b[0m\u001b[0;34m\u001b[0m\u001b[0m\n\u001b[1;32m    215\u001b[0m         \u001b[0;32mwith\u001b[0m \u001b[0mconfig_context\u001b[0m\u001b[0;34m(\u001b[0m\u001b[0;34m**\u001b[0m\u001b[0mself\u001b[0m\u001b[0;34m.\u001b[0m\u001b[0mconfig\u001b[0m\u001b[0;34m)\u001b[0m\u001b[0;34m:\u001b[0m\u001b[0;34m\u001b[0m\u001b[0;34m\u001b[0m\u001b[0m\n\u001b[0;32m--> 216\u001b[0;31m             \u001b[0;32mreturn\u001b[0m \u001b[0mself\u001b[0m\u001b[0;34m.\u001b[0m\u001b[0mfunction\u001b[0m\u001b[0;34m(\u001b[0m\u001b[0;34m*\u001b[0m\u001b[0margs\u001b[0m\u001b[0;34m,\u001b[0m \u001b[0;34m**\u001b[0m\u001b[0mkwargs\u001b[0m\u001b[0;34m)\u001b[0m\u001b[0;34m\u001b[0m\u001b[0;34m\u001b[0m\u001b[0m\n\u001b[0m\u001b[1;32m    217\u001b[0m \u001b[0;34m\u001b[0m\u001b[0m\n\u001b[1;32m    218\u001b[0m \u001b[0;34m\u001b[0m\u001b[0m\n",
      "\u001b[0;32m~/opt/anaconda3/lib/python3.9/site-packages/sklearn/model_selection/_validation.py\u001b[0m in \u001b[0;36m_fit_and_score\u001b[0;34m(estimator, X, y, scorer, train, test, verbose, parameters, fit_params, return_train_score, return_parameters, return_n_test_samples, return_times, return_estimator, split_progress, candidate_progress, error_score)\u001b[0m\n\u001b[1;32m    678\u001b[0m             \u001b[0mestimator\u001b[0m\u001b[0;34m.\u001b[0m\u001b[0mfit\u001b[0m\u001b[0;34m(\u001b[0m\u001b[0mX_train\u001b[0m\u001b[0;34m,\u001b[0m \u001b[0;34m**\u001b[0m\u001b[0mfit_params\u001b[0m\u001b[0;34m)\u001b[0m\u001b[0;34m\u001b[0m\u001b[0;34m\u001b[0m\u001b[0m\n\u001b[1;32m    679\u001b[0m         \u001b[0;32melse\u001b[0m\u001b[0;34m:\u001b[0m\u001b[0;34m\u001b[0m\u001b[0;34m\u001b[0m\u001b[0m\n\u001b[0;32m--> 680\u001b[0;31m             \u001b[0mestimator\u001b[0m\u001b[0;34m.\u001b[0m\u001b[0mfit\u001b[0m\u001b[0;34m(\u001b[0m\u001b[0mX_train\u001b[0m\u001b[0;34m,\u001b[0m \u001b[0my_train\u001b[0m\u001b[0;34m,\u001b[0m \u001b[0;34m**\u001b[0m\u001b[0mfit_params\u001b[0m\u001b[0;34m)\u001b[0m\u001b[0;34m\u001b[0m\u001b[0;34m\u001b[0m\u001b[0m\n\u001b[0m\u001b[1;32m    681\u001b[0m \u001b[0;34m\u001b[0m\u001b[0m\n\u001b[1;32m    682\u001b[0m     \u001b[0;32mexcept\u001b[0m \u001b[0mException\u001b[0m\u001b[0;34m:\u001b[0m\u001b[0;34m\u001b[0m\u001b[0;34m\u001b[0m\u001b[0m\n",
      "\u001b[0;32m~/opt/anaconda3/lib/python3.9/site-packages/sklearn/ensemble/_weight_boosting.py\u001b[0m in \u001b[0;36mfit\u001b[0;34m(self, X, y, sample_weight)\u001b[0m\n\u001b[1;32m    484\u001b[0m \u001b[0;34m\u001b[0m\u001b[0m\n\u001b[1;32m    485\u001b[0m         \u001b[0;31m# Fit\u001b[0m\u001b[0;34m\u001b[0m\u001b[0;34m\u001b[0m\u001b[0m\n\u001b[0;32m--> 486\u001b[0;31m         \u001b[0;32mreturn\u001b[0m \u001b[0msuper\u001b[0m\u001b[0;34m(\u001b[0m\u001b[0;34m)\u001b[0m\u001b[0;34m.\u001b[0m\u001b[0mfit\u001b[0m\u001b[0;34m(\u001b[0m\u001b[0mX\u001b[0m\u001b[0;34m,\u001b[0m \u001b[0my\u001b[0m\u001b[0;34m,\u001b[0m \u001b[0msample_weight\u001b[0m\u001b[0;34m)\u001b[0m\u001b[0;34m\u001b[0m\u001b[0;34m\u001b[0m\u001b[0m\n\u001b[0m\u001b[1;32m    487\u001b[0m \u001b[0;34m\u001b[0m\u001b[0m\n\u001b[1;32m    488\u001b[0m     \u001b[0;32mdef\u001b[0m \u001b[0m_validate_estimator\u001b[0m\u001b[0;34m(\u001b[0m\u001b[0mself\u001b[0m\u001b[0;34m)\u001b[0m\u001b[0;34m:\u001b[0m\u001b[0;34m\u001b[0m\u001b[0;34m\u001b[0m\u001b[0m\n",
      "\u001b[0;32m~/opt/anaconda3/lib/python3.9/site-packages/sklearn/ensemble/_weight_boosting.py\u001b[0m in \u001b[0;36mfit\u001b[0;34m(self, X, y, sample_weight)\u001b[0m\n\u001b[1;32m    143\u001b[0m         \u001b[0;32mfor\u001b[0m \u001b[0miboost\u001b[0m \u001b[0;32min\u001b[0m \u001b[0mrange\u001b[0m\u001b[0;34m(\u001b[0m\u001b[0mself\u001b[0m\u001b[0;34m.\u001b[0m\u001b[0mn_estimators\u001b[0m\u001b[0;34m)\u001b[0m\u001b[0;34m:\u001b[0m\u001b[0;34m\u001b[0m\u001b[0;34m\u001b[0m\u001b[0m\n\u001b[1;32m    144\u001b[0m             \u001b[0;31m# Boosting step\u001b[0m\u001b[0;34m\u001b[0m\u001b[0;34m\u001b[0m\u001b[0m\n\u001b[0;32m--> 145\u001b[0;31m             sample_weight, estimator_weight, estimator_error = self._boost(\n\u001b[0m\u001b[1;32m    146\u001b[0m                 \u001b[0miboost\u001b[0m\u001b[0;34m,\u001b[0m \u001b[0mX\u001b[0m\u001b[0;34m,\u001b[0m \u001b[0my\u001b[0m\u001b[0;34m,\u001b[0m \u001b[0msample_weight\u001b[0m\u001b[0;34m,\u001b[0m \u001b[0mrandom_state\u001b[0m\u001b[0;34m\u001b[0m\u001b[0;34m\u001b[0m\u001b[0m\n\u001b[1;32m    147\u001b[0m             )\n",
      "\u001b[0;32m~/opt/anaconda3/lib/python3.9/site-packages/sklearn/ensemble/_weight_boosting.py\u001b[0m in \u001b[0;36m_boost\u001b[0;34m(self, iboost, X, y, sample_weight, random_state)\u001b[0m\n\u001b[1;32m    546\u001b[0m         \"\"\"\n\u001b[1;32m    547\u001b[0m         \u001b[0;32mif\u001b[0m \u001b[0mself\u001b[0m\u001b[0;34m.\u001b[0m\u001b[0malgorithm\u001b[0m \u001b[0;34m==\u001b[0m \u001b[0;34m\"SAMME.R\"\u001b[0m\u001b[0;34m:\u001b[0m\u001b[0;34m\u001b[0m\u001b[0;34m\u001b[0m\u001b[0m\n\u001b[0;32m--> 548\u001b[0;31m             \u001b[0;32mreturn\u001b[0m \u001b[0mself\u001b[0m\u001b[0;34m.\u001b[0m\u001b[0m_boost_real\u001b[0m\u001b[0;34m(\u001b[0m\u001b[0miboost\u001b[0m\u001b[0;34m,\u001b[0m \u001b[0mX\u001b[0m\u001b[0;34m,\u001b[0m \u001b[0my\u001b[0m\u001b[0;34m,\u001b[0m \u001b[0msample_weight\u001b[0m\u001b[0;34m,\u001b[0m \u001b[0mrandom_state\u001b[0m\u001b[0;34m)\u001b[0m\u001b[0;34m\u001b[0m\u001b[0;34m\u001b[0m\u001b[0m\n\u001b[0m\u001b[1;32m    549\u001b[0m \u001b[0;34m\u001b[0m\u001b[0m\n\u001b[1;32m    550\u001b[0m         \u001b[0;32melse\u001b[0m\u001b[0;34m:\u001b[0m  \u001b[0;31m# elif self.algorithm == \"SAMME\":\u001b[0m\u001b[0;34m\u001b[0m\u001b[0;34m\u001b[0m\u001b[0m\n",
      "\u001b[0;32m~/opt/anaconda3/lib/python3.9/site-packages/sklearn/ensemble/_weight_boosting.py\u001b[0m in \u001b[0;36m_boost_real\u001b[0;34m(self, iboost, X, y, sample_weight, random_state)\u001b[0m\n\u001b[1;32m    555\u001b[0m         \u001b[0mestimator\u001b[0m \u001b[0;34m=\u001b[0m \u001b[0mself\u001b[0m\u001b[0;34m.\u001b[0m\u001b[0m_make_estimator\u001b[0m\u001b[0;34m(\u001b[0m\u001b[0mrandom_state\u001b[0m\u001b[0;34m=\u001b[0m\u001b[0mrandom_state\u001b[0m\u001b[0;34m)\u001b[0m\u001b[0;34m\u001b[0m\u001b[0;34m\u001b[0m\u001b[0m\n\u001b[1;32m    556\u001b[0m \u001b[0;34m\u001b[0m\u001b[0m\n\u001b[0;32m--> 557\u001b[0;31m         \u001b[0mestimator\u001b[0m\u001b[0;34m.\u001b[0m\u001b[0mfit\u001b[0m\u001b[0;34m(\u001b[0m\u001b[0mX\u001b[0m\u001b[0;34m,\u001b[0m \u001b[0my\u001b[0m\u001b[0;34m,\u001b[0m \u001b[0msample_weight\u001b[0m\u001b[0;34m=\u001b[0m\u001b[0msample_weight\u001b[0m\u001b[0;34m)\u001b[0m\u001b[0;34m\u001b[0m\u001b[0;34m\u001b[0m\u001b[0m\n\u001b[0m\u001b[1;32m    558\u001b[0m \u001b[0;34m\u001b[0m\u001b[0m\n\u001b[1;32m    559\u001b[0m         \u001b[0my_predict_proba\u001b[0m \u001b[0;34m=\u001b[0m \u001b[0mestimator\u001b[0m\u001b[0;34m.\u001b[0m\u001b[0mpredict_proba\u001b[0m\u001b[0;34m(\u001b[0m\u001b[0mX\u001b[0m\u001b[0;34m)\u001b[0m\u001b[0;34m\u001b[0m\u001b[0;34m\u001b[0m\u001b[0m\n",
      "\u001b[0;32m~/opt/anaconda3/lib/python3.9/site-packages/sklearn/tree/_classes.py\u001b[0m in \u001b[0;36mfit\u001b[0;34m(self, X, y, sample_weight, check_input, X_idx_sorted)\u001b[0m\n\u001b[1;32m    935\u001b[0m         \"\"\"\n\u001b[1;32m    936\u001b[0m \u001b[0;34m\u001b[0m\u001b[0m\n\u001b[0;32m--> 937\u001b[0;31m         super().fit(\n\u001b[0m\u001b[1;32m    938\u001b[0m             \u001b[0mX\u001b[0m\u001b[0;34m,\u001b[0m\u001b[0;34m\u001b[0m\u001b[0;34m\u001b[0m\u001b[0m\n\u001b[1;32m    939\u001b[0m             \u001b[0my\u001b[0m\u001b[0;34m,\u001b[0m\u001b[0;34m\u001b[0m\u001b[0;34m\u001b[0m\u001b[0m\n",
      "\u001b[0;32m~/opt/anaconda3/lib/python3.9/site-packages/sklearn/tree/_classes.py\u001b[0m in \u001b[0;36mfit\u001b[0;34m(self, X, y, sample_weight, check_input, X_idx_sorted)\u001b[0m\n\u001b[1;32m    418\u001b[0m             )\n\u001b[1;32m    419\u001b[0m \u001b[0;34m\u001b[0m\u001b[0m\n\u001b[0;32m--> 420\u001b[0;31m         \u001b[0mbuilder\u001b[0m\u001b[0;34m.\u001b[0m\u001b[0mbuild\u001b[0m\u001b[0;34m(\u001b[0m\u001b[0mself\u001b[0m\u001b[0;34m.\u001b[0m\u001b[0mtree_\u001b[0m\u001b[0;34m,\u001b[0m \u001b[0mX\u001b[0m\u001b[0;34m,\u001b[0m \u001b[0my\u001b[0m\u001b[0;34m,\u001b[0m \u001b[0msample_weight\u001b[0m\u001b[0;34m)\u001b[0m\u001b[0;34m\u001b[0m\u001b[0;34m\u001b[0m\u001b[0m\n\u001b[0m\u001b[1;32m    421\u001b[0m \u001b[0;34m\u001b[0m\u001b[0m\n\u001b[1;32m    422\u001b[0m         \u001b[0;32mif\u001b[0m \u001b[0mself\u001b[0m\u001b[0;34m.\u001b[0m\u001b[0mn_outputs_\u001b[0m \u001b[0;34m==\u001b[0m \u001b[0;36m1\u001b[0m \u001b[0;32mand\u001b[0m \u001b[0mis_classifier\u001b[0m\u001b[0;34m(\u001b[0m\u001b[0mself\u001b[0m\u001b[0;34m)\u001b[0m\u001b[0;34m:\u001b[0m\u001b[0;34m\u001b[0m\u001b[0;34m\u001b[0m\u001b[0m\n",
      "\u001b[0;31mKeyboardInterrupt\u001b[0m: "
     ]
    }
   ],
   "source": [
    "abc = AdaBoostClassifier(base_estimator=DecisionTreeClassifier())\n",
    "\n",
    "param_grid = {'base_estimator__max_depth':[i for i in range(2,20,2)],\n",
    "              'base_estimator__min_samples_leaf':[i for i in range(1,20,2)],\n",
    "              'n_estimators':[int(x) for x in np.linspace(start = 100, stop = 3000, num = 20)],\n",
    "              'learning_rate':[0.01,0.05,0.1]}\n",
    "\n",
    "grid = RandomizedSearchCV(abc,param_grid,\n",
    "                          n_iter=50,\n",
    "                          random_state=123,\n",
    "                          verbose=3,\n",
    "                          cv=3)\n",
    "\n",
    "\n",
    "grid.fit(X_train_full,y_train_full)"
   ]
  },
  {
   "cell_type": "code",
   "execution_count": 430,
   "id": "c99c375f",
   "metadata": {
    "scrolled": true
   },
   "outputs": [
    {
     "name": "stdout",
     "output_type": "stream",
     "text": [
      "{'n_estimators': 1778, 'learning_rate': 0.01, 'base_estimator__min_samples_leaf': 13, 'base_estimator__max_depth': 2}\n",
      "AdaBoostClassifier(base_estimator=DecisionTreeClassifier(max_depth=2,\n",
      "                                                         min_samples_leaf=13),\n",
      "                   learning_rate=0.01, n_estimators=1778)\n"
     ]
    }
   ],
   "source": [
    "print(grid.best_params_)\n",
    "print(grid.best_estimator_)"
   ]
  },
  {
   "cell_type": "code",
   "execution_count": 413,
   "id": "e888842f",
   "metadata": {},
   "outputs": [
    {
     "name": "stdout",
     "output_type": "stream",
     "text": [
      "Train AUC: 0.76929, Test AUC: 0.77187\n"
     ]
    }
   ],
   "source": [
    "abc = AdaBoostClassifier(base_estimator=DecisionTreeClassifier(max_depth=2,\n",
    "                                                         min_samples_leaf=13),\n",
    "                   learning_rate=0.01, n_estimators=1778)\n",
    "\n",
    "abc.fit(X_train,y_train)\n",
    "\n",
    "abc_train_preds = abc.predict_proba(X_test)[:,1]\n",
    "\n",
    "fpr, tpr, thresholds = metrics.roc_curve(y_test, abc_train_preds, pos_label=1)\n",
    "\n",
    "AUC_train_abc = metrics.auc(fpr, tpr)\n",
    "\n",
    "abc_test_preds = abc.predict_proba(X_val)[:,1]\n",
    "\n",
    "fpr, tpr, thresholds = metrics.roc_curve(y_val, abc_test_preds, pos_label=1)\n",
    "\n",
    "AUC_test_abc = metrics.auc(fpr, tpr)\n",
    "\n",
    "print(f'Train AUC: %.5f, Test AUC: %.5f'% (AUC_train_abc,AUC_test_abc))"
   ]
  },
  {
   "cell_type": "markdown",
   "id": "34ac633c",
   "metadata": {},
   "source": [
    "### Logistic Regression"
   ]
  },
  {
   "cell_type": "code",
   "execution_count": 421,
   "id": "eb906d9c",
   "metadata": {
    "scrolled": false
   },
   "outputs": [
    {
     "name": "stderr",
     "output_type": "stream",
     "text": [
      "/Users/dimitrikestenbaum/opt/anaconda3/lib/python3.9/site-packages/sklearn/model_selection/_search.py:292: UserWarning: The total space of parameters 14 is smaller than n_iter=100. Running 14 iterations. For exhaustive searches, use GridSearchCV.\n",
      "  warnings.warn(\n"
     ]
    },
    {
     "name": "stdout",
     "output_type": "stream",
     "text": [
      "Fitting 5 folds for each of 14 candidates, totalling 70 fits\n",
      "[CV 1/5] END .................C=0.001, penalty=l1;, score=nan total time=   0.0s\n",
      "[CV 2/5] END .................C=0.001, penalty=l1;, score=nan total time=   0.0s\n",
      "[CV 3/5] END .................C=0.001, penalty=l1;, score=nan total time=   0.0s\n",
      "[CV 4/5] END .................C=0.001, penalty=l1;, score=nan total time=   0.0s\n",
      "[CV 5/5] END .................C=0.001, penalty=l1;, score=nan total time=   0.0s\n",
      "[CV 1/5] END ...............C=0.001, penalty=l2;, score=0.898 total time=   0.3s\n",
      "[CV 2/5] END ...............C=0.001, penalty=l2;, score=0.901 total time=   0.1s\n"
     ]
    },
    {
     "name": "stderr",
     "output_type": "stream",
     "text": [
      "/Users/dimitrikestenbaum/opt/anaconda3/lib/python3.9/site-packages/sklearn/linear_model/_logistic.py:814: ConvergenceWarning: lbfgs failed to converge (status=1):\n",
      "STOP: TOTAL NO. of ITERATIONS REACHED LIMIT.\n",
      "\n",
      "Increase the number of iterations (max_iter) or scale the data as shown in:\n",
      "    https://scikit-learn.org/stable/modules/preprocessing.html\n",
      "Please also refer to the documentation for alternative solver options:\n",
      "    https://scikit-learn.org/stable/modules/linear_model.html#logistic-regression\n",
      "  n_iter_i = _check_optimize_result(\n",
      "/Users/dimitrikestenbaum/opt/anaconda3/lib/python3.9/site-packages/sklearn/linear_model/_logistic.py:814: ConvergenceWarning: lbfgs failed to converge (status=1):\n",
      "STOP: TOTAL NO. of ITERATIONS REACHED LIMIT.\n",
      "\n",
      "Increase the number of iterations (max_iter) or scale the data as shown in:\n",
      "    https://scikit-learn.org/stable/modules/preprocessing.html\n",
      "Please also refer to the documentation for alternative solver options:\n",
      "    https://scikit-learn.org/stable/modules/linear_model.html#logistic-regression\n",
      "  n_iter_i = _check_optimize_result(\n"
     ]
    },
    {
     "name": "stdout",
     "output_type": "stream",
     "text": [
      "[CV 3/5] END ...............C=0.001, penalty=l2;, score=0.897 total time=   0.1s\n",
      "[CV 4/5] END ...............C=0.001, penalty=l2;, score=0.899 total time=   0.1s\n"
     ]
    },
    {
     "name": "stderr",
     "output_type": "stream",
     "text": [
      "/Users/dimitrikestenbaum/opt/anaconda3/lib/python3.9/site-packages/sklearn/linear_model/_logistic.py:814: ConvergenceWarning: lbfgs failed to converge (status=1):\n",
      "STOP: TOTAL NO. of ITERATIONS REACHED LIMIT.\n",
      "\n",
      "Increase the number of iterations (max_iter) or scale the data as shown in:\n",
      "    https://scikit-learn.org/stable/modules/preprocessing.html\n",
      "Please also refer to the documentation for alternative solver options:\n",
      "    https://scikit-learn.org/stable/modules/linear_model.html#logistic-regression\n",
      "  n_iter_i = _check_optimize_result(\n"
     ]
    },
    {
     "name": "stdout",
     "output_type": "stream",
     "text": [
      "[CV 5/5] END ...............C=0.001, penalty=l2;, score=0.902 total time=   0.1s\n",
      "[CV 1/5] END ..................C=0.01, penalty=l1;, score=nan total time=   0.0s\n",
      "[CV 2/5] END ..................C=0.01, penalty=l1;, score=nan total time=   0.0s\n",
      "[CV 3/5] END ..................C=0.01, penalty=l1;, score=nan total time=   0.0s\n",
      "[CV 4/5] END ..................C=0.01, penalty=l1;, score=nan total time=   0.0s\n",
      "[CV 5/5] END ..................C=0.01, penalty=l1;, score=nan total time=   0.0s\n",
      "[CV 1/5] END ................C=0.01, penalty=l2;, score=0.897 total time=   0.1s\n"
     ]
    },
    {
     "name": "stderr",
     "output_type": "stream",
     "text": [
      "/Users/dimitrikestenbaum/opt/anaconda3/lib/python3.9/site-packages/sklearn/linear_model/_logistic.py:814: ConvergenceWarning: lbfgs failed to converge (status=1):\n",
      "STOP: TOTAL NO. of ITERATIONS REACHED LIMIT.\n",
      "\n",
      "Increase the number of iterations (max_iter) or scale the data as shown in:\n",
      "    https://scikit-learn.org/stable/modules/preprocessing.html\n",
      "Please also refer to the documentation for alternative solver options:\n",
      "    https://scikit-learn.org/stable/modules/linear_model.html#logistic-regression\n",
      "  n_iter_i = _check_optimize_result(\n",
      "/Users/dimitrikestenbaum/opt/anaconda3/lib/python3.9/site-packages/sklearn/linear_model/_logistic.py:814: ConvergenceWarning: lbfgs failed to converge (status=1):\n",
      "STOP: TOTAL NO. of ITERATIONS REACHED LIMIT.\n",
      "\n",
      "Increase the number of iterations (max_iter) or scale the data as shown in:\n",
      "    https://scikit-learn.org/stable/modules/preprocessing.html\n",
      "Please also refer to the documentation for alternative solver options:\n",
      "    https://scikit-learn.org/stable/modules/linear_model.html#logistic-regression\n",
      "  n_iter_i = _check_optimize_result(\n"
     ]
    },
    {
     "name": "stdout",
     "output_type": "stream",
     "text": [
      "[CV 2/5] END ................C=0.01, penalty=l2;, score=0.902 total time=   0.1s\n",
      "[CV 3/5] END ................C=0.01, penalty=l2;, score=0.896 total time=   0.1s\n",
      "[CV 4/5] END ................C=0.01, penalty=l2;, score=0.900 total time=   0.1s\n",
      "[CV 5/5] END ................C=0.01, penalty=l2;, score=0.902 total time=   0.2s\n",
      "[CV 1/5] END ...................C=0.1, penalty=l1;, score=nan total time=   0.0s\n",
      "[CV 2/5] END ...................C=0.1, penalty=l1;, score=nan total time=   0.0s\n",
      "[CV 3/5] END ...................C=0.1, penalty=l1;, score=nan total time=   0.0s\n",
      "[CV 4/5] END ...................C=0.1, penalty=l1;, score=nan total time=   0.0s\n",
      "[CV 5/5] END ...................C=0.1, penalty=l1;, score=nan total time=   0.0s\n"
     ]
    },
    {
     "name": "stderr",
     "output_type": "stream",
     "text": [
      "/Users/dimitrikestenbaum/opt/anaconda3/lib/python3.9/site-packages/sklearn/linear_model/_logistic.py:814: ConvergenceWarning: lbfgs failed to converge (status=1):\n",
      "STOP: TOTAL NO. of ITERATIONS REACHED LIMIT.\n",
      "\n",
      "Increase the number of iterations (max_iter) or scale the data as shown in:\n",
      "    https://scikit-learn.org/stable/modules/preprocessing.html\n",
      "Please also refer to the documentation for alternative solver options:\n",
      "    https://scikit-learn.org/stable/modules/linear_model.html#logistic-regression\n",
      "  n_iter_i = _check_optimize_result(\n",
      "/Users/dimitrikestenbaum/opt/anaconda3/lib/python3.9/site-packages/sklearn/linear_model/_logistic.py:814: ConvergenceWarning: lbfgs failed to converge (status=1):\n",
      "STOP: TOTAL NO. of ITERATIONS REACHED LIMIT.\n",
      "\n",
      "Increase the number of iterations (max_iter) or scale the data as shown in:\n",
      "    https://scikit-learn.org/stable/modules/preprocessing.html\n",
      "Please also refer to the documentation for alternative solver options:\n",
      "    https://scikit-learn.org/stable/modules/linear_model.html#logistic-regression\n",
      "  n_iter_i = _check_optimize_result(\n"
     ]
    },
    {
     "name": "stdout",
     "output_type": "stream",
     "text": [
      "[CV 1/5] END .................C=0.1, penalty=l2;, score=0.898 total time=   0.2s\n",
      "[CV 2/5] END .................C=0.1, penalty=l2;, score=0.902 total time=   0.2s\n",
      "[CV 3/5] END .................C=0.1, penalty=l2;, score=0.896 total time=   0.2s\n",
      "[CV 4/5] END .................C=0.1, penalty=l2;, score=0.901 total time=   0.1s\n"
     ]
    },
    {
     "name": "stderr",
     "output_type": "stream",
     "text": [
      "/Users/dimitrikestenbaum/opt/anaconda3/lib/python3.9/site-packages/sklearn/linear_model/_logistic.py:814: ConvergenceWarning: lbfgs failed to converge (status=1):\n",
      "STOP: TOTAL NO. of ITERATIONS REACHED LIMIT.\n",
      "\n",
      "Increase the number of iterations (max_iter) or scale the data as shown in:\n",
      "    https://scikit-learn.org/stable/modules/preprocessing.html\n",
      "Please also refer to the documentation for alternative solver options:\n",
      "    https://scikit-learn.org/stable/modules/linear_model.html#logistic-regression\n",
      "  n_iter_i = _check_optimize_result(\n",
      "/Users/dimitrikestenbaum/opt/anaconda3/lib/python3.9/site-packages/sklearn/linear_model/_logistic.py:814: ConvergenceWarning: lbfgs failed to converge (status=1):\n",
      "STOP: TOTAL NO. of ITERATIONS REACHED LIMIT.\n",
      "\n",
      "Increase the number of iterations (max_iter) or scale the data as shown in:\n",
      "    https://scikit-learn.org/stable/modules/preprocessing.html\n",
      "Please also refer to the documentation for alternative solver options:\n",
      "    https://scikit-learn.org/stable/modules/linear_model.html#logistic-regression\n",
      "  n_iter_i = _check_optimize_result(\n"
     ]
    },
    {
     "name": "stdout",
     "output_type": "stream",
     "text": [
      "[CV 5/5] END .................C=0.1, penalty=l2;, score=0.901 total time=   0.1s\n",
      "[CV 1/5] END .....................C=1, penalty=l1;, score=nan total time=   0.0s\n",
      "[CV 2/5] END .....................C=1, penalty=l1;, score=nan total time=   0.0s\n",
      "[CV 3/5] END .....................C=1, penalty=l1;, score=nan total time=   0.0s\n",
      "[CV 4/5] END .....................C=1, penalty=l1;, score=nan total time=   0.0s\n",
      "[CV 5/5] END .....................C=1, penalty=l1;, score=nan total time=   0.0s\n",
      "[CV 1/5] END ...................C=1, penalty=l2;, score=0.898 total time=   0.1s\n"
     ]
    },
    {
     "name": "stderr",
     "output_type": "stream",
     "text": [
      "/Users/dimitrikestenbaum/opt/anaconda3/lib/python3.9/site-packages/sklearn/linear_model/_logistic.py:814: ConvergenceWarning: lbfgs failed to converge (status=1):\n",
      "STOP: TOTAL NO. of ITERATIONS REACHED LIMIT.\n",
      "\n",
      "Increase the number of iterations (max_iter) or scale the data as shown in:\n",
      "    https://scikit-learn.org/stable/modules/preprocessing.html\n",
      "Please also refer to the documentation for alternative solver options:\n",
      "    https://scikit-learn.org/stable/modules/linear_model.html#logistic-regression\n",
      "  n_iter_i = _check_optimize_result(\n",
      "/Users/dimitrikestenbaum/opt/anaconda3/lib/python3.9/site-packages/sklearn/linear_model/_logistic.py:814: ConvergenceWarning: lbfgs failed to converge (status=1):\n",
      "STOP: TOTAL NO. of ITERATIONS REACHED LIMIT.\n",
      "\n",
      "Increase the number of iterations (max_iter) or scale the data as shown in:\n",
      "    https://scikit-learn.org/stable/modules/preprocessing.html\n",
      "Please also refer to the documentation for alternative solver options:\n",
      "    https://scikit-learn.org/stable/modules/linear_model.html#logistic-regression\n",
      "  n_iter_i = _check_optimize_result(\n"
     ]
    },
    {
     "name": "stdout",
     "output_type": "stream",
     "text": [
      "[CV 2/5] END ...................C=1, penalty=l2;, score=0.902 total time=   0.1s\n",
      "[CV 3/5] END ...................C=1, penalty=l2;, score=0.896 total time=   0.1s\n"
     ]
    },
    {
     "name": "stderr",
     "output_type": "stream",
     "text": [
      "/Users/dimitrikestenbaum/opt/anaconda3/lib/python3.9/site-packages/sklearn/linear_model/_logistic.py:814: ConvergenceWarning: lbfgs failed to converge (status=1):\n",
      "STOP: TOTAL NO. of ITERATIONS REACHED LIMIT.\n",
      "\n",
      "Increase the number of iterations (max_iter) or scale the data as shown in:\n",
      "    https://scikit-learn.org/stable/modules/preprocessing.html\n",
      "Please also refer to the documentation for alternative solver options:\n",
      "    https://scikit-learn.org/stable/modules/linear_model.html#logistic-regression\n",
      "  n_iter_i = _check_optimize_result(\n",
      "/Users/dimitrikestenbaum/opt/anaconda3/lib/python3.9/site-packages/sklearn/linear_model/_logistic.py:814: ConvergenceWarning: lbfgs failed to converge (status=1):\n",
      "STOP: TOTAL NO. of ITERATIONS REACHED LIMIT.\n",
      "\n",
      "Increase the number of iterations (max_iter) or scale the data as shown in:\n",
      "    https://scikit-learn.org/stable/modules/preprocessing.html\n",
      "Please also refer to the documentation for alternative solver options:\n",
      "    https://scikit-learn.org/stable/modules/linear_model.html#logistic-regression\n",
      "  n_iter_i = _check_optimize_result(\n"
     ]
    },
    {
     "name": "stdout",
     "output_type": "stream",
     "text": [
      "[CV 4/5] END ...................C=1, penalty=l2;, score=0.901 total time=   0.1s\n",
      "[CV 5/5] END ...................C=1, penalty=l2;, score=0.901 total time=   0.1s\n",
      "[CV 1/5] END ....................C=10, penalty=l1;, score=nan total time=   0.0s\n",
      "[CV 2/5] END ....................C=10, penalty=l1;, score=nan total time=   0.0s\n",
      "[CV 3/5] END ....................C=10, penalty=l1;, score=nan total time=   0.0s\n",
      "[CV 4/5] END ....................C=10, penalty=l1;, score=nan total time=   0.0s\n",
      "[CV 5/5] END ....................C=10, penalty=l1;, score=nan total time=   0.0s\n",
      "[CV 1/5] END ..................C=10, penalty=l2;, score=0.898 total time=   0.1s\n",
      "[CV 2/5] END ..................C=10, penalty=l2;, score=0.900 total time=   0.1s\n"
     ]
    },
    {
     "name": "stderr",
     "output_type": "stream",
     "text": [
      "/Users/dimitrikestenbaum/opt/anaconda3/lib/python3.9/site-packages/sklearn/linear_model/_logistic.py:814: ConvergenceWarning: lbfgs failed to converge (status=1):\n",
      "STOP: TOTAL NO. of ITERATIONS REACHED LIMIT.\n",
      "\n",
      "Increase the number of iterations (max_iter) or scale the data as shown in:\n",
      "    https://scikit-learn.org/stable/modules/preprocessing.html\n",
      "Please also refer to the documentation for alternative solver options:\n",
      "    https://scikit-learn.org/stable/modules/linear_model.html#logistic-regression\n",
      "  n_iter_i = _check_optimize_result(\n",
      "/Users/dimitrikestenbaum/opt/anaconda3/lib/python3.9/site-packages/sklearn/linear_model/_logistic.py:814: ConvergenceWarning: lbfgs failed to converge (status=1):\n",
      "STOP: TOTAL NO. of ITERATIONS REACHED LIMIT.\n",
      "\n",
      "Increase the number of iterations (max_iter) or scale the data as shown in:\n",
      "    https://scikit-learn.org/stable/modules/preprocessing.html\n",
      "Please also refer to the documentation for alternative solver options:\n",
      "    https://scikit-learn.org/stable/modules/linear_model.html#logistic-regression\n",
      "  n_iter_i = _check_optimize_result(\n"
     ]
    },
    {
     "name": "stdout",
     "output_type": "stream",
     "text": [
      "[CV 3/5] END ..................C=10, penalty=l2;, score=0.896 total time=   0.1s\n",
      "[CV 4/5] END ..................C=10, penalty=l2;, score=0.901 total time=   0.1s\n"
     ]
    },
    {
     "name": "stderr",
     "output_type": "stream",
     "text": [
      "/Users/dimitrikestenbaum/opt/anaconda3/lib/python3.9/site-packages/sklearn/linear_model/_logistic.py:814: ConvergenceWarning: lbfgs failed to converge (status=1):\n",
      "STOP: TOTAL NO. of ITERATIONS REACHED LIMIT.\n",
      "\n",
      "Increase the number of iterations (max_iter) or scale the data as shown in:\n",
      "    https://scikit-learn.org/stable/modules/preprocessing.html\n",
      "Please also refer to the documentation for alternative solver options:\n",
      "    https://scikit-learn.org/stable/modules/linear_model.html#logistic-regression\n",
      "  n_iter_i = _check_optimize_result(\n",
      "/Users/dimitrikestenbaum/opt/anaconda3/lib/python3.9/site-packages/sklearn/linear_model/_logistic.py:814: ConvergenceWarning: lbfgs failed to converge (status=1):\n",
      "STOP: TOTAL NO. of ITERATIONS REACHED LIMIT.\n",
      "\n",
      "Increase the number of iterations (max_iter) or scale the data as shown in:\n",
      "    https://scikit-learn.org/stable/modules/preprocessing.html\n",
      "Please also refer to the documentation for alternative solver options:\n",
      "    https://scikit-learn.org/stable/modules/linear_model.html#logistic-regression\n",
      "  n_iter_i = _check_optimize_result(\n"
     ]
    },
    {
     "name": "stdout",
     "output_type": "stream",
     "text": [
      "[CV 5/5] END ..................C=10, penalty=l2;, score=0.901 total time=   0.1s\n",
      "[CV 1/5] END ...................C=100, penalty=l1;, score=nan total time=   0.0s\n",
      "[CV 2/5] END ...................C=100, penalty=l1;, score=nan total time=   0.0s\n",
      "[CV 3/5] END ...................C=100, penalty=l1;, score=nan total time=   0.0s\n",
      "[CV 4/5] END ...................C=100, penalty=l1;, score=nan total time=   0.0s\n",
      "[CV 5/5] END ...................C=100, penalty=l1;, score=nan total time=   0.0s\n",
      "[CV 1/5] END .................C=100, penalty=l2;, score=0.899 total time=   0.2s\n"
     ]
    },
    {
     "name": "stderr",
     "output_type": "stream",
     "text": [
      "/Users/dimitrikestenbaum/opt/anaconda3/lib/python3.9/site-packages/sklearn/linear_model/_logistic.py:814: ConvergenceWarning: lbfgs failed to converge (status=1):\n",
      "STOP: TOTAL NO. of ITERATIONS REACHED LIMIT.\n",
      "\n",
      "Increase the number of iterations (max_iter) or scale the data as shown in:\n",
      "    https://scikit-learn.org/stable/modules/preprocessing.html\n",
      "Please also refer to the documentation for alternative solver options:\n",
      "    https://scikit-learn.org/stable/modules/linear_model.html#logistic-regression\n",
      "  n_iter_i = _check_optimize_result(\n",
      "/Users/dimitrikestenbaum/opt/anaconda3/lib/python3.9/site-packages/sklearn/linear_model/_logistic.py:814: ConvergenceWarning: lbfgs failed to converge (status=1):\n",
      "STOP: TOTAL NO. of ITERATIONS REACHED LIMIT.\n",
      "\n",
      "Increase the number of iterations (max_iter) or scale the data as shown in:\n",
      "    https://scikit-learn.org/stable/modules/preprocessing.html\n",
      "Please also refer to the documentation for alternative solver options:\n",
      "    https://scikit-learn.org/stable/modules/linear_model.html#logistic-regression\n",
      "  n_iter_i = _check_optimize_result(\n"
     ]
    },
    {
     "name": "stdout",
     "output_type": "stream",
     "text": [
      "[CV 2/5] END .................C=100, penalty=l2;, score=0.901 total time=   0.1s\n",
      "[CV 3/5] END .................C=100, penalty=l2;, score=0.896 total time=   0.1s\n"
     ]
    },
    {
     "name": "stderr",
     "output_type": "stream",
     "text": [
      "/Users/dimitrikestenbaum/opt/anaconda3/lib/python3.9/site-packages/sklearn/linear_model/_logistic.py:814: ConvergenceWarning: lbfgs failed to converge (status=1):\n",
      "STOP: TOTAL NO. of ITERATIONS REACHED LIMIT.\n",
      "\n",
      "Increase the number of iterations (max_iter) or scale the data as shown in:\n",
      "    https://scikit-learn.org/stable/modules/preprocessing.html\n",
      "Please also refer to the documentation for alternative solver options:\n",
      "    https://scikit-learn.org/stable/modules/linear_model.html#logistic-regression\n",
      "  n_iter_i = _check_optimize_result(\n"
     ]
    },
    {
     "name": "stdout",
     "output_type": "stream",
     "text": [
      "[CV 4/5] END .................C=100, penalty=l2;, score=0.901 total time=   0.2s\n",
      "[CV 5/5] END .................C=100, penalty=l2;, score=0.903 total time=   0.2s\n",
      "[CV 1/5] END ..................C=1000, penalty=l1;, score=nan total time=   0.0s\n",
      "[CV 2/5] END ..................C=1000, penalty=l1;, score=nan total time=   0.0s\n",
      "[CV 3/5] END ..................C=1000, penalty=l1;, score=nan total time=   0.0s\n",
      "[CV 4/5] END ..................C=1000, penalty=l1;, score=nan total time=   0.0s\n",
      "[CV 5/5] END ..................C=1000, penalty=l1;, score=nan total time=   0.0s\n"
     ]
    },
    {
     "name": "stderr",
     "output_type": "stream",
     "text": [
      "/Users/dimitrikestenbaum/opt/anaconda3/lib/python3.9/site-packages/sklearn/linear_model/_logistic.py:814: ConvergenceWarning: lbfgs failed to converge (status=1):\n",
      "STOP: TOTAL NO. of ITERATIONS REACHED LIMIT.\n",
      "\n",
      "Increase the number of iterations (max_iter) or scale the data as shown in:\n",
      "    https://scikit-learn.org/stable/modules/preprocessing.html\n",
      "Please also refer to the documentation for alternative solver options:\n",
      "    https://scikit-learn.org/stable/modules/linear_model.html#logistic-regression\n",
      "  n_iter_i = _check_optimize_result(\n",
      "/Users/dimitrikestenbaum/opt/anaconda3/lib/python3.9/site-packages/sklearn/linear_model/_logistic.py:814: ConvergenceWarning: lbfgs failed to converge (status=1):\n",
      "STOP: TOTAL NO. of ITERATIONS REACHED LIMIT.\n",
      "\n",
      "Increase the number of iterations (max_iter) or scale the data as shown in:\n",
      "    https://scikit-learn.org/stable/modules/preprocessing.html\n",
      "Please also refer to the documentation for alternative solver options:\n",
      "    https://scikit-learn.org/stable/modules/linear_model.html#logistic-regression\n",
      "  n_iter_i = _check_optimize_result(\n"
     ]
    },
    {
     "name": "stdout",
     "output_type": "stream",
     "text": [
      "[CV 1/5] END ................C=1000, penalty=l2;, score=0.898 total time=   0.2s\n",
      "[CV 2/5] END ................C=1000, penalty=l2;, score=0.901 total time=   0.2s\n"
     ]
    },
    {
     "name": "stderr",
     "output_type": "stream",
     "text": [
      "/Users/dimitrikestenbaum/opt/anaconda3/lib/python3.9/site-packages/sklearn/linear_model/_logistic.py:814: ConvergenceWarning: lbfgs failed to converge (status=1):\n",
      "STOP: TOTAL NO. of ITERATIONS REACHED LIMIT.\n",
      "\n",
      "Increase the number of iterations (max_iter) or scale the data as shown in:\n",
      "    https://scikit-learn.org/stable/modules/preprocessing.html\n",
      "Please also refer to the documentation for alternative solver options:\n",
      "    https://scikit-learn.org/stable/modules/linear_model.html#logistic-regression\n",
      "  n_iter_i = _check_optimize_result(\n"
     ]
    },
    {
     "name": "stdout",
     "output_type": "stream",
     "text": [
      "[CV 3/5] END ................C=1000, penalty=l2;, score=0.896 total time=   0.2s\n",
      "[CV 4/5] END ................C=1000, penalty=l2;, score=0.900 total time=   0.1s\n",
      "[CV 5/5] END ................C=1000, penalty=l2;, score=0.903 total time=   0.2s\n"
     ]
    },
    {
     "name": "stderr",
     "output_type": "stream",
     "text": [
      "/Users/dimitrikestenbaum/opt/anaconda3/lib/python3.9/site-packages/sklearn/linear_model/_logistic.py:814: ConvergenceWarning: lbfgs failed to converge (status=1):\n",
      "STOP: TOTAL NO. of ITERATIONS REACHED LIMIT.\n",
      "\n",
      "Increase the number of iterations (max_iter) or scale the data as shown in:\n",
      "    https://scikit-learn.org/stable/modules/preprocessing.html\n",
      "Please also refer to the documentation for alternative solver options:\n",
      "    https://scikit-learn.org/stable/modules/linear_model.html#logistic-regression\n",
      "  n_iter_i = _check_optimize_result(\n",
      "/Users/dimitrikestenbaum/opt/anaconda3/lib/python3.9/site-packages/sklearn/model_selection/_validation.py:372: FitFailedWarning: \n",
      "35 fits failed out of a total of 70.\n",
      "The score on these train-test partitions for these parameters will be set to nan.\n",
      "If these failures are not expected, you can try to debug them by setting error_score='raise'.\n",
      "\n",
      "Below are more details about the failures:\n",
      "--------------------------------------------------------------------------------\n",
      "35 fits failed with the following error:\n",
      "Traceback (most recent call last):\n",
      "  File \"/Users/dimitrikestenbaum/opt/anaconda3/lib/python3.9/site-packages/sklearn/model_selection/_validation.py\", line 680, in _fit_and_score\n",
      "    estimator.fit(X_train, y_train, **fit_params)\n",
      "  File \"/Users/dimitrikestenbaum/opt/anaconda3/lib/python3.9/site-packages/sklearn/linear_model/_logistic.py\", line 1461, in fit\n",
      "    solver = _check_solver(self.solver, self.penalty, self.dual)\n",
      "  File \"/Users/dimitrikestenbaum/opt/anaconda3/lib/python3.9/site-packages/sklearn/linear_model/_logistic.py\", line 447, in _check_solver\n",
      "    raise ValueError(\n",
      "ValueError: Solver lbfgs supports only 'l2' or 'none' penalties, got l1 penalty.\n",
      "\n",
      "  warnings.warn(some_fits_failed_message, FitFailedWarning)\n",
      "/Users/dimitrikestenbaum/opt/anaconda3/lib/python3.9/site-packages/sklearn/model_selection/_search.py:969: UserWarning: One or more of the test scores are non-finite: [    nan 0.8995      nan 0.8994      nan 0.89995     nan 0.89985     nan\n",
      " 0.89945     nan 0.90005     nan 0.8997 ]\n",
      "  warnings.warn(\n",
      "/Users/dimitrikestenbaum/opt/anaconda3/lib/python3.9/site-packages/sklearn/linear_model/_logistic.py:814: ConvergenceWarning: lbfgs failed to converge (status=1):\n",
      "STOP: TOTAL NO. of ITERATIONS REACHED LIMIT.\n",
      "\n",
      "Increase the number of iterations (max_iter) or scale the data as shown in:\n",
      "    https://scikit-learn.org/stable/modules/preprocessing.html\n",
      "Please also refer to the documentation for alternative solver options:\n",
      "    https://scikit-learn.org/stable/modules/linear_model.html#logistic-regression\n",
      "  n_iter_i = _check_optimize_result(\n"
     ]
    },
    {
     "data": {
      "text/plain": [
       "RandomizedSearchCV(cv=5, estimator=LogisticRegression(), n_iter=100,\n",
       "                   param_distributions={'C': [0.001, 0.01, 0.1, 1, 10, 100,\n",
       "                                              1000],\n",
       "                                        'penalty': ['l1', 'l2']},\n",
       "                   random_state=123, verbose=3)"
      ]
     },
     "execution_count": 421,
     "metadata": {},
     "output_type": "execute_result"
    }
   ],
   "source": [
    "lr = LogisticRegression()\n",
    "\n",
    "param_grid = {'penalty': ['l1','l2'], \n",
    "              'C': [0.001,0.01,0.1,1,10,100,1000]}\n",
    "\n",
    "grid = RandomizedSearchCV(lr,\n",
    "                          param_grid,n_iter=100,\n",
    "                          random_state=123,\n",
    "                          verbose=3,\n",
    "                          cv=5)\n",
    "\n",
    "grid.fit(X_train_full,y_train_full)"
   ]
  },
  {
   "cell_type": "code",
   "execution_count": 422,
   "id": "8b169c25",
   "metadata": {
    "scrolled": true
   },
   "outputs": [
    {
     "name": "stdout",
     "output_type": "stream",
     "text": [
      "{'penalty': 'l2', 'C': 100}\n",
      "LogisticRegression(C=100)\n"
     ]
    }
   ],
   "source": [
    "print(grid.best_params_)\n",
    "print(grid.best_estimator_)"
   ]
  },
  {
   "cell_type": "code",
   "execution_count": 444,
   "id": "9a15a777",
   "metadata": {
    "scrolled": true
   },
   "outputs": [
    {
     "name": "stdout",
     "output_type": "stream",
     "text": [
      "Train AUC: 0.76929, Test AUC: 0.76410\n"
     ]
    },
    {
     "name": "stderr",
     "output_type": "stream",
     "text": [
      "/Users/dimitrikestenbaum/opt/anaconda3/lib/python3.9/site-packages/sklearn/linear_model/_logistic.py:814: ConvergenceWarning: lbfgs failed to converge (status=1):\n",
      "STOP: TOTAL NO. of ITERATIONS REACHED LIMIT.\n",
      "\n",
      "Increase the number of iterations (max_iter) or scale the data as shown in:\n",
      "    https://scikit-learn.org/stable/modules/preprocessing.html\n",
      "Please also refer to the documentation for alternative solver options:\n",
      "    https://scikit-learn.org/stable/modules/linear_model.html#logistic-regression\n",
      "  n_iter_i = _check_optimize_result(\n"
     ]
    }
   ],
   "source": [
    "lr = LogisticRegression(C=100)\n",
    "\n",
    "lr.fit(X_train,y_train)\n",
    "\n",
    "lr_preds = lr.predict_proba(X_test)[:,1]\n",
    "\n",
    "fpr, tpr, thresholds = metrics.roc_curve(y_test, lr_preds, pos_label=1)\n",
    "\n",
    "AUC_train_lr = metrics.auc(fpr, tpr)\n",
    "\n",
    "lr_test_preds = lr.predict_proba(X_val)[:,1]\n",
    "\n",
    "fpr, tpr, thresholds = metrics.roc_curve(y_val, lr_test_preds, pos_label=1)\n",
    "\n",
    "AUC_test_abc = metrics.auc(fpr, tpr)\n",
    "\n",
    "print(f'Train AUC: %.5f, Test AUC: %.5f'% (AUC_train_abc,AUC_test_abc))"
   ]
  },
  {
   "cell_type": "code",
   "execution_count": 425,
   "id": "dbcb1374",
   "metadata": {},
   "outputs": [
    {
     "name": "stderr",
     "output_type": "stream",
     "text": [
      "/Users/dimitrikestenbaum/opt/anaconda3/lib/python3.9/site-packages/sklearn/linear_model/_logistic.py:814: ConvergenceWarning: lbfgs failed to converge (status=1):\n",
      "STOP: TOTAL NO. of ITERATIONS REACHED LIMIT.\n",
      "\n",
      "Increase the number of iterations (max_iter) or scale the data as shown in:\n",
      "    https://scikit-learn.org/stable/modules/preprocessing.html\n",
      "Please also refer to the documentation for alternative solver options:\n",
      "    https://scikit-learn.org/stable/modules/linear_model.html#logistic-regression\n",
      "  n_iter_i = _check_optimize_result(\n"
     ]
    }
   ],
   "source": [
    "lr.fit(X_train_full,y_train_full)\n",
    "lr_preds = lr.predict_proba(X_test_full)[:,1]"
   ]
  },
  {
   "cell_type": "code",
   "execution_count": 406,
   "id": "3f6b6c1e",
   "metadata": {},
   "outputs": [],
   "source": [
    "#rf_preds = rf_clf.predict_proba(X_test_full)[:,1]"
   ]
  },
  {
   "cell_type": "code",
   "execution_count": 407,
   "id": "da22fa57",
   "metadata": {
    "scrolled": false
   },
   "outputs": [
    {
     "name": "stderr",
     "output_type": "stream",
     "text": [
      "/var/folders/fc/9vrqth010qgbrhv1th35kb040000gn/T/ipykernel_31613/1252413788.py:3: SettingWithCopyWarning: \n",
      "A value is trying to be set on a copy of a slice from a DataFrame.\n",
      "Try using .loc[row_indexer,col_indexer] = value instead\n",
      "\n",
      "See the caveats in the documentation: https://pandas.pydata.org/pandas-docs/stable/user_guide/indexing.html#returning-a-view-versus-a-copy\n",
      "  final_df['subscribe'] = rf_preds\n"
     ]
    }
   ],
   "source": [
    "#final_df = X_test_full.copy(deep=True)\n",
    "#final_df = X_test_full[['client_id']]\n",
    "#final_df['subscribe'] = rf_preds"
   ]
  },
  {
   "cell_type": "code",
   "execution_count": 426,
   "id": "15e29431",
   "metadata": {},
   "outputs": [
    {
     "name": "stderr",
     "output_type": "stream",
     "text": [
      "/var/folders/fc/9vrqth010qgbrhv1th35kb040000gn/T/ipykernel_31613/2914540766.py:3: SettingWithCopyWarning: \n",
      "A value is trying to be set on a copy of a slice from a DataFrame.\n",
      "Try using .loc[row_indexer,col_indexer] = value instead\n",
      "\n",
      "See the caveats in the documentation: https://pandas.pydata.org/pandas-docs/stable/user_guide/indexing.html#returning-a-view-versus-a-copy\n",
      "  final_df['subscribe'] = lr_preds\n"
     ]
    }
   ],
   "source": [
    "final_df = X_test_full.copy(deep=True)\n",
    "final_df = X_test_full[['client_id']]\n",
    "final_df['subscribe'] = lr_preds"
   ]
  },
  {
   "cell_type": "code",
   "execution_count": 414,
   "id": "2dc381ac",
   "metadata": {},
   "outputs": [],
   "source": [
    "#abc_preds = abc.predict_proba(X_test_full)[:,1]"
   ]
  },
  {
   "cell_type": "code",
   "execution_count": null,
   "id": "a058ce7a",
   "metadata": {},
   "outputs": [],
   "source": [
    "#clf_preds = clf.predict_proba(X_test_full)[:,1]"
   ]
  },
  {
   "cell_type": "code",
   "execution_count": null,
   "id": "1eb9c71f",
   "metadata": {},
   "outputs": [],
   "source": [
    "#final_df = X_test_full.copy(deep=True)\n",
    "#final_df = X_test_full[['client_id']]\n",
    "#final_df['subscribe'] = clf_preds"
   ]
  },
  {
   "cell_type": "code",
   "execution_count": 415,
   "id": "65d8d759",
   "metadata": {},
   "outputs": [
    {
     "name": "stderr",
     "output_type": "stream",
     "text": [
      "/var/folders/fc/9vrqth010qgbrhv1th35kb040000gn/T/ipykernel_31613/1580557496.py:3: SettingWithCopyWarning: \n",
      "A value is trying to be set on a copy of a slice from a DataFrame.\n",
      "Try using .loc[row_indexer,col_indexer] = value instead\n",
      "\n",
      "See the caveats in the documentation: https://pandas.pydata.org/pandas-docs/stable/user_guide/indexing.html#returning-a-view-versus-a-copy\n",
      "  final_df['subscribe'] = abc_preds\n"
     ]
    }
   ],
   "source": [
    "#final_df = X_test_full.copy(deep=True)\n",
    "#final_df = X_test_full[['client_id']]\n",
    "#final_df['subscribe'] = abc_preds"
   ]
  },
  {
   "cell_type": "code",
   "execution_count": 427,
   "id": "ef36f7de",
   "metadata": {
    "scrolled": false
   },
   "outputs": [
    {
     "name": "stderr",
     "output_type": "stream",
     "text": [
      "/Users/dimitrikestenbaum/opt/anaconda3/lib/python3.9/site-packages/pandas/core/generic.py:5516: SettingWithCopyWarning: \n",
      "A value is trying to be set on a copy of a slice from a DataFrame.\n",
      "Try using .loc[row_indexer,col_indexer] = value instead\n",
      "\n",
      "See the caveats in the documentation: https://pandas.pydata.org/pandas-docs/stable/user_guide/indexing.html#returning-a-view-versus-a-copy\n",
      "  self[name] = value\n"
     ]
    }
   ],
   "source": [
    "final_df.client_id = final_df.client_id.astype('int')"
   ]
  },
  {
   "cell_type": "code",
   "execution_count": 428,
   "id": "b1c6ff81",
   "metadata": {
    "scrolled": true
   },
   "outputs": [
    {
     "data": {
      "text/html": [
       "<div>\n",
       "<style scoped>\n",
       "    .dataframe tbody tr th:only-of-type {\n",
       "        vertical-align: middle;\n",
       "    }\n",
       "\n",
       "    .dataframe tbody tr th {\n",
       "        vertical-align: top;\n",
       "    }\n",
       "\n",
       "    .dataframe thead th {\n",
       "        text-align: right;\n",
       "    }\n",
       "</style>\n",
       "<table border=\"1\" class=\"dataframe\">\n",
       "  <thead>\n",
       "    <tr style=\"text-align: right;\">\n",
       "      <th></th>\n",
       "      <th>client_id</th>\n",
       "      <th>subscribe</th>\n",
       "    </tr>\n",
       "  </thead>\n",
       "  <tbody>\n",
       "    <tr>\n",
       "      <th>0</th>\n",
       "      <td>2986</td>\n",
       "      <td>0.051458</td>\n",
       "    </tr>\n",
       "    <tr>\n",
       "      <th>1</th>\n",
       "      <td>29710</td>\n",
       "      <td>0.029417</td>\n",
       "    </tr>\n",
       "    <tr>\n",
       "      <th>2</th>\n",
       "      <td>38938</td>\n",
       "      <td>0.272410</td>\n",
       "    </tr>\n",
       "    <tr>\n",
       "      <th>3</th>\n",
       "      <td>31313</td>\n",
       "      <td>0.111141</td>\n",
       "    </tr>\n",
       "    <tr>\n",
       "      <th>4</th>\n",
       "      <td>24173</td>\n",
       "      <td>0.149306</td>\n",
       "    </tr>\n",
       "  </tbody>\n",
       "</table>\n",
       "</div>"
      ],
      "text/plain": [
       "   client_id  subscribe\n",
       "0       2986   0.051458\n",
       "1      29710   0.029417\n",
       "2      38938   0.272410\n",
       "3      31313   0.111141\n",
       "4      24173   0.149306"
      ]
     },
     "execution_count": 428,
     "metadata": {},
     "output_type": "execute_result"
    }
   ],
   "source": [
    "final_df.head()"
   ]
  },
  {
   "cell_type": "code",
   "execution_count": 429,
   "id": "29a6cdb4",
   "metadata": {},
   "outputs": [],
   "source": [
    "final_df.to_csv('rf_submission17.csv',index=False)"
   ]
  },
  {
   "cell_type": "code",
   "execution_count": 450,
   "id": "868184a2",
   "metadata": {},
   "outputs": [
    {
     "data": {
      "text/plain": [
       "4000"
      ]
     },
     "execution_count": 450,
     "metadata": {},
     "output_type": "execute_result"
    }
   ],
   "source": [
    "len(y_val)"
   ]
  },
  {
   "cell_type": "code",
   "execution_count": 463,
   "id": "a355deca",
   "metadata": {},
   "outputs": [],
   "source": [
    "def compare_models(model_names,preds_train,preds_test,y_test,y_val):\n",
    "    \"\"\"This function makes evaluates predictions for a list of models, \n",
    "    scores the models using AUC, and returns a dataframe with the class \n",
    "    an AUC for each model and its predictions.\n",
    "    Args: A list of model variables, a list of corresponding prediction values, and a list of model names in string form. \n",
    "    \"\"\"\n",
    "    scoring_df_1 = pd.DataFrame()\n",
    "    scoring_df_2 = pd.DataFrame()\n",
    "    for ind, mod in enumerate(model_names):\n",
    "        # Train\n",
    "        fpr_train, tpr_train, thresholds = metrics.roc_curve(y_test, preds_train[ind], pos_label=1)\n",
    "        model_auc_train = metrics.auc(fpr_train, tpr_train)\n",
    "        # Test\n",
    "        fpr_test, tpr_test, thresholds = metrics.roc_curve(y_val, preds_test[ind], pos_label=1)\n",
    "        model_auc_test = metrics.auc(fpr_test, tpr_test)\n",
    "        scoring_df_1[model_names[ind]] = [round(model_auc_train,2)]\n",
    "        scoring_df_2[model_names[ind]] = [round(model_auc_test,2)]\n",
    "    scoring_df_final = pd.concat([scoring_df_1,scoring_df_2],axis=0)\n",
    "    scoring_df_final.index = ['Train AUC','Test AUC']\n",
    "    return(scoring_df_final)"
   ]
  },
  {
   "cell_type": "code",
   "execution_count": 464,
   "id": "bc060bb9",
   "metadata": {},
   "outputs": [
    {
     "data": {
      "text/html": [
       "<div>\n",
       "<style scoped>\n",
       "    .dataframe tbody tr th:only-of-type {\n",
       "        vertical-align: middle;\n",
       "    }\n",
       "\n",
       "    .dataframe tbody tr th {\n",
       "        vertical-align: top;\n",
       "    }\n",
       "\n",
       "    .dataframe thead th {\n",
       "        text-align: right;\n",
       "    }\n",
       "</style>\n",
       "<table border=\"1\" class=\"dataframe\">\n",
       "  <thead>\n",
       "    <tr style=\"text-align: right;\">\n",
       "      <th></th>\n",
       "      <th>Logistic Regression</th>\n",
       "      <th>Random Forest</th>\n",
       "      <th>AdaBoost</th>\n",
       "    </tr>\n",
       "  </thead>\n",
       "  <tbody>\n",
       "    <tr>\n",
       "      <th>Train AUC</th>\n",
       "      <td>0.74</td>\n",
       "      <td>0.77</td>\n",
       "      <td>0.77</td>\n",
       "    </tr>\n",
       "    <tr>\n",
       "      <th>Test AUC</th>\n",
       "      <td>0.76</td>\n",
       "      <td>0.77</td>\n",
       "      <td>0.77</td>\n",
       "    </tr>\n",
       "  </tbody>\n",
       "</table>\n",
       "</div>"
      ],
      "text/plain": [
       "           Logistic Regression  Random Forest  AdaBoost\n",
       "Train AUC                 0.74           0.77      0.77\n",
       "Test AUC                  0.76           0.77      0.77"
      ]
     },
     "execution_count": 464,
     "metadata": {},
     "output_type": "execute_result"
    }
   ],
   "source": [
    "compare_models(model_names=['Logistic Regression','Random Forest','AdaBoost'],preds_train=[lr_preds,abc_train_preds,clf_train_preds],preds_test=[lr_test_preds,abc_test_preds,clf_test_preds],y_test=y_test,y_val=y_val)\n",
    "\n"
   ]
  }
 ],
 "metadata": {
  "kernelspec": {
   "display_name": "Python 3 (ipykernel)",
   "language": "python",
   "name": "python3"
  },
  "language_info": {
   "codemirror_mode": {
    "name": "ipython",
    "version": 3
   },
   "file_extension": ".py",
   "mimetype": "text/x-python",
   "name": "python",
   "nbconvert_exporter": "python",
   "pygments_lexer": "ipython3",
   "version": "3.9.7"
  }
 },
 "nbformat": 4,
 "nbformat_minor": 5
}
